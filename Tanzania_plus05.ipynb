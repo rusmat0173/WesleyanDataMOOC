{
 "cells": [
  {
   "cell_type": "markdown",
   "metadata": {},
   "source": [
    "# Consolidated workflow (continued)"
   ]
  },
  {
   "cell_type": "markdown",
   "metadata": {},
   "source": [
    "Import initial libraries and data file. N.B. The data being used read in here is already numercised for use in sklearn's decision trees and random forests"
   ]
  },
  {
   "cell_type": "markdown",
   "metadata": {},
   "source": [
    "## Tanzania - data analysis"
   ]
  },
  {
   "cell_type": "code",
   "execution_count": 182,
   "metadata": {},
   "outputs": [
    {
     "data": {
      "text/plain": [
       "(59400, 24)"
      ]
     },
     "execution_count": 182,
     "metadata": {},
     "output_type": "execute_result"
    }
   ],
   "source": [
    "# import libraries and data\n",
    "import numpy as np\n",
    "import pandas as pd\n",
    "import matplotlib as plot\n",
    "import seaborn as sns\n",
    "\n",
    "# check select_data\n",
    "df = pd.read_csv('/Users/RAhmed/data store/Wesleyan_Capstone/all_numeric201808292240.csv')\n",
    "df.shape"
   ]
  },
  {
   "cell_type": "code",
   "execution_count": 183,
   "metadata": {},
   "outputs": [],
   "source": [
    "import matplotlib.pylab as plt\n",
    "from sklearn.model_selection import train_test_split\n",
    "from sklearn.tree import DecisionTreeClassifier\n",
    "from sklearn.metrics import classification_report\n",
    "import sklearn.metrics"
   ]
  },
  {
   "cell_type": "markdown",
   "metadata": {},
   "source": [
    "Sklearn's decision trees and random forests need categorical data changed into integers. See, e.g,: https://stackoverflow.com/questions/38108832/passing-categorical-data-to-sklearn-decision-tree\n",
    "\n",
    "The above data set has already had this done."
   ]
  },
  {
   "cell_type": "code",
   "execution_count": 184,
   "metadata": {},
   "outputs": [
    {
     "data": {
      "text/plain": [
       "Index(['id', 'date_recorded', 'season_recorded', 'gps_height', 'installer',\n",
       "       'longitude', 'latitude', 'basin', 'region_code', 'population',\n",
       "       'public_meeting', 'scheme_management', 'permit', 'wpt_age',\n",
       "       'construction_year', 'extraction_type_group', 'management_group',\n",
       "       'payment_type', 'water_quality', 'quantity_group', 'source_type',\n",
       "       'source_class', 'waterpoint_type_group', 'status_group'],\n",
       "      dtype='object')"
      ]
     },
     "execution_count": 184,
     "metadata": {},
     "output_type": "execute_result"
    }
   ],
   "source": [
    "df.columns"
   ]
  },
  {
   "cell_type": "code",
   "execution_count": 185,
   "metadata": {},
   "outputs": [
    {
     "name": "stdout",
     "output_type": "stream",
     "text": [
      "pred_train.shape: (47520, 18)\n",
      "pred_test.shape: (11880, 18)\n",
      "tar_train.shape: (47520,)\n",
      "tar_test.shape: (11880,)\n"
     ]
    }
   ],
   "source": [
    "chosen_predictors = ['season_recorded', 'gps_height', 'installer', 'basin', 'region_code', 'population',\n",
    "                     'public_meeting', 'scheme_management', 'permit', 'wpt_age','construction_year', \n",
    "                     'extraction_type_group', 'management_group', 'payment_type', 'water_quality', \n",
    "                     'quantity_group', 'source_type', 'waterpoint_type_group'\n",
    "                    ]\n",
    "\n",
    "predictors = df[chosen_predictors]\n",
    "targets = df['status_group']\n",
    "\n",
    "# train/test split\n",
    "pred_train, pred_test, tar_train, tar_test = train_test_split(predictors, targets, test_size=.2)\n",
    "\n",
    "print(\"pred_train.shape:\", pred_train.shape)\n",
    "print(\"pred_test.shape:\", pred_test.shape)\n",
    "print(\"tar_train.shape:\", tar_train.shape)\n",
    "print(\"tar_test.shape:\", tar_test.shape)"
   ]
  },
  {
   "cell_type": "markdown",
   "metadata": {},
   "source": [
    "Build a classifier model with a decision tree, on train set"
   ]
  },
  {
   "cell_type": "code",
   "execution_count": 194,
   "metadata": {},
   "outputs": [
    {
     "name": "stdout",
     "output_type": "stream",
     "text": [
      "Confusion matrix:\n",
      "[[5236  339  890]\n",
      " [ 337  370  149]\n",
      " [ 902  175 3482]]\n",
      "Accuracy score:\n",
      "0.764983164983165\n"
     ]
    }
   ],
   "source": [
    "# Build model on training data; initiate classifier from sklearn, then fit it with the training data\n",
    "classifier=DecisionTreeClassifier(random_state=2)\n",
    "classifier=classifier.fit(pred_train,tar_train)\n",
    "\n",
    "# predict for the test values and create confusion matrix\n",
    "predictions=classifier.predict(pred_test)\n",
    "print(\"Confusion matrix:\")\n",
    "print(sklearn.metrics.confusion_matrix(tar_test,predictions))\n",
    "print(\"Accuracy score:\")\n",
    "print(sklearn.metrics.accuracy_score(tar_test, predictions))"
   ]
  },
  {
   "cell_type": "markdown",
   "metadata": {},
   "source": [
    "Trying again, to play with parameters, experiment, etc."
   ]
  },
  {
   "cell_type": "code",
   "execution_count": 195,
   "metadata": {},
   "outputs": [
    {
     "data": {
      "text/plain": [
       "0.7574074074074074"
      ]
     },
     "execution_count": 195,
     "metadata": {},
     "output_type": "execute_result"
    }
   ],
   "source": [
    "# Playing with hyper-parameters. Also have varied the wording of the code from that in the MOOC. \n",
    "# (Just to check all in order with exceptionally high result.)\n",
    "# train/test split\n",
    "from sklearn.utils import shuffle\n",
    "df = shuffle(df)\n",
    "X_train, X_test, y_train, y_test = train_test_split(predictors[:], targets[:], test_size=.2)\n",
    "\n",
    "# Build model on training data; initiate classifier from sklearn, then fit it with the training data\n",
    "model = DecisionTreeClassifier(random_state=2)\n",
    "model.fit(X_train, y_train)\n",
    "\n",
    "y_predict = model.predict(X_test)\n",
    "\n",
    "from sklearn.metrics import accuracy_score\n",
    "\n",
    "accuracy_score(y_test, y_predict)"
   ]
  },
  {
   "cell_type": "markdown",
   "metadata": {},
   "source": [
    "For confusion matrix, N.B. that:\n",
    "\n",
    "functional = 0\n",
    "\n",
    "functional_needs_repair = 1\n",
    "\n",
    "non-functional = 2"
   ]
  },
  {
   "cell_type": "code",
   "execution_count": 196,
   "metadata": {},
   "outputs": [
    {
     "data": {
      "text/html": [
       "<div>\n",
       "<style scoped>\n",
       "    .dataframe tbody tr th:only-of-type {\n",
       "        vertical-align: middle;\n",
       "    }\n",
       "\n",
       "    .dataframe tbody tr th {\n",
       "        vertical-align: top;\n",
       "    }\n",
       "\n",
       "    .dataframe thead th {\n",
       "        text-align: right;\n",
       "    }\n",
       "</style>\n",
       "<table border=\"1\" class=\"dataframe\">\n",
       "  <thead>\n",
       "    <tr style=\"text-align: right;\">\n",
       "      <th></th>\n",
       "      <th>Pred functional</th>\n",
       "      <th>Predicted func_need_repair</th>\n",
       "      <th>Predicted non_func</th>\n",
       "    </tr>\n",
       "  </thead>\n",
       "  <tbody>\n",
       "    <tr>\n",
       "      <th>True functional</th>\n",
       "      <td>5145</td>\n",
       "      <td>366</td>\n",
       "      <td>935</td>\n",
       "    </tr>\n",
       "    <tr>\n",
       "      <th>True func_need_repair</th>\n",
       "      <td>330</td>\n",
       "      <td>374</td>\n",
       "      <td>170</td>\n",
       "    </tr>\n",
       "    <tr>\n",
       "      <th>True non_func</th>\n",
       "      <td>916</td>\n",
       "      <td>165</td>\n",
       "      <td>3479</td>\n",
       "    </tr>\n",
       "  </tbody>\n",
       "</table>\n",
       "</div>"
      ],
      "text/plain": [
       "                       Pred functional  Predicted func_need_repair  \\\n",
       "True functional                   5145                         366   \n",
       "True func_need_repair              330                         374   \n",
       "True non_func                      916                         165   \n",
       "\n",
       "                       Predicted non_func  \n",
       "True functional                       935  \n",
       "True func_need_repair                 170  \n",
       "True non_func                        3479  "
      ]
     },
     "execution_count": 196,
     "metadata": {},
     "output_type": "execute_result"
    }
   ],
   "source": [
    "from sklearn.metrics import confusion_matrix\n",
    "\n",
    "pd.DataFrame(\n",
    "    confusion_matrix(y_test, y_predict),\n",
    "    columns=['Pred functional', 'Predicted func_need_repair', 'Predicted non_func'],\n",
    "    index=['True functional', 'True func_need_repair', 'True non_func']\n",
    ")"
   ]
  },
  {
   "cell_type": "code",
   "execution_count": 197,
   "metadata": {},
   "outputs": [
    {
     "data": {
      "text/plain": [
       "0.7574074074074074"
      ]
     },
     "execution_count": 197,
     "metadata": {},
     "output_type": "execute_result"
    }
   ],
   "source": [
    "# reprint for convenience\n",
    "accuracy_score(y_test, y_predict)"
   ]
  },
  {
   "cell_type": "markdown",
   "metadata": {},
   "source": [
    "Key ingredient: see which features are most important"
   ]
  },
  {
   "cell_type": "code",
   "execution_count": 198,
   "metadata": {},
   "outputs": [
    {
     "data": {
      "text/plain": [
       "[('gps_height', 0.2085270273956416),\n",
       " ('wpt_age', 0.15943732041940392),\n",
       " ('quantity_group', 0.1588198942795139),\n",
       " ('waterpoint_type_group', 0.07967451106317347),\n",
       " ('installer', 0.059632524694422505),\n",
       " ('payment_type', 0.04388811116765172),\n",
       " ('region_code', 0.04010045007609793),\n",
       " ('population', 0.03686967147190676),\n",
       " ('scheme_management', 0.03171584234250596),\n",
       " ('construction_year', 0.030405240903152476),\n",
       " ('source_type', 0.030266771775412184),\n",
       " ('extraction_type_group', 0.030154357826475017),\n",
       " ('basin', 0.02531031686547665),\n",
       " ('season_recorded', 0.01543288409165785),\n",
       " ('water_quality', 0.015221474259669316),\n",
       " ('permit', 0.013251624844287048),\n",
       " ('public_meeting', 0.01105365537080478),\n",
       " ('management_group', 0.010238321152746824)]"
      ]
     },
     "execution_count": 198,
     "metadata": {},
     "output_type": "execute_result"
    }
   ],
   "source": [
    "importance = (dict(zip(X_train, model.feature_importances_)))\n",
    "sorted_items = sorted(importance.items(), key = lambda x: x[1], reverse=True)\n",
    "sorted_items"
   ]
  },
  {
   "cell_type": "markdown",
   "metadata": {},
   "source": [
    "## Visualise the Decision Tree"
   ]
  },
  {
   "cell_type": "markdown",
   "metadata": {},
   "source": [
    "It turns out that visualising the decision tree is quite straight forward.\n",
    "\n",
    "There are two things one can initially do: limit or not limit maximum depth as folling example:\n",
    "model = DecisionTreeClassifier(max_depth=None)\n",
    "\n",
    "As below, push the image out to a tree.dot file. Find it on your computer amd then cut and paste the code into a web viewer/converter. See, e.g.:\n",
    "http://www.ilovefreesoftware.com/03/featured/free-online-dot-to-png-converter-websites.html https://dreampuf.github.io/GraphvizOnline/\n",
    "\n",
    "Right-clicking the image in GraphvizOnline, I could save the png to desktop.\n",
    "\n",
    "If you limit maximum depth, your decision tree may be small enough to fit on one page. Else, cut and paste a number of lines of code from the tree.dot file, making sure you finish as follows in the online converter, e.g.:\n",
    "\n",
    "...\n",
    "44 -> 54 ; \n",
    "}\n",
    "\n",
    "If you do limit the max depth the tree will be different, of course, than a full tree."
   ]
  },
  {
   "cell_type": "code",
   "execution_count": 199,
   "metadata": {},
   "outputs": [],
   "source": [
    "from sklearn import tree\n",
    "\n",
    "# visualise\n",
    "tree.export_graphviz(model, out_file='tree.dot') \n",
    "# cut and paste the tree.dot file info into webgraphviz.com in a browser. \n",
    "# (You can paste as many layers of the tree as you want. See notes above.)"
   ]
  },
  {
   "cell_type": "code",
   "execution_count": 200,
   "metadata": {},
   "outputs": [],
   "source": [
    "# save to a file\n",
    "# df.to_csv('/Users/RAhmed/data store/Wesleyan_Capstone/all_numeric201808292240.csv', index=False)"
   ]
  },
  {
   "cell_type": "markdown",
   "metadata": {},
   "source": [
    "## Quick Aside - do KNN approach"
   ]
  },
  {
   "cell_type": "code",
   "execution_count": 201,
   "metadata": {},
   "outputs": [
    {
     "data": {
      "text/plain": [
       "[{1: 0.6785353535353535},\n",
       " {2: 0.6822390572390572},\n",
       " {3: 0.6925084175084175},\n",
       " {4: 0.6855218855218855},\n",
       " {5: 0.6868686868686869},\n",
       " {6: 0.68493265993266},\n",
       " {7: 0.6835858585858586},\n",
       " {8: 0.6805555555555556},\n",
       " {9: 0.6845959595959596},\n",
       " {10: 0.6808080808080809},\n",
       " {11: 0.67996632996633},\n",
       " {12: 0.6792087542087543},\n",
       " {13: 0.6775252525252525},\n",
       " {14: 0.6772727272727272}]"
      ]
     },
     "execution_count": 201,
     "metadata": {},
     "output_type": "execute_result"
    }
   ],
   "source": [
    "## Import the Classifier.\n",
    "from sklearn.neighbors import KNeighborsClassifier\n",
    "## Instantiate the model with 5 neighbors. \n",
    "knn_list = []\n",
    "for i in range(1,15):\n",
    "    knn = KNeighborsClassifier(n_neighbors=i)\n",
    "    ## Fit the model on the training data.\n",
    "    knn.fit(X_train, y_train)\n",
    "    ## See how the model performs on the test data.\n",
    "    knn.score(X_test, y_test)\n",
    "    ## Append to list.\n",
    "    knn_list.append({i: knn.score(X_test, y_test)})\n",
    "knn_list"
   ]
  },
  {
   "cell_type": "markdown",
   "metadata": {},
   "source": [
    "## Do a global cross-validation approach on Decision Tree"
   ]
  },
  {
   "cell_type": "markdown",
   "metadata": {},
   "source": [
    "https://chrisalbon.com/machine_learning/model_evaluation/cross-validaton/"
   ]
  },
  {
   "cell_type": "code",
   "execution_count": 202,
   "metadata": {},
   "outputs": [
    {
     "data": {
      "text/plain": [
       "0.7565824915824916"
      ]
     },
     "execution_count": 202,
     "metadata": {},
     "output_type": "execute_result"
    }
   ],
   "source": [
    "# With k-fold cross validation. \n",
    "from sklearn import metrics\n",
    "from sklearn.model_selection import KFold, cross_val_score\n",
    "\n",
    "model = DecisionTreeClassifier(max_depth=None, random_state=2)\n",
    "\n",
    "# Create k-Fold cross-validation\n",
    "kf = KFold(n_splits=10, shuffle=True, random_state=2)\n",
    "\n",
    "# Do k-fold cross-validation\n",
    "cv_results = cross_val_score(model, # Classifier\n",
    "                             predictors, # Feature matrix\n",
    "                             targets, # Target vector\n",
    "                             cv=kf, # Cross-validation technique\n",
    "                             scoring=\"accuracy\", # Loss function\n",
    "                             n_jobs=-1) # Use all CPU scores\n",
    "\n",
    "# Calculate mean\n",
    "cv_results.mean()"
   ]
  },
  {
   "cell_type": "markdown",
   "metadata": {},
   "source": [
    "## Do a hold out cross-validation approach on Decision Tree"
   ]
  },
  {
   "cell_type": "markdown",
   "metadata": {},
   "source": [
    "Two differences: \n",
    "> i). do cross-validation on train set only (not against all), and predict against test set<br>\n",
    "> ii). experiment within the decision tree with various parameters\n",
    "\n",
    "N.B. cross_validation does not give a fitted model. There is a cross_val_predict, but I think it doesn;t test against a seprate hold out set. (?)"
   ]
  },
  {
   "cell_type": "code",
   "execution_count": 203,
   "metadata": {},
   "outputs": [
    {
     "name": "stdout",
     "output_type": "stream",
     "text": [
      "0.7639941077441076\n"
     ]
    },
    {
     "data": {
      "text/plain": [
       "0.7716329966329967"
      ]
     },
     "execution_count": 203,
     "metadata": {},
     "output_type": "execute_result"
    }
   ],
   "source": [
    "# With k-fold cross validation. \n",
    "from sklearn import metrics\n",
    "from sklearn.model_selection import KFold, cross_val_score\n",
    "\n",
    "\n",
    "# train/test split\n",
    "X_train, X_test, y_train, y_test = train_test_split(predictors, targets, test_size=.2)\n",
    "\n",
    "# Difference for this \n",
    "model = DecisionTreeClassifier(max_depth=20, criterion='gini', random_state=2, splitter='random')\n",
    "\n",
    "# Create k-Fold cross-validation\n",
    "kf = KFold(n_splits=10, shuffle=True, random_state=1)\n",
    "\n",
    "# Do k-fold cross-validation\n",
    "cv_results = cross_val_score(model, # Classifier\n",
    "                             X_train, # Feature matrix\n",
    "                             y_train, # Target vector\n",
    "                             cv=kf, # Cross-validation technique\n",
    "                             scoring=\"accuracy\", # Loss function\n",
    "                             n_jobs=-1) # Use all CPU scores\n",
    "\n",
    "# Calculate mean against train set!\n",
    "print(cv_results.mean())\n",
    "\n",
    "# So I have tweaked the 'model' (above) parameters to get the best model, \n",
    "# and can now test against the hold out set. ((Tweaked) Model has to be fitted)\n",
    "model.fit(X_train, y_train)\n",
    "y_predict = model.predict(X_test)\n",
    "\n",
    "from sklearn.metrics import accuracy_score\n",
    "\n",
    "accuracy_score(y_test, y_predict)\n"
   ]
  },
  {
   "cell_type": "markdown",
   "metadata": {},
   "source": [
    "^ above cross validation tweaking has improved accuracy (against hold out) by some 1.5%, great!"
   ]
  },
  {
   "cell_type": "markdown",
   "metadata": {},
   "source": [
    "## Do Random Forest approach"
   ]
  },
  {
   "cell_type": "code",
   "execution_count": 204,
   "metadata": {},
   "outputs": [],
   "source": [
    "# import all necessary libraries\n",
    "from pandas import Series, DataFrame\n",
    "import pandas as pd\n",
    "import numpy as np\n",
    "import os\n",
    "import matplotlib.pylab as plt\n",
    "from sklearn.cross_validation import train_test_split\n",
    "from sklearn.tree import DecisionTreeClassifier\n",
    "from sklearn.metrics import classification_report\n",
    "import sklearn.metrics\n",
    "# feature importance\n",
    "from sklearn import datasets\n",
    "from sklearn.ensemble import ExtraTreesClassifier"
   ]
  },
  {
   "cell_type": "code",
   "execution_count": 205,
   "metadata": {},
   "outputs": [
    {
     "name": "stdout",
     "output_type": "stream",
     "text": [
      "RANDOM FOREST\n",
      "Confusion matrix:\n",
      "[[5654  179  610]\n",
      " [ 397  347  133]\n",
      " [ 925  101 3534]]\n",
      "Accuracy score:\n",
      "0.8026094276094277\n",
      "\n",
      "RandomForestClassifier relative feature importance:\n",
      "gps_height                                                        0.18216643858276754\n",
      "wpt_age                                                           0.15524415631341124\n",
      "quantity_group                                                    0.13225987564905892\n",
      "construction_year                                                  0.0700041725575122\n",
      "installer                                                        0.061719192645792315\n",
      "waterpoint_type_group                                             0.05854593477272142\n",
      "extraction_type_group                                            0.047451111461484716\n",
      "payment_type                                                     0.042760988871183764\n",
      "region_code                                                       0.04141933999069797\n",
      "population                                                        0.03925785479340472\n",
      "basin                                                             0.03047643977470194\n",
      "scheme_management                                                 0.02873215851347015\n",
      "source_type                                                      0.028624161604917545\n",
      "water_quality                                                     0.02172639860632902\n",
      "season_recorded                                                   0.01801148141885051\n",
      "permit                                                           0.016515316233974068\n",
      "public_meeting                                                   0.012985156647589069\n",
      "management_group                                                 0.012099821562132889\n",
      "\n",
      "EXTRA TREE\n",
      "Confusion matrix:\n",
      "[[5551  223  669]\n",
      " [ 393  356  128]\n",
      " [ 959  122 3479]]\n",
      "Accuracy score:\n",
      "0.79006734006734\n",
      "\n",
      "ExtraTreesClassifier relative feature importance:\n",
      "gps_height                                                        0.18253688440584387\n",
      "wpt_age                                                           0.12752426736921296\n",
      "quantity_group                                                    0.12540591507436458\n",
      "waterpoint_type_group                                             0.07689565139895704\n",
      "construction_year                                                 0.07672848476095544\n",
      "installer                                                        0.053821317503052614\n",
      "payment_type                                                      0.05067372777217706\n",
      "extraction_type_group                                             0.04326995906363717\n",
      "population                                                        0.04117732213844644\n",
      "region_code                                                      0.035193963101234044\n",
      "basin                                                            0.030685911719223375\n",
      "source_type                                                       0.02938416820256779\n",
      "scheme_management                                                0.028427596546133575\n",
      "water_quality                                                    0.023231271134345248\n",
      "season_recorded                                                  0.023006512221276254\n",
      "permit                                                            0.01995544564868234\n",
      "public_meeting                                                   0.016367853195485095\n",
      "management_group                                                  0.01571374874440511\n"
     ]
    }
   ],
   "source": [
    "# run Random Forest\n",
    "from sklearn.ensemble import RandomForestClassifier\n",
    "# classifier (sometimes use clf) is initiated\n",
    "classifier=RandomForestClassifier(n_estimators=25, random_state=2)\n",
    "# next step trains the model\n",
    "classifier=classifier.fit(X_train,y_train)\n",
    "# now we apply the classifier to the test data\n",
    "predictions=classifier.predict(X_test)\n",
    "\n",
    "# we look at confusion matrix and accuracy of prediction on test values\n",
    "print(\"RANDOM FOREST\")\n",
    "print(\"Confusion matrix:\")\n",
    "print(sklearn.metrics.confusion_matrix(y_test,predictions))\n",
    "print(\"Accuracy score:\")\n",
    "print(sklearn.metrics.accuracy_score(y_test, predictions))\n",
    "print()\n",
    "# display the relative importance of each attribute using RandomForestClassifier\n",
    "# make this more readable by having the names of the predictors and having sorted\n",
    "zipped = zip(predictors, classifier.feature_importances_)\n",
    "my_list = list(zipped)\n",
    "my_list.sort(key=lambda tup: tup[1], reverse=True)\n",
    "print('RandomForestClassifier relative feature importance:')\n",
    "for item in my_list:\n",
    "    print('{0:42} {1:>42}'.format(item[0], item[1]))\n",
    "\n",
    "# fit an Extra Trees model to the data (instead of Random Forest)\n",
    "model = ExtraTreesClassifier(random_state=2)\n",
    "model.fit(X_train,y_train)\n",
    "predictions=model.predict(X_test)\n",
    "print()\n",
    "print(\"EXTRA TREE\")\n",
    "print(\"Confusion matrix:\")\n",
    "print(sklearn.metrics.confusion_matrix(y_test,predictions))\n",
    "print(\"Accuracy score:\")\n",
    "print(sklearn.metrics.accuracy_score(y_test, predictions))\n",
    "print()\n",
    "# make this more readable by having the names of the predictors and having sorted\n",
    "zipped = zip(predictors, model.feature_importances_)\n",
    "my_list = list(zipped)\n",
    "my_list.sort(key=lambda tup: tup[1], reverse=True)\n",
    "print('ExtraTreesClassifier relative feature importance:')\n",
    "for item in my_list:\n",
    "    print('{0:42} {1:>42}'.format(item[0], item[1]))"
   ]
  },
  {
   "cell_type": "markdown",
   "metadata": {},
   "source": [
    "## Do Random Forest with cross-validation and hold out set"
   ]
  },
  {
   "cell_type": "code",
   "execution_count": 206,
   "metadata": {},
   "outputs": [
    {
     "data": {
      "text/plain": [
       "0.8122895622895623"
      ]
     },
     "execution_count": 206,
     "metadata": {},
     "output_type": "execute_result"
    }
   ],
   "source": [
    "# Random forest with cross-validation and hold out set\n",
    "model = RandomForestClassifier(n_estimators=50, criterion='entropy', max_depth=18, \n",
    "                               bootstrap=True, oob_score=True, random_state=2)\n",
    "\n",
    "# Create k-Fold cross-validation\n",
    "kf = KFold(n_splits=10, shuffle=True, random_state=1)\n",
    "\n",
    "# Do k-fold cross-validation\n",
    "cv_results = cross_val_score(model, # Classifier\n",
    "                             X_train, # Feature matrix\n",
    "                             y_train, # Target vector\n",
    "                             cv=kf, # Cross-validation technique\n",
    "                             scoring=\"accuracy\", # Loss function\n",
    "                             n_jobs=-1) # Use all CPU scores\n",
    "\n",
    "# Calculate mean against train set!\n",
    "cv_results.mean()\n",
    "\n",
    "# Calculate mean against test set\n",
    "model.fit(X_train, y_train)\n",
    "y_predict = model.predict(X_test)\n",
    "\n",
    "from sklearn.metrics import accuracy_score\n",
    "\n",
    "accuracy_score(y_test, y_predict)"
   ]
  },
  {
   "cell_type": "markdown",
   "metadata": {},
   "source": [
    "## Results"
   ]
  },
  {
   "cell_type": "markdown",
   "metadata": {},
   "source": [
    "Random seed set at 2 for all except KNN (where n/a)"
   ]
  },
  {
   "cell_type": "markdown",
   "metadata": {},
   "source": [
    "| Method | Cross-validation | Hold-out set | Accuracy |\n",
    "| ---- | ---- | ---- | ---- |\n",
    "| Naive Bayes | no | yes | 47.7% |\n",
    "| KNN | no | yes | ~68.1% |\n",
    "| Decision tree | no | yes | 75.7-76.5% |\n",
    "| Decision tree | yes | no | 75.7% |\n",
    "| Decision tree | yes | yes | 77.1% |\n",
    "| Random forest | no | yes | 80.3% |\n",
    "| Extra tree | no | yes | 79.0% |\n",
    "| Random forest | yes | yes | 81.2% |"
   ]
  },
  {
   "cell_type": "markdown",
   "metadata": {},
   "source": [
    "## How results could be improved\n",
    "> Frequency encoding of variables;<br>\n",
    "> Nearest neighbour for construction year?;<br>\n",
    "> Smaller train set, perhaps model is over-fitted?  (Look how DTree improved with hold out set, when using cross validation)<br>"
   ]
  },
  {
   "cell_type": "markdown",
   "metadata": {},
   "source": [
    "## Naive Bayes Classifier"
   ]
  },
  {
   "cell_type": "code",
   "execution_count": 253,
   "metadata": {},
   "outputs": [
    {
     "data": {
      "text/html": [
       "<div>\n",
       "<style scoped>\n",
       "    .dataframe tbody tr th:only-of-type {\n",
       "        vertical-align: middle;\n",
       "    }\n",
       "\n",
       "    .dataframe tbody tr th {\n",
       "        vertical-align: top;\n",
       "    }\n",
       "\n",
       "    .dataframe thead th {\n",
       "        text-align: right;\n",
       "    }\n",
       "</style>\n",
       "<table border=\"1\" class=\"dataframe\">\n",
       "  <thead>\n",
       "    <tr style=\"text-align: right;\">\n",
       "      <th></th>\n",
       "      <th>id</th>\n",
       "      <th>date_recorded</th>\n",
       "      <th>season_recorded</th>\n",
       "      <th>gps_height</th>\n",
       "      <th>installer</th>\n",
       "      <th>longitude</th>\n",
       "      <th>latitude</th>\n",
       "      <th>basin</th>\n",
       "      <th>region_code</th>\n",
       "      <th>population</th>\n",
       "      <th>...</th>\n",
       "      <th>construction_year</th>\n",
       "      <th>extraction_type_group</th>\n",
       "      <th>management_group</th>\n",
       "      <th>payment_type</th>\n",
       "      <th>water_quality</th>\n",
       "      <th>quantity_group</th>\n",
       "      <th>source_type</th>\n",
       "      <th>source_class</th>\n",
       "      <th>waterpoint_type_group</th>\n",
       "      <th>status_group</th>\n",
       "    </tr>\n",
       "  </thead>\n",
       "  <tbody>\n",
       "    <tr>\n",
       "      <th>50404</th>\n",
       "      <td>53755</td>\n",
       "      <td>2013.139785</td>\n",
       "      <td>2</td>\n",
       "      <td>1465</td>\n",
       "      <td>112</td>\n",
       "      <td>34.349116</td>\n",
       "      <td>-4.581008</td>\n",
       "      <td>0</td>\n",
       "      <td>12</td>\n",
       "      <td>4</td>\n",
       "      <td>...</td>\n",
       "      <td>2006</td>\n",
       "      <td>1</td>\n",
       "      <td>2</td>\n",
       "      <td>2</td>\n",
       "      <td>6</td>\n",
       "      <td>3</td>\n",
       "      <td>3</td>\n",
       "      <td>1</td>\n",
       "      <td>1</td>\n",
       "      <td>1</td>\n",
       "    </tr>\n",
       "    <tr>\n",
       "      <th>38573</th>\n",
       "      <td>57452</td>\n",
       "      <td>2011.241935</td>\n",
       "      <td>1</td>\n",
       "      <td>1445</td>\n",
       "      <td>157</td>\n",
       "      <td>34.680502</td>\n",
       "      <td>-8.841369</td>\n",
       "      <td>6</td>\n",
       "      <td>10</td>\n",
       "      <td>2</td>\n",
       "      <td>...</td>\n",
       "      <td>1978</td>\n",
       "      <td>1</td>\n",
       "      <td>4</td>\n",
       "      <td>1</td>\n",
       "      <td>6</td>\n",
       "      <td>1</td>\n",
       "      <td>4</td>\n",
       "      <td>1</td>\n",
       "      <td>1</td>\n",
       "      <td>0</td>\n",
       "    </tr>\n",
       "    <tr>\n",
       "      <th>15574</th>\n",
       "      <td>5315</td>\n",
       "      <td>2011.241935</td>\n",
       "      <td>1</td>\n",
       "      <td>1</td>\n",
       "      <td>132</td>\n",
       "      <td>33.295568</td>\n",
       "      <td>-8.986989</td>\n",
       "      <td>2</td>\n",
       "      <td>11</td>\n",
       "      <td>0</td>\n",
       "      <td>...</td>\n",
       "      <td>1989</td>\n",
       "      <td>1</td>\n",
       "      <td>4</td>\n",
       "      <td>6</td>\n",
       "      <td>6</td>\n",
       "      <td>1</td>\n",
       "      <td>4</td>\n",
       "      <td>1</td>\n",
       "      <td>1</td>\n",
       "      <td>0</td>\n",
       "    </tr>\n",
       "    <tr>\n",
       "      <th>59072</th>\n",
       "      <td>2567</td>\n",
       "      <td>2011.201613</td>\n",
       "      <td>1</td>\n",
       "      <td>0</td>\n",
       "      <td>769</td>\n",
       "      <td>38.970133</td>\n",
       "      <td>-5.419900</td>\n",
       "      <td>5</td>\n",
       "      <td>3</td>\n",
       "      <td>2</td>\n",
       "      <td>...</td>\n",
       "      <td>1993</td>\n",
       "      <td>6</td>\n",
       "      <td>0</td>\n",
       "      <td>2</td>\n",
       "      <td>4</td>\n",
       "      <td>2</td>\n",
       "      <td>5</td>\n",
       "      <td>0</td>\n",
       "      <td>5</td>\n",
       "      <td>2</td>\n",
       "    </tr>\n",
       "    <tr>\n",
       "      <th>53219</th>\n",
       "      <td>14437</td>\n",
       "      <td>2011.225806</td>\n",
       "      <td>1</td>\n",
       "      <td>1552</td>\n",
       "      <td>157</td>\n",
       "      <td>38.372253</td>\n",
       "      <td>-4.647711</td>\n",
       "      <td>5</td>\n",
       "      <td>3</td>\n",
       "      <td>1</td>\n",
       "      <td>...</td>\n",
       "      <td>1992</td>\n",
       "      <td>6</td>\n",
       "      <td>4</td>\n",
       "      <td>2</td>\n",
       "      <td>6</td>\n",
       "      <td>1</td>\n",
       "      <td>5</td>\n",
       "      <td>0</td>\n",
       "      <td>3</td>\n",
       "      <td>0</td>\n",
       "    </tr>\n",
       "  </tbody>\n",
       "</table>\n",
       "<p>5 rows × 24 columns</p>\n",
       "</div>"
      ],
      "text/plain": [
       "          id  date_recorded  season_recorded  gps_height  installer  \\\n",
       "50404  53755    2013.139785                2        1465        112   \n",
       "38573  57452    2011.241935                1        1445        157   \n",
       "15574   5315    2011.241935                1           1        132   \n",
       "59072   2567    2011.201613                1           0        769   \n",
       "53219  14437    2011.225806                1        1552        157   \n",
       "\n",
       "       longitude  latitude  basin  region_code  population      ...       \\\n",
       "50404  34.349116 -4.581008      0           12           4      ...        \n",
       "38573  34.680502 -8.841369      6           10           2      ...        \n",
       "15574  33.295568 -8.986989      2           11           0      ...        \n",
       "59072  38.970133 -5.419900      5            3           2      ...        \n",
       "53219  38.372253 -4.647711      5            3           1      ...        \n",
       "\n",
       "       construction_year  extraction_type_group  management_group  \\\n",
       "50404               2006                      1                 2   \n",
       "38573               1978                      1                 4   \n",
       "15574               1989                      1                 4   \n",
       "59072               1993                      6                 0   \n",
       "53219               1992                      6                 4   \n",
       "\n",
       "       payment_type  water_quality  quantity_group  source_type  source_class  \\\n",
       "50404             2              6               3            3             1   \n",
       "38573             1              6               1            4             1   \n",
       "15574             6              6               1            4             1   \n",
       "59072             2              4               2            5             0   \n",
       "53219             2              6               1            5             0   \n",
       "\n",
       "       waterpoint_type_group  status_group  \n",
       "50404                      1             1  \n",
       "38573                      1             0  \n",
       "15574                      1             0  \n",
       "59072                      5             2  \n",
       "53219                      3             0  \n",
       "\n",
       "[5 rows x 24 columns]"
      ]
     },
     "execution_count": 253,
     "metadata": {},
     "output_type": "execute_result"
    }
   ],
   "source": [
    "df2 = df\n",
    "df2.head()"
   ]
  },
  {
   "cell_type": "code",
   "execution_count": 254,
   "metadata": {},
   "outputs": [
    {
     "data": {
      "text/html": [
       "<div>\n",
       "<style scoped>\n",
       "    .dataframe tbody tr th:only-of-type {\n",
       "        vertical-align: middle;\n",
       "    }\n",
       "\n",
       "    .dataframe tbody tr th {\n",
       "        vertical-align: top;\n",
       "    }\n",
       "\n",
       "    .dataframe thead th {\n",
       "        text-align: right;\n",
       "    }\n",
       "</style>\n",
       "<table border=\"1\" class=\"dataframe\">\n",
       "  <thead>\n",
       "    <tr style=\"text-align: right;\">\n",
       "      <th></th>\n",
       "      <th>season_recorded</th>\n",
       "      <th>gps_height</th>\n",
       "      <th>installer</th>\n",
       "      <th>basin</th>\n",
       "      <th>region_code</th>\n",
       "      <th>population</th>\n",
       "      <th>public_meeting</th>\n",
       "      <th>scheme_management</th>\n",
       "      <th>permit</th>\n",
       "      <th>wpt_age</th>\n",
       "      <th>construction_year</th>\n",
       "      <th>extraction_type_group</th>\n",
       "      <th>management_group</th>\n",
       "      <th>payment_type</th>\n",
       "      <th>water_quality</th>\n",
       "      <th>quantity_group</th>\n",
       "      <th>source_type</th>\n",
       "      <th>waterpoint_type_group</th>\n",
       "    </tr>\n",
       "  </thead>\n",
       "  <tbody>\n",
       "    <tr>\n",
       "      <th>37734</th>\n",
       "      <td>0</td>\n",
       "      <td>2</td>\n",
       "      <td>576</td>\n",
       "      <td>0</td>\n",
       "      <td>16</td>\n",
       "      <td>0</td>\n",
       "      <td>1</td>\n",
       "      <td>9</td>\n",
       "      <td>1</td>\n",
       "      <td>2012.809140</td>\n",
       "      <td>0</td>\n",
       "      <td>5</td>\n",
       "      <td>4</td>\n",
       "      <td>2</td>\n",
       "      <td>6</td>\n",
       "      <td>3</td>\n",
       "      <td>5</td>\n",
       "      <td>3</td>\n",
       "    </tr>\n",
       "    <tr>\n",
       "      <th>27843</th>\n",
       "      <td>2</td>\n",
       "      <td>245</td>\n",
       "      <td>157</td>\n",
       "      <td>7</td>\n",
       "      <td>8</td>\n",
       "      <td>8</td>\n",
       "      <td>1</td>\n",
       "      <td>10</td>\n",
       "      <td>1</td>\n",
       "      <td>13.086022</td>\n",
       "      <td>2000</td>\n",
       "      <td>10</td>\n",
       "      <td>4</td>\n",
       "      <td>5</td>\n",
       "      <td>6</td>\n",
       "      <td>3</td>\n",
       "      <td>0</td>\n",
       "      <td>1</td>\n",
       "    </tr>\n",
       "    <tr>\n",
       "      <th>14394</th>\n",
       "      <td>2</td>\n",
       "      <td>1622</td>\n",
       "      <td>774</td>\n",
       "      <td>0</td>\n",
       "      <td>12</td>\n",
       "      <td>1</td>\n",
       "      <td>1</td>\n",
       "      <td>7</td>\n",
       "      <td>2</td>\n",
       "      <td>23.075269</td>\n",
       "      <td>1990</td>\n",
       "      <td>6</td>\n",
       "      <td>4</td>\n",
       "      <td>6</td>\n",
       "      <td>7</td>\n",
       "      <td>0</td>\n",
       "      <td>5</td>\n",
       "      <td>5</td>\n",
       "    </tr>\n",
       "    <tr>\n",
       "      <th>25458</th>\n",
       "      <td>1</td>\n",
       "      <td>500</td>\n",
       "      <td>157</td>\n",
       "      <td>5</td>\n",
       "      <td>3</td>\n",
       "      <td>8</td>\n",
       "      <td>1</td>\n",
       "      <td>7</td>\n",
       "      <td>0</td>\n",
       "      <td>21.233871</td>\n",
       "      <td>1990</td>\n",
       "      <td>1</td>\n",
       "      <td>4</td>\n",
       "      <td>2</td>\n",
       "      <td>6</td>\n",
       "      <td>3</td>\n",
       "      <td>6</td>\n",
       "      <td>1</td>\n",
       "    </tr>\n",
       "    <tr>\n",
       "      <th>20768</th>\n",
       "      <td>1</td>\n",
       "      <td>138</td>\n",
       "      <td>157</td>\n",
       "      <td>8</td>\n",
       "      <td>4</td>\n",
       "      <td>2</td>\n",
       "      <td>1</td>\n",
       "      <td>7</td>\n",
       "      <td>1</td>\n",
       "      <td>7.196237</td>\n",
       "      <td>2004</td>\n",
       "      <td>1</td>\n",
       "      <td>4</td>\n",
       "      <td>1</td>\n",
       "      <td>7</td>\n",
       "      <td>4</td>\n",
       "      <td>5</td>\n",
       "      <td>3</td>\n",
       "    </tr>\n",
       "  </tbody>\n",
       "</table>\n",
       "</div>"
      ],
      "text/plain": [
       "       season_recorded  gps_height  installer  basin  region_code  population  \\\n",
       "37734                0           2        576      0           16           0   \n",
       "27843                2         245        157      7            8           8   \n",
       "14394                2        1622        774      0           12           1   \n",
       "25458                1         500        157      5            3           8   \n",
       "20768                1         138        157      8            4           2   \n",
       "\n",
       "       public_meeting  scheme_management  permit      wpt_age  \\\n",
       "37734               1                  9       1  2012.809140   \n",
       "27843               1                 10       1    13.086022   \n",
       "14394               1                  7       2    23.075269   \n",
       "25458               1                  7       0    21.233871   \n",
       "20768               1                  7       1     7.196237   \n",
       "\n",
       "       construction_year  extraction_type_group  management_group  \\\n",
       "37734                  0                      5                 4   \n",
       "27843               2000                     10                 4   \n",
       "14394               1990                      6                 4   \n",
       "25458               1990                      1                 4   \n",
       "20768               2004                      1                 4   \n",
       "\n",
       "       payment_type  water_quality  quantity_group  source_type  \\\n",
       "37734             2              6               3            5   \n",
       "27843             5              6               3            0   \n",
       "14394             6              7               0            5   \n",
       "25458             2              6               3            6   \n",
       "20768             1              7               4            5   \n",
       "\n",
       "       waterpoint_type_group  \n",
       "37734                      3  \n",
       "27843                      1  \n",
       "14394                      5  \n",
       "25458                      1  \n",
       "20768                      3  "
      ]
     },
     "execution_count": 254,
     "metadata": {},
     "output_type": "execute_result"
    }
   ],
   "source": [
    "predictors2 = df2[chosen_predictors]\n",
    "targets2 = df2['status_group']\n",
    "\n",
    "X_train, X_test, y_train, y_test = train_test_split(predictors2, targets2, test_size=.2)\n",
    "X_train.head()"
   ]
  },
  {
   "cell_type": "code",
   "execution_count": 255,
   "metadata": {},
   "outputs": [
    {
     "data": {
      "text/plain": [
       "6146"
      ]
     },
     "execution_count": 255,
     "metadata": {},
     "output_type": "execute_result"
    }
   ],
   "source": [
    "df2['gps_height'].value_counts()[0]"
   ]
  },
  {
   "cell_type": "code",
   "execution_count": 256,
   "metadata": {},
   "outputs": [
    {
     "data": {
      "text/plain": [
       "0.4771043771043771"
      ]
     },
     "execution_count": 256,
     "metadata": {},
     "output_type": "execute_result"
    }
   ],
   "source": [
    "from sklearn.naive_bayes import GaussianNB\n",
    "clf = GaussianNB()\n",
    "clf.fit(X_train, y_train)\n",
    "GaussianNB(priors=None)\n",
    "y_pred = clf.predict(X_test)\n",
    "\n",
    "from sklearn.metrics import accuracy_score\n",
    "accuracy_score(y_test, y_predict)"
   ]
  },
  {
   "cell_type": "code",
   "execution_count": null,
   "metadata": {},
   "outputs": [],
   "source": []
  }
 ],
 "metadata": {
  "kernelspec": {
   "display_name": "Python 3",
   "language": "python",
   "name": "python3"
  },
  "language_info": {
   "codemirror_mode": {
    "name": "ipython",
    "version": 3
   },
   "file_extension": ".py",
   "mimetype": "text/x-python",
   "name": "python",
   "nbconvert_exporter": "python",
   "pygments_lexer": "ipython3",
   "version": "3.6.5"
  }
 },
 "nbformat": 4,
 "nbformat_minor": 2
}
