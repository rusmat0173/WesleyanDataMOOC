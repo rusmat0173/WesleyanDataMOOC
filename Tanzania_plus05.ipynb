{
 "cells": [
  {
   "cell_type": "markdown",
   "metadata": {},
   "source": [
    "# Consolidated workflow (continued)"
   ]
  },
  {
   "cell_type": "markdown",
   "metadata": {},
   "source": [
    "Import initial libraries and data file. N.B. The data being used read in here is already numercised for use in sklearn's decision trees and random forests"
   ]
  },
  {
   "cell_type": "markdown",
   "metadata": {},
   "source": [
    "## Tanzania - data analysis"
   ]
  },
  {
   "cell_type": "code",
   "execution_count": 331,
   "metadata": {},
   "outputs": [
    {
     "data": {
      "text/plain": [
       "(59400, 24)"
      ]
     },
     "execution_count": 331,
     "metadata": {},
     "output_type": "execute_result"
    }
   ],
   "source": [
    "# import libraries and data\n",
    "import numpy as np\n",
    "import pandas as pd\n",
    "import matplotlib as plot\n",
    "import seaborn as sns\n",
    "\n",
    "# check select_data\n",
    "df = pd.read_csv('/Users/RAhmed/data store/Wesleyan_Capstone/all_numeric201808292240.csv')\n",
    "df.shape"
   ]
  },
  {
   "cell_type": "code",
   "execution_count": 332,
   "metadata": {},
   "outputs": [],
   "source": [
    "import matplotlib.pylab as plt\n",
    "from sklearn.model_selection import train_test_split\n",
    "from sklearn.tree import DecisionTreeClassifier\n",
    "from sklearn.metrics import classification_report\n",
    "import sklearn.metrics"
   ]
  },
  {
   "cell_type": "markdown",
   "metadata": {},
   "source": [
    "Sklearn's decision trees and random forests need categorical data changed into integers. See, e.g,: https://stackoverflow.com/questions/38108832/passing-categorical-data-to-sklearn-decision-tree\n",
    "\n",
    "The above data set has already had this done."
   ]
  },
  {
   "cell_type": "code",
   "execution_count": 333,
   "metadata": {},
   "outputs": [
    {
     "data": {
      "text/plain": [
       "Index(['id', 'date_recorded', 'season_recorded', 'gps_height', 'installer',\n",
       "       'longitude', 'latitude', 'basin', 'region_code', 'population',\n",
       "       'public_meeting', 'scheme_management', 'permit', 'wpt_age',\n",
       "       'construction_year', 'extraction_type_group', 'management_group',\n",
       "       'payment_type', 'water_quality', 'quantity_group', 'source_type',\n",
       "       'source_class', 'waterpoint_type_group', 'status_group'],\n",
       "      dtype='object')"
      ]
     },
     "execution_count": 333,
     "metadata": {},
     "output_type": "execute_result"
    }
   ],
   "source": [
    "df.columns"
   ]
  },
  {
   "cell_type": "code",
   "execution_count": 334,
   "metadata": {},
   "outputs": [
    {
     "name": "stdout",
     "output_type": "stream",
     "text": [
      "pred_train.shape: (47520, 18)\n",
      "pred_test.shape: (11880, 18)\n",
      "tar_train.shape: (47520,)\n",
      "tar_test.shape: (11880,)\n"
     ]
    }
   ],
   "source": [
    "chosen_predictors = ['season_recorded', 'gps_height', 'installer', 'basin', 'region_code', 'population',\n",
    "                     'public_meeting', 'scheme_management', 'permit', 'wpt_age','construction_year', \n",
    "                     'extraction_type_group', 'management_group', 'payment_type', 'water_quality', \n",
    "                     'quantity_group', 'source_type', 'waterpoint_type_group'\n",
    "                    ]\n",
    "\n",
    "predictors = df[chosen_predictors]\n",
    "targets = df['status_group']\n",
    "\n",
    "# train/test split\n",
    "pred_train, pred_test, tar_train, tar_test = train_test_split(predictors, targets, test_size=.2)\n",
    "\n",
    "print(\"pred_train.shape:\", pred_train.shape)\n",
    "print(\"pred_test.shape:\", pred_test.shape)\n",
    "print(\"tar_train.shape:\", tar_train.shape)\n",
    "print(\"tar_test.shape:\", tar_test.shape)"
   ]
  },
  {
   "cell_type": "markdown",
   "metadata": {},
   "source": [
    "Build a classifier model with a decision tree, on train set"
   ]
  },
  {
   "cell_type": "code",
   "execution_count": 335,
   "metadata": {},
   "outputs": [
    {
     "name": "stdout",
     "output_type": "stream",
     "text": [
      "Confusion matrix:\n",
      "[[5143  359  915]\n",
      " [ 357  332  159]\n",
      " [ 962  197 3456]]\n",
      "Accuracy score:\n",
      "0.7517676767676768\n"
     ]
    }
   ],
   "source": [
    "# Build model on training data; initiate classifier from sklearn, then fit it with the training data\n",
    "classifier=DecisionTreeClassifier(random_state=2)\n",
    "classifier=classifier.fit(pred_train,tar_train)\n",
    "\n",
    "# predict for the test values and create confusion matrix\n",
    "predictions=classifier.predict(pred_test)\n",
    "print(\"Confusion matrix:\")\n",
    "print(sklearn.metrics.confusion_matrix(tar_test,predictions))\n",
    "print(\"Accuracy score:\")\n",
    "print(sklearn.metrics.accuracy_score(tar_test, predictions))"
   ]
  },
  {
   "cell_type": "markdown",
   "metadata": {},
   "source": [
    "Trying again, to play with parameters, experiment, etc."
   ]
  },
  {
   "cell_type": "code",
   "execution_count": 336,
   "metadata": {},
   "outputs": [
    {
     "data": {
      "text/plain": [
       "0.753030303030303"
      ]
     },
     "execution_count": 336,
     "metadata": {},
     "output_type": "execute_result"
    }
   ],
   "source": [
    "# Playing with hyper-parameters. Also have varied the wording of the code from that in the MOOC. \n",
    "# (Just to check all in order with exceptionally high result.)\n",
    "# train/test split\n",
    "from sklearn.utils import shuffle\n",
    "df = shuffle(df)\n",
    "X_train, X_test, y_train, y_test = train_test_split(predictors[:], targets[:], test_size=.2)\n",
    "\n",
    "# Build model on training data; initiate classifier from sklearn, then fit it with the training data\n",
    "model = DecisionTreeClassifier(random_state=2)\n",
    "model.fit(X_train, y_train)\n",
    "\n",
    "y_predict = model.predict(X_test)\n",
    "\n",
    "from sklearn.metrics import accuracy_score\n",
    "\n",
    "accuracy_score(y_test, y_predict)"
   ]
  },
  {
   "cell_type": "markdown",
   "metadata": {},
   "source": [
    "For confusion matrix, N.B. that:\n",
    "\n",
    "functional = 0\n",
    "\n",
    "functional_needs_repair = 1\n",
    "\n",
    "non-functional = 2"
   ]
  },
  {
   "cell_type": "code",
   "execution_count": 337,
   "metadata": {},
   "outputs": [
    {
     "data": {
      "text/html": [
       "<div>\n",
       "<style scoped>\n",
       "    .dataframe tbody tr th:only-of-type {\n",
       "        vertical-align: middle;\n",
       "    }\n",
       "\n",
       "    .dataframe tbody tr th {\n",
       "        vertical-align: top;\n",
       "    }\n",
       "\n",
       "    .dataframe thead th {\n",
       "        text-align: right;\n",
       "    }\n",
       "</style>\n",
       "<table border=\"1\" class=\"dataframe\">\n",
       "  <thead>\n",
       "    <tr style=\"text-align: right;\">\n",
       "      <th></th>\n",
       "      <th>Pred functional</th>\n",
       "      <th>Predicted func_need_repair</th>\n",
       "      <th>Predicted non_func</th>\n",
       "    </tr>\n",
       "  </thead>\n",
       "  <tbody>\n",
       "    <tr>\n",
       "      <th>True functional</th>\n",
       "      <td>5129</td>\n",
       "      <td>392</td>\n",
       "      <td>924</td>\n",
       "    </tr>\n",
       "    <tr>\n",
       "      <th>True func_need_repair</th>\n",
       "      <td>361</td>\n",
       "      <td>342</td>\n",
       "      <td>167</td>\n",
       "    </tr>\n",
       "    <tr>\n",
       "      <th>True non_func</th>\n",
       "      <td>915</td>\n",
       "      <td>175</td>\n",
       "      <td>3475</td>\n",
       "    </tr>\n",
       "  </tbody>\n",
       "</table>\n",
       "</div>"
      ],
      "text/plain": [
       "                       Pred functional  Predicted func_need_repair  \\\n",
       "True functional                   5129                         392   \n",
       "True func_need_repair              361                         342   \n",
       "True non_func                      915                         175   \n",
       "\n",
       "                       Predicted non_func  \n",
       "True functional                       924  \n",
       "True func_need_repair                 167  \n",
       "True non_func                        3475  "
      ]
     },
     "execution_count": 337,
     "metadata": {},
     "output_type": "execute_result"
    }
   ],
   "source": [
    "from sklearn.metrics import confusion_matrix\n",
    "\n",
    "pd.DataFrame(\n",
    "    confusion_matrix(y_test, y_predict),\n",
    "    columns=['Pred functional', 'Predicted func_need_repair', 'Predicted non_func'],\n",
    "    index=['True functional', 'True func_need_repair', 'True non_func']\n",
    ")"
   ]
  },
  {
   "cell_type": "code",
   "execution_count": 338,
   "metadata": {},
   "outputs": [
    {
     "data": {
      "text/plain": [
       "0.753030303030303"
      ]
     },
     "execution_count": 338,
     "metadata": {},
     "output_type": "execute_result"
    }
   ],
   "source": [
    "# reprint for convenience\n",
    "accuracy_score(y_test, y_predict)"
   ]
  },
  {
   "cell_type": "markdown",
   "metadata": {},
   "source": [
    "Key ingredient: see which features are most important"
   ]
  },
  {
   "cell_type": "code",
   "execution_count": 339,
   "metadata": {},
   "outputs": [
    {
     "data": {
      "text/plain": [
       "[('gps_height', 0.2082604258545679),\n",
       " ('wpt_age', 0.16868874655184754),\n",
       " ('quantity_group', 0.15828654323856964),\n",
       " ('waterpoint_type_group', 0.07808363349391287),\n",
       " ('installer', 0.060031464665566206),\n",
       " ('payment_type', 0.040058500800316824),\n",
       " ('region_code', 0.037644683802763236),\n",
       " ('population', 0.034576043447480574),\n",
       " ('construction_year', 0.03334846018836722),\n",
       " ('source_type', 0.02906491271719261),\n",
       " ('extraction_type_group', 0.029064330152186242),\n",
       " ('scheme_management', 0.02843719571344725),\n",
       " ('basin', 0.026773943965726868),\n",
       " ('season_recorded', 0.016865793793567594),\n",
       " ('water_quality', 0.016776162616608612),\n",
       " ('permit', 0.01159092730339643),\n",
       " ('public_meeting', 0.011505296222643704),\n",
       " ('management_group', 0.01094293547183868)]"
      ]
     },
     "execution_count": 339,
     "metadata": {},
     "output_type": "execute_result"
    }
   ],
   "source": [
    "importance = (dict(zip(X_train, model.feature_importances_)))\n",
    "sorted_items = sorted(importance.items(), key = lambda x: x[1], reverse=True)\n",
    "sorted_items"
   ]
  },
  {
   "cell_type": "markdown",
   "metadata": {},
   "source": [
    "## Visualise the Decision Tree"
   ]
  },
  {
   "cell_type": "markdown",
   "metadata": {},
   "source": [
    "It turns out that visualising the decision tree is quite straight forward.\n",
    "\n",
    "There are two things one can initially do: limit or not limit maximum depth as folling example:\n",
    "model = DecisionTreeClassifier(max_depth=None)\n",
    "\n",
    "As below, push the image out to a tree.dot file. Find it on your computer amd then cut and paste the code into a web viewer/converter. See, e.g.:\n",
    "http://www.ilovefreesoftware.com/03/featured/free-online-dot-to-png-converter-websites.html https://dreampuf.github.io/GraphvizOnline/\n",
    "\n",
    "Right-clicking the image in GraphvizOnline, I could save the png to desktop.\n",
    "\n",
    "If you limit maximum depth, your decision tree may be small enough to fit on one page. Else, cut and paste a number of lines of code from the tree.dot file, making sure you finish as follows in the online converter, e.g.:\n",
    "\n",
    "...\n",
    "44 -> 54 ; \n",
    "}\n",
    "\n",
    "If you do limit the max depth the tree will be different, of course, than a full tree."
   ]
  },
  {
   "cell_type": "code",
   "execution_count": 340,
   "metadata": {},
   "outputs": [],
   "source": [
    "from sklearn import tree\n",
    "\n",
    "# visualise\n",
    "tree.export_graphviz(model, out_file='tree.dot') \n",
    "# cut and paste the tree.dot file info into webgraphviz.com in a browser. \n",
    "# (You can paste as many layers of the tree as you want. See notes above.)"
   ]
  },
  {
   "cell_type": "code",
   "execution_count": 341,
   "metadata": {},
   "outputs": [],
   "source": [
    "# save to a file\n",
    "# df.to_csv('/Users/RAhmed/data store/Wesleyan_Capstone/all_numeric201808292240.csv', index=False)"
   ]
  },
  {
   "cell_type": "markdown",
   "metadata": {},
   "source": [
    "## Quick Aside - do KNN approach"
   ]
  },
  {
   "cell_type": "code",
   "execution_count": 329,
   "metadata": {},
   "outputs": [
    {
     "name": "stdout",
     "output_type": "stream",
     "text": [
      "train set 0.6723063973063973\n",
      "train set 0.678030303030303\n",
      "train set 0.6845959595959596\n",
      "train set 0.6853535353535354\n",
      "train set 0.6842592592592592\n",
      "train set 0.687037037037037\n",
      "train set 0.6813131313131313\n",
      "train set 0.6831649831649832\n",
      "train set 0.6811447811447812\n",
      "train set 0.67996632996633\n",
      "train set 0.6786195286195286\n",
      "train set 0.6792087542087543\n",
      "train set 0.6773569023569024\n",
      "train set 0.6744949494949495\n"
     ]
    },
    {
     "data": {
      "text/plain": [
       "[{1: 0.6723063973063973},\n",
       " {2: 0.678030303030303},\n",
       " {3: 0.6845959595959596},\n",
       " {4: 0.6853535353535354},\n",
       " {5: 0.6842592592592592},\n",
       " {6: 0.687037037037037},\n",
       " {7: 0.6813131313131313},\n",
       " {8: 0.6831649831649832},\n",
       " {9: 0.6811447811447812},\n",
       " {10: 0.67996632996633},\n",
       " {11: 0.6786195286195286},\n",
       " {12: 0.6792087542087543},\n",
       " {13: 0.6773569023569024},\n",
       " {14: 0.6744949494949495}]"
      ]
     },
     "execution_count": 329,
     "metadata": {},
     "output_type": "execute_result"
    }
   ],
   "source": [
    "## Import the Classifier.\n",
    "from sklearn.neighbors import KNeighborsClassifier\n",
    "## Instantiate the model with 5 neighbors. \n",
    "knn_list = []\n",
    "for i in range(1,15):\n",
    "    knn = KNeighborsClassifier(n_neighbors=i)\n",
    "    ## Fit the model on the training data.\n",
    "    knn.fit(X_train, y_train)\n",
    "    ## See how the model performs on the test data.\n",
    "    print(\"train set\", knn.score(X_test, y_test))\n",
    "    ## Append to list.\n",
    "    knn_list.append({i: knn.score(X_test, y_test)})\n",
    "knn_list"
   ]
  },
  {
   "cell_type": "markdown",
   "metadata": {},
   "source": [
    "## Do a global cross-validation approach on Decision Tree"
   ]
  },
  {
   "cell_type": "markdown",
   "metadata": {},
   "source": [
    "https://chrisalbon.com/machine_learning/model_evaluation/cross-validaton/"
   ]
  },
  {
   "cell_type": "code",
   "execution_count": 330,
   "metadata": {},
   "outputs": [
    {
     "data": {
      "text/plain": [
       "0.7565824915824916"
      ]
     },
     "execution_count": 330,
     "metadata": {},
     "output_type": "execute_result"
    }
   ],
   "source": [
    "# With k-fold cross validation. \n",
    "from sklearn import metrics\n",
    "from sklearn.model_selection import KFold, cross_val_score\n",
    "\n",
    "model = DecisionTreeClassifier(max_depth=None, random_state=2)\n",
    "\n",
    "# Create k-Fold cross-validation\n",
    "kf = KFold(n_splits=10, shuffle=True, random_state=2)\n",
    "\n",
    "# Do k-fold cross-validation\n",
    "cv_results = cross_val_score(model, # Classifier\n",
    "                             predictors, # Feature matrix\n",
    "                             targets, # Target vector\n",
    "                             cv=kf, # Cross-validation technique\n",
    "                             scoring=\"accuracy\", # Loss function\n",
    "                             n_jobs=-1) # Use all CPU scores\n",
    "\n",
    "# Calculate mean\n",
    "cv_results.mean()"
   ]
  },
  {
   "cell_type": "markdown",
   "metadata": {},
   "source": [
    "## Do a hold out cross-validation approach on Decision Tree"
   ]
  },
  {
   "cell_type": "markdown",
   "metadata": {},
   "source": [
    "Two differences: \n",
    "> i). do cross-validation on train set only (not against all), and predict against test set<br>\n",
    "> ii). experiment within the decision tree with various parameters\n",
    "\n",
    "N.B. cross_validation does not give a fitted model. There is a cross_val_predict, but I think it doesn;t test against a seprate hold out set. (?)"
   ]
  },
  {
   "cell_type": "code",
   "execution_count": 342,
   "metadata": {},
   "outputs": [
    {
     "name": "stdout",
     "output_type": "stream",
     "text": [
      "0.7657617845117846\n"
     ]
    },
    {
     "data": {
      "text/plain": [
       "0.7611952861952862"
      ]
     },
     "execution_count": 342,
     "metadata": {},
     "output_type": "execute_result"
    }
   ],
   "source": [
    "# With k-fold cross validation. \n",
    "from sklearn import metrics\n",
    "from sklearn.model_selection import KFold, cross_val_score\n",
    "\n",
    "\n",
    "# train/test split\n",
    "X_train, X_test, y_train, y_test = train_test_split(predictors, targets, test_size=.2)\n",
    "\n",
    "# Difference for this \n",
    "model = DecisionTreeClassifier(max_depth=20, criterion='gini', random_state=2, splitter='random')\n",
    "\n",
    "# Create k-Fold cross-validation\n",
    "kf = KFold(n_splits=10, shuffle=True, random_state=1)\n",
    "\n",
    "# Do k-fold cross-validation\n",
    "cv_results = cross_val_score(model, # Classifier\n",
    "                             X_train, # Feature matrix\n",
    "                             y_train, # Target vector\n",
    "                             cv=kf, # Cross-validation technique\n",
    "                             scoring=\"accuracy\", # Loss function\n",
    "                             n_jobs=-1) # Use all CPU scores\n",
    "\n",
    "# Calculate mean against train set!\n",
    "print(cv_results.mean())\n",
    "\n",
    "# So I have tweaked the 'model' (above) parameters to get the best model, \n",
    "# and can now test against the hold out set. ((Tweaked) Model has to be fitted)\n",
    "model.fit(X_train, y_train)\n",
    "y_predict = model.predict(X_test)\n",
    "\n",
    "from sklearn.metrics import accuracy_score\n",
    "\n",
    "accuracy_score(y_test, y_predict)\n"
   ]
  },
  {
   "cell_type": "markdown",
   "metadata": {},
   "source": [
    "^ above cross validation tweaking has improved accuracy (against hold out) by some 1.5%, great!"
   ]
  },
  {
   "cell_type": "markdown",
   "metadata": {},
   "source": [
    "## Do Random Forest approach"
   ]
  },
  {
   "cell_type": "code",
   "execution_count": 343,
   "metadata": {},
   "outputs": [],
   "source": [
    "# import all necessary libraries\n",
    "from pandas import Series, DataFrame\n",
    "import pandas as pd\n",
    "import numpy as np\n",
    "import os\n",
    "import matplotlib.pylab as plt\n",
    "from sklearn.cross_validation import train_test_split\n",
    "from sklearn.tree import DecisionTreeClassifier\n",
    "from sklearn.metrics import classification_report\n",
    "import sklearn.metrics\n",
    "# feature importance\n",
    "from sklearn import datasets\n",
    "from sklearn.ensemble import ExtraTreesClassifier"
   ]
  },
  {
   "cell_type": "code",
   "execution_count": 344,
   "metadata": {},
   "outputs": [
    {
     "name": "stdout",
     "output_type": "stream",
     "text": [
      "RANDOM FOREST\n",
      "Confusion matrix:\n",
      "[[5582  228  664]\n",
      " [ 349  330  137]\n",
      " [1011  104 3475]]\n",
      "Accuracy score:\n",
      "0.7901515151515152\n",
      "\n",
      "RandomForestClassifier relative feature importance:\n",
      "gps_height                                                        0.18180452806021108\n",
      "wpt_age                                                           0.14987167311128888\n",
      "quantity_group                                                     0.1361718327627374\n",
      "construction_year                                                 0.07447677652451679\n",
      "waterpoint_type_group                                             0.06271687878568638\n",
      "installer                                                         0.05876835704805633\n",
      "extraction_type_group                                            0.044161902256080146\n",
      "payment_type                                                     0.042808397013703585\n",
      "region_code                                                       0.04245088424662267\n",
      "population                                                       0.040576781408263374\n",
      "basin                                                             0.02939609745320553\n",
      "scheme_management                                                 0.02895564284179665\n",
      "source_type                                                       0.02791428473821218\n",
      "water_quality                                                    0.020428467791390226\n",
      "season_recorded                                                   0.01817129070688783\n",
      "permit                                                           0.016403590142064942\n",
      "public_meeting                                                    0.01273793925810264\n",
      "management_group                                                 0.012184675851173325\n",
      "\n",
      "EXTRA TREE\n",
      "Confusion matrix:\n",
      "[[5481  264  729]\n",
      " [ 346  332  138]\n",
      " [ 981  130 3479]]\n",
      "Accuracy score:\n",
      "0.7821548821548822\n",
      "\n",
      "ExtraTreesClassifier relative feature importance:\n",
      "gps_height                                                        0.17856055876756965\n",
      "quantity_group                                                    0.12967896267030007\n",
      "wpt_age                                                            0.1283579543216298\n",
      "construction_year                                                 0.07718548440559525\n",
      "waterpoint_type_group                                              0.0734947537702219\n",
      "installer                                                        0.051995529179535836\n",
      "payment_type                                                      0.04893466666310452\n",
      "extraction_type_group                                             0.04166680033249999\n",
      "population                                                        0.04162234574431854\n",
      "region_code                                                       0.04043804272935996\n",
      "basin                                                            0.030690966980592732\n",
      "source_type                                                       0.02942135920724856\n",
      "scheme_management                                                0.028150808096406927\n",
      "water_quality                                                    0.023527672372440217\n",
      "permit                                                            0.02166394513466704\n",
      "season_recorded                                                   0.02129210544143616\n",
      "management_group                                                  0.01709930997681981\n",
      "public_meeting                                                    0.01621873420625308\n"
     ]
    }
   ],
   "source": [
    "# run Random Forest\n",
    "from sklearn.ensemble import RandomForestClassifier\n",
    "# classifier (sometimes use clf) is initiated\n",
    "classifier=RandomForestClassifier(n_estimators=25, random_state=2)\n",
    "# next step trains the model\n",
    "classifier=classifier.fit(X_train,y_train)\n",
    "# now we apply the classifier to the test data\n",
    "predictions=classifier.predict(X_test)\n",
    "\n",
    "# we look at confusion matrix and accuracy of prediction on test values\n",
    "print(\"RANDOM FOREST\")\n",
    "print(\"Confusion matrix:\")\n",
    "print(sklearn.metrics.confusion_matrix(y_test,predictions))\n",
    "print(\"Accuracy score:\")\n",
    "print(sklearn.metrics.accuracy_score(y_test, predictions))\n",
    "print()\n",
    "# display the relative importance of each attribute using RandomForestClassifier\n",
    "# make this more readable by having the names of the predictors and having sorted\n",
    "zipped = zip(predictors, classifier.feature_importances_)\n",
    "my_list = list(zipped)\n",
    "my_list.sort(key=lambda tup: tup[1], reverse=True)\n",
    "print('RandomForestClassifier relative feature importance:')\n",
    "for item in my_list:\n",
    "    print('{0:42} {1:>42}'.format(item[0], item[1]))\n",
    "\n",
    "# fit an Extra Trees model to the data (instead of Random Forest)\n",
    "model = ExtraTreesClassifier(random_state=2)\n",
    "model.fit(X_train,y_train)\n",
    "predictions=model.predict(X_test)\n",
    "print()\n",
    "print(\"EXTRA TREE\")\n",
    "print(\"Confusion matrix:\")\n",
    "print(sklearn.metrics.confusion_matrix(y_test,predictions))\n",
    "print(\"Accuracy score:\")\n",
    "print(sklearn.metrics.accuracy_score(y_test, predictions))\n",
    "print()\n",
    "# make this more readable by having the names of the predictors and having sorted\n",
    "zipped = zip(predictors, model.feature_importances_)\n",
    "my_list = list(zipped)\n",
    "my_list.sort(key=lambda tup: tup[1], reverse=True)\n",
    "print('ExtraTreesClassifier relative feature importance:')\n",
    "for item in my_list:\n",
    "    print('{0:42} {1:>42}'.format(item[0], item[1]))"
   ]
  },
  {
   "cell_type": "markdown",
   "metadata": {},
   "source": [
    "## Do Random Forest with cross-validation and hold out set"
   ]
  },
  {
   "cell_type": "code",
   "execution_count": 345,
   "metadata": {},
   "outputs": [
    {
     "data": {
      "text/plain": [
       "0.8095117845117845"
      ]
     },
     "execution_count": 345,
     "metadata": {},
     "output_type": "execute_result"
    }
   ],
   "source": [
    "# Random forest with cross-validation and hold out set\n",
    "model = RandomForestClassifier(n_estimators=50, criterion='entropy', max_depth=18, \n",
    "                               bootstrap=True, oob_score=True, random_state=2)\n",
    "\n",
    "# Create k-Fold cross-validation\n",
    "kf = KFold(n_splits=10, shuffle=True, random_state=1)\n",
    "\n",
    "# Do k-fold cross-validation\n",
    "cv_results = cross_val_score(model, # Classifier\n",
    "                             X_train, # Feature matrix\n",
    "                             y_train, # Target vector\n",
    "                             cv=kf, # Cross-validation technique\n",
    "                             scoring=\"accuracy\", # Loss function\n",
    "                             n_jobs=-1) # Use all CPU scores\n",
    "\n",
    "# Calculate mean against train set!\n",
    "cv_results.mean()\n",
    "\n",
    "# Calculate mean against test set\n",
    "model.fit(X_train, y_train)\n",
    "y_predict = model.predict(X_test)\n",
    "\n",
    "from sklearn.metrics import accuracy_score\n",
    "\n",
    "accuracy_score(y_test, y_predict)"
   ]
  },
  {
   "cell_type": "code",
   "execution_count": 346,
   "metadata": {},
   "outputs": [
    {
     "name": "stdout",
     "output_type": "stream",
     "text": [
      "RandomForestClassifier relative feature importance:\n",
      "quantity_group                                                     0.1476545938994607\n",
      "wpt_age                                                           0.13490896915174497\n",
      "gps_height                                                        0.12553456961357742\n",
      "construction_year                                                 0.07582540790241538\n",
      "installer                                                         0.06426181947924077\n",
      "waterpoint_type_group                                             0.06396458502376022\n",
      "extraction_type_group                                              0.0545968042456523\n",
      "region_code                                                       0.05294210843243622\n",
      "payment_type                                                      0.05004533805214187\n",
      "population                                                        0.03725701749227348\n",
      "basin                                                             0.03686161463761816\n",
      "scheme_management                                                  0.0348124273429747\n",
      "source_type                                                       0.03427420291225201\n",
      "season_recorded                                                   0.02047759226735232\n",
      "water_quality                                                     0.01995543843555358\n",
      "permit                                                           0.018895680236907995\n",
      "management_group                                                 0.014200338969645558\n",
      "public_meeting                                                   0.013531491904992315\n"
     ]
    }
   ],
   "source": [
    "# Find relative importance\n",
    "zipped = zip(predictors, model.feature_importances_)\n",
    "my_list = list(zipped)\n",
    "my_list.sort(key=lambda tup: tup[1], reverse=True)\n",
    "print('RandomForestClassifier relative feature importance:')\n",
    "for item in my_list:\n",
    "    print('{0:42} {1:>42}'.format(item[0], item[1]))"
   ]
  },
  {
   "cell_type": "markdown",
   "metadata": {},
   "source": [
    "## Naive Bayes Classifier"
   ]
  },
  {
   "cell_type": "code",
   "execution_count": 324,
   "metadata": {},
   "outputs": [
    {
     "data": {
      "text/html": [
       "<div>\n",
       "<style scoped>\n",
       "    .dataframe tbody tr th:only-of-type {\n",
       "        vertical-align: middle;\n",
       "    }\n",
       "\n",
       "    .dataframe tbody tr th {\n",
       "        vertical-align: top;\n",
       "    }\n",
       "\n",
       "    .dataframe thead th {\n",
       "        text-align: right;\n",
       "    }\n",
       "</style>\n",
       "<table border=\"1\" class=\"dataframe\">\n",
       "  <thead>\n",
       "    <tr style=\"text-align: right;\">\n",
       "      <th></th>\n",
       "      <th>id</th>\n",
       "      <th>date_recorded</th>\n",
       "      <th>season_recorded</th>\n",
       "      <th>gps_height</th>\n",
       "      <th>installer</th>\n",
       "      <th>longitude</th>\n",
       "      <th>latitude</th>\n",
       "      <th>basin</th>\n",
       "      <th>region_code</th>\n",
       "      <th>population</th>\n",
       "      <th>...</th>\n",
       "      <th>construction_year</th>\n",
       "      <th>extraction_type_group</th>\n",
       "      <th>management_group</th>\n",
       "      <th>payment_type</th>\n",
       "      <th>water_quality</th>\n",
       "      <th>quantity_group</th>\n",
       "      <th>source_type</th>\n",
       "      <th>source_class</th>\n",
       "      <th>waterpoint_type_group</th>\n",
       "      <th>status_group</th>\n",
       "    </tr>\n",
       "  </thead>\n",
       "  <tbody>\n",
       "    <tr>\n",
       "      <th>34182</th>\n",
       "      <td>16647</td>\n",
       "      <td>2013.158602</td>\n",
       "      <td>2</td>\n",
       "      <td>2</td>\n",
       "      <td>223</td>\n",
       "      <td>33.517407</td>\n",
       "      <td>-3.239933</td>\n",
       "      <td>4</td>\n",
       "      <td>16</td>\n",
       "      <td>0</td>\n",
       "      <td>...</td>\n",
       "      <td>1995</td>\n",
       "      <td>6</td>\n",
       "      <td>4</td>\n",
       "      <td>4</td>\n",
       "      <td>6</td>\n",
       "      <td>0</td>\n",
       "      <td>5</td>\n",
       "      <td>0</td>\n",
       "      <td>5</td>\n",
       "      <td>2</td>\n",
       "    </tr>\n",
       "    <tr>\n",
       "      <th>15794</th>\n",
       "      <td>4815</td>\n",
       "      <td>2013.099462</td>\n",
       "      <td>2</td>\n",
       "      <td>-49</td>\n",
       "      <td>197</td>\n",
       "      <td>40.145994</td>\n",
       "      <td>-10.309863</td>\n",
       "      <td>7</td>\n",
       "      <td>8</td>\n",
       "      <td>8</td>\n",
       "      <td>...</td>\n",
       "      <td>1980</td>\n",
       "      <td>6</td>\n",
       "      <td>4</td>\n",
       "      <td>2</td>\n",
       "      <td>7</td>\n",
       "      <td>0</td>\n",
       "      <td>5</td>\n",
       "      <td>0</td>\n",
       "      <td>5</td>\n",
       "      <td>2</td>\n",
       "    </tr>\n",
       "    <tr>\n",
       "      <th>35164</th>\n",
       "      <td>25675</td>\n",
       "      <td>2011.252688</td>\n",
       "      <td>1</td>\n",
       "      <td>1</td>\n",
       "      <td>223</td>\n",
       "      <td>33.240410</td>\n",
       "      <td>-8.832590</td>\n",
       "      <td>2</td>\n",
       "      <td>11</td>\n",
       "      <td>0</td>\n",
       "      <td>...</td>\n",
       "      <td>1984</td>\n",
       "      <td>1</td>\n",
       "      <td>4</td>\n",
       "      <td>3</td>\n",
       "      <td>6</td>\n",
       "      <td>0</td>\n",
       "      <td>4</td>\n",
       "      <td>1</td>\n",
       "      <td>1</td>\n",
       "      <td>2</td>\n",
       "    </tr>\n",
       "    <tr>\n",
       "      <th>14131</th>\n",
       "      <td>13088</td>\n",
       "      <td>2012.768817</td>\n",
       "      <td>0</td>\n",
       "      <td>633</td>\n",
       "      <td>157</td>\n",
       "      <td>34.021617</td>\n",
       "      <td>-3.955814</td>\n",
       "      <td>0</td>\n",
       "      <td>16</td>\n",
       "      <td>0</td>\n",
       "      <td>...</td>\n",
       "      <td>2009</td>\n",
       "      <td>1</td>\n",
       "      <td>2</td>\n",
       "      <td>6</td>\n",
       "      <td>6</td>\n",
       "      <td>3</td>\n",
       "      <td>3</td>\n",
       "      <td>1</td>\n",
       "      <td>5</td>\n",
       "      <td>2</td>\n",
       "    </tr>\n",
       "    <tr>\n",
       "      <th>57386</th>\n",
       "      <td>35092</td>\n",
       "      <td>2012.817204</td>\n",
       "      <td>0</td>\n",
       "      <td>1</td>\n",
       "      <td>672</td>\n",
       "      <td>32.397157</td>\n",
       "      <td>-4.782683</td>\n",
       "      <td>3</td>\n",
       "      <td>13</td>\n",
       "      <td>0</td>\n",
       "      <td>...</td>\n",
       "      <td>0</td>\n",
       "      <td>0</td>\n",
       "      <td>4</td>\n",
       "      <td>2</td>\n",
       "      <td>6</td>\n",
       "      <td>2</td>\n",
       "      <td>5</td>\n",
       "      <td>0</td>\n",
       "      <td>3</td>\n",
       "      <td>0</td>\n",
       "    </tr>\n",
       "  </tbody>\n",
       "</table>\n",
       "<p>5 rows × 24 columns</p>\n",
       "</div>"
      ],
      "text/plain": [
       "          id  date_recorded  season_recorded  gps_height  installer  \\\n",
       "34182  16647    2013.158602                2           2        223   \n",
       "15794   4815    2013.099462                2         -49        197   \n",
       "35164  25675    2011.252688                1           1        223   \n",
       "14131  13088    2012.768817                0         633        157   \n",
       "57386  35092    2012.817204                0           1        672   \n",
       "\n",
       "       longitude   latitude  basin  region_code  population      ...       \\\n",
       "34182  33.517407  -3.239933      4           16           0      ...        \n",
       "15794  40.145994 -10.309863      7            8           8      ...        \n",
       "35164  33.240410  -8.832590      2           11           0      ...        \n",
       "14131  34.021617  -3.955814      0           16           0      ...        \n",
       "57386  32.397157  -4.782683      3           13           0      ...        \n",
       "\n",
       "       construction_year  extraction_type_group  management_group  \\\n",
       "34182               1995                      6                 4   \n",
       "15794               1980                      6                 4   \n",
       "35164               1984                      1                 4   \n",
       "14131               2009                      1                 2   \n",
       "57386                  0                      0                 4   \n",
       "\n",
       "       payment_type  water_quality  quantity_group  source_type  source_class  \\\n",
       "34182             4              6               0            5             0   \n",
       "15794             2              7               0            5             0   \n",
       "35164             3              6               0            4             1   \n",
       "14131             6              6               3            3             1   \n",
       "57386             2              6               2            5             0   \n",
       "\n",
       "       waterpoint_type_group  status_group  \n",
       "34182                      5             2  \n",
       "15794                      5             2  \n",
       "35164                      1             2  \n",
       "14131                      5             2  \n",
       "57386                      3             0  \n",
       "\n",
       "[5 rows x 24 columns]"
      ]
     },
     "execution_count": 324,
     "metadata": {},
     "output_type": "execute_result"
    }
   ],
   "source": [
    "df2 = df\n",
    "df2.head()"
   ]
  },
  {
   "cell_type": "code",
   "execution_count": 325,
   "metadata": {},
   "outputs": [
    {
     "data": {
      "text/html": [
       "<div>\n",
       "<style scoped>\n",
       "    .dataframe tbody tr th:only-of-type {\n",
       "        vertical-align: middle;\n",
       "    }\n",
       "\n",
       "    .dataframe tbody tr th {\n",
       "        vertical-align: top;\n",
       "    }\n",
       "\n",
       "    .dataframe thead th {\n",
       "        text-align: right;\n",
       "    }\n",
       "</style>\n",
       "<table border=\"1\" class=\"dataframe\">\n",
       "  <thead>\n",
       "    <tr style=\"text-align: right;\">\n",
       "      <th></th>\n",
       "      <th>season_recorded</th>\n",
       "      <th>gps_height</th>\n",
       "      <th>installer</th>\n",
       "      <th>basin</th>\n",
       "      <th>region_code</th>\n",
       "      <th>population</th>\n",
       "      <th>public_meeting</th>\n",
       "      <th>scheme_management</th>\n",
       "      <th>permit</th>\n",
       "      <th>wpt_age</th>\n",
       "      <th>construction_year</th>\n",
       "      <th>extraction_type_group</th>\n",
       "      <th>management_group</th>\n",
       "      <th>payment_type</th>\n",
       "      <th>water_quality</th>\n",
       "      <th>quantity_group</th>\n",
       "      <th>source_type</th>\n",
       "      <th>waterpoint_type_group</th>\n",
       "    </tr>\n",
       "  </thead>\n",
       "  <tbody>\n",
       "    <tr>\n",
       "      <th>14670</th>\n",
       "      <td>0</td>\n",
       "      <td>1310</td>\n",
       "      <td>223</td>\n",
       "      <td>4</td>\n",
       "      <td>19</td>\n",
       "      <td>2</td>\n",
       "      <td>2</td>\n",
       "      <td>7</td>\n",
       "      <td>0</td>\n",
       "      <td>1.803763</td>\n",
       "      <td>2011</td>\n",
       "      <td>5</td>\n",
       "      <td>4</td>\n",
       "      <td>6</td>\n",
       "      <td>6</td>\n",
       "      <td>1</td>\n",
       "      <td>5</td>\n",
       "      <td>3</td>\n",
       "    </tr>\n",
       "    <tr>\n",
       "      <th>17251</th>\n",
       "      <td>1</td>\n",
       "      <td>2</td>\n",
       "      <td>327</td>\n",
       "      <td>2</td>\n",
       "      <td>11</td>\n",
       "      <td>0</td>\n",
       "      <td>1</td>\n",
       "      <td>7</td>\n",
       "      <td>0</td>\n",
       "      <td>11.271505</td>\n",
       "      <td>2000</td>\n",
       "      <td>5</td>\n",
       "      <td>4</td>\n",
       "      <td>3</td>\n",
       "      <td>6</td>\n",
       "      <td>1</td>\n",
       "      <td>5</td>\n",
       "      <td>3</td>\n",
       "    </tr>\n",
       "    <tr>\n",
       "      <th>27952</th>\n",
       "      <td>2</td>\n",
       "      <td>1734</td>\n",
       "      <td>157</td>\n",
       "      <td>6</td>\n",
       "      <td>10</td>\n",
       "      <td>7</td>\n",
       "      <td>1</td>\n",
       "      <td>7</td>\n",
       "      <td>0</td>\n",
       "      <td>3.145161</td>\n",
       "      <td>2008</td>\n",
       "      <td>1</td>\n",
       "      <td>4</td>\n",
       "      <td>2</td>\n",
       "      <td>6</td>\n",
       "      <td>1</td>\n",
       "      <td>6</td>\n",
       "      <td>1</td>\n",
       "    </tr>\n",
       "    <tr>\n",
       "      <th>3552</th>\n",
       "      <td>2</td>\n",
       "      <td>1503</td>\n",
       "      <td>774</td>\n",
       "      <td>0</td>\n",
       "      <td>12</td>\n",
       "      <td>3</td>\n",
       "      <td>1</td>\n",
       "      <td>7</td>\n",
       "      <td>2</td>\n",
       "      <td>23.129032</td>\n",
       "      <td>1990</td>\n",
       "      <td>5</td>\n",
       "      <td>4</td>\n",
       "      <td>3</td>\n",
       "      <td>6</td>\n",
       "      <td>2</td>\n",
       "      <td>5</td>\n",
       "      <td>3</td>\n",
       "    </tr>\n",
       "    <tr>\n",
       "      <th>19173</th>\n",
       "      <td>1</td>\n",
       "      <td>33</td>\n",
       "      <td>774</td>\n",
       "      <td>8</td>\n",
       "      <td>6</td>\n",
       "      <td>8</td>\n",
       "      <td>2</td>\n",
       "      <td>9</td>\n",
       "      <td>0</td>\n",
       "      <td>23.209677</td>\n",
       "      <td>1990</td>\n",
       "      <td>0</td>\n",
       "      <td>4</td>\n",
       "      <td>2</td>\n",
       "      <td>6</td>\n",
       "      <td>1</td>\n",
       "      <td>5</td>\n",
       "      <td>3</td>\n",
       "    </tr>\n",
       "  </tbody>\n",
       "</table>\n",
       "</div>"
      ],
      "text/plain": [
       "       season_recorded  gps_height  installer  basin  region_code  population  \\\n",
       "14670                0        1310        223      4           19           2   \n",
       "17251                1           2        327      2           11           0   \n",
       "27952                2        1734        157      6           10           7   \n",
       "3552                 2        1503        774      0           12           3   \n",
       "19173                1          33        774      8            6           8   \n",
       "\n",
       "       public_meeting  scheme_management  permit    wpt_age  \\\n",
       "14670               2                  7       0   1.803763   \n",
       "17251               1                  7       0  11.271505   \n",
       "27952               1                  7       0   3.145161   \n",
       "3552                1                  7       2  23.129032   \n",
       "19173               2                  9       0  23.209677   \n",
       "\n",
       "       construction_year  extraction_type_group  management_group  \\\n",
       "14670               2011                      5                 4   \n",
       "17251               2000                      5                 4   \n",
       "27952               2008                      1                 4   \n",
       "3552                1990                      5                 4   \n",
       "19173               1990                      0                 4   \n",
       "\n",
       "       payment_type  water_quality  quantity_group  source_type  \\\n",
       "14670             6              6               1            5   \n",
       "17251             3              6               1            5   \n",
       "27952             2              6               1            6   \n",
       "3552              3              6               2            5   \n",
       "19173             2              6               1            5   \n",
       "\n",
       "       waterpoint_type_group  \n",
       "14670                      3  \n",
       "17251                      3  \n",
       "27952                      1  \n",
       "3552                       3  \n",
       "19173                      3  "
      ]
     },
     "execution_count": 325,
     "metadata": {},
     "output_type": "execute_result"
    }
   ],
   "source": [
    "predictors2 = df2[chosen_predictors]\n",
    "targets2 = df2['status_group']\n",
    "\n",
    "X_train, X_test, y_train, y_test = train_test_split(predictors2, targets2, test_size=.2)\n",
    "X_train.head()"
   ]
  },
  {
   "cell_type": "code",
   "execution_count": 326,
   "metadata": {},
   "outputs": [
    {
     "data": {
      "text/plain": [
       "4643"
      ]
     },
     "execution_count": 326,
     "metadata": {},
     "output_type": "execute_result"
    }
   ],
   "source": [
    "df2['gps_height'].value_counts()[0]"
   ]
  },
  {
   "cell_type": "code",
   "execution_count": 327,
   "metadata": {},
   "outputs": [
    {
     "data": {
      "text/plain": [
       "0.4663299663299663"
      ]
     },
     "execution_count": 327,
     "metadata": {},
     "output_type": "execute_result"
    }
   ],
   "source": [
    "from sklearn.naive_bayes import GaussianNB\n",
    "clf = GaussianNB()\n",
    "clf.fit(X_train, y_train)\n",
    "GaussianNB(priors=None)\n",
    "y_pred = clf.predict(X_test)\n",
    "\n",
    "from sklearn.metrics import accuracy_score\n",
    "accuracy_score(y_test, y_predict)"
   ]
  },
  {
   "cell_type": "markdown",
   "metadata": {},
   "source": [
    "## Results"
   ]
  },
  {
   "cell_type": "markdown",
   "metadata": {},
   "source": [
    "Random seed set at 2 for all except Naive  Bayes Classifier and KNN (where n/a)"
   ]
  },
  {
   "cell_type": "markdown",
   "metadata": {},
   "source": [
    "| Method | Cross-validation | Hold-out set | Accuracy |\n",
    "| ---- | ---- | ---- | ---- |\n",
    "| Naive Bayes | no | yes | 47.7% |\n",
    "| KNN | no | yes | 68.1% |\n",
    "| Decision tree | no | yes | 75.7% |\n",
    "| Decision tree | yes | no | 75.7% |\n",
    "| Decision tree | yes | yes | 76.3% |\n",
    "| Extra tree | no | yes | 79.0% |\n",
    "| Random forest | yes | yes | 81.2% |"
   ]
  },
  {
   "cell_type": "markdown",
   "metadata": {},
   "source": [
    "## How results could be improved\n",
    "> Frequency encoding of variables;<br>\n",
    "> Nearest neighbour for construction year?;<br>\n",
    "> Google Elevation API for missing gps_height;<br>\n",
    "> Smaller train set, perhaps model is over-fitted?  (Look how DTree improved with hold out set, when using cross validation)<br>"
   ]
  },
  {
   "cell_type": "code",
   "execution_count": null,
   "metadata": {},
   "outputs": [],
   "source": []
  }
 ],
 "metadata": {
  "kernelspec": {
   "display_name": "Python 3",
   "language": "python",
   "name": "python3"
  },
  "language_info": {
   "codemirror_mode": {
    "name": "ipython",
    "version": 3
   },
   "file_extension": ".py",
   "mimetype": "text/x-python",
   "name": "python",
   "nbconvert_exporter": "python",
   "pygments_lexer": "ipython3",
   "version": "3.6.5"
  }
 },
 "nbformat": 4,
 "nbformat_minor": 2
}
