{
 "cells": [
  {
   "cell_type": "markdown",
   "metadata": {},
   "source": [
    "# Tanzania - (most) wrangling done"
   ]
  },
  {
   "cell_type": "markdown",
   "metadata": {},
   "source": [
    "Import csv file"
   ]
  },
  {
   "cell_type": "code",
   "execution_count": 1,
   "metadata": {},
   "outputs": [],
   "source": [
    "import numpy as np\n",
    "import pandas as pd\n",
    "import matplotlib as plot\n",
    "import seaborn as sns\n",
    "\n",
    "df = pd.read_csv('/Users/RAhmed/data store/Wesleyan_Capstone/corrected_data04.csv')\n",
    "# df.head()"
   ]
  },
  {
   "cell_type": "markdown",
   "metadata": {},
   "source": [
    "# Get rid of NaNs"
   ]
  },
  {
   "cell_type": "code",
   "execution_count": 2,
   "metadata": {},
   "outputs": [
    {
     "data": {
      "text/plain": [
       "id                       False\n",
       "date_recorded            False\n",
       "season_recorded          False\n",
       "gps_height               False\n",
       "installer                 True\n",
       "longitude                False\n",
       "latitude                 False\n",
       "basin                    False\n",
       "region_code              False\n",
       "population               False\n",
       "public_meeting            True\n",
       "scheme_management         True\n",
       "permit                    True\n",
       "wpt_age                  False\n",
       "construction_year        False\n",
       "extraction_type_group    False\n",
       "management_group         False\n",
       "payment_type             False\n",
       "water_quality            False\n",
       "quantity_group           False\n",
       "source_type              False\n",
       "source_class             False\n",
       "waterpoint_type_group    False\n",
       "status_group             False\n",
       "dtype: bool"
      ]
     },
     "execution_count": 2,
     "metadata": {},
     "output_type": "execute_result"
    }
   ],
   "source": [
    "# check which column has NaNs\n",
    "df.isna().any()"
   ]
  },
  {
   "cell_type": "code",
   "execution_count": 3,
   "metadata": {},
   "outputs": [
    {
     "data": {
      "text/plain": [
       "194"
      ]
     },
     "execution_count": 3,
     "metadata": {},
     "output_type": "execute_result"
    }
   ],
   "source": [
    "df['installer'].isnull().sum()"
   ]
  },
  {
   "cell_type": "code",
   "execution_count": 4,
   "metadata": {},
   "outputs": [
    {
     "data": {
      "text/plain": [
       "7291"
      ]
     },
     "execution_count": 4,
     "metadata": {},
     "output_type": "execute_result"
    }
   ],
   "source": [
    "df['public_meeting'].isnull().sum()"
   ]
  },
  {
   "cell_type": "code",
   "execution_count": 5,
   "metadata": {},
   "outputs": [
    {
     "data": {
      "text/plain": [
       "3143"
      ]
     },
     "execution_count": 5,
     "metadata": {},
     "output_type": "execute_result"
    }
   ],
   "source": [
    "df['scheme_management'].isnull().sum()"
   ]
  },
  {
   "cell_type": "code",
   "execution_count": 6,
   "metadata": {},
   "outputs": [
    {
     "data": {
      "text/plain": [
       "127"
      ]
     },
     "execution_count": 6,
     "metadata": {},
     "output_type": "execute_result"
    }
   ],
   "source": [
    "df['permit'].isnull().sum()"
   ]
  },
  {
   "cell_type": "markdown",
   "metadata": {},
   "source": [
    "There are relatively a lot of NaNs in public_meeting so ignoring these will remove valuable info. Also, the test set is likey to have NaNs, so we need to come up with consistent treatment that will also be used on the test set.  For all of these I will turn NaN into 'unknown'.\n",
    "\n",
    "Test on one example first."
   ]
  },
  {
   "cell_type": "code",
   "execution_count": 7,
   "metadata": {},
   "outputs": [
    {
     "name": "stdout",
     "output_type": "stream",
     "text": [
      "True\n",
      "0\n",
      "194\n"
     ]
    }
   ],
   "source": [
    "df['installer'].fillna(value='unknown', inplace=True)\n",
    "print('unknown' in df.installer.unique())\n",
    "print(df['installer'].isnull().sum())\n",
    "print((df['installer'] == 'unknown').sum())"
   ]
  },
  {
   "cell_type": "markdown",
   "metadata": {},
   "source": [
    "Note that the public_meeting variable is boolean, so this has to be treated differently."
   ]
  },
  {
   "cell_type": "code",
   "execution_count": 8,
   "metadata": {},
   "outputs": [
    {
     "name": "stdout",
     "output_type": "stream",
     "text": [
      "7291\n",
      "True     47359\n",
      "False     4750\n",
      "Name: public_meeting, dtype: int64\n"
     ]
    }
   ],
   "source": [
    "print(df['public_meeting'].isnull().sum())\n",
    "print(df['public_meeting'].value_counts())"
   ]
  },
  {
   "cell_type": "code",
   "execution_count": 9,
   "metadata": {},
   "outputs": [
    {
     "name": "stdout",
     "output_type": "stream",
     "text": [
      "1    47359\n",
      "2     7291\n",
      "0     4750\n",
      "Name: public_meeting, dtype: int64\n"
     ]
    }
   ],
   "source": [
    "def bool_converter(bool):\n",
    "    if bool == False:\n",
    "        return 0\n",
    "    elif bool == True:\n",
    "        return 1\n",
    "    else: \n",
    "        return 2\n",
    "\n",
    "df['public_meeting'] = df['public_meeting'].apply(bool_converter)\n",
    "print(df['public_meeting'].value_counts())"
   ]
  },
  {
   "cell_type": "markdown",
   "metadata": {},
   "source": [
    "scheme_management can be done in non-boolean fashion, like installer, above."
   ]
  },
  {
   "cell_type": "code",
   "execution_count": 10,
   "metadata": {},
   "outputs": [
    {
     "name": "stdout",
     "output_type": "stream",
     "text": [
      "True\n",
      "0\n",
      "3143\n"
     ]
    }
   ],
   "source": [
    "df['scheme_management'].fillna(value='unknown', inplace=True)\n",
    "print('unknown' in df.scheme_management.unique())\n",
    "print(df['scheme_management'].isnull().sum())\n",
    "print((df['scheme_management'] == 'unknown').sum())"
   ]
  },
  {
   "cell_type": "code",
   "execution_count": 11,
   "metadata": {},
   "outputs": [
    {
     "name": "stdout",
     "output_type": "stream",
     "text": [
      "1    37492\n",
      "0    21781\n",
      "2      127\n",
      "Name: permit, dtype: int64\n"
     ]
    }
   ],
   "source": [
    "df['permit'] = df['permit'].apply(bool_converter)\n",
    "print(df['permit'].value_counts())"
   ]
  },
  {
   "cell_type": "markdown",
   "metadata": {},
   "source": [
    "# Make categorical again!"
   ]
  },
  {
   "cell_type": "markdown",
   "metadata": {},
   "source": [
    "Needs to be done as I have a fresh read-in of file"
   ]
  },
  {
   "cell_type": "code",
   "execution_count": 256,
   "metadata": {},
   "outputs": [],
   "source": [
    "# df.columns"
   ]
  },
  {
   "cell_type": "code",
   "execution_count": 255,
   "metadata": {},
   "outputs": [],
   "source": [
    "# for item in categories:\n",
    "#     df[item] = df[item].astype('category')\n",
    "# check types\n",
    "# df.dtypes"
   ]
  },
  {
   "cell_type": "markdown",
   "metadata": {},
   "source": [
    "# Exploratory Data Analysis"
   ]
  },
  {
   "cell_type": "markdown",
   "metadata": {},
   "source": [
    "Explore using Roland Jeannier's function"
   ]
  },
  {
   "cell_type": "code",
   "execution_count": 12,
   "metadata": {},
   "outputs": [],
   "source": [
    "def eda_helper(df):\n",
    "   dict_list = []\n",
    "   for col in df.columns:\n",
    "       data = df[col]\n",
    "       dict_ = {}\n",
    "       # The null count for a column. \n",
    "       dict_.update({\"null_count\" : data.isnull().sum()})\n",
    "       # Counting the unique values in a column\n",
    "       dict_.update({\"unique_count\" : len(data.unique())})\n",
    "       # Finding the types of data in the column\n",
    "       # This is useful for finding out potential problems with type mismatches\n",
    "       dict_.update({\"data_type\" : set([type(d).__name__ for d in data])})\n",
    "       #dict_.update({\"score\" : match[1]})\n",
    "       dict_list.append(dict_)\n",
    "   eda_df = pd.DataFrame(dict_list)\n",
    "   eda_df.index = df.columns\n",
    "   eda_df.sort_values(by=['null_count', 'unique_count'], ascending=[True, False], inplace=True)\n",
    "       \n",
    "   return eda_df"
   ]
  },
  {
   "cell_type": "code",
   "execution_count": 13,
   "metadata": {},
   "outputs": [
    {
     "name": "stdout",
     "output_type": "stream",
     "text": [
      "                      data_type  null_count  unique_count\n",
      "id                        {int}           0          9400\n",
      "longitude               {float}           0          7589\n",
      "latitude                {float}           0          7589\n",
      "gps_height                {int}           0          1580\n",
      "wpt_age                 {float}           0          1274\n",
      "installer                 {str}           0           219\n",
      "date_recorded           {float}           0           184\n",
      "construction_year       {float}           0           165\n",
      "extraction_type_group     {str}           0            12\n",
      "region_code               {int}           0            11\n",
      "scheme_management         {str}           0            11\n",
      "population                {str}           0             9\n",
      "water_quality             {str}           0             8\n",
      "payment_type              {str}           0             7\n",
      "source_type               {str}           0             7\n",
      "basin                     {str}           0             5\n",
      "management_group          {str}           0             5\n",
      "quantity_group            {str}           0             5\n",
      "season_recorded           {str}           0             4\n",
      "waterpoint_type_group     {str}           0             4\n",
      "public_meeting            {int}           0             3\n",
      "permit                    {int}           0             3\n",
      "source_class              {str}           0             3\n",
      "status_group              {str}           0             3\n"
     ]
    }
   ],
   "source": [
    "print(eda_helper(df))"
   ]
  },
  {
   "cell_type": "markdown",
   "metadata": {},
   "source": [
    "Make the right variables categorical"
   ]
  },
  {
   "cell_type": "code",
   "execution_count": 257,
   "metadata": {},
   "outputs": [],
   "source": [
    "# categories = {'extraction_type_group', 'region_code', 'population', 'water_quality',\n",
    "#              'payment_type', 'source_type', 'basin', 'management_group', 'quantity_group',\n",
    "#               'season_recorded', 'waterpoint_type_group', 'source_class','status_group', 'permit',\n",
    "#               'installer', 'scheme_management', 'public_meeting'\n",
    "#              }\n",
    "# for item in categories:\n",
    "#     df[item] = df[item].astype('category')\n",
    "# # check types\n",
    "# df.dtypes"
   ]
  },
  {
   "cell_type": "code",
   "execution_count": 16,
   "metadata": {},
   "outputs": [
    {
     "data": {
      "text/plain": [
       "2013.924731182796"
      ]
     },
     "execution_count": 16,
     "metadata": {},
     "output_type": "execute_result"
    }
   ],
   "source": [
    "max(df['date_recorded'])"
   ]
  },
  {
   "cell_type": "code",
   "execution_count": 17,
   "metadata": {},
   "outputs": [
    {
     "data": {
      "text/plain": [
       "2004.1693548387095"
      ]
     },
     "execution_count": 17,
     "metadata": {},
     "output_type": "execute_result"
    }
   ],
   "source": [
    "min(df['date_recorded'])"
   ]
  },
  {
   "cell_type": "markdown",
   "metadata": {},
   "source": [
    "# Initial looks at categorical variables"
   ]
  },
  {
   "cell_type": "code",
   "execution_count": 260,
   "metadata": {},
   "outputs": [
    {
     "data": {
      "text/plain": [
       "short_dry      46170\n",
       "long_dry        6483\n",
       "long_rainy      5749\n",
       "short_rainy      998\n",
       "Name: season_recorded, dtype: int64"
      ]
     },
     "execution_count": 260,
     "metadata": {},
     "output_type": "execute_result"
    }
   ],
   "source": [
    "df['season_recorded'].value_counts()"
   ]
  },
  {
   "cell_type": "code",
   "execution_count": 261,
   "metadata": {},
   "outputs": [
    {
     "data": {
      "text/plain": [
       "DWE                          11013\n",
       "Fin Water                     9449\n",
       "DANIDA                        8162\n",
       "LGA                           4477\n",
       "Government                    3637\n",
       "UNICEF                        2651\n",
       "Japan Government              1991\n",
       "TASAF                         1632\n",
       "District Water Department     1430\n",
       "Amref                         1254\n",
       "MWE                           1034\n",
       "Region Water Department       1023\n",
       "District Council               935\n",
       "Mission                        451\n",
       "GEN                            429\n",
       "MBIUWASA                       385\n",
       "VWC                            352\n",
       "KIUMA                          352\n",
       "Hesawa                         343\n",
       "CJEJOW                         341\n",
       "Makonde                        341\n",
       "ABASIA                         319\n",
       "MTUWASA                        286\n",
       "wanan                          253\n",
       "Ndanda missions                242\n",
       "WORLD BANK                     241\n",
       "Private                        222\n",
       "Individuals                    220\n",
       "SOWASA                         209\n",
       "Kokeni                         198\n",
       "                             ...  \n",
       "ANGRIKANA                        4\n",
       "GRA                              4\n",
       "Nyamongo Gold mining             4\n",
       "Institution                      3\n",
       "WWF                              3\n",
       "RIDEP                            3\n",
       "Hindu                            3\n",
       "Geita Goldmain                   3\n",
       "SW                               3\n",
       "Kanisa                           3\n",
       "Presadom                         3\n",
       "RE                               3\n",
       "PART                             3\n",
       "ASDP                             2\n",
       "Makuru                           2\n",
       "Ar                               2\n",
       "CSPD                             2\n",
       "Mwigicho                         2\n",
       "Halmashauri ya wilaya            2\n",
       "Mwita Muremi                     2\n",
       "TUKWALE ENTERP                   2\n",
       "DDP                              2\n",
       "Mataro                           2\n",
       "Maro                             2\n",
       "Secondary                        2\n",
       "APM                              2\n",
       "Juma Maro                        2\n",
       "YELL LTD                         2\n",
       "Martha Emanuel                   2\n",
       "Elias Mahemba                    2\n",
       "Name: installer, Length: 219, dtype: int64"
      ]
     },
     "execution_count": 261,
     "metadata": {},
     "output_type": "execute_result"
    }
   ],
   "source": [
    "df['installer'].value_counts()"
   ]
  },
  {
   "cell_type": "code",
   "execution_count": 262,
   "metadata": {},
   "outputs": [
    {
     "data": {
      "text/plain": [
       "219"
      ]
     },
     "execution_count": 262,
     "metadata": {},
     "output_type": "execute_result"
    }
   ],
   "source": [
    "df['installer'].nunique()"
   ]
  },
  {
   "cell_type": "code",
   "execution_count": 263,
   "metadata": {},
   "outputs": [
    {
     "data": {
      "text/plain": [
       "Ruvuma / Southern Coast    40843\n",
       "Lake Nyasa                 11330\n",
       "Lake Victoria               4301\n",
       "Rufiji                      2827\n",
       "Lake Tanganyika               99\n",
       "Name: basin, dtype: int64"
      ]
     },
     "execution_count": 263,
     "metadata": {},
     "output_type": "execute_result"
    }
   ],
   "source": [
    "df['basin'].value_counts()"
   ]
  },
  {
   "cell_type": "markdown",
   "metadata": {},
   "source": [
    "Previously the number of unique installer was 466"
   ]
  },
  {
   "cell_type": "code",
   "execution_count": 264,
   "metadata": {},
   "outputs": [
    {
     "data": {
      "text/plain": [
       "10    27401\n",
       "90    10087\n",
       "99     4653\n",
       "9      4290\n",
       "80     4114\n",
       "8      3245\n",
       "18     1752\n",
       "11     1136\n",
       "17     1057\n",
       "20      910\n",
       "19      755\n",
       "Name: region_code, dtype: int64"
      ]
     },
     "execution_count": 264,
     "metadata": {},
     "output_type": "execute_result"
    }
   ],
   "source": [
    "df['region_code'].value_counts()        "
   ]
  },
  {
   "cell_type": "code",
   "execution_count": 265,
   "metadata": {},
   "outputs": [
    {
     "data": {
      "text/plain": [
       "100      20505\n",
       "1        12574\n",
       "500       9340\n",
       "0         7491\n",
       "1000      5417\n",
       "1000+     2094\n",
       "50        1622\n",
       "30         307\n",
       "20          50\n",
       "Name: population, dtype: int64"
      ]
     },
     "execution_count": 265,
     "metadata": {},
     "output_type": "execute_result"
    }
   ],
   "source": [
    "df['population'].value_counts()"
   ]
  },
  {
   "cell_type": "code",
   "execution_count": 266,
   "metadata": {},
   "outputs": [
    {
     "data": {
      "text/plain": [
       "1    47359\n",
       "2     7291\n",
       "0     4750\n",
       "Name: public_meeting, dtype: int64"
      ]
     },
     "execution_count": 266,
     "metadata": {},
     "output_type": "execute_result"
    }
   ],
   "source": [
    "df['public_meeting'].value_counts()"
   ]
  },
  {
   "cell_type": "code",
   "execution_count": 267,
   "metadata": {},
   "outputs": [
    {
     "data": {
      "text/plain": [
       "VWC                 43259\n",
       "WUG                  5943\n",
       "Water Board          3169\n",
       "unknown              3143\n",
       "Other                1125\n",
       "WUA                  1018\n",
       "Parastatal            875\n",
       "Private operator      503\n",
       "Water authority       332\n",
       "Trust                  22\n",
       "Company                11\n",
       "Name: scheme_management, dtype: int64"
      ]
     },
     "execution_count": 267,
     "metadata": {},
     "output_type": "execute_result"
    }
   ],
   "source": [
    "df['scheme_management'].value_counts()"
   ]
  },
  {
   "cell_type": "code",
   "execution_count": 268,
   "metadata": {},
   "outputs": [
    {
     "data": {
      "text/plain": [
       "1    37492\n",
       "0    21781\n",
       "2      127\n",
       "Name: permit, dtype: int64"
      ]
     },
     "execution_count": 268,
     "metadata": {},
     "output_type": "execute_result"
    }
   ],
   "source": [
    "df['permit'].value_counts()"
   ]
  },
  {
   "cell_type": "code",
   "execution_count": 269,
   "metadata": {},
   "outputs": [
    {
     "data": {
      "text/plain": [
       "gravity            22450\n",
       "submersible         9307\n",
       "other               8661\n",
       "swn 80              5262\n",
       "india mark ii       5232\n",
       "nira/tanira         4190\n",
       "mono                2496\n",
       "other handpump      1122\n",
       "afridev              280\n",
       "india mark iii       194\n",
       "rope pump            189\n",
       "other motorpump       17\n",
       "Name: extraction_type_group, dtype: int64"
      ]
     },
     "execution_count": 269,
     "metadata": {},
     "output_type": "execute_result"
    }
   ],
   "source": [
    "df['extraction_type_group'].value_counts()"
   ]
  },
  {
   "cell_type": "code",
   "execution_count": 270,
   "metadata": {},
   "outputs": [
    {
     "data": {
      "text/plain": [
       "user-group    54727\n",
       "parastatal     1556\n",
       "other          1210\n",
       "commercial     1046\n",
       "unknown         861\n",
       "Name: management_group, dtype: int64"
      ]
     },
     "execution_count": 270,
     "metadata": {},
     "output_type": "execute_result"
    }
   ],
   "source": [
    "df['management_group'].value_counts()"
   ]
  },
  {
   "cell_type": "code",
   "execution_count": 271,
   "metadata": {},
   "outputs": [
    {
     "data": {
      "text/plain": [
       "never pay     17050\n",
       "per bucket    11834\n",
       "unknown       11196\n",
       "monthly        8554\n",
       "on failure     5301\n",
       "annually       4821\n",
       "other           644\n",
       "Name: payment_type, dtype: int64"
      ]
     },
     "execution_count": 271,
     "metadata": {},
     "output_type": "execute_result"
    }
   ],
   "source": [
    "df['payment_type'].value_counts()"
   ]
  },
  {
   "cell_type": "code",
   "execution_count": 272,
   "metadata": {},
   "outputs": [
    {
     "data": {
      "text/plain": [
       "soft                  49842\n",
       "salty                  5904\n",
       "unknown                2507\n",
       "milky                   498\n",
       "coloured                355\n",
       "salty abandoned         267\n",
       "fluoride                 25\n",
       "fluoride abandoned        2\n",
       "Name: water_quality, dtype: int64"
      ]
     },
     "execution_count": 272,
     "metadata": {},
     "output_type": "execute_result"
    }
   ],
   "source": [
    "df['water_quality'].value_counts()"
   ]
  },
  {
   "cell_type": "code",
   "execution_count": 273,
   "metadata": {},
   "outputs": [
    {
     "data": {
      "text/plain": [
       "enough          27363\n",
       "dry             15174\n",
       "insufficient    11294\n",
       "seasonal         4925\n",
       "unknown           644\n",
       "Name: quantity_group, dtype: int64"
      ]
     },
     "execution_count": 273,
     "metadata": {},
     "output_type": "execute_result"
    }
   ],
   "source": [
    "df['quantity_group'].value_counts()"
   ]
  },
  {
   "cell_type": "code",
   "execution_count": 274,
   "metadata": {},
   "outputs": [
    {
     "data": {
      "text/plain": [
       "borehole                18560\n",
       "shallow well            15991\n",
       "spring                  14033\n",
       "river/lake               9338\n",
       "rainwater harvesting      990\n",
       "dam                       391\n",
       "other                      97\n",
       "Name: source_type, dtype: int64"
      ]
     },
     "execution_count": 274,
     "metadata": {},
     "output_type": "execute_result"
    }
   ],
   "source": [
    "df['source_type'].value_counts()"
   ]
  },
  {
   "cell_type": "code",
   "execution_count": 275,
   "metadata": {},
   "outputs": [
    {
     "data": {
      "text/plain": [
       "groundwater    48584\n",
       "surface        10719\n",
       "unknown           97\n",
       "Name: source_class, dtype: int64"
      ]
     },
     "execution_count": 275,
     "metadata": {},
     "output_type": "execute_result"
    }
   ],
   "source": [
    "df['source_class'].value_counts()"
   ]
  },
  {
   "cell_type": "code",
   "execution_count": 276,
   "metadata": {},
   "outputs": [
    {
     "data": {
      "text/plain": [
       "communal standpipe    34358\n",
       "hand pump             16871\n",
       "other                  7741\n",
       "improved spring         430\n",
       "Name: waterpoint_type_group, dtype: int64"
      ]
     },
     "execution_count": 276,
     "metadata": {},
     "output_type": "execute_result"
    }
   ],
   "source": [
    "df['waterpoint_type_group'].value_counts()"
   ]
  },
  {
   "cell_type": "code",
   "execution_count": 277,
   "metadata": {},
   "outputs": [
    {
     "data": {
      "text/plain": [
       "non functional             29728\n",
       "functional                 25578\n",
       "functional needs repair     4094\n",
       "Name: status_group, dtype: int64"
      ]
     },
     "execution_count": 277,
     "metadata": {},
     "output_type": "execute_result"
    }
   ],
   "source": [
    "df['status_group'].value_counts()"
   ]
  },
  {
   "cell_type": "markdown",
   "metadata": {},
   "source": [
    "# Graphical look at categorical variables"
   ]
  },
  {
   "cell_type": "markdown",
   "metadata": {},
   "source": [
    "Won't do for installer, too many categories"
   ]
  },
  {
   "cell_type": "code",
   "execution_count": 99,
   "metadata": {},
   "outputs": [
    {
     "data": {
      "image/png": "[encoded data removed]",
      "text/plain": [
       "<Figure size 432x72 with 1 Axes>"
      ]
     },
     "metadata": {},
     "output_type": "display_data"
    }
   ],
   "source": [
    "flatui = [\"#9b59b6\", \"#3498db\", \"#95a5a6\", \"#e74c3c\", \"#34495e\", \"#2ecc71\"]\n",
    "sns.set_palette(flatui)\n",
    "sns.palplot(sns.color_palette())"
   ]
  },
  {
   "cell_type": "code",
   "execution_count": 41,
   "metadata": {},
   "outputs": [
    {
     "data": {
      "image/png": "[encoded data removed]",
      "text/plain": [
       "<Figure size 432x288 with 1 Axes>"
      ]
     },
     "metadata": {},
     "output_type": "display_data"
    }
   ],
   "source": [
    "sns.set_style(\"whitegrid\")\n",
    "\n",
    "ax = sns.countplot(x='season_recorded', hue='status_group', data=df)\n",
    "ax.tick_params(labelsize=5)\n",
    "ax.set_xlabel('season_recorded',fontsize=10)\n",
    "# ax.figure.savefig('ax_season_recorded.png', dpi = 1000)"
   ]
  },
  {
   "cell_type": "code",
   "execution_count": 42,
   "metadata": {},
   "outputs": [
    {
     "data": {
      "image/png": "[encoded data removed]",
      "text/plain": [
       "<Figure size 432x288 with 1 Axes>"
      ]
     },
     "metadata": {},
     "output_type": "display_data"
    }
   ],
   "source": [
    "ax = sns.countplot(x='basin', hue='status_group', data=df)\n",
    "ax.tick_params(labelsize=5)\n",
    "ax.set_xlabel('basin',fontsize=10)\n",
    "# ax.figure.savefig('ax_basin.png', dpi = 1000)"
   ]
  },
  {
   "cell_type": "code",
   "execution_count": 43,
   "metadata": {},
   "outputs": [
    {
     "data": {
      "image/png": "[encoded data removed]",
      "text/plain": [
       "<Figure size 432x288 with 1 Axes>"
      ]
     },
     "metadata": {},
     "output_type": "display_data"
    }
   ],
   "source": [
    "ax = sns.countplot(x='region_code', hue='status_group', data=df)\n",
    "ax.tick_params(labelsize=5)\n",
    "ax.set_xlabel('region_code',fontsize=10)\n",
    "# ax.figure.savefig('ax_region_code.png', dpi = 1000)"
   ]
  },
  {
   "cell_type": "code",
   "execution_count": 44,
   "metadata": {},
   "outputs": [
    {
     "data": {
      "image/png": "[encoded data removed]",
      "text/plain": [
       "<Figure size 432x288 with 1 Axes>"
      ]
     },
     "metadata": {},
     "output_type": "display_data"
    }
   ],
   "source": [
    "ax = sns.countplot(x='population', hue='status_group', data=df)\n",
    "ax.tick_params(labelsize=5)\n",
    "ax.set_xlabel('population',fontsize=10)\n",
    "# ax.figure.savefig('ax_population.png', dpi = 1000)"
   ]
  },
  {
   "cell_type": "code",
   "execution_count": 45,
   "metadata": {},
   "outputs": [
    {
     "data": {
      "image/png": "[encoded data removed]",
      "text/plain": [
       "<Figure size 432x288 with 1 Axes>"
      ]
     },
     "metadata": {},
     "output_type": "display_data"
    }
   ],
   "source": [
    "ax = sns.countplot(x='public_meeting', hue='status_group', data=df)\n",
    "ax.tick_params(labelsize=5)\n",
    "ax.set_xlabel('public_meeting',fontsize=10)\n",
    "# ax.figure.savefig('ax_public_meeting.png', dpi = 1000)"
   ]
  },
  {
   "cell_type": "code",
   "execution_count": 46,
   "metadata": {},
   "outputs": [
    {
     "data": {
      "image/png": "[encoded data removed]",
      "text/plain": [
       "<Figure size 432x288 with 1 Axes>"
      ]
     },
     "metadata": {},
     "output_type": "display_data"
    }
   ],
   "source": [
    "ax = sns.countplot(x='scheme_management', hue='status_group', data=df)\n",
    "ax.tick_params(labelsize=5)\n",
    "ax.set_xlabel('scheme_management',fontsize=10)\n",
    "ax.legend(loc='upper left')\n",
    "# ax.figure.savefig('ax_scheme_management.png', dpi = 1000)"
   ]
  },
  {
   "cell_type": "code",
   "execution_count": 47,
   "metadata": {},
   "outputs": [
    {
     "data": {
      "image/png": "[encoded data removed]",
      "text/plain": [
       "<Figure size 432x288 with 1 Axes>"
      ]
     },
     "metadata": {},
     "output_type": "display_data"
    }
   ],
   "source": [
    "ax = sns.countplot(x='permit', hue='status_group', data=df)\n",
    "ax.tick_params(labelsize=5)\n",
    "ax.set_xlabel('permit',fontsize=10)\n",
    "# ax.figure.savefig('ax_permit.png', dpi = 1000)"
   ]
  },
  {
   "cell_type": "code",
   "execution_count": 48,
   "metadata": {},
   "outputs": [
    {
     "data": {
      "image/png": "[encoded data removed]",
      "text/plain": [
       "<Figure size 432x288 with 1 Axes>"
      ]
     },
     "metadata": {},
     "output_type": "display_data"
    }
   ],
   "source": [
    "ax = sns.countplot(x='extraction_type_group', hue='status_group', data=df)\n",
    "ax.tick_params(labelsize=5)\n",
    "ax.set_xlabel('extraction_type_group',fontsize=10)\n",
    "# ax.figure.savefig('ax_extraction_type_group.png', dpi = 1000)"
   ]
  },
  {
   "cell_type": "code",
   "execution_count": 49,
   "metadata": {},
   "outputs": [
    {
     "data": {
      "image/png": "[encoded data removed]",
      "text/plain": [
       "<Figure size 432x288 with 1 Axes>"
      ]
     },
     "metadata": {},
     "output_type": "display_data"
    }
   ],
   "source": [
    "ax = sns.countplot(x='management_group', hue='status_group', data=df)\n",
    "ax.tick_params(labelsize=5)\n",
    "ax.set_xlabel('management_group',fontsize=10)\n",
    "# ax.figure.savefig('ax_management_group.png', dpi = 1000)"
   ]
  },
  {
   "cell_type": "code",
   "execution_count": 50,
   "metadata": {},
   "outputs": [
    {
     "data": {
      "image/png": "[encoded data removed]",
      "text/plain": [
       "<Figure size 432x288 with 1 Axes>"
      ]
     },
     "metadata": {},
     "output_type": "display_data"
    }
   ],
   "source": [
    "ax = sns.countplot(x='payment_type', hue='status_group', data=df)\n",
    "ax.tick_params(labelsize=5)\n",
    "ax.set_xlabel('payment_type',fontsize=10)\n",
    "# ax.figure.savefig('ax_payment_type.png', dpi = 1000)"
   ]
  },
  {
   "cell_type": "code",
   "execution_count": 51,
   "metadata": {},
   "outputs": [
    {
     "data": {
      "image/png": "[encoded data removed]",
      "text/plain": [
       "<Figure size 432x288 with 1 Axes>"
      ]
     },
     "metadata": {},
     "output_type": "display_data"
    }
   ],
   "source": [
    "ax = sns.countplot(x='water_quality', hue='status_group', data=df)\n",
    "ax.tick_params(labelsize=5)\n",
    "ax.set_xlabel('water_qualit',fontsize=10)\n",
    "ax.legend(loc='upper left')\n",
    "# ax.figure.savefig('ax_water_quality.png', dpi = 1000)"
   ]
  },
  {
   "cell_type": "code",
   "execution_count": 52,
   "metadata": {},
   "outputs": [
    {
     "data": {
      "image/png": "[encoded data removed]",
      "text/plain": [
       "<Figure size 432x288 with 1 Axes>"
      ]
     },
     "metadata": {},
     "output_type": "display_data"
    }
   ],
   "source": [
    "ax = sns.countplot(x='quantity_group', hue='status_group', data=df)\n",
    "ax.tick_params(labelsize=5)\n",
    "ax.set_xlabel('quantity_group',fontsize=10)\n",
    "# ax.figure.savefig('ax_quantity_group.png', dpi = 1000)"
   ]
  },
  {
   "cell_type": "code",
   "execution_count": 53,
   "metadata": {},
   "outputs": [
    {
     "data": {
      "image/png": "[encoded data removed]",
      "text/plain": [
       "<Figure size 432x288 with 1 Axes>"
      ]
     },
     "metadata": {},
     "output_type": "display_data"
    }
   ],
   "source": [
    "ax = sns.countplot(x='water_quality', hue='status_group', data=df)\n",
    "ax.tick_params(labelsize=5)\n",
    "ax.set_xlabel('payment_type',fontsize=10)\n",
    "ax.legend(loc='upper left')\n",
    "# ax.figure.savefig('ax_payment_type.png', dpi = 1000)"
   ]
  },
  {
   "cell_type": "code",
   "execution_count": 54,
   "metadata": {},
   "outputs": [
    {
     "data": {
      "image/png": "[encoded data removed]",
      "text/plain": [
       "<Figure size 432x288 with 1 Axes>"
      ]
     },
     "metadata": {},
     "output_type": "display_data"
    }
   ],
   "source": [
    "ax = sns.countplot(x='source_type', hue='status_group', data=df)\n",
    "ax.tick_params(labelsize=5)\n",
    "ax.set_xlabel('source_type',fontsize=10)\n",
    "ax.legend(loc='upper center')\n",
    "# ax.figure.savefig('ax_source_type.png', dpi = 1000)"
   ]
  },
  {
   "cell_type": "code",
   "execution_count": 55,
   "metadata": {},
   "outputs": [
    {
     "data": {
      "image/png": "[encoded data removed]",
      "text/plain": [
       "<Figure size 432x288 with 1 Axes>"
      ]
     },
     "metadata": {},
     "output_type": "display_data"
    }
   ],
   "source": [
    "ax = sns.countplot(x='source_class', hue='status_group', data=df)\n",
    "ax.tick_params(labelsize=5)\n",
    "ax.set_xlabel('source_class',fontsize=10)\n",
    "# ax.figure.savefig('ax_source_class.png', dpi = 1000)"
   ]
  },
  {
   "cell_type": "code",
   "execution_count": 100,
   "metadata": {},
   "outputs": [
    {
     "data": {
      "text/plain": [
       "Text(0.5,0,'waterpoint_type_group')"
      ]
     },
     "execution_count": 100,
     "metadata": {},
     "output_type": "execute_result"
    },
    {
     "data": {
      "image/png": "[encoded data removed]",
      "text/plain": [
       "<Figure size 432x288 with 1 Axes>"
      ]
     },
     "metadata": {},
     "output_type": "display_data"
    }
   ],
   "source": [
    "ax = sns.countplot(x='waterpoint_type_group', hue='status_group', data=df)\n",
    "ax.tick_params(labelsize=5)\n",
    "ax.set_xlabel('waterpoint_type_group',fontsize=10)\n",
    "# ax.figure.savefig('ax_waterpoint_type_group', dpi = 1000)"
   ]
  },
  {
   "cell_type": "code",
   "execution_count": 57,
   "metadata": {},
   "outputs": [
    {
     "data": {
      "image/png": "[encoded data removed]",
      "text/plain": [
       "<Figure size 432x288 with 1 Axes>"
      ]
     },
     "metadata": {},
     "output_type": "display_data"
    }
   ],
   "source": [
    "ax = sns.stripplot(x=\"status_group\", y=\"gps_height\", data=df, jitter=False, order=[ \"non functional\", \"functional needs repair\", \"functional\"])\n",
    "# ax.figure.savefig('ax_gps_height', dpi = 1000)"
   ]
  },
  {
   "cell_type": "code",
   "execution_count": 58,
   "metadata": {},
   "outputs": [
    {
     "data": {
      "image/png": "[encoded data removed]",
      "text/plain": [
       "<Figure size 432x288 with 1 Axes>"
      ]
     },
     "metadata": {},
     "output_type": "display_data"
    }
   ],
   "source": [
    "ax = sns.violinplot(x=\"status_group\", y='construction_year', data=df, order=[ \"non functional\", \"functional needs repair\", \"functional\"])\n",
    "# ax.figure.savefig('ax_construction_year', dpi = 1000)"
   ]
  },
  {
   "cell_type": "code",
   "execution_count": 59,
   "metadata": {},
   "outputs": [
    {
     "data": {
      "image/png": "[encoded data removed]",
      "text/plain": [
       "<Figure size 432x288 with 1 Axes>"
      ]
     },
     "metadata": {},
     "output_type": "display_data"
    }
   ],
   "source": [
    "ax = sns.violinplot(x=\"status_group\", y='wpt_age', data=df, order=[ \"non functional\", \"functional needs repair\", \"functional\"])\n",
    "# ax.figure.savefig('ax_wpt_age', dpi = 1000)"
   ]
  },
  {
   "cell_type": "markdown",
   "metadata": {},
   "source": [
    "# Tanzania - data analysis"
   ]
  },
  {
   "cell_type": "code",
   "execution_count": 14,
   "metadata": {},
   "outputs": [],
   "source": [
    "import matplotlib.pylab as plt\n",
    "from sklearn.model_selection import train_test_split\n",
    "from sklearn.tree import DecisionTreeClassifier\n",
    "from sklearn.metrics import classification_report\n",
    "import sklearn.metrics"
   ]
  },
  {
   "cell_type": "markdown",
   "metadata": {},
   "source": [
    "Sklearn decision trees and random forests need categorical data changed into integers.\n",
    "See, e.g,: https://stackoverflow.com/questions/38108832/passing-categorical-data-to-sklearn-decision-tree\n",
    "\n",
    "Booleans were already tackled in the Get rid of NaNs section with a home-made function.\n",
    "\n",
    "Since the sklearn preprocessing using LabelEncoder doesn't seem t want to work, I'll convert the remaining (non-Boolean) variables \n",
    ", the sklearn own preprocessing does not work.\n"
   ]
  },
  {
   "cell_type": "code",
   "execution_count": 15,
   "metadata": {},
   "outputs": [
    {
     "data": {
      "text/plain": [
       "Index(['id', 'date_recorded', 'season_recorded', 'gps_height', 'installer',\n",
       "       'longitude', 'latitude', 'basin', 'region_code', 'population',\n",
       "       'public_meeting', 'scheme_management', 'permit', 'wpt_age',\n",
       "       'construction_year', 'extraction_type_group', 'management_group',\n",
       "       'payment_type', 'water_quality', 'quantity_group', 'source_type',\n",
       "       'source_class', 'waterpoint_type_group', 'status_group'],\n",
       "      dtype='object')"
      ]
     },
     "execution_count": 15,
     "metadata": {},
     "output_type": "execute_result"
    }
   ],
   "source": [
    "df.columns"
   ]
  },
  {
   "cell_type": "code",
   "execution_count": 16,
   "metadata": {},
   "outputs": [],
   "source": [
    "# these will be encoded by sklearn LabelEncoder\n",
    "nonbool_cat_vars = {'id', 'season_recorded', 'installer', 'basin', 'region_code', \n",
    "                    'population', 'scheme_management', 'extraction_type_group', \n",
    "                    'management_group','payment_type', 'water_quality', 'quantity_group', \n",
    "                    'source_type', 'source_class', 'waterpoint_type_group', 'status_group'\n",
    "                   }"
   ]
  },
  {
   "cell_type": "code",
   "execution_count": 17,
   "metadata": {},
   "outputs": [
    {
     "data": {
      "text/plain": [
       "{'afridev': 0,\n",
       " 'gravity': 1,\n",
       " 'india mark ii': 2,\n",
       " 'india mark iii': 3,\n",
       " 'mono': 4,\n",
       " 'nira/tanira': 5,\n",
       " 'other': 6,\n",
       " 'other handpump': 7,\n",
       " 'other motorpump': 8,\n",
       " 'rope pump': 9,\n",
       " 'submersible': 10,\n",
       " 'swn 80': 11}"
      ]
     },
     "execution_count": 17,
     "metadata": {},
     "output_type": "execute_result"
    }
   ],
   "source": [
    "# create a mapping dict\n",
    "# to convert class labels from strings to integers\n",
    "class_mapping = {label: idx for idx, label in enumerate(np.unique(df['extraction_type_group']))}\n",
    "class_mapping"
   ]
  },
  {
   "cell_type": "code",
   "execution_count": 18,
   "metadata": {},
   "outputs": [
    {
     "name": "stdout",
     "output_type": "stream",
     "text": [
      "[2 2 2 ... 2 2 0]\n"
     ]
    }
   ],
   "source": [
    "from sklearn.preprocessing import LabelEncoder\n",
    "class_le = LabelEncoder()\n",
    "y = class_le.fit_transform(df['season_recorded'].values)\n",
    "print(y)"
   ]
  },
  {
   "cell_type": "code",
   "execution_count": 19,
   "metadata": {},
   "outputs": [
    {
     "name": "stdout",
     "output_type": "stream",
     "text": [
      "0    0\n",
      "1    0\n",
      "2    2\n",
      "3    6\n",
      "4    1\n",
      "Name: payment_type, dtype: int64\n",
      "0    2\n",
      "1    1\n",
      "2    2\n",
      "3    4\n",
      "4    0\n",
      "Name: quantity_group, dtype: int64\n",
      "0    2\n",
      "1    2\n",
      "2    2\n",
      "3    2\n",
      "4    2\n",
      "Name: region_code, dtype: int64\n",
      "0    4\n",
      "1    4\n",
      "2    4\n",
      "3    4\n",
      "4    4\n",
      "Name: basin, dtype: int64\n",
      "0     5\n",
      "1     5\n",
      "2     5\n",
      "3    10\n",
      "4     7\n",
      "Name: scheme_management, dtype: int64\n",
      "0    11\n",
      "1    11\n",
      "2    11\n",
      "3     6\n",
      "4    11\n",
      "Name: extraction_type_group, dtype: int64\n",
      "0    1\n",
      "1    1\n",
      "2    1\n",
      "3    8\n",
      "4    2\n",
      "Name: population, dtype: int64\n",
      "0    2505\n",
      "1    5369\n",
      "2    7163\n",
      "3      47\n",
      "4    6423\n",
      "Name: id, dtype: int64\n",
      "0    0\n",
      "1    0\n",
      "2    0\n",
      "3    0\n",
      "4    5\n",
      "Name: source_type, dtype: int64\n",
      "0     35\n",
      "1     35\n",
      "2    187\n",
      "3    112\n",
      "4     44\n",
      "Name: installer, dtype: int64\n",
      "0    6\n",
      "1    6\n",
      "2    6\n",
      "3    6\n",
      "4    6\n",
      "Name: water_quality, dtype: int64\n",
      "0    1\n",
      "1    1\n",
      "2    2\n",
      "3    2\n",
      "4    2\n",
      "Name: status_group, dtype: int64\n",
      "0    4\n",
      "1    4\n",
      "2    4\n",
      "3    3\n",
      "4    4\n",
      "Name: management_group, dtype: int64\n",
      "0    0\n",
      "1    0\n",
      "2    0\n",
      "3    0\n",
      "4    0\n",
      "Name: source_class, dtype: int64\n",
      "0    2\n",
      "1    2\n",
      "2    2\n",
      "3    2\n",
      "4    2\n",
      "Name: season_recorded, dtype: int64\n",
      "0    1\n",
      "1    1\n",
      "2    1\n",
      "3    3\n",
      "4    1\n",
      "Name: waterpoint_type_group, dtype: int64\n"
     ]
    }
   ],
   "source": [
    "non_bool_categoric = ['season_recorded', 'installer', 'basin', 'region_code', 'population',\n",
    "                       'scheme_management', 'extraction_type_group', 'management_group', \n",
    "                      'payment_type', 'water_quality', 'quantity_group', 'source_type', \n",
    "                      'waterpoint_type_group'\n",
    "                     ]\n",
    "\n",
    "for nbc in nonbool_cat_vars:\n",
    "    class_le = LabelEncoder()\n",
    "    df[nbc] = class_le.fit_transform(df[nbc].values)\n",
    "    print(df[nbc][:5])"
   ]
  },
  {
   "cell_type": "markdown",
   "metadata": {},
   "source": [
    "N.B. that source_class has been removed. (Had little info in it.)"
   ]
  },
  {
   "cell_type": "code",
   "execution_count": 23,
   "metadata": {},
   "outputs": [],
   "source": [
    "# df.to_csv('/Users/RAhmed/data store/Wesleyan_Capstone/corrected_data05.csv', index=False)"
   ]
  },
  {
   "cell_type": "code",
   "execution_count": 20,
   "metadata": {},
   "outputs": [
    {
     "data": {
      "text/plain": [
       "Index(['id', 'date_recorded', 'season_recorded', 'gps_height', 'installer',\n",
       "       'longitude', 'latitude', 'basin', 'region_code', 'population',\n",
       "       'public_meeting', 'scheme_management', 'permit', 'wpt_age',\n",
       "       'construction_year', 'extraction_type_group', 'management_group',\n",
       "       'payment_type', 'water_quality', 'quantity_group', 'source_type',\n",
       "       'source_class', 'waterpoint_type_group', 'status_group'],\n",
       "      dtype='object')"
      ]
     },
     "execution_count": 20,
     "metadata": {},
     "output_type": "execute_result"
    }
   ],
   "source": [
    "df.columns"
   ]
  },
  {
   "cell_type": "code",
   "execution_count": 21,
   "metadata": {},
   "outputs": [
    {
     "name": "stdout",
     "output_type": "stream",
     "text": [
      "pred_train.shape: (47520, 18)\n",
      "pred_test.shape: (11880, 18)\n",
      "tar_train.shape: (47520,)\n",
      "tar_test.shape: (11880,)\n"
     ]
    }
   ],
   "source": [
    "chosen_predictors = ['season_recorded', 'gps_height', 'installer', 'basin', 'region_code', 'population',\n",
    "                     'public_meeting', 'scheme_management', 'permit', 'wpt_age','construction_year', \n",
    "                     'extraction_type_group', 'management_group', 'payment_type', 'water_quality', \n",
    "                     'quantity_group', 'source_type', 'waterpoint_type_group'\n",
    "                    ]\n",
    "\n",
    "predictors = df[chosen_predictors]\n",
    "targets = df['status_group']\n",
    "\n",
    "# train/test split\n",
    "pred_train, pred_test, tar_train, tar_test = train_test_split(predictors, targets, test_size=.2)\n",
    "\n",
    "print(\"pred_train.shape:\", pred_train.shape)\n",
    "print(\"pred_test.shape:\", pred_test.shape)\n",
    "print(\"tar_train.shape:\", tar_train.shape)\n",
    "print(\"tar_test.shape:\", tar_test.shape)"
   ]
  },
  {
   "cell_type": "markdown",
   "metadata": {},
   "source": [
    "Build a classifier model with a decision tree, on train set"
   ]
  },
  {
   "cell_type": "code",
   "execution_count": 22,
   "metadata": {},
   "outputs": [
    {
     "name": "stdout",
     "output_type": "stream",
     "text": [
      "Confusion matrix:\n",
      "[[5023   41   57]\n",
      " [  55  725   12]\n",
      " [  76   15 5876]]\n",
      "Accuracy score:\n",
      "0.9784511784511785\n"
     ]
    }
   ],
   "source": [
    "# Build model on training data; initiate classifier from sklearn, then fit it with the training data\n",
    "classifier=DecisionTreeClassifier()\n",
    "classifier=classifier.fit(pred_train,tar_train)\n",
    "\n",
    "# predict for the test values and create confusion matrix\n",
    "predictions=classifier.predict(pred_test)\n",
    "print(\"Confusion matrix:\")\n",
    "print(sklearn.metrics.confusion_matrix(tar_test,predictions))\n",
    "print(\"Accuracy score:\")\n",
    "print(sklearn.metrics.accuracy_score(tar_test, predictions))\n"
   ]
  },
  {
   "cell_type": "markdown",
   "metadata": {},
   "source": [
    "Trying again, to play with parameters, experiment, etc."
   ]
  },
  {
   "cell_type": "code",
   "execution_count": 35,
   "metadata": {},
   "outputs": [
    {
     "data": {
      "text/plain": [
       "0.9781986531986532"
      ]
     },
     "execution_count": 35,
     "metadata": {},
     "output_type": "execute_result"
    }
   ],
   "source": [
    "# Playing with hyper-parameters. Also have varied the wording of the code from that in the MOOC. \n",
    "# (Just to check all in order with exceptionally high result.)\n",
    "# train/test split\n",
    "from sklearn.utils import shuffle\n",
    "df = shuffle(df)\n",
    "X_train, X_test, y_train, y_test = train_test_split(predictors[:], targets[:], test_size=.2)\n",
    "\n",
    "# Build model on training data; initiate classifier from sklearn, then fit it with the training data\n",
    "model = DecisionTreeClassifier(max_depth=None)\n",
    "model.fit(X_train, y_train)\n",
    "\n",
    "y_predict = model.predict(X_test)\n",
    "\n",
    "from sklearn.metrics import accuracy_score\n",
    "\n",
    "accuracy_score(y_test, y_predict)"
   ]
  },
  {
   "cell_type": "code",
   "execution_count": null,
   "metadata": {},
   "outputs": [],
   "source": []
  },
  {
   "cell_type": "markdown",
   "metadata": {},
   "source": [
    "For confusion matrix, N.B. that:\n",
    "> functional = 0\n",
    "\n",
    "> functional_needs_repair = 1\n",
    "\n",
    "> non-functional = 2"
   ]
  },
  {
   "cell_type": "code",
   "execution_count": 36,
   "metadata": {},
   "outputs": [
    {
     "data": {
      "text/html": [
       "<div>\n",
       "<style scoped>\n",
       "    .dataframe tbody tr th:only-of-type {\n",
       "        vertical-align: middle;\n",
       "    }\n",
       "\n",
       "    .dataframe tbody tr th {\n",
       "        vertical-align: top;\n",
       "    }\n",
       "\n",
       "    .dataframe thead th {\n",
       "        text-align: right;\n",
       "    }\n",
       "</style>\n",
       "<table border=\"1\" class=\"dataframe\">\n",
       "  <thead>\n",
       "    <tr style=\"text-align: right;\">\n",
       "      <th></th>\n",
       "      <th>Pred functional</th>\n",
       "      <th>Predicted func_need_repair</th>\n",
       "      <th>Predicted non_func</th>\n",
       "    </tr>\n",
       "  </thead>\n",
       "  <tbody>\n",
       "    <tr>\n",
       "      <th>True functional</th>\n",
       "      <td>4981</td>\n",
       "      <td>44</td>\n",
       "      <td>44</td>\n",
       "    </tr>\n",
       "    <tr>\n",
       "      <th>True func_need_repair</th>\n",
       "      <td>61</td>\n",
       "      <td>699</td>\n",
       "      <td>15</td>\n",
       "    </tr>\n",
       "    <tr>\n",
       "      <th>True non_func</th>\n",
       "      <td>78</td>\n",
       "      <td>17</td>\n",
       "      <td>5941</td>\n",
       "    </tr>\n",
       "  </tbody>\n",
       "</table>\n",
       "</div>"
      ],
      "text/plain": [
       "                       Pred functional  Predicted func_need_repair  \\\n",
       "True functional                   4981                          44   \n",
       "True func_need_repair               61                         699   \n",
       "True non_func                       78                          17   \n",
       "\n",
       "                       Predicted non_func  \n",
       "True functional                        44  \n",
       "True func_need_repair                  15  \n",
       "True non_func                        5941  "
      ]
     },
     "execution_count": 36,
     "metadata": {},
     "output_type": "execute_result"
    }
   ],
   "source": [
    "from sklearn.metrics import confusion_matrix\n",
    "\n",
    "pd.DataFrame(\n",
    "    confusion_matrix(y_test, y_predict),\n",
    "    columns=['Pred functional', 'Predicted func_need_repair', 'Predicted non_func'],\n",
    "    index=['True functional', 'True func_need_repair', 'True non_func']\n",
    ")"
   ]
  },
  {
   "cell_type": "code",
   "execution_count": 37,
   "metadata": {},
   "outputs": [
    {
     "data": {
      "text/plain": [
       "0.9781986531986532"
      ]
     },
     "execution_count": 37,
     "metadata": {},
     "output_type": "execute_result"
    }
   ],
   "source": [
    "# reprint for convenience\n",
    "accuracy_score(y_test, y_predict)"
   ]
  },
  {
   "cell_type": "markdown",
   "metadata": {},
   "source": [
    "Got this from: https://gist.github.com/shaypal5/94c53d765083101efc0240d776a23823"
   ]
  },
  {
   "cell_type": "code",
   "execution_count": 38,
   "metadata": {},
   "outputs": [],
   "source": [
    "def print_confusion_matrix(confusion_matrix, class_names, figsize = (10,7), fontsize=14):\n",
    "    \"\"\"Prints a confusion matrix, as returned by sklearn.metrics.confusion_matrix, as a heatmap.\n",
    "    \n",
    "    Arguments\n",
    "    ---------\n",
    "    confusion_matrix: numpy.ndarray\n",
    "        The numpy.ndarray object returned from a call to sklearn.metrics.confusion_matrix. \n",
    "        Similarly constructed ndarrays can also be used.\n",
    "    class_names: list\n",
    "        An ordered list of class names, in the order they index the given confusion matrix.\n",
    "    figsize: tuple\n",
    "        A 2-long tuple, the first value determining the horizontal size of the ouputted figure,\n",
    "        the second determining the vertical size. Defaults to (10,7).\n",
    "    fontsize: int\n",
    "        Font size for axes labels. Defaults to 14.\n",
    "        \n",
    "    Returns\n",
    "    -------\n",
    "    matplotlib.figure.Figure\n",
    "        The resulting confusion matrix figure\n",
    "    \"\"\"\n",
    "    df_cm = pd.DataFrame(\n",
    "        confusion_matrix, index=class_names, columns=class_names, \n",
    "    )\n",
    "    fig = plt.figure(figsize=figsize)\n",
    "    try:\n",
    "        heatmap = sns.heatmap(df_cm, annot=True, fmt=\"d\")\n",
    "    except ValueError:\n",
    "        raise ValueError(\"Confusion matrix values must be integers.\")\n",
    "    heatmap.yaxis.set_ticklabels(heatmap.yaxis.get_ticklabels(), rotation=0, ha='right', fontsize=fontsize)\n",
    "    heatmap.xaxis.set_ticklabels(heatmap.xaxis.get_ticklabels(), rotation=45, ha='right', fontsize=fontsize)\n",
    "    plt.ylabel('True label')\n",
    "    plt.xlabel('Predicted label')\n",
    "    return fig"
   ]
  },
  {
   "cell_type": "code",
   "execution_count": 39,
   "metadata": {},
   "outputs": [
    {
     "data": {
      "image/png": "[encoded data removed]",
      "text/plain": [
       "<Figure size 360x216 with 2 Axes>"
      ]
     },
     "execution_count": 39,
     "metadata": {},
     "output_type": "execute_result"
    },
    {
     "data": {
      "image/png": "[encoded data removed]",
      "text/plain": [
       "<Figure size 360x216 with 2 Axes>"
      ]
     },
     "metadata": {},
     "output_type": "display_data"
    }
   ],
   "source": [
    "confusion_matrix = sklearn.metrics.confusion_matrix(tar_test,predictions)\n",
    "print_confusion_matrix(confusion_matrix, ['functional', 'functional_needs_repair', 'non_functional'], figsize = (5,3), fontsize=14)"
   ]
  },
  {
   "cell_type": "code",
   "execution_count": 40,
   "metadata": {},
   "outputs": [
    {
     "data": {
      "text/plain": [
       "array([2, 2, 2, 0, 2, 0, 2, 0, 2, 2, 2, 0, 0, 0, 2, 1, 0, 0, 2, 2, 2, 0,\n",
       "       0, 2, 2, 2, 2, 2, 2, 2, 0, 2, 2, 0, 2, 2, 2, 2, 0, 2, 2, 0, 2, 2,\n",
       "       2, 2, 2, 0, 0, 0])"
      ]
     },
     "execution_count": 40,
     "metadata": {},
     "output_type": "execute_result"
    }
   ],
   "source": [
    "# to check the first 50 predictions - what they are\n",
    "y_predict[:50]"
   ]
  },
  {
   "cell_type": "code",
   "execution_count": 41,
   "metadata": {},
   "outputs": [
    {
     "data": {
      "text/plain": [
       "array([0.00485084, 0.20793633, 0.04916139, 0.05022688, 0.01288377,\n",
       "       0.03737661, 0.0081289 , 0.00517006, 0.00920491, 0.0926683 ,\n",
       "       0.04005401, 0.0264228 , 0.01422881, 0.05820737, 0.00692053,\n",
       "       0.27858439, 0.01245399, 0.08552012])"
      ]
     },
     "execution_count": 41,
     "metadata": {},
     "output_type": "execute_result"
    }
   ],
   "source": [
    "# find importance of variables\n",
    "model.feature_importances_"
   ]
  },
  {
   "cell_type": "markdown",
   "metadata": {},
   "source": [
    "Key ingredient: see which features are most important"
   ]
  },
  {
   "cell_type": "code",
   "execution_count": 42,
   "metadata": {},
   "outputs": [
    {
     "data": {
      "text/plain": [
       "{'season_recorded': 0.004850835896237321,\n",
       " 'gps_height': 0.207936328279708,\n",
       " 'installer': 0.04916139132757825,\n",
       " 'basin': 0.0502268768217449,\n",
       " 'region_code': 0.01288376857079392,\n",
       " 'population': 0.03737660993822177,\n",
       " 'public_meeting': 0.008128898817255896,\n",
       " 'scheme_management': 0.005170060939393874,\n",
       " 'permit': 0.00920491092682284,\n",
       " 'wpt_age': 0.09266830131373466,\n",
       " 'construction_year': 0.040054011102475036,\n",
       " 'extraction_type_group': 0.026422796962805247,\n",
       " 'management_group': 0.014228813993464135,\n",
       " 'payment_type': 0.05820737437498215,\n",
       " 'water_quality': 0.006920531821103523,\n",
       " 'quantity_group': 0.2785843851722536,\n",
       " 'source_type': 0.012453986336319037,\n",
       " 'waterpoint_type_group': 0.08552011740510589}"
      ]
     },
     "execution_count": 42,
     "metadata": {},
     "output_type": "execute_result"
    }
   ],
   "source": [
    "importance = (dict(zip(X_train, model.feature_importances_)))\n",
    "importance"
   ]
  },
  {
   "cell_type": "code",
   "execution_count": 43,
   "metadata": {},
   "outputs": [
    {
     "data": {
      "text/plain": [
       "[('quantity_group', 0.2785843851722536),\n",
       " ('gps_height', 0.207936328279708),\n",
       " ('wpt_age', 0.09266830131373466),\n",
       " ('waterpoint_type_group', 0.08552011740510589),\n",
       " ('payment_type', 0.05820737437498215),\n",
       " ('basin', 0.0502268768217449),\n",
       " ('installer', 0.04916139132757825),\n",
       " ('construction_year', 0.040054011102475036),\n",
       " ('population', 0.03737660993822177),\n",
       " ('extraction_type_group', 0.026422796962805247),\n",
       " ('management_group', 0.014228813993464135),\n",
       " ('region_code', 0.01288376857079392),\n",
       " ('source_type', 0.012453986336319037),\n",
       " ('permit', 0.00920491092682284),\n",
       " ('public_meeting', 0.008128898817255896),\n",
       " ('water_quality', 0.006920531821103523),\n",
       " ('scheme_management', 0.005170060939393874),\n",
       " ('season_recorded', 0.004850835896237321)]"
      ]
     },
     "execution_count": 43,
     "metadata": {},
     "output_type": "execute_result"
    }
   ],
   "source": [
    "sorted_items = sorted(importance.items(), key = lambda x: x[1], reverse=True)\n",
    "sorted_items"
   ]
  },
  {
   "cell_type": "markdown",
   "metadata": {},
   "source": [
    "# Visualise the Decision Tree"
   ]
  },
  {
   "cell_type": "markdown",
   "metadata": {},
   "source": [
    "It turns out that visualising the decision tree is quite straight forward.  \n",
    "\n",
    "There are two things one can initially do: limit or not limit maximum depth as folling example:<br>\n",
    "*model = DecisionTreeClassifier(max_depth=None)*\n",
    "\n",
    "As below, push the image out to a tree.dot file.  Find it on your computer amd then cut and paste the code into a web viewer/converter.  See, e.g.:<br>\n",
    "http://www.ilovefreesoftware.com/03/featured/free-online-dot-to-png-converter-websites.html\n",
    "https://dreampuf.github.io/GraphvizOnline/\n",
    "\n",
    "Right-clicking the image in GraphvizOnline, I could save the png to desktop.\n",
    "\n",
    "**If you limit maximum depth,** your decision tree may be small enough to fit on one page.  **Else,** cut and paste a number of lines of code from the tree.dot file, making sure you finish as follows in the online converter, e.g.:<br>\n",
    "\n",
    "*...<br>\n",
    "44 -> 54 ; <br>\n",
    "}*\n",
    "\n",
    "If you do limit the max depth the tree will be different, of course, than a full tree."
   ]
  },
  {
   "cell_type": "code",
   "execution_count": 46,
   "metadata": {},
   "outputs": [],
   "source": [
    "# visualise\n",
    "export_graphviz(model, out_file='tree.dot') \n",
    "# cut and paste the tree.dot file info into webgraphviz.com in a browser. \n",
    "# (You can paste as many layers of the tree as you want. See notes above.)"
   ]
  },
  {
   "cell_type": "markdown",
   "metadata": {},
   "source": [
    "# One bivariate analysis"
   ]
  },
  {
   "cell_type": "code",
   "execution_count": 77,
   "metadata": {},
   "outputs": [
    {
     "data": {
      "text/plain": [
       "array([ -0.218     ,  18.16666667,  36.33333333,  54.5       ,\n",
       "        72.66666667,  90.83333333, 109.        , 127.16666667,\n",
       "       145.33333333, 163.5       , 181.66666667, 199.83333333,\n",
       "       218.        ])"
      ]
     },
     "execution_count": 77,
     "metadata": {},
     "output_type": "execute_result"
    }
   ],
   "source": [
    "installer_comparison = pd.cut(df['installer'], 12, right=True, \n",
    "                         labels=None, retbins=True, precision=3, include_lowest=True)\n",
    "\n",
    "installer_comparison[-1]"
   ]
  },
  {
   "cell_type": "code",
   "execution_count": null,
   "metadata": {},
   "outputs": [],
   "source": []
  },
  {
   "cell_type": "code",
   "execution_count": 104,
   "metadata": {},
   "outputs": [
    {
     "name": "stderr",
     "output_type": "stream",
     "text": [
      "/Users/RAhmed/anaconda3/lib/python3.6/site-packages/matplotlib/axes/_axes.py:6462: UserWarning: The 'normed' kwarg is deprecated, and has been replaced by the 'density' kwarg.\n",
      "  warnings.warn(\"The 'normed' kwarg is deprecated, and has been \"\n"
     ]
    },
    {
     "data": {
      "text/plain": [
       "<matplotlib.axes._subplots.AxesSubplot at 0x1a2725a400>"
      ]
     },
     "execution_count": 104,
     "metadata": {},
     "output_type": "execute_result"
    },
    {
     "data": {
      "image/png": "[encoded data removed]",
      "text/plain": [
       "<Figure size 432x288 with 1 Axes>"
      ]
     },
     "metadata": {},
     "output_type": "display_data"
    }
   ],
   "source": [
    "data = df['installer']\n",
    "filtered = (data >= 0) & (data < 10)\n",
    "sns.distplot(filtered, kde=True, hist=True, hist_kws={\"range\": [0,10]})\n",
    "# plt.show()\n"
   ]
  },
  {
   "cell_type": "code",
   "execution_count": 87,
   "metadata": {},
   "outputs": [
    {
     "name": "stderr",
     "output_type": "stream",
     "text": [
      "/Users/RAhmed/anaconda3/lib/python3.6/site-packages/matplotlib/axes/_axes.py:6462: UserWarning: The 'normed' kwarg is deprecated, and has been replaced by the 'density' kwarg.\n",
      "  warnings.warn(\"The 'normed' kwarg is deprecated, and has been \"\n"
     ]
    },
    {
     "data": {
      "image/png": "[encoded data removed]",
      "text/plain": [
       "<Figure size 432x288 with 1 Axes>"
      ]
     },
     "metadata": {},
     "output_type": "display_data"
    }
   ],
   "source": [
    "ax = sns.distplot(df['installer'])"
   ]
  },
  {
   "cell_type": "code",
   "execution_count": 84,
   "metadata": {},
   "outputs": [
    {
     "name": "stderr",
     "output_type": "stream",
     "text": [
      "/Users/RAhmed/anaconda3/lib/python3.6/site-packages/matplotlib/axes/_axes.py:6462: UserWarning: The 'normed' kwarg is deprecated, and has been replaced by the 'density' kwarg.\n",
      "  warnings.warn(\"The 'normed' kwarg is deprecated, and has been \"\n"
     ]
    },
    {
     "data": {
      "text/plain": [
       "<matplotlib.axes._subplots.AxesSubplot at 0x1a27072358>"
      ]
     },
     "execution_count": 84,
     "metadata": {},
     "output_type": "execute_result"
    },
    {
     "data": {
      "image/png": "[encoded data removed]",
      "text/plain": [
       "<Figure size 432x288 with 1 Axes>"
      ]
     },
     "metadata": {},
     "output_type": "display_data"
    }
   ],
   "source": [
    "sns.distplot(df['installer'], bins=12, kde=False, rug=False, color=None)"
   ]
  },
  {
   "cell_type": "code",
   "execution_count": null,
   "metadata": {},
   "outputs": [],
   "source": [
    "installer_size_bins = ['decile ' + str(x+1) for x in range(10)]"
   ]
  }
 ],
 "metadata": {
  "kernelspec": {
   "display_name": "Python 3",
   "language": "python",
   "name": "python3"
  },
  "language_info": {
   "codemirror_mode": {
    "name": "ipython",
    "version": 3
   },
   "file_extension": ".py",
   "mimetype": "text/x-python",
   "name": "python",
   "nbconvert_exporter": "python",
   "pygments_lexer": "ipython3",
   "version": "3.6.5"
  }
 },
 "nbformat": 4,
 "nbformat_minor": 2
}
