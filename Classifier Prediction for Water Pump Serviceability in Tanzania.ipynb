{
 "cells": [
  {
   "cell_type": "markdown",
   "metadata": {},
   "source": [
    "# Working Doc, not Report Doc"
   ]
  },
  {
   "cell_type": "markdown",
   "metadata": {},
   "source": [
    "## Commenced 20 Aug 2018"
   ]
  },
  {
   "cell_type": "markdown",
   "metadata": {},
   "source": [
    "## Steps to do"
   ]
  },
  {
   "cell_type": "markdown",
   "metadata": {},
   "source": [
    "> 1. Import the two data files (predictors and targets) and merge, with pandas.\n",
    "> 2. Cut down to the predictors to be used. \n",
    "> 3. Create composite variables.\n",
    "> 4. Preliminary data exploration:\n",
    ">> Categorical variables: check number of categories including blanks; create filled bar charts.<br>\n",
    ">> Quantitative variables: get statistics such as mean, median, sd, range, # blanks; create violin or box plots.\n",
    "> 5. Decide on further data mgt., such as: \"rare\" categories, binned categories, delete all rows with blanks/if too many blanks.\n",
    "> 6. Train/test split.\n",
    "> 7. Create decision tree as a baseline reference for random forest.\n",
    "> 8. Create random forest. Tune parameters, consider boosting/bagging, confusion matrix, what is performance?\n",
    "> 9. Predict on test set.\n",
    "> 10. What do I now know? What does everything mean?"
   ]
  },
  {
   "cell_type": "code",
   "execution_count": 3,
   "metadata": {},
   "outputs": [],
   "source": [
    "import pandas as pd\n",
    "import numpy as np\n",
    "import time\n",
    "import matplotlib as plt\n",
    "import seaborn as sns\n",
    "import random"
   ]
  },
  {
   "cell_type": "markdown",
   "metadata": {},
   "source": [
    "## Check uniqueness, no duplicate ids"
   ]
  },
  {
   "cell_type": "code",
   "execution_count": 4,
   "metadata": {},
   "outputs": [
    {
     "data": {
      "text/plain": [
       "(59400, 23)"
      ]
     },
     "execution_count": 4,
     "metadata": {},
     "output_type": "execute_result"
    }
   ],
   "source": [
    "# check select_data\n",
    "select_df = pd.read_csv('/Users/RAhmed/data store/Wesleyan_Capstone/select_data.csv')\n",
    "select_df.shape"
   ]
  },
  {
   "cell_type": "code",
   "execution_count": 5,
   "metadata": {},
   "outputs": [
    {
     "data": {
      "text/plain": [
       "59400"
      ]
     },
     "execution_count": 5,
     "metadata": {},
     "output_type": "execute_result"
    }
   ],
   "source": [
    "# check all are unique\n",
    "select_df['id'].nunique()"
   ]
  },
  {
   "cell_type": "code",
   "execution_count": 6,
   "metadata": {},
   "outputs": [
    {
     "data": {
      "text/html": [
       "<div>\n",
       "<style scoped>\n",
       "    .dataframe tbody tr th:only-of-type {\n",
       "        vertical-align: middle;\n",
       "    }\n",
       "\n",
       "    .dataframe tbody tr th {\n",
       "        vertical-align: top;\n",
       "    }\n",
       "\n",
       "    .dataframe thead th {\n",
       "        text-align: right;\n",
       "    }\n",
       "</style>\n",
       "<table border=\"1\" class=\"dataframe\">\n",
       "  <thead>\n",
       "    <tr style=\"text-align: right;\">\n",
       "      <th></th>\n",
       "      <th>id</th>\n",
       "      <th>date_recorded</th>\n",
       "      <th>season_recorded</th>\n",
       "      <th>gps_height</th>\n",
       "      <th>installer</th>\n",
       "      <th>longitude</th>\n",
       "      <th>latitude</th>\n",
       "      <th>basin</th>\n",
       "      <th>region_code</th>\n",
       "      <th>population</th>\n",
       "      <th>...</th>\n",
       "      <th>construction_year</th>\n",
       "      <th>extraction_type_group</th>\n",
       "      <th>management_group</th>\n",
       "      <th>payment_type</th>\n",
       "      <th>water_quality</th>\n",
       "      <th>quantity_group</th>\n",
       "      <th>source_type</th>\n",
       "      <th>source_class</th>\n",
       "      <th>waterpoint_type_group</th>\n",
       "      <th>status_group</th>\n",
       "    </tr>\n",
       "  </thead>\n",
       "  <tbody>\n",
       "    <tr>\n",
       "      <th>0</th>\n",
       "      <td>69572</td>\n",
       "      <td>14/03/11</td>\n",
       "      <td>long_rainy</td>\n",
       "      <td>1390</td>\n",
       "      <td>Roman</td>\n",
       "      <td>34.938093</td>\n",
       "      <td>-9.856322</td>\n",
       "      <td>Lake Nyasa</td>\n",
       "      <td>11</td>\n",
       "      <td>109</td>\n",
       "      <td>...</td>\n",
       "      <td>1999</td>\n",
       "      <td>gravity</td>\n",
       "      <td>user-group</td>\n",
       "      <td>annually</td>\n",
       "      <td>soft</td>\n",
       "      <td>enough</td>\n",
       "      <td>spring</td>\n",
       "      <td>groundwater</td>\n",
       "      <td>communal standpipe</td>\n",
       "      <td>functional</td>\n",
       "    </tr>\n",
       "    <tr>\n",
       "      <th>1</th>\n",
       "      <td>8776</td>\n",
       "      <td>06/03/13</td>\n",
       "      <td>long_rainy</td>\n",
       "      <td>1399</td>\n",
       "      <td>GRUMETI</td>\n",
       "      <td>34.698766</td>\n",
       "      <td>-2.147466</td>\n",
       "      <td>Lake Victoria</td>\n",
       "      <td>20</td>\n",
       "      <td>280</td>\n",
       "      <td>...</td>\n",
       "      <td>2010</td>\n",
       "      <td>gravity</td>\n",
       "      <td>user-group</td>\n",
       "      <td>never pay</td>\n",
       "      <td>soft</td>\n",
       "      <td>insufficient</td>\n",
       "      <td>rainwater harvesting</td>\n",
       "      <td>surface</td>\n",
       "      <td>communal standpipe</td>\n",
       "      <td>functional</td>\n",
       "    </tr>\n",
       "    <tr>\n",
       "      <th>2</th>\n",
       "      <td>34310</td>\n",
       "      <td>25/02/13</td>\n",
       "      <td>short_dry</td>\n",
       "      <td>686</td>\n",
       "      <td>World vision</td>\n",
       "      <td>37.460664</td>\n",
       "      <td>-3.821329</td>\n",
       "      <td>Pangani</td>\n",
       "      <td>21</td>\n",
       "      <td>250</td>\n",
       "      <td>...</td>\n",
       "      <td>2009</td>\n",
       "      <td>gravity</td>\n",
       "      <td>user-group</td>\n",
       "      <td>per bucket</td>\n",
       "      <td>soft</td>\n",
       "      <td>enough</td>\n",
       "      <td>dam</td>\n",
       "      <td>surface</td>\n",
       "      <td>communal standpipe</td>\n",
       "      <td>functional</td>\n",
       "    </tr>\n",
       "    <tr>\n",
       "      <th>3</th>\n",
       "      <td>67743</td>\n",
       "      <td>28/01/13</td>\n",
       "      <td>short_dry</td>\n",
       "      <td>263</td>\n",
       "      <td>UNICEF</td>\n",
       "      <td>38.486161</td>\n",
       "      <td>-11.155298</td>\n",
       "      <td>Ruvuma / Southern Coast</td>\n",
       "      <td>90</td>\n",
       "      <td>58</td>\n",
       "      <td>...</td>\n",
       "      <td>1986</td>\n",
       "      <td>submersible</td>\n",
       "      <td>user-group</td>\n",
       "      <td>never pay</td>\n",
       "      <td>soft</td>\n",
       "      <td>dry</td>\n",
       "      <td>borehole</td>\n",
       "      <td>groundwater</td>\n",
       "      <td>communal standpipe</td>\n",
       "      <td>non functional</td>\n",
       "    </tr>\n",
       "    <tr>\n",
       "      <th>4</th>\n",
       "      <td>19728</td>\n",
       "      <td>13/07/11</td>\n",
       "      <td>long_dry</td>\n",
       "      <td>0</td>\n",
       "      <td>Artisan</td>\n",
       "      <td>31.130847</td>\n",
       "      <td>-1.825359</td>\n",
       "      <td>Lake Victoria</td>\n",
       "      <td>18</td>\n",
       "      <td>0</td>\n",
       "      <td>...</td>\n",
       "      <td>0</td>\n",
       "      <td>gravity</td>\n",
       "      <td>other</td>\n",
       "      <td>never pay</td>\n",
       "      <td>soft</td>\n",
       "      <td>seasonal</td>\n",
       "      <td>rainwater harvesting</td>\n",
       "      <td>surface</td>\n",
       "      <td>communal standpipe</td>\n",
       "      <td>functional</td>\n",
       "    </tr>\n",
       "  </tbody>\n",
       "</table>\n",
       "<p>5 rows × 23 columns</p>\n",
       "</div>"
      ],
      "text/plain": [
       "      id date_recorded season_recorded  gps_height     installer  longitude  \\\n",
       "0  69572      14/03/11      long_rainy        1390         Roman  34.938093   \n",
       "1   8776      06/03/13      long_rainy        1399       GRUMETI  34.698766   \n",
       "2  34310      25/02/13       short_dry         686  World vision  37.460664   \n",
       "3  67743      28/01/13       short_dry         263        UNICEF  38.486161   \n",
       "4  19728      13/07/11        long_dry           0       Artisan  31.130847   \n",
       "\n",
       "    latitude                    basin  region_code  population  \\\n",
       "0  -9.856322               Lake Nyasa           11         109   \n",
       "1  -2.147466            Lake Victoria           20         280   \n",
       "2  -3.821329                  Pangani           21         250   \n",
       "3 -11.155298  Ruvuma / Southern Coast           90          58   \n",
       "4  -1.825359            Lake Victoria           18           0   \n",
       "\n",
       "        ...       construction_year extraction_type_group management_group  \\\n",
       "0       ...                    1999               gravity       user-group   \n",
       "1       ...                    2010               gravity       user-group   \n",
       "2       ...                    2009               gravity       user-group   \n",
       "3       ...                    1986           submersible       user-group   \n",
       "4       ...                       0               gravity            other   \n",
       "\n",
       "   payment_type water_quality quantity_group           source_type  \\\n",
       "0      annually          soft         enough                spring   \n",
       "1     never pay          soft   insufficient  rainwater harvesting   \n",
       "2    per bucket          soft         enough                   dam   \n",
       "3     never pay          soft            dry              borehole   \n",
       "4     never pay          soft       seasonal  rainwater harvesting   \n",
       "\n",
       "  source_class waterpoint_type_group    status_group  \n",
       "0  groundwater    communal standpipe      functional  \n",
       "1      surface    communal standpipe      functional  \n",
       "2      surface    communal standpipe      functional  \n",
       "3  groundwater    communal standpipe  non functional  \n",
       "4      surface    communal standpipe      functional  \n",
       "\n",
       "[5 rows x 23 columns]"
      ]
     },
     "execution_count": 6,
     "metadata": {},
     "output_type": "execute_result"
    }
   ],
   "source": [
    "select_df.head()"
   ]
  },
  {
   "cell_type": "markdown",
   "metadata": {},
   "source": [
    "select_data is ok. There is a problem with further data as shown here, Should also be 59400 unique id"
   ]
  },
  {
   "cell_type": "code",
   "execution_count": 7,
   "metadata": {},
   "outputs": [
    {
     "data": {
      "text/plain": [
       "(59400, 24)"
      ]
     },
     "execution_count": 7,
     "metadata": {},
     "output_type": "execute_result"
    }
   ],
   "source": [
    "df_check = pd.read_csv('/Users/RAhmed/data store/Wesleyan_Capstone/corrected_data03.csv')\n",
    "# reindex for good luck\n",
    "df_check.reset_index(drop=True, inplace=True)\n",
    "df_check.shape"
   ]
  },
  {
   "cell_type": "code",
   "execution_count": 8,
   "metadata": {},
   "outputs": [
    {
     "data": {
      "text/plain": [
       "73516    11\n",
       "57806    11\n",
       "72113    11\n",
       "68019    11\n",
       "46000    11\n",
       "33218    11\n",
       "35267    11\n",
       "17326    11\n",
       "61900    11\n",
       "25514    11\n",
       "20952    11\n",
       "60347    11\n",
       "18907    11\n",
       "68487    11\n",
       "66438    11\n",
       "72581    11\n",
       "29212    11\n",
       "33314    11\n",
       "37716    11\n",
       "41510    11\n",
       "35767    11\n",
       "16794    11\n",
       "8790     11\n",
       "33058    11\n",
       "11267    11\n",
       "51467    11\n",
       "6417     11\n",
       "39925    11\n",
       "41970    11\n",
       "74006    11\n",
       "         ..\n",
       "48198     1\n",
       "19544     1\n",
       "21595     1\n",
       "52328     1\n",
       "19576     1\n",
       "27772     1\n",
       "25501     1\n",
       "27548     1\n",
       "19352     1\n",
       "39810     1\n",
       "39522     1\n",
       "45671     1\n",
       "60044     1\n",
       "60076     1\n",
       "68272     1\n",
       "13015     1\n",
       "49897     1\n",
       "60140     1\n",
       "58093     1\n",
       "23290     1\n",
       "31486     1\n",
       "51976     1\n",
       "56074     1\n",
       "66321     1\n",
       "70419     1\n",
       "15126     1\n",
       "21275     1\n",
       "29503     1\n",
       "25469     1\n",
       "71683     1\n",
       "Name: id, Length: 9400, dtype: int64"
      ]
     },
     "execution_count": 8,
     "metadata": {},
     "output_type": "execute_result"
    }
   ],
   "source": [
    "df_check['id'].value_counts()"
   ]
  },
  {
   "cell_type": "code",
   "execution_count": 9,
   "metadata": {},
   "outputs": [
    {
     "data": {
      "text/plain": [
       "9400"
      ]
     },
     "execution_count": 9,
     "metadata": {},
     "output_type": "execute_result"
    }
   ],
   "source": [
    "df_check['id'].nunique()"
   ]
  },
  {
   "cell_type": "code",
   "execution_count": 10,
   "metadata": {},
   "outputs": [
    {
     "name": "stdout",
     "output_type": "stream",
     "text": [
      "Zeros 20438 \n",
      "\n"
     ]
    }
   ],
   "source": [
    "counts = select_df['gps_height'].value_counts()\n",
    "print(\"Zeros\", counts[0], '\\n')"
   ]
  },
  {
   "cell_type": "markdown",
   "metadata": {},
   "source": [
    "## Work out the id issue! Why are there 9,400 unique ids?"
   ]
  },
  {
   "cell_type": "code",
   "execution_count": 11,
   "metadata": {},
   "outputs": [
    {
     "name": "stdout",
     "output_type": "stream",
     "text": [
      "id\n",
      "date_recorded\n",
      "season_recorded\n",
      "gps_height\n",
      "installer\n",
      "longitude\n",
      "latitude\n",
      "basin\n",
      "region_code\n",
      "population\n",
      "public_meeting\n",
      "scheme_management\n",
      "permit\n",
      "construction_year\n",
      "extraction_type_group\n",
      "management_group\n",
      "payment_type\n",
      "water_quality\n",
      "quantity_group\n",
      "source_type\n",
      "source_class\n",
      "waterpoint_type_group\n",
      "status_group\n"
     ]
    }
   ],
   "source": [
    "for col in select_df.columns: print(col)"
   ]
  },
  {
   "cell_type": "markdown",
   "metadata": {},
   "source": [
    "## Begin again\n"
   ]
  },
  {
   "cell_type": "code",
   "execution_count": 12,
   "metadata": {},
   "outputs": [],
   "source": [
    "# need helper in dict to find key of maximum value, used in gps_helper\n",
    "def find_dict_max(dict_):\n",
    "    for keys, values in dict_.items():\n",
    "        if values == max(dict_.values()):\n",
    "            return keys"
   ]
  },
  {
   "cell_type": "code",
   "execution_count": 35,
   "metadata": {},
   "outputs": [],
   "source": [
    "# N.B. .at, .iat can only take a single value\n",
    "def gps_helper(df):\n",
    "    \"\"\" \n",
    "    takes average height of Euclidian 3 nearest neighbours by distance (lat/long)\n",
    "    trying every short cut to optimise\n",
    "    Not even finding square root of error terms to save a calculation\n",
    "    Notice that you still need to return a df_gps_list for later incorporation\n",
    "    (Setting just not working by any means)\n",
    "    \n",
    "    This version works with putting new value directly into base case df\n",
    "    \n",
    "    \"\"\"\n",
    "    for i in df.index:\n",
    "        # v just progess checking during running of function\n",
    "        if i % 100 == 0:\n",
    "#             print(i)\n",
    "            pass\n",
    "        \n",
    "        if df.iat[i, 3] != 0: \n",
    "           pass\n",
    "            \n",
    "        else: \n",
    "            # neighbours = {index: distance, ...} - are dummy keys / values that get replaced\n",
    "            neighbours = {999999: 9999, 999998: 9998, 999997: 9997}\n",
    "            for j in df.index: \n",
    "                if j != i: \n",
    "                    euclidian_dist = ((df.iat[i, 6] - df.iat[j, 6])**2 + (df.iat[i, 5] - df.iat[j, 5])**2)\n",
    "    \n",
    "                    if euclidian_dist < max(neighbours.values()):\n",
    "                        # if yes, need to remove max distance so far and update  with smaller distance\n",
    "                        neighbours.pop(find_dict_max(neighbours))\n",
    "                        neighbours.update({j: euclidian_dist})\n",
    " \n",
    "            heights = []\n",
    "            for k in neighbours.keys():\n",
    "                heights.append(df['gps_height'][k])\n",
    "            if len(heights) != 0:\n",
    "                df.iat[i, 3] = sum(heights) / len(heights)\n",
    "            else: \n",
    "                df.iat[i, 3] = 0\n",
    "\n",
    "    zero_count = 0\n",
    "    for m in range(df.shape[0]):\n",
    "        if df.iat[m, 3] == 0:\n",
    "            zero_count += 1\n",
    "\n",
    "    print(\"number of zero heights is: {}\".format(zero_count))\n",
    "    return df\n"
   ]
  },
  {
   "cell_type": "code",
   "execution_count": 36,
   "metadata": {},
   "outputs": [],
   "source": [
    "df = select_df"
   ]
  },
  {
   "cell_type": "code",
   "execution_count": 15,
   "metadata": {},
   "outputs": [
    {
     "name": "stdout",
     "output_type": "stream",
     "text": [
      "initial zeros 20438\n",
      "0\n",
      "100\n",
      "200\n",
      "300\n",
      "400\n",
      "500\n",
      "600\n",
      "700\n",
      "800\n",
      "900\n",
      "1000\n",
      "1100\n",
      "1200\n",
      "1300\n",
      "1400\n",
      "1500\n",
      "1600\n",
      "1700\n",
      "1800\n",
      "1900\n",
      "number of zero heights is: 640\n",
      "remaining zeros 20399\n",
      "33.747048139572144 s\n"
     ]
    }
   ],
   "source": [
    "# template\n",
    "start = time.time()\n",
    "print(\"initial zeros\", df['gps_height'].value_counts()[0])\n",
    "df[:2000] = gps_helper(df[:2000])\n",
    "counts = df['gps_height'].value_counts()\n",
    "stop = time.time()\n",
    "print(\"remaining zeros\", df['gps_height'].value_counts()[0])\n",
    "print(stop - start, \"s\")"
   ]
  },
  {
   "cell_type": "code",
   "execution_count": 37,
   "metadata": {},
   "outputs": [],
   "source": [
    "# keep shuffling the df and redo function for for 1000 entries"
   ]
  },
  {
   "cell_type": "code",
   "execution_count": 107,
   "metadata": {},
   "outputs": [
    {
     "name": "stdout",
     "output_type": "stream",
     "text": [
      "initial zeros 4414\n",
      "number of zero heights is: 55\n",
      "0\n",
      "number of zero heights is: 64\n",
      "1\n",
      "number of zero heights is: 81\n",
      "2\n",
      "number of zero heights is: 88\n",
      "3\n",
      "number of zero heights is: 73\n",
      "4\n",
      "number of zero heights is: 78\n",
      "5\n",
      "number of zero heights is: 70\n",
      "6\n",
      "number of zero heights is: 59\n",
      "7\n",
      "number of zero heights is: 67\n",
      "8\n",
      "number of zero heights is: 62\n",
      "9\n",
      "number of zero heights is: 67\n",
      "10\n",
      "number of zero heights is: 59\n",
      "11\n",
      "number of zero heights is: 69\n",
      "12\n",
      "number of zero heights is: 62\n",
      "13\n",
      "number of zero heights is: 73\n",
      "14\n",
      "number of zero heights is: 69\n",
      "15\n",
      "number of zero heights is: 73\n",
      "16\n",
      "number of zero heights is: 74\n",
      "17\n",
      "number of zero heights is: 74\n",
      "18\n",
      "number of zero heights is: 66\n",
      "19\n",
      "number of zero heights is: 66\n",
      "20\n",
      "number of zero heights is: 67\n",
      "21\n",
      "number of zero heights is: 62\n",
      "22\n",
      "number of zero heights is: 63\n",
      "23\n",
      "number of zero heights is: 59\n",
      "24\n",
      "number of zero heights is: 68\n",
      "25\n",
      "number of zero heights is: 65\n",
      "26\n",
      "number of zero heights is: 74\n",
      "27\n",
      "number of zero heights is: 71\n",
      "28\n",
      "number of zero heights is: 59\n",
      "29\n",
      "number of zero heights is: 76\n",
      "30\n",
      "number of zero heights is: 60\n",
      "31\n",
      "number of zero heights is: 58\n",
      "32\n",
      "number of zero heights is: 54\n",
      "33\n",
      "number of zero heights is: 58\n",
      "34\n",
      "number of zero heights is: 62\n",
      "35\n",
      "number of zero heights is: 75\n",
      "36\n",
      "number of zero heights is: 62\n",
      "37\n",
      "number of zero heights is: 60\n",
      "38\n",
      "number of zero heights is: 62\n",
      "39\n",
      "number of zero heights is: 60\n",
      "40\n",
      "number of zero heights is: 80\n",
      "41\n",
      "number of zero heights is: 57\n",
      "42\n",
      "number of zero heights is: 61\n",
      "43\n",
      "number of zero heights is: 82\n",
      "44\n",
      "number of zero heights is: 53\n",
      "45\n",
      "number of zero heights is: 62\n",
      "46\n",
      "number of zero heights is: 77\n",
      "47\n",
      "number of zero heights is: 68\n",
      "48\n",
      "number of zero heights is: 56\n",
      "49\n",
      "number of zero heights is: 63\n",
      "50\n",
      "number of zero heights is: 64\n",
      "51\n",
      "number of zero heights is: 58\n",
      "52\n",
      "number of zero heights is: 78\n",
      "53\n",
      "number of zero heights is: 70\n",
      "54\n",
      "number of zero heights is: 67\n",
      "55\n",
      "number of zero heights is: 74\n",
      "56\n",
      "number of zero heights is: 71\n",
      "57\n",
      "number of zero heights is: 55\n",
      "58\n",
      "number of zero heights is: 61\n",
      "59\n",
      "iterations 59\n",
      "114.43804812431335 s\n",
      "remaining zeros 4081\n"
     ]
    }
   ],
   "source": [
    "print(\"initial zeros\", df['gps_height'].value_counts()[0])\n",
    "iters = []\n",
    "start = time.time()\n",
    "for i in range(60):\n",
    "    df = df.reindex(np.random.permutation(df.index))\n",
    "    df = df.reset_index(drop=True)\n",
    "    df[:1000] = gps_helper(df[:1000])\n",
    "    iters.append(i)\n",
    "    print(i)\n",
    "\n",
    "stop = time.time()\n",
    "print(\"iterations\", max(iters))\n",
    "print(stop - start, \"s\")\n",
    "print(\"remaining zeros\", df['gps_height'].value_counts()[0])"
   ]
  },
  {
   "cell_type": "code",
   "execution_count": 41,
   "metadata": {},
   "outputs": [],
   "source": [
    "# check no corruption of ids (multiple same ids)"
   ]
  },
  {
   "cell_type": "code",
   "execution_count": 224,
   "metadata": {},
   "outputs": [
    {
     "data": {
      "text/plain": [
       "59400"
      ]
     },
     "execution_count": 224,
     "metadata": {},
     "output_type": "execute_result"
    }
   ],
   "source": [
    "df['id'].nunique()"
   ]
  },
  {
   "cell_type": "code",
   "execution_count": 59,
   "metadata": {},
   "outputs": [],
   "source": [
    "# save to a file\n",
    "# df.to_csv('/Users/RAhmed/data store/Wesleyan_Capstone/gps_adjusted.csv', index=False)"
   ]
  },
  {
   "cell_type": "code",
   "execution_count": 51,
   "metadata": {},
   "outputs": [],
   "source": [
    "# Redo for construction_year"
   ]
  },
  {
   "cell_type": "code",
   "execution_count": 52,
   "metadata": {},
   "outputs": [],
   "source": [
    "def construction_helper(df):\n",
    "    \"\"\" \n",
    "    BASED ON gps_helper function\n",
    "    INPUT is the whole dataframe, so that you can easily traverse rows and columns\n",
    "    OUTPUT is whole df that has the new construction_year\n",
    "    IDEA: if construction_year is zero, iterate df to find matches for all chosen comparison variables.\n",
    "    If all match, add the iterative row's year to a list and take average of list at end. Put that into \n",
    "    output df's entry.\n",
    "   \n",
    "    \"\"\"\n",
    "    for i in df.index:\n",
    "        # v just progess checking during running of function\n",
    "        if i % 1000 == 0:\n",
    "#             print(i)\n",
    "            pass\n",
    "        \n",
    "        if df.iat[i, 13] != 0: \n",
    "           pass\n",
    "            \n",
    "        else: \n",
    "            # initialise list that you will put matching years into\n",
    "            matching_years = []\n",
    "            for j in df.index: \n",
    "                # Many construction_year = 0, so not using these\n",
    "                if (j != i) and (df.iat[j, 13] != 0):\n",
    "                    # using a counter for readability\n",
    "                    counter = 0\n",
    "                    if df.iat[i, 4] == df.iat[j, 4]:\n",
    "                        counter += 1\n",
    "                    if df.iat[i, 11] == df.iat[j, 11]:\n",
    "                        counter += 1 \n",
    "                    if df.iat[i, 14] == df.iat[j, 14]:\n",
    "                        counter += 1 \n",
    "                    if df.iat[i, -1] == df.iat[j, -1]:\n",
    "                        counter += 1    \n",
    "                    # check if all items match\n",
    "                    if counter == 4:\n",
    "                        # if yes, add to matching_years\n",
    "                        matching_years.append(df.iat[j, 13])\n",
    "                    else:\n",
    "                        pass\n",
    "                    \n",
    "            # now need to get average year of the matches   \n",
    "            if len(matching_years) != 0:\n",
    "                df.iat[i, 13] = round(sum(matching_years)/len(matching_years))\n",
    "            else: \n",
    "                df.iat[i, 13] = 0\n",
    "\n",
    "    zero_count = 0\n",
    "    for m in df.index:\n",
    "        if df.iat[m, 13] == 0:\n",
    "            zero_count += 1\n",
    "    \n",
    "    print(\"final number of zero years is: {}\".format(zero_count))\n",
    "    return df"
   ]
  },
  {
   "cell_type": "code",
   "execution_count": 57,
   "metadata": {},
   "outputs": [
    {
     "data": {
      "text/plain": [
       "20381"
      ]
     },
     "execution_count": 57,
     "metadata": {},
     "output_type": "execute_result"
    }
   ],
   "source": [
    "df['construction_year'].value_counts()[0]"
   ]
  },
  {
   "cell_type": "code",
   "execution_count": 106,
   "metadata": {},
   "outputs": [
    {
     "name": "stdout",
     "output_type": "stream",
     "text": [
      "initial zeros 12941\n",
      "0\n",
      "final number of zero years is: 211\n",
      "0\n",
      "0\n",
      "final number of zero years is: 205\n",
      "1\n",
      "0\n",
      "final number of zero years is: 224\n",
      "2\n",
      "0\n",
      "final number of zero years is: 234\n",
      "3\n",
      "0\n",
      "final number of zero years is: 214\n",
      "4\n",
      "0\n",
      "final number of zero years is: 215\n",
      "5\n",
      "0\n",
      "final number of zero years is: 191\n",
      "6\n",
      "0\n",
      "final number of zero years is: 231\n",
      "7\n",
      "0\n",
      "final number of zero years is: 206\n",
      "8\n",
      "0\n",
      "final number of zero years is: 220\n",
      "9\n",
      "0\n",
      "final number of zero years is: 227\n",
      "10\n",
      "0\n",
      "final number of zero years is: 206\n",
      "11\n",
      "0\n",
      "final number of zero years is: 228\n",
      "12\n",
      "0\n",
      "final number of zero years is: 196\n",
      "13\n",
      "0\n",
      "final number of zero years is: 206\n",
      "14\n",
      "0\n",
      "final number of zero years is: 209\n",
      "15\n",
      "0\n",
      "final number of zero years is: 213\n",
      "16\n",
      "0\n",
      "final number of zero years is: 210\n",
      "17\n",
      "0\n",
      "final number of zero years is: 217\n",
      "18\n",
      "0\n",
      "final number of zero years is: 235\n",
      "19\n",
      "0\n",
      "final number of zero years is: 188\n",
      "20\n",
      "0\n",
      "final number of zero years is: 211\n",
      "21\n",
      "0\n",
      "final number of zero years is: 211\n",
      "22\n",
      "0\n",
      "final number of zero years is: 216\n",
      "23\n",
      "0\n",
      "final number of zero years is: 219\n",
      "24\n",
      "0\n",
      "final number of zero years is: 206\n",
      "25\n",
      "0\n",
      "final number of zero years is: 224\n",
      "26\n",
      "0\n",
      "final number of zero years is: 214\n",
      "27\n",
      "0\n",
      "final number of zero years is: 210\n",
      "28\n",
      "0\n",
      "final number of zero years is: 206\n",
      "29\n",
      "0\n",
      "final number of zero years is: 211\n",
      "30\n",
      "0\n",
      "final number of zero years is: 223\n",
      "31\n",
      "0\n",
      "final number of zero years is: 216\n",
      "32\n",
      "0\n",
      "final number of zero years is: 211\n",
      "33\n",
      "0\n",
      "final number of zero years is: 235\n",
      "34\n",
      "0\n",
      "final number of zero years is: 217\n",
      "35\n",
      "0\n",
      "final number of zero years is: 248\n",
      "36\n",
      "0\n",
      "final number of zero years is: 213\n",
      "37\n",
      "0\n",
      "final number of zero years is: 212\n",
      "38\n",
      "0\n",
      "final number of zero years is: 245\n",
      "39\n",
      "0\n",
      "final number of zero years is: 199\n",
      "40\n",
      "0\n",
      "final number of zero years is: 246\n",
      "41\n",
      "0\n",
      "final number of zero years is: 211\n",
      "42\n",
      "0\n",
      "final number of zero years is: 214\n",
      "43\n",
      "0\n",
      "final number of zero years is: 196\n",
      "44\n",
      "0\n",
      "final number of zero years is: 188\n",
      "45\n",
      "0\n",
      "final number of zero years is: 207\n",
      "46\n",
      "0\n",
      "final number of zero years is: 216\n",
      "47\n",
      "0\n",
      "final number of zero years is: 226\n",
      "48\n",
      "0\n",
      "final number of zero years is: 197\n",
      "49\n",
      "0\n",
      "final number of zero years is: 208\n",
      "50\n",
      "0\n",
      "final number of zero years is: 229\n",
      "51\n",
      "0\n",
      "final number of zero years is: 215\n",
      "52\n",
      "0\n",
      "final number of zero years is: 212\n",
      "53\n",
      "0\n",
      "final number of zero years is: 205\n",
      "54\n",
      "0\n",
      "final number of zero years is: 247\n",
      "55\n",
      "0\n",
      "final number of zero years is: 220\n",
      "56\n",
      "0\n",
      "final number of zero years is: 207\n",
      "57\n",
      "0\n",
      "final number of zero years is: 222\n",
      "58\n",
      "0\n",
      "final number of zero years is: 213\n",
      "59\n",
      "0\n",
      "final number of zero years is: 194\n",
      "60\n",
      "0\n",
      "final number of zero years is: 182\n",
      "61\n",
      "0\n",
      "final number of zero years is: 204\n",
      "62\n",
      "0\n",
      "final number of zero years is: 223\n",
      "63\n",
      "0\n",
      "final number of zero years is: 204\n",
      "64\n",
      "0\n",
      "final number of zero years is: 215\n",
      "65\n",
      "0\n",
      "final number of zero years is: 209\n",
      "66\n",
      "0\n",
      "final number of zero years is: 204\n",
      "67\n",
      "0\n",
      "final number of zero years is: 207\n",
      "68\n",
      "0\n",
      "final number of zero years is: 211\n",
      "69\n",
      "0\n",
      "final number of zero years is: 189\n",
      "70\n",
      "0\n",
      "final number of zero years is: 215\n",
      "71\n",
      "0\n",
      "final number of zero years is: 196\n",
      "72\n",
      "0\n",
      "final number of zero years is: 249\n",
      "73\n",
      "0\n",
      "final number of zero years is: 217\n",
      "74\n",
      "0\n",
      "final number of zero years is: 195\n",
      "75\n",
      "0\n",
      "final number of zero years is: 212\n",
      "76\n",
      "0\n",
      "final number of zero years is: 210\n",
      "77\n",
      "0\n",
      "final number of zero years is: 238\n",
      "78\n",
      "0\n",
      "final number of zero years is: 188\n",
      "79\n",
      "iterations 79\n",
      "747.144366979599 s\n",
      "remaining zeros 12592\n"
     ]
    }
   ],
   "source": [
    "print(\"initial zeros\", df['construction_year'].value_counts()[0])\n",
    "iters = []\n",
    "start = time.time()\n",
    "for i in range(80):\n",
    "    df = df.reindex(np.random.permutation(df.index))\n",
    "    df = df.reset_index(drop=True)\n",
    "    df[:1000] = construction_helper(df[:1000])\n",
    "    iters.append(i)\n",
    "    print(i)\n",
    "\n",
    "stop = time.time()\n",
    "print(\"iterations\", max(iters))\n",
    "print(stop - start, \"s\")\n",
    "print(\"remaining zeros\", df['construction_year'].value_counts()[0])"
   ]
  },
  {
   "cell_type": "code",
   "execution_count": 109,
   "metadata": {},
   "outputs": [],
   "source": [
    "# save to a file\n",
    "# df.to_csv('/Users/RAhmed/data store/Wesleyan_Capstone/construction_adjusted.csv', index=False)"
   ]
  },
  {
   "cell_type": "markdown",
   "metadata": {},
   "source": [
    "### 4. Preliminary data exploration"
   ]
  },
  {
   "cell_type": "markdown",
   "metadata": {},
   "source": [
    "Use Roland Jeannier's code.\n",
    "https://medium.com/@rtjeannier/pandas-101-fbb5bf86a9bc"
   ]
  },
  {
   "cell_type": "code",
   "execution_count": null,
   "metadata": {},
   "outputs": [],
   "source": [
    "def eda_helper(df):\n",
    "   dict_list = []\n",
    "   for col in df.columns:\n",
    "       data = df[col]\n",
    "       dict_ = {}\n",
    "       # The null count for a column. \n",
    "       dict_.update({\"null_count\" : data.isnull().sum()})\n",
    "       # Counting the unique values in a column\n",
    "       dict_.update({\"unique_count\" : len(data.unique())})\n",
    "       # Finding the types of data in the column\n",
    "       # This is useful for finding out potential problems with type mismatches\n",
    "       dict_.update({\"data_type\" : set([type(d).__name__ for d in data])})\n",
    "       #dict_.update({\"score\" : match[1]})\n",
    "       dict_list.append(dict_)\n",
    "   eda_df = pd.DataFrame(dict_list)\n",
    "   eda_df.index = df.columns\n",
    "   eda_df.sort_values(by=['null_count', 'unique_count'], ascending=[True, False], inplace=True)\n",
    "       \n",
    "   return eda_df"
   ]
  },
  {
   "cell_type": "code",
   "execution_count": null,
   "metadata": {},
   "outputs": [],
   "source": [
    "df = pd.read_csv('/Users/RAhmed/data store/Wesleyan_Capstone/corrected_data03.csv')\n",
    "# reindex for good luck\n",
    "df.reset_index(drop=True, inplace=True)\n",
    "# run eda_helper\n",
    "print(eda_helper(df))    "
   ]
  },
  {
   "cell_type": "markdown",
   "metadata": {},
   "source": [
    "### 2B. Need to make most predictors into a categorical variables"
   ]
  },
  {
   "cell_type": "code",
   "execution_count": null,
   "metadata": {},
   "outputs": [],
   "source": [
    "categories = {'installer', 'basin', 'region_code', \n",
    "             'population', 'public_meeting', 'scheme_management', 'permit',\n",
    "             'extraction_type_group', 'management_group', 'payment_type', \n",
    "              'water_quality', 'quantity_group', 'source_type', \n",
    "             'source_class', 'waterpoint_type_group', 'status_group'}\n",
    "\n",
    "for item in categories:\n",
    "    select_data[item] = select_data[item].astype('category')\n",
    "# check types\n",
    "select_data.dtypes"
   ]
  },
  {
   "cell_type": "markdown",
   "metadata": {},
   "source": [
    "**To Do:** Run construction_year_helper on the complete data set that you want to use. No need to run twice as seems to have no zero entries. (Shouldn't do by its construction.) "
   ]
  },
  {
   "cell_type": "code",
   "execution_count": null,
   "metadata": {},
   "outputs": [],
   "source": []
  },
  {
   "cell_type": "markdown",
   "metadata": {},
   "source": [
    "### What can you see globally?"
   ]
  },
  {
   "cell_type": "markdown",
   "metadata": {},
   "source": [
    "abc"
   ]
  },
  {
   "cell_type": "code",
   "execution_count": null,
   "metadata": {},
   "outputs": [],
   "source": [
    "# Lost categorisation - need to redo."
   ]
  },
  {
   "cell_type": "code",
   "execution_count": null,
   "metadata": {},
   "outputs": [],
   "source": [
    "# Null counts only in some places."
   ]
  },
  {
   "cell_type": "code",
   "execution_count": null,
   "metadata": {},
   "outputs": [],
   "source": [
    "df.head()"
   ]
  },
  {
   "cell_type": "code",
   "execution_count": 60,
   "metadata": {},
   "outputs": [
    {
     "data": {
      "text/plain": [
       "2047     1\n",
       "72310    1\n",
       "49805    1\n",
       "51852    1\n",
       "62091    1\n",
       "64138    1\n",
       "57993    1\n",
       "60040    1\n",
       "33413    1\n",
       "35460    1\n",
       "45699    1\n",
       "41601    1\n",
       "43648    1\n",
       "70263    1\n",
       "68212    1\n",
       "20442    1\n",
       "23134    1\n",
       "19036    1\n",
       "29275    1\n",
       "25177    1\n",
       "27224    1\n",
       "4695     1\n",
       "6742     1\n",
       "597      1\n",
       "2644     1\n",
       "10832    1\n",
       "53839    1\n",
       "55886    1\n",
       "55950    1\n",
       "53903    1\n",
       "        ..\n",
       "52531    1\n",
       "64821    1\n",
       "62836    1\n",
       "58678    1\n",
       "52595    1\n",
       "50546    1\n",
       "56689    1\n",
       "54640    1\n",
       "9582     1\n",
       "15725    1\n",
       "13676    1\n",
       "3435     1\n",
       "28007    1\n",
       "25958    1\n",
       "32101    1\n",
       "30052    1\n",
       "19811    1\n",
       "23905    1\n",
       "21856    1\n",
       "68939    1\n",
       "66890    1\n",
       "73033    1\n",
       "70984    1\n",
       "42302    1\n",
       "48445    1\n",
       "46396    1\n",
       "36155    1\n",
       "34106    1\n",
       "38200    1\n",
       "0        1\n",
       "Name: id, Length: 59400, dtype: int64"
      ]
     },
     "execution_count": 60,
     "metadata": {},
     "output_type": "execute_result"
    }
   ],
   "source": [
    "df['id'].value_counts()"
   ]
  },
  {
   "cell_type": "code",
   "execution_count": 61,
   "metadata": {},
   "outputs": [
    {
     "data": {
      "text/plain": [
       "1812"
      ]
     },
     "execution_count": 61,
     "metadata": {},
     "output_type": "execute_result"
    }
   ],
   "source": [
    "df['longitude'].value_counts()[0]"
   ]
  },
  {
   "cell_type": "code",
   "execution_count": 62,
   "metadata": {},
   "outputs": [
    {
     "data": {
      "text/plain": [
       "-2.000000e-08    1812\n",
       "-6.975052e+00       2\n",
       "-6.983115e+00       2\n",
       "-6.989456e+00       2\n",
       "-6.990731e+00       2\n",
       "-2.516619e+00       2\n",
       "-2.489378e+00       2\n",
       "-3.342432e+00       2\n",
       "-6.975965e+00       2\n",
       "-1.793342e+00       2\n",
       "-7.056923e+00       2\n",
       "-6.978322e+00       2\n",
       "-7.104625e+00       2\n",
       "-7.056372e+00       2\n",
       "-2.496459e+00       2\n",
       "-2.501627e+00       2\n",
       "-2.485227e+00       2\n",
       "-2.494353e+00       2\n",
       "-7.177203e+00       2\n",
       "-6.981326e+00       2\n",
       "-2.480043e+00       2\n",
       "-6.978755e+00       2\n",
       "-6.990549e+00       2\n",
       "-6.990147e+00       2\n",
       "-2.465246e+00       2\n",
       "-6.981884e+00       2\n",
       "-6.962475e+00       2\n",
       "-6.959749e+00       2\n",
       "-6.980122e+00       2\n",
       "-7.095131e+00       2\n",
       "                 ... \n",
       "-3.487229e+00       1\n",
       "-3.305834e+00       1\n",
       "-1.086099e+01       1\n",
       "-4.265410e+00       1\n",
       "-4.828176e+00       1\n",
       "-4.750163e+00       1\n",
       "-3.354840e+00       1\n",
       "-3.411358e+00       1\n",
       "-8.926957e+00       1\n",
       "-5.435762e+00       1\n",
       "-4.476671e+00       1\n",
       "-5.726001e+00       1\n",
       "-2.743032e+00       1\n",
       "-9.646831e+00       1\n",
       "-8.124530e+00       1\n",
       "-4.709427e+00       1\n",
       "-4.624770e+00       1\n",
       "-7.924721e+00       1\n",
       "-8.799655e+00       1\n",
       "-3.849252e+00       1\n",
       "-6.467098e+00       1\n",
       "-1.047223e+01       1\n",
       "-7.508856e+00       1\n",
       "-1.068091e+01       1\n",
       "-1.037628e+01       1\n",
       "-1.053978e+01       1\n",
       "-9.162589e+00       1\n",
       "-4.463114e+00       1\n",
       "-5.263019e+00       1\n",
       "-2.598965e+00       1\n",
       "Name: latitude, Length: 57517, dtype: int64"
      ]
     },
     "execution_count": 62,
     "metadata": {},
     "output_type": "execute_result"
    }
   ],
   "source": [
    "df['latitude'].value_counts()"
   ]
  },
  {
   "cell_type": "code",
   "execution_count": 63,
   "metadata": {},
   "outputs": [
    {
     "data": {
      "text/plain": [
       "4823"
      ]
     },
     "execution_count": 63,
     "metadata": {},
     "output_type": "execute_result"
    }
   ],
   "source": [
    "df['gps_height'].value_counts()[0]"
   ]
  },
  {
   "cell_type": "code",
   "execution_count": 64,
   "metadata": {},
   "outputs": [
    {
     "data": {
      "text/plain": [
       "0       21381\n",
       "1        7025\n",
       "200      1940\n",
       "150      1892\n",
       "250      1681\n",
       "300      1476\n",
       "100      1146\n",
       "50       1139\n",
       "500      1009\n",
       "350       986\n",
       "120       916\n",
       "400       775\n",
       "60        706\n",
       "30        626\n",
       "40        552\n",
       "80        533\n",
       "450       499\n",
       "20        462\n",
       "600       438\n",
       "230       388\n",
       "75        289\n",
       "1000      278\n",
       "800       269\n",
       "90        265\n",
       "130       264\n",
       "25        255\n",
       "320       249\n",
       "35        245\n",
       "360       222\n",
       "140       215\n",
       "        ...  \n",
       "8848        1\n",
       "628         1\n",
       "4520        1\n",
       "468         1\n",
       "693         1\n",
       "725         1\n",
       "789         1\n",
       "821         1\n",
       "5300        1\n",
       "3127        1\n",
       "2345        1\n",
       "3031        1\n",
       "886         1\n",
       "392         1\n",
       "424         1\n",
       "2807        1\n",
       "726         1\n",
       "694         1\n",
       "2569        1\n",
       "4788        1\n",
       "662         1\n",
       "4660        1\n",
       "406         1\n",
       "1032        1\n",
       "1160        1\n",
       "3241        1\n",
       "1960        1\n",
       "1685        1\n",
       "2248        1\n",
       "1439        1\n",
       "Name: population, Length: 1049, dtype: int64"
      ]
     },
     "execution_count": 64,
     "metadata": {},
     "output_type": "execute_result"
    }
   ],
   "source": [
    "df['population'].value_counts()"
   ]
  },
  {
   "cell_type": "code",
   "execution_count": 65,
   "metadata": {},
   "outputs": [
    {
     "data": {
      "text/plain": [
       "gravity            26780\n",
       "nira/tanira         8154\n",
       "other               6430\n",
       "submersible         6179\n",
       "swn 80              3670\n",
       "mono                2865\n",
       "india mark ii       2400\n",
       "afridev             1770\n",
       "rope pump            451\n",
       "other handpump       364\n",
       "other motorpump      122\n",
       "wind-powered         117\n",
       "india mark iii        98\n",
       "Name: extraction_type_group, dtype: int64"
      ]
     },
     "execution_count": 65,
     "metadata": {},
     "output_type": "execute_result"
    }
   ],
   "source": [
    "df['extraction_type_group'].value_counts()"
   ]
  },
  {
   "cell_type": "code",
   "execution_count": 66,
   "metadata": {},
   "outputs": [
    {
     "data": {
      "text/plain": [
       "soft                  50818\n",
       "salty                  4856\n",
       "unknown                1876\n",
       "milky                   804\n",
       "coloured                490\n",
       "salty abandoned         339\n",
       "fluoride                200\n",
       "fluoride abandoned       17\n",
       "Name: water_quality, dtype: int64"
      ]
     },
     "execution_count": 66,
     "metadata": {},
     "output_type": "execute_result"
    }
   ],
   "source": [
    "df['water_quality'].value_counts()"
   ]
  },
  {
   "cell_type": "code",
   "execution_count": 67,
   "metadata": {},
   "outputs": [
    {
     "data": {
      "text/plain": [
       "never pay     25348\n",
       "per bucket     8985\n",
       "monthly        8300\n",
       "unknown        8157\n",
       "on failure     3914\n",
       "annually       3642\n",
       "other          1054\n",
       "Name: payment_type, dtype: int64"
      ]
     },
     "execution_count": 67,
     "metadata": {},
     "output_type": "execute_result"
    }
   ],
   "source": [
    "df['payment_type'].value_counts()"
   ]
  },
  {
   "cell_type": "code",
   "execution_count": 68,
   "metadata": {},
   "outputs": [
    {
     "data": {
      "text/plain": [
       "spring                  17021\n",
       "shallow well            16824\n",
       "borehole                11949\n",
       "river/lake              10377\n",
       "rainwater harvesting     2295\n",
       "dam                       656\n",
       "other                     278\n",
       "Name: source_type, dtype: int64"
      ]
     },
     "execution_count": 68,
     "metadata": {},
     "output_type": "execute_result"
    }
   ],
   "source": [
    "df['source_type'].value_counts()"
   ]
  },
  {
   "cell_type": "code",
   "execution_count": 69,
   "metadata": {},
   "outputs": [
    {
     "data": {
      "text/plain": [
       "True     38852\n",
       "False    17492\n",
       "Name: permit, dtype: int64"
      ]
     },
     "execution_count": 69,
     "metadata": {},
     "output_type": "execute_result"
    }
   ],
   "source": [
    "df['permit'].value_counts()"
   ]
  },
  {
   "cell_type": "code",
   "execution_count": 70,
   "metadata": {},
   "outputs": [
    {
     "data": {
      "text/plain": [
       "Lake Victoria              10248\n",
       "Pangani                     8940\n",
       "Rufiji                      7976\n",
       "Internal                    7785\n",
       "Lake Tanganyika             6432\n",
       "Wami / Ruvu                 5987\n",
       "Lake Nyasa                  5085\n",
       "Ruvuma / Southern Coast     4493\n",
       "Lake Rukwa                  2454\n",
       "Name: basin, dtype: int64"
      ]
     },
     "execution_count": 70,
     "metadata": {},
     "output_type": "execute_result"
    }
   ],
   "source": [
    "df['basin'].value_counts()"
   ]
  },
  {
   "cell_type": "code",
   "execution_count": 71,
   "metadata": {},
   "outputs": [
    {
     "data": {
      "text/plain": [
       "user-group    52490\n",
       "commercial     3638\n",
       "parastatal     1768\n",
       "other           943\n",
       "unknown         561\n",
       "Name: management_group, dtype: int64"
      ]
     },
     "execution_count": 71,
     "metadata": {},
     "output_type": "execute_result"
    }
   ],
   "source": [
    "df['management_group'].value_counts()"
   ]
  },
  {
   "cell_type": "code",
   "execution_count": 72,
   "metadata": {},
   "outputs": [
    {
     "data": {
      "text/plain": [
       "enough          33186\n",
       "insufficient    15129\n",
       "dry              6246\n",
       "seasonal         4050\n",
       "unknown           789\n",
       "Name: quantity_group, dtype: int64"
      ]
     },
     "execution_count": 72,
     "metadata": {},
     "output_type": "execute_result"
    }
   ],
   "source": [
    "df['quantity_group'].value_counts()"
   ]
  },
  {
   "cell_type": "code",
   "execution_count": 73,
   "metadata": {},
   "outputs": [
    {
     "data": {
      "text/plain": [
       "long_rainy     22242\n",
       "short_dry      18756\n",
       "long_dry       16432\n",
       "short_rainy     1970\n",
       "Name: season_recorded, dtype: int64"
      ]
     },
     "execution_count": 73,
     "metadata": {},
     "output_type": "execute_result"
    }
   ],
   "source": [
    "df['season_recorded'].value_counts()"
   ]
  },
  {
   "cell_type": "code",
   "execution_count": 74,
   "metadata": {},
   "outputs": [
    {
     "data": {
      "text/plain": [
       "communal standpipe    34625\n",
       "hand pump             17488\n",
       "other                  6380\n",
       "improved spring         784\n",
       "cattle trough           116\n",
       "dam                       7\n",
       "Name: waterpoint_type_group, dtype: int64"
      ]
     },
     "execution_count": 74,
     "metadata": {},
     "output_type": "execute_result"
    }
   ],
   "source": [
    "df['waterpoint_type_group'].value_counts()"
   ]
  },
  {
   "cell_type": "code",
   "execution_count": 75,
   "metadata": {},
   "outputs": [
    {
     "data": {
      "text/plain": [
       "groundwater    45794\n",
       "surface        13328\n",
       "unknown          278\n",
       "Name: source_class, dtype: int64"
      ]
     },
     "execution_count": 75,
     "metadata": {},
     "output_type": "execute_result"
    }
   ],
   "source": [
    "df['source_class'].value_counts()"
   ]
  },
  {
   "cell_type": "code",
   "execution_count": 76,
   "metadata": {},
   "outputs": [
    {
     "data": {
      "text/plain": [
       "True     38852\n",
       "False    17492\n",
       "Name: permit, dtype: int64"
      ]
     },
     "execution_count": 76,
     "metadata": {},
     "output_type": "execute_result"
    }
   ],
   "source": [
    "df['permit'].value_counts()"
   ]
  },
  {
   "cell_type": "code",
   "execution_count": 77,
   "metadata": {},
   "outputs": [
    {
     "data": {
      "text/plain": [
       "DWE                         17402\n",
       "Government                   1825\n",
       "RWE                          1206\n",
       "Commu                        1060\n",
       "DANIDA                       1050\n",
       "KKKT                          898\n",
       "Hesawa                        840\n",
       "0                             777\n",
       "TCRS                          707\n",
       "Central government            622\n",
       "CES                           610\n",
       "Community                     553\n",
       "DANID                         552\n",
       "District Council              551\n",
       "HESAWA                        539\n",
       "World vision                  408\n",
       "LGA                           408\n",
       "WEDECO                        397\n",
       "TASAF                         396\n",
       "District council              392\n",
       "Gover                         383\n",
       "AMREF                         329\n",
       "TWESA                         316\n",
       "WU                            301\n",
       "Dmdd                          287\n",
       "ACRA                          278\n",
       "World Vision                  270\n",
       "SEMA                          249\n",
       "DW                            246\n",
       "OXFAM                         234\n",
       "                            ...  \n",
       "mwita                           1\n",
       "J LH CO LTD                     1\n",
       "Private company                 1\n",
       "Village Govt                    1\n",
       "TLC/Seleman Mang'ombe           1\n",
       "Mkuluku                         1\n",
       "Rc Mission                      1\n",
       "Bahresa                         1\n",
       "MANGO TREE                      1\n",
       "Nyanza road                     1\n",
       "CRAELIUS                        1\n",
       "Water Solution                  1\n",
       "Government /World Vision        1\n",
       "Rural water Supply              1\n",
       "Staford Higima                  1\n",
       "Fabia                           1\n",
       "Kinga                           1\n",
       "ms                              1\n",
       "ter                             1\n",
       "Mwl.Mwita                       1\n",
       "RC MISSION                      1\n",
       "Said Hashim                     1\n",
       "villigers                       1\n",
       "CAP                             1\n",
       "DWE /TASSAF                     1\n",
       "Holili water supply             1\n",
       "District Community j            1\n",
       "Meru Concrete                   1\n",
       "GLOBAL RESOURCE CO              1\n",
       "ICAP                            1\n",
       "Name: installer, Length: 2145, dtype: int64"
      ]
     },
     "execution_count": 77,
     "metadata": {},
     "output_type": "execute_result"
    }
   ],
   "source": [
    "df['installer'].value_counts()"
   ]
  },
  {
   "cell_type": "code",
   "execution_count": 78,
   "metadata": {},
   "outputs": [
    {
     "data": {
      "text/plain": [
       "VWC                 36793\n",
       "WUG                  5206\n",
       "Water authority      3153\n",
       "WUA                  2883\n",
       "Water Board          2748\n",
       "Parastatal           1680\n",
       "Private operator     1063\n",
       "Company              1061\n",
       "Other                 766\n",
       "SWC                    97\n",
       "Trust                  72\n",
       "None                    1\n",
       "Name: scheme_management, dtype: int64"
      ]
     },
     "execution_count": 78,
     "metadata": {},
     "output_type": "execute_result"
    }
   ],
   "source": [
    "df['scheme_management'].value_counts()"
   ]
  },
  {
   "cell_type": "code",
   "execution_count": 79,
   "metadata": {},
   "outputs": [
    {
     "data": {
      "text/plain": [
       "True     51011\n",
       "False     5055\n",
       "Name: public_meeting, dtype: int64"
      ]
     },
     "execution_count": 79,
     "metadata": {},
     "output_type": "execute_result"
    }
   ],
   "source": [
    "df['public_meeting'].value_counts()"
   ]
  },
  {
   "cell_type": "code",
   "execution_count": 80,
   "metadata": {},
   "outputs": [
    {
     "data": {
      "text/plain": [
       "functional                 32259\n",
       "non functional             22824\n",
       "functional needs repair     4317\n",
       "Name: status_group, dtype: int64"
      ]
     },
     "execution_count": 80,
     "metadata": {},
     "output_type": "execute_result"
    }
   ],
   "source": [
    "df['status_group'].value_counts()"
   ]
  },
  {
   "cell_type": "code",
   "execution_count": 212,
   "metadata": {},
   "outputs": [
    {
     "data": {
      "text/plain": [
       "0        21381\n",
       "100      16391\n",
       "1         7025\n",
       "500       5741\n",
       "1000      3947\n",
       "50        1829\n",
       "1000+     1690\n",
       "30         804\n",
       "20         592\n",
       "Name: population, dtype: int64"
      ]
     },
     "execution_count": 212,
     "metadata": {},
     "output_type": "execute_result"
    }
   ],
   "source": [
    "df['population'].value_counts()"
   ]
  },
  {
   "cell_type": "markdown",
   "metadata": {},
   "source": [
    "In retrospect, below is too involved, can be simpler."
   ]
  },
  {
   "cell_type": "code",
   "execution_count": 213,
   "metadata": {},
   "outputs": [
    {
     "data": {
      "text/plain": [
       "[('500', 5741),\n",
       " ('50', 1829),\n",
       " ('30', 804),\n",
       " ('20', 592),\n",
       " ('1000+', 1690),\n",
       " ('1000', 3947),\n",
       " ('100', 16391),\n",
       " ('1', 7025),\n",
       " ('0', 21381)]"
      ]
     },
     "execution_count": 213,
     "metadata": {},
     "output_type": "execute_result"
    }
   ],
   "source": [
    "# population_needs bins\n",
    "# look at sorting first to visually inspect potential bins\n",
    "popn_df = df['population'].value_counts().items()\n",
    "temp = {}\n",
    "for k, v in popn_df:\n",
    "    temp.update({k:v})\n",
    "sorted(temp.items(), key=lambda x: x[0], reverse=True)\n",
    "    "
   ]
  },
  {
   "cell_type": "code",
   "execution_count": 214,
   "metadata": {},
   "outputs": [],
   "source": [
    "# good 'category' bins look like 0, 1, 2-20, 20-30, 30-50, 50-100, 100-200, 200-300, 300-500, 500-1000, > 1000\n",
    "# can do that after. Method will be create a category with a string name"
   ]
  },
  {
   "cell_type": "code",
   "execution_count": 225,
   "metadata": {},
   "outputs": [
    {
     "ename": "TypeError",
     "evalue": "'<=' not supported between instances of 'int' and 'str'",
     "output_type": "error",
     "traceback": [
      "\u001b[0;31m---------------------------------------------------------------------------\u001b[0m",
      "\u001b[0;31mTypeError\u001b[0m                                 Traceback (most recent call last)",
      "\u001b[0;32m<ipython-input-225-4c21cc7e210d>\u001b[0m in \u001b[0;36m<module>\u001b[0;34m()\u001b[0m\n\u001b[1;32m     27\u001b[0m \u001b[0;31m#     print(item, type(item))\u001b[0m\u001b[0;34m\u001b[0m\u001b[0;34m\u001b[0m\u001b[0m\n\u001b[1;32m     28\u001b[0m \u001b[0;31m# run function on df\u001b[0m\u001b[0;34m\u001b[0m\u001b[0;34m\u001b[0m\u001b[0m\n\u001b[0;32m---> 29\u001b[0;31m \u001b[0mdf\u001b[0m\u001b[0;34m.\u001b[0m\u001b[0mpopulation\u001b[0m \u001b[0;34m=\u001b[0m \u001b[0mdf\u001b[0m\u001b[0;34m.\u001b[0m\u001b[0mpopulation\u001b[0m\u001b[0;34m.\u001b[0m\u001b[0mapply\u001b[0m\u001b[0;34m(\u001b[0m\u001b[0mpopn_bins\u001b[0m\u001b[0;34m)\u001b[0m\u001b[0;34m\u001b[0m\u001b[0m\n\u001b[0m",
      "\u001b[0;32m~/anaconda3/lib/python3.6/site-packages/pandas/core/series.py\u001b[0m in \u001b[0;36mapply\u001b[0;34m(self, func, convert_dtype, args, **kwds)\u001b[0m\n\u001b[1;32m   3190\u001b[0m             \u001b[0;32melse\u001b[0m\u001b[0;34m:\u001b[0m\u001b[0;34m\u001b[0m\u001b[0m\n\u001b[1;32m   3191\u001b[0m                 \u001b[0mvalues\u001b[0m \u001b[0;34m=\u001b[0m \u001b[0mself\u001b[0m\u001b[0;34m.\u001b[0m\u001b[0mastype\u001b[0m\u001b[0;34m(\u001b[0m\u001b[0mobject\u001b[0m\u001b[0;34m)\u001b[0m\u001b[0;34m.\u001b[0m\u001b[0mvalues\u001b[0m\u001b[0;34m\u001b[0m\u001b[0m\n\u001b[0;32m-> 3192\u001b[0;31m                 \u001b[0mmapped\u001b[0m \u001b[0;34m=\u001b[0m \u001b[0mlib\u001b[0m\u001b[0;34m.\u001b[0m\u001b[0mmap_infer\u001b[0m\u001b[0;34m(\u001b[0m\u001b[0mvalues\u001b[0m\u001b[0;34m,\u001b[0m \u001b[0mf\u001b[0m\u001b[0;34m,\u001b[0m \u001b[0mconvert\u001b[0m\u001b[0;34m=\u001b[0m\u001b[0mconvert_dtype\u001b[0m\u001b[0;34m)\u001b[0m\u001b[0;34m\u001b[0m\u001b[0m\n\u001b[0m\u001b[1;32m   3193\u001b[0m \u001b[0;34m\u001b[0m\u001b[0m\n\u001b[1;32m   3194\u001b[0m         \u001b[0;32mif\u001b[0m \u001b[0mlen\u001b[0m\u001b[0;34m(\u001b[0m\u001b[0mmapped\u001b[0m\u001b[0;34m)\u001b[0m \u001b[0;32mand\u001b[0m \u001b[0misinstance\u001b[0m\u001b[0;34m(\u001b[0m\u001b[0mmapped\u001b[0m\u001b[0;34m[\u001b[0m\u001b[0;36m0\u001b[0m\u001b[0;34m]\u001b[0m\u001b[0;34m,\u001b[0m \u001b[0mSeries\u001b[0m\u001b[0;34m)\u001b[0m\u001b[0;34m:\u001b[0m\u001b[0;34m\u001b[0m\u001b[0m\n",
      "\u001b[0;32mpandas/_libs/src/inference.pyx\u001b[0m in \u001b[0;36mpandas._libs.lib.map_infer\u001b[0;34m()\u001b[0m\n",
      "\u001b[0;32m<ipython-input-225-4c21cc7e210d>\u001b[0m in \u001b[0;36mpopn_bins\u001b[0;34m(population)\u001b[0m\n\u001b[1;32m      5\u001b[0m     \u001b[0;32melif\u001b[0m \u001b[0mpopulation\u001b[0m \u001b[0;34m==\u001b[0m \u001b[0;36m1\u001b[0m\u001b[0;34m:\u001b[0m\u001b[0;34m\u001b[0m\u001b[0m\n\u001b[1;32m      6\u001b[0m         \u001b[0;32mreturn\u001b[0m \u001b[0;34m'1'\u001b[0m\u001b[0;34m\u001b[0m\u001b[0m\n\u001b[0;32m----> 7\u001b[0;31m     \u001b[0;32melif\u001b[0m \u001b[0;36m2\u001b[0m \u001b[0;34m<=\u001b[0m \u001b[0mpopulation\u001b[0m \u001b[0;34m<\u001b[0m  \u001b[0;36m20\u001b[0m\u001b[0;34m:\u001b[0m\u001b[0;34m\u001b[0m\u001b[0m\n\u001b[0m\u001b[1;32m      8\u001b[0m         \u001b[0;32mreturn\u001b[0m \u001b[0;34m'20'\u001b[0m\u001b[0;34m\u001b[0m\u001b[0m\n\u001b[1;32m      9\u001b[0m     \u001b[0;32melif\u001b[0m \u001b[0;36m20\u001b[0m \u001b[0;34m<=\u001b[0m \u001b[0mpopulation\u001b[0m \u001b[0;34m<\u001b[0m  \u001b[0;36m30\u001b[0m\u001b[0;34m:\u001b[0m\u001b[0;34m\u001b[0m\u001b[0m\n",
      "\u001b[0;31mTypeError\u001b[0m: '<=' not supported between instances of 'int' and 'str'"
     ]
    }
   ],
   "source": [
    "# function to create bins for population variable\n",
    "def popn_bins(population):\n",
    "    if population == 0:\n",
    "        return '0'\n",
    "    elif population == 1:\n",
    "        return '1'\n",
    "    elif 2 <= population <  20:\n",
    "        return '20'\n",
    "    elif 20 <= population <  30:\n",
    "        return '30'\n",
    "    elif 30 <= population <  50:\n",
    "        return '50'\n",
    "    elif 50 <= population <  100:\n",
    "        return '100'\n",
    "    elif 100 <= population <  200:\n",
    "        return '100'\n",
    "    elif 200 <= population <  300:\n",
    "        return '100'\n",
    "    elif 300 <= population <  500:\n",
    "        return '500'\n",
    "    elif 500 <= population <  1000:\n",
    "        return '1000'\n",
    "    else:\n",
    "        return '1000+'\n",
    "\n",
    "# for item in df.population:\n",
    "#     print(item, type(item))\n",
    "# run function on df\n",
    "df.population = df.population.apply(popn_bins)\n"
   ]
  },
  {
   "cell_type": "code",
   "execution_count": 216,
   "metadata": {},
   "outputs": [
    {
     "data": {
      "text/html": [
       "<div>\n",
       "<style scoped>\n",
       "    .dataframe tbody tr th:only-of-type {\n",
       "        vertical-align: middle;\n",
       "    }\n",
       "\n",
       "    .dataframe tbody tr th {\n",
       "        vertical-align: top;\n",
       "    }\n",
       "\n",
       "    .dataframe thead th {\n",
       "        text-align: right;\n",
       "    }\n",
       "</style>\n",
       "<table border=\"1\" class=\"dataframe\">\n",
       "  <thead>\n",
       "    <tr style=\"text-align: right;\">\n",
       "      <th></th>\n",
       "      <th>id</th>\n",
       "      <th>date_recorded</th>\n",
       "      <th>season_recorded</th>\n",
       "      <th>gps_height</th>\n",
       "      <th>installer</th>\n",
       "      <th>longitude</th>\n",
       "      <th>latitude</th>\n",
       "      <th>basin</th>\n",
       "      <th>region_code</th>\n",
       "      <th>population</th>\n",
       "      <th>...</th>\n",
       "      <th>construction_year</th>\n",
       "      <th>extraction_type_group</th>\n",
       "      <th>management_group</th>\n",
       "      <th>payment_type</th>\n",
       "      <th>water_quality</th>\n",
       "      <th>quantity_group</th>\n",
       "      <th>source_type</th>\n",
       "      <th>source_class</th>\n",
       "      <th>waterpoint_type_group</th>\n",
       "      <th>status_group</th>\n",
       "    </tr>\n",
       "  </thead>\n",
       "  <tbody>\n",
       "    <tr>\n",
       "      <th>0</th>\n",
       "      <td>71096</td>\n",
       "      <td>25/03/13</td>\n",
       "      <td>long_rainy</td>\n",
       "      <td>1542</td>\n",
       "      <td>Government</td>\n",
       "      <td>37.894287</td>\n",
       "      <td>-4.363519</td>\n",
       "      <td>Pangani</td>\n",
       "      <td>3</td>\n",
       "      <td>100</td>\n",
       "      <td>...</td>\n",
       "      <td>1978</td>\n",
       "      <td>gravity</td>\n",
       "      <td>user-group</td>\n",
       "      <td>annually</td>\n",
       "      <td>soft</td>\n",
       "      <td>insufficient</td>\n",
       "      <td>spring</td>\n",
       "      <td>groundwater</td>\n",
       "      <td>communal standpipe</td>\n",
       "      <td>functional</td>\n",
       "    </tr>\n",
       "    <tr>\n",
       "      <th>1</th>\n",
       "      <td>53061</td>\n",
       "      <td>26/02/11</td>\n",
       "      <td>short_dry</td>\n",
       "      <td>1</td>\n",
       "      <td>Da</td>\n",
       "      <td>38.847129</td>\n",
       "      <td>-6.545266</td>\n",
       "      <td>Wami / Ruvu</td>\n",
       "      <td>6</td>\n",
       "      <td>20</td>\n",
       "      <td>...</td>\n",
       "      <td>2001</td>\n",
       "      <td>mono</td>\n",
       "      <td>commercial</td>\n",
       "      <td>never pay</td>\n",
       "      <td>soft</td>\n",
       "      <td>enough</td>\n",
       "      <td>river/lake</td>\n",
       "      <td>surface</td>\n",
       "      <td>communal standpipe</td>\n",
       "      <td>functional</td>\n",
       "    </tr>\n",
       "    <tr>\n",
       "      <th>2</th>\n",
       "      <td>22230</td>\n",
       "      <td>25/03/11</td>\n",
       "      <td>long_rainy</td>\n",
       "      <td>8</td>\n",
       "      <td>Community</td>\n",
       "      <td>36.422095</td>\n",
       "      <td>-6.225916</td>\n",
       "      <td>Wami / Ruvu</td>\n",
       "      <td>1</td>\n",
       "      <td>0</td>\n",
       "      <td>...</td>\n",
       "      <td>1992</td>\n",
       "      <td>gravity</td>\n",
       "      <td>user-group</td>\n",
       "      <td>never pay</td>\n",
       "      <td>soft</td>\n",
       "      <td>enough</td>\n",
       "      <td>spring</td>\n",
       "      <td>groundwater</td>\n",
       "      <td>communal standpipe</td>\n",
       "      <td>functional</td>\n",
       "    </tr>\n",
       "    <tr>\n",
       "      <th>3</th>\n",
       "      <td>46668</td>\n",
       "      <td>13/03/13</td>\n",
       "      <td>long_rainy</td>\n",
       "      <td>-15</td>\n",
       "      <td>0</td>\n",
       "      <td>39.342677</td>\n",
       "      <td>-6.855024</td>\n",
       "      <td>Wami / Ruvu</td>\n",
       "      <td>7</td>\n",
       "      <td>20</td>\n",
       "      <td>...</td>\n",
       "      <td>2000</td>\n",
       "      <td>mono</td>\n",
       "      <td>other</td>\n",
       "      <td>per bucket</td>\n",
       "      <td>salty</td>\n",
       "      <td>enough</td>\n",
       "      <td>borehole</td>\n",
       "      <td>groundwater</td>\n",
       "      <td>communal standpipe</td>\n",
       "      <td>functional</td>\n",
       "    </tr>\n",
       "    <tr>\n",
       "      <th>4</th>\n",
       "      <td>13080</td>\n",
       "      <td>04/07/13</td>\n",
       "      <td>long_dry</td>\n",
       "      <td>1347</td>\n",
       "      <td>DW</td>\n",
       "      <td>36.528006</td>\n",
       "      <td>-3.393788</td>\n",
       "      <td>Internal</td>\n",
       "      <td>2</td>\n",
       "      <td>100</td>\n",
       "      <td>...</td>\n",
       "      <td>2009</td>\n",
       "      <td>gravity</td>\n",
       "      <td>user-group</td>\n",
       "      <td>unknown</td>\n",
       "      <td>soft</td>\n",
       "      <td>insufficient</td>\n",
       "      <td>spring</td>\n",
       "      <td>groundwater</td>\n",
       "      <td>communal standpipe</td>\n",
       "      <td>functional</td>\n",
       "    </tr>\n",
       "  </tbody>\n",
       "</table>\n",
       "<p>5 rows × 23 columns</p>\n",
       "</div>"
      ],
      "text/plain": [
       "      id date_recorded season_recorded  gps_height   installer  longitude  \\\n",
       "0  71096      25/03/13      long_rainy        1542  Government  37.894287   \n",
       "1  53061      26/02/11       short_dry           1          Da  38.847129   \n",
       "2  22230      25/03/11      long_rainy           8   Community  36.422095   \n",
       "3  46668      13/03/13      long_rainy         -15           0  39.342677   \n",
       "4  13080      04/07/13        long_dry        1347          DW  36.528006   \n",
       "\n",
       "   latitude        basin  region_code population     ...       \\\n",
       "0 -4.363519      Pangani            3        100     ...        \n",
       "1 -6.545266  Wami / Ruvu            6         20     ...        \n",
       "2 -6.225916  Wami / Ruvu            1          0     ...        \n",
       "3 -6.855024  Wami / Ruvu            7         20     ...        \n",
       "4 -3.393788     Internal            2        100     ...        \n",
       "\n",
       "  construction_year extraction_type_group management_group  payment_type  \\\n",
       "0              1978               gravity       user-group      annually   \n",
       "1              2001                  mono       commercial     never pay   \n",
       "2              1992               gravity       user-group     never pay   \n",
       "3              2000                  mono            other    per bucket   \n",
       "4              2009               gravity       user-group       unknown   \n",
       "\n",
       "  water_quality quantity_group source_type source_class waterpoint_type_group  \\\n",
       "0          soft   insufficient      spring  groundwater    communal standpipe   \n",
       "1          soft         enough  river/lake      surface    communal standpipe   \n",
       "2          soft         enough      spring  groundwater    communal standpipe   \n",
       "3         salty         enough    borehole  groundwater    communal standpipe   \n",
       "4          soft   insufficient      spring  groundwater    communal standpipe   \n",
       "\n",
       "  status_group  \n",
       "0   functional  \n",
       "1   functional  \n",
       "2   functional  \n",
       "3   functional  \n",
       "4   functional  \n",
       "\n",
       "[5 rows x 23 columns]"
      ]
     },
     "execution_count": 216,
     "metadata": {},
     "output_type": "execute_result"
    }
   ],
   "source": [
    "df.head()"
   ]
  },
  {
   "cell_type": "code",
   "execution_count": 217,
   "metadata": {},
   "outputs": [
    {
     "data": {
      "text/plain": [
       "0     100\n",
       "1      20\n",
       "2       0\n",
       "3      20\n",
       "4     100\n",
       "5     100\n",
       "6       1\n",
       "7       0\n",
       "8     500\n",
       "9       0\n",
       "10    500\n",
       "11      1\n",
       "12      0\n",
       "13      0\n",
       "14      0\n",
       "15      1\n",
       "16      1\n",
       "17    100\n",
       "18    500\n",
       "19      1\n",
       "20    100\n",
       "21    100\n",
       "22    500\n",
       "23    100\n",
       "24      0\n",
       "Name: population, dtype: object"
      ]
     },
     "execution_count": 217,
     "metadata": {},
     "output_type": "execute_result"
    }
   ],
   "source": [
    "df.population[:25]"
   ]
  },
  {
   "cell_type": "markdown",
   "metadata": {},
   "source": [
    "### Installer"
   ]
  },
  {
   "cell_type": "code",
   "execution_count": 218,
   "metadata": {},
   "outputs": [
    {
     "name": "stdout",
     "output_type": "stream",
     "text": [
      "DW                         17847\n",
      "Government                  3103\n",
      "Community                   1675\n",
      "DANIDA                      1602\n",
      "Hesawa                      1379\n",
      "RWE                         1206\n",
      "KKKT                        1187\n",
      "Council                     1166\n",
      "one_off                     1098\n",
      "Fin Water                    972\n",
      "0                            777\n",
      "TCRS                         707\n",
      "CES                          610\n",
      "TASAF                        502\n",
      "TWE                          436\n",
      "LGA                          408\n",
      "World vision                 408\n",
      "WEDECO                       397\n",
      "Gover                        383\n",
      "Japan Government             355\n",
      "UNICEF                       332\n",
      "OXFAM                        330\n",
      "AMREF                        329\n",
      "WU                           301\n",
      "Dmdd                         287\n",
      "ACRA                         278\n",
      "ADRA                         276\n",
      "World Vision                 270\n",
      "SEMA                         249\n",
      "Kilwa company                244\n",
      "                           ...  \n",
      "MASWI CO                       2\n",
      "DCCA                           2\n",
      "SERENA                         2\n",
      "Niger                          2\n",
      "Islamic Agency Tanzania        2\n",
      "Mzung                          2\n",
      "SHIP                           2\n",
      "IRC                            2\n",
      "DW E                           2\n",
      "DWT                            2\n",
      "ITALI                          2\n",
      "WINNIN SPIRIT CO LTD           2\n",
      "Ilolangulu water supply        2\n",
      "Hospital                       2\n",
      "Compa                          2\n",
      "Mwita Muremi                   2\n",
      "PMO                            2\n",
      "Rotar                          2\n",
      "Foreigne                       2\n",
      "Henure Dema                    2\n",
      "N.P.R.                         2\n",
      "AQUARMAN DRILLERS              2\n",
      "MDRD_                          2\n",
      "Bokera W                       2\n",
      "Roma                           2\n",
      "Tanganyika Basin               2\n",
      "Elias Mahemba                  2\n",
      "Egypt Government               2\n",
      "DMK                            2\n",
      "Villaers                       2\n",
      "Name: installer, Length: 884, dtype: int64\n"
     ]
    },
    {
     "data": {
      "text/plain": [
       "[('-', 3),\n",
       " ('0', 777),\n",
       " ('AAR', 4),\n",
       " ('ABASIA', 29),\n",
       " ('AC', 2),\n",
       " ('ACORD', 3),\n",
       " ('ACRA', 278),\n",
       " ('ACTIVE TANK CO LTD', 11),\n",
       " ('AD', 14),\n",
       " ('ADAP', 4),\n",
       " ('ADB', 5),\n",
       " ('ADP', 33),\n",
       " ('ADRA', 276),\n",
       " ('AF', 4),\n",
       " ('AFRICA', 2),\n",
       " ('AFRICA MUSLIM', 3),\n",
       " ('AFRICAN DEVELOPMENT FOUNDATION', 6),\n",
       " ('AI', 105),\n",
       " ('AIMGOLD', 9),\n",
       " ('AMP Contract', 21),\n",
       " ('AMREF', 329),\n",
       " ('APM', 2),\n",
       " ('AQAL', 2),\n",
       " ('AQUARMAN DRILLERS', 2),\n",
       " ('ASDP', 2),\n",
       " ('ATIGH BUILDINGS', 10),\n",
       " ('AUSTRALIA', 4),\n",
       " ('AUWASA', 10),\n",
       " ('Accra', 30),\n",
       " ('Action Contre La Faim', 8),\n",
       " ('Active MKM', 26),\n",
       " ('Adam', 2),\n",
       " ('Af', 25),\n",
       " ('Africa', 4),\n",
       " ('Africa Amini Alama', 2),\n",
       " ('Africare', 2),\n",
       " ('Amboni Plantation', 4),\n",
       " ('American', 116),\n",
       " ('Anglican Church', 135),\n",
       " ('Ar', 2),\n",
       " ('Arabs Community', 2),\n",
       " ('Ardhi', 13),\n",
       " ('Artisan', 139),\n",
       " ('Athumani  Janguo', 2),\n",
       " ('Atlas Company', 5),\n",
       " ('BENGUKA', 13),\n",
       " ('BESADA', 26),\n",
       " ('BFFS', 5),\n",
       " ('BGM', 21),\n",
       " ('BILILA', 5),\n",
       " ('BR', 8),\n",
       " ('BRUDER', 16),\n",
       " ('BSF', 35),\n",
       " ('Baric', 7),\n",
       " ('Belgiam Government', 8),\n",
       " ('Belgij', 3),\n",
       " ('Bingo foundation', 2),\n",
       " ('BioRe', 3),\n",
       " ('Bobby', 3),\n",
       " ('Bokera W', 2),\n",
       " ('Bridge north', 4),\n",
       " ('Buguba', 3),\n",
       " ('Building works Company Ltd', 3),\n",
       " ('Bulyahunlu Gold Mine', 8),\n",
       " ('CARITAS', 16),\n",
       " ('CBHCC', 41),\n",
       " ('CCEC', 29),\n",
       " ('CCPS', 2),\n",
       " ('CCT', 9),\n",
       " ('CDTF', 50),\n",
       " ('CEFA', 75),\n",
       " ('CES', 610),\n",
       " ('CG', 19),\n",
       " ('CHANI', 2),\n",
       " ('CHENI', 3),\n",
       " ('CIP', 2),\n",
       " ('CIPRO', 2),\n",
       " ('CIPRO/CARE', 3),\n",
       " ('CIPRO/CARE/TCRS', 6),\n",
       " ('CIPRO/Government', 21),\n",
       " ('CITIZEN ENGINE', 17),\n",
       " ('CJEJOW', 30),\n",
       " ('CMSR', 24),\n",
       " ('COBASHEC', 3),\n",
       " ('COCANE', 27),\n",
       " ('COEK', 2),\n",
       " ('CONCERN', 22),\n",
       " ('CONS', 24),\n",
       " ('COSMOS ENG LTD', 7),\n",
       " ('COUN', 7),\n",
       " ('CPRO', 5),\n",
       " ('CSPD', 5),\n",
       " ('Caltas', 4),\n",
       " ('Caltus', 4),\n",
       " ('Calvary connection', 2),\n",
       " ('Canada na Tanzania', 12),\n",
       " ('Canop', 13),\n",
       " ('Care international', 22),\n",
       " ('Cast', 4),\n",
       " ('Ce', 23),\n",
       " ('Cefa', 15),\n",
       " ('Central Government', 110),\n",
       " ('Ch', 34),\n",
       " ('Chamavita', 75),\n",
       " ('Chiko', 5),\n",
       " ('China', 19),\n",
       " ('Clause workers', 6),\n",
       " ('Co', 55),\n",
       " ('Colonial Government', 5),\n",
       " ('Community', 1675),\n",
       " ('Compa', 2),\n",
       " ('Conce', 11),\n",
       " ('Concern', 22),\n",
       " ('Concern /government', 7),\n",
       " ('Concern/Government', 2),\n",
       " ('Cons', 7),\n",
       " ('Consultant', 168),\n",
       " ('Contr', 8),\n",
       " ('Cosmo', 34),\n",
       " ('Council', 1166),\n",
       " ('Cultus', 2),\n",
       " ('D', 10),\n",
       " ('DA', 84),\n",
       " ('DADP', 2),\n",
       " ('DADS', 17),\n",
       " ('DADS/Village community', 2),\n",
       " ('DADS/village community', 5),\n",
       " ('DAK', 11),\n",
       " ('DALDO', 12),\n",
       " ('DANIDA', 1602),\n",
       " ('DANNY', 2),\n",
       " ('DARDO', 6),\n",
       " ('DASIP', 10),\n",
       " ('DAWASCO', 64),\n",
       " ('DBFPE', 3),\n",
       " ('DBSPE', 5),\n",
       " ('DCCA', 2),\n",
       " ('DCT', 7),\n",
       " ('DDCA', 126),\n",
       " ('DDCA CO', 2),\n",
       " ('DDP', 2),\n",
       " ('DE', 2),\n",
       " ('DED', 105),\n",
       " ('DEE', 4),\n",
       " ('DENISH', 2),\n",
       " ('DESK C', 5),\n",
       " ('DH', 202),\n",
       " ('DHV', 54),\n",
       " ('DMDD', 89),\n",
       " ('DMK', 2),\n",
       " ('DO', 8),\n",
       " ('DODDEA', 2),\n",
       " ('DSV', 2),\n",
       " ('DUWAS', 8),\n",
       " ('DW', 17847),\n",
       " ('DW E', 2),\n",
       " ('DWSP', 192),\n",
       " ('DWT', 2),\n",
       " ('Da', 224),\n",
       " ('Danid', 72),\n",
       " ('Dhinu', 3),\n",
       " ('Diocese of Geita', 4),\n",
       " ('District COUNCIL', 6),\n",
       " ('District water depar', 46),\n",
       " ('Diwani', 2),\n",
       " ('Dmdd', 287),\n",
       " ('Do', 29),\n",
       " ('Dr. Matobola', 7),\n",
       " ('Dr. Matomola', 9),\n",
       " ('Dwe', 3),\n",
       " ('EA', 5),\n",
       " ('EFAM', 4),\n",
       " ('EFG', 18),\n",
       " ('EL', 12),\n",
       " ('ENO', 2),\n",
       " ('ERETO', 27),\n",
       " ('ESAWA', 2),\n",
       " ('Edward', 2),\n",
       " ('Efarm', 2),\n",
       " ('Egypt', 3),\n",
       " ('Egypt Government', 2),\n",
       " ('Elias Mahemba', 2),\n",
       " ('Eliza', 3),\n",
       " ('Engin', 3),\n",
       " ('Enyueti', 3),\n",
       " ('European Union', 9),\n",
       " ('Exaud Msambwa', 11),\n",
       " ('FLORESTA', 3),\n",
       " ('FOLAC', 2),\n",
       " ('FPCT', 14),\n",
       " ('FPTC', 2),\n",
       " ('FURAHIA TRADING', 3),\n",
       " ('Fathe', 22),\n",
       " ('Faudh Tamimu', 2),\n",
       " ('FiNI WATER', 3),\n",
       " ('Fin Water', 972),\n",
       " ('Foreigne', 2),\n",
       " ('Free Pentecoste Church of Tanz', 4),\n",
       " ('GACHUMA GINERY', 3),\n",
       " ('GAICA', 5),\n",
       " ('GEN', 55),\n",
       " ('GEOCHAINA', 4),\n",
       " ('GEOTAN', 24),\n",
       " ('GERMANY MISSIONARY', 9),\n",
       " ('GIDA contractor', 5),\n",
       " ('GRA', 3),\n",
       " ('GREINAKER', 5),\n",
       " ('GRUMETI', 45),\n",
       " ('GTZ', 63),\n",
       " ('GURUMETI SAGITA', 2),\n",
       " ('Ga', 42),\n",
       " ('Gain', 10),\n",
       " ('Geita Goldmain', 3),\n",
       " ('George', 2),\n",
       " ('Germany', 7),\n",
       " ('Go', 97),\n",
       " ('Gold star', 5),\n",
       " ('Goldstar', 12),\n",
       " ('Gove', 222),\n",
       " ('Gover', 383),\n",
       " ('Governme', 2),\n",
       " ('Government', 3103),\n",
       " ('Greec', 5),\n",
       " ('Green', 2),\n",
       " ('Grobal resource alliance', 15),\n",
       " ('Gtz', 3),\n",
       " ('Gwasco', 40),\n",
       " ('H', 86),\n",
       " ('HAM', 12),\n",
       " ('HAPA', 44),\n",
       " ('HDV', 2),\n",
       " ('HE', 125),\n",
       " ('HIAP', 4),\n",
       " ('HOLLAND', 31),\n",
       " ('HPA', 2),\n",
       " ('HSW', 100),\n",
       " ('HW/RC', 27),\n",
       " ('Ha', 3),\n",
       " ('Halmashauli', 3),\n",
       " ('Halmashauri', 23),\n",
       " ('Halmashauri wilaya', 2),\n",
       " ('Halmashauri ya manispa tabora', 12),\n",
       " ('Halmashauri ya mburu', 3),\n",
       " ('Halmashauri ya wilaya', 3),\n",
       " ('Halmashauri ya wilaya sikonge', 102),\n",
       " ('Halmashauri/Quick win project', 3),\n",
       " ('Handeni Trunk Main(', 156),\n",
       " ('Hanja Lt', 2),\n",
       " ('Hans', 25),\n",
       " ('Happy watoto foundation', 30),\n",
       " ('Healt', 9),\n",
       " ('Henure Dema', 2),\n",
       " ('Hesawa', 1379),\n",
       " ('Hindu', 3),\n",
       " ('Hospi', 3),\n",
       " ('Hospital', 2),\n",
       " ('Howard and humfrey consultant', 4),\n",
       " ('Hydom Luthelani', 3),\n",
       " ('Hydrotec', 22),\n",
       " ('I.E.C', 8),\n",
       " ('IADO', 2),\n",
       " ('ICS', 25),\n",
       " ('IDARA', 9),\n",
       " ('IDC', 5),\n",
       " ('IDEA', 10),\n",
       " ('IDYDC', 18),\n",
       " ('IFAD', 25),\n",
       " ('ILCT', 23),\n",
       " ('IRAN GOVERN', 2),\n",
       " ('IRC', 2),\n",
       " ('IREVEA SISTER', 4),\n",
       " ('ISF', 164),\n",
       " ('ISSAC MOLLEL', 3),\n",
       " ('ITALI', 2),\n",
       " ('Idara ya maji', 222),\n",
       " ('Ifakara', 3),\n",
       " ('Ikela Wa', 9),\n",
       " ('Ilolangulu water supply', 2),\n",
       " ('In', 3),\n",
       " ('India', 5),\n",
       " ('Individual', 2),\n",
       " ('Individuals', 28),\n",
       " ('Institution', 8),\n",
       " ('Inter', 13),\n",
       " ('Inves', 3),\n",
       " ('Ir', 119),\n",
       " ('Is', 154),\n",
       " ('Islam', 6),\n",
       " ('Islamic', 215),\n",
       " ('Islamic Agency Tanzania', 2),\n",
       " ('Italy government', 3),\n",
       " ('JAICA CO', 4),\n",
       " ('JANDU PLUMBER  CO', 18),\n",
       " ('JANDU PLUMBER CO', 41),\n",
       " ('JAWABU', 2),\n",
       " ('JBG', 37),\n",
       " ('JHL CO LTD', 2),\n",
       " ('JIKA', 24),\n",
       " ('JLH CO LTD', 4),\n",
       " ('JUIN', 29),\n",
       " ('Ja', 15),\n",
       " ('Japan', 9),\n",
       " ('Japan Government', 355),\n",
       " ('Jeica', 12),\n",
       " ('Jeshi la Wokovu', 3),\n",
       " ('Jica', 28),\n",
       " ('Jicks', 21),\n",
       " ('Jika', 2),\n",
       " ('Judge Mchome', 2),\n",
       " ('Juma Maro', 2),\n",
       " ('K', 2),\n",
       " ('KA', 46),\n",
       " ('KADP', 20),\n",
       " ('KAEMP', 30),\n",
       " ('KARUMBA BUILDING COMPANY LTD', 2),\n",
       " ('KASHWA', 5),\n",
       " ('KEREBUKA', 3),\n",
       " ('KIBO', 2),\n",
       " ('KIDP', 36),\n",
       " ('KILI WATER', 38),\n",
       " ('KILL WATER', 2),\n",
       " ('KIM KIM CONSTRUCTION', 19),\n",
       " ('KIMKUM', 6),\n",
       " ('KINAPA', 5),\n",
       " ('KIUMA', 32),\n",
       " ('KKKT', 1187),\n",
       " ('KMCL', 10),\n",
       " ('KMT', 3),\n",
       " ('KOBERG', 3),\n",
       " ('KOICA', 4),\n",
       " ('KONOIKE', 7),\n",
       " ('KOREA', 2),\n",
       " ('KOWI', 4),\n",
       " ('KTA C', 7),\n",
       " ('KUWASA', 38),\n",
       " ('KWIKWIZ', 10),\n",
       " ('KYASHA ENTERPR', 26),\n",
       " ('Kaembe', 3),\n",
       " ('Kalago enterprises Co.Ltd', 9),\n",
       " ('Kalitasi', 24),\n",
       " ('Kalta', 30),\n",
       " ('Kalumbwa', 9),\n",
       " ('Kaluwike', 3),\n",
       " ('Kanisa', 6),\n",
       " ('Kanisa katoliki', 5),\n",
       " ('Karugendo', 11),\n",
       " ('Kata', 2),\n",
       " ('Ki', 97),\n",
       " ('Kibaha Town Council', 3),\n",
       " ('Kigoma municipal', 7),\n",
       " ('Kijiji', 2),\n",
       " ('Kiliflora', 13),\n",
       " ('Killflora /Community', 8),\n",
       " ('Killflora/ Community', 12),\n",
       " ('Kilolo Star', 2),\n",
       " ('Kilomber', 2),\n",
       " ('Kilwa company', 244),\n",
       " ('Kirdep', 5),\n",
       " ('KkKT', 10),\n",
       " ('Kkkt', 2),\n",
       " ('Ko', 2),\n",
       " ('Kokeni', 30),\n",
       " ('Konoike', 7),\n",
       " ('Korogwe water works', 23),\n",
       " ('Kuamu', 19),\n",
       " ('Kyariga', 2),\n",
       " ('L', 3),\n",
       " ('LAMP', 10),\n",
       " ('LENCH', 6),\n",
       " ('LGA', 408),\n",
       " ('LGCDG', 3),\n",
       " ('LINDALA CO', 3),\n",
       " (\"LION'S\", 2),\n",
       " ('LIPS', 2),\n",
       " ('LIUWASSA', 2),\n",
       " ('LIVI', 15),\n",
       " ('LOCAL CONTRACT', 31),\n",
       " ('LONGIDO SEC SCHOOL', 4),\n",
       " ('LVA Ltd', 7),\n",
       " ('LVIA', 60),\n",
       " ('LWI', 71),\n",
       " ('Laramatak', 2),\n",
       " ('Lawate fuka water su', 187),\n",
       " ('Lga', 5),\n",
       " ('Linda', 5),\n",
       " ('Living water international', 14),\n",
       " ('Local', 178),\n",
       " ('Loliondo Parish', 4),\n",
       " ('Losa-kia water suppl', 4),\n",
       " ('Losaa-Kia water supp', 62),\n",
       " ('Luthe', 5),\n",
       " ('Lutheran', 3),\n",
       " ('Lutheran Church', 4),\n",
       " ('MA', 19),\n",
       " ('MACK DONALD CO LTD', 7),\n",
       " ('MAJI MUGUMU', 17),\n",
       " ('MAKAMA CONSTRUCTION', 5),\n",
       " ('MAKE ENGINEERING', 3),\n",
       " ('MAMAD', 13),\n",
       " ('MANYARA CONSTRUCTION', 6),\n",
       " ('MARAFIP', 22),\n",
       " ('MASWI', 4),\n",
       " ('MASWI CO', 2),\n",
       " ('MASWI DRILL', 5),\n",
       " ('MASWI DRILLING', 3),\n",
       " ('MAZI INVESTMENT', 3),\n",
       " ('MBIUWASA', 35),\n",
       " ('MBOMA', 6),\n",
       " ('MBULI CO', 2),\n",
       " ('MBWAMBO', 2),\n",
       " ('MCHOME', 3),\n",
       " ('MD', 2),\n",
       " ('MDALA Contractor', 6),\n",
       " ('MDRDP', 84),\n",
       " ('MDRD_', 2),\n",
       " ('MEM', 5),\n",
       " ('MGM', 5),\n",
       " ('MI', 8),\n",
       " ('MIDA', 6),\n",
       " ('MINISTRY OF EDUCATION', 2),\n",
       " ('MINISTRY OF WATER', 13),\n",
       " ('MINISTRYOF WATER', 4),\n",
       " ('MINJINGU', 3),\n",
       " ('MISSION', 9),\n",
       " ('ML appro', 11),\n",
       " ('MLADE', 46),\n",
       " ('MLAKI  CO', 9),\n",
       " ('MMG GOLD MINE', 2),\n",
       " ('MP', 2),\n",
       " ('MS', 6),\n",
       " ('MSABI', 2),\n",
       " ('MSF', 15),\n",
       " ('MSF/TACARE', 13),\n",
       " ('MSIKIT', 4),\n",
       " ('MTC', 2),\n",
       " ('MTN', 65),\n",
       " ('MTUWASA', 166),\n",
       " ('MWAKI CONTRACTOR', 3),\n",
       " ('MWE', 197),\n",
       " ('MWS', 7),\n",
       " ('Ma', 14),\n",
       " ('Machibya', 2),\n",
       " ('Mackd', 15),\n",
       " ('Maendeleo ya jamii', 3),\n",
       " ('Magadini Makiwaru wa', 179),\n",
       " ('Maji Tech', 3),\n",
       " ('Maji block', 6),\n",
       " ('Maji tech Construction', 4),\n",
       " ('Makonde', 30),\n",
       " ('Makuru', 2),\n",
       " ('Mamlaka ya maji ngara', 10),\n",
       " ('Marafip', 6),\n",
       " ('Maro', 2),\n",
       " ('Martha Emanuel', 2),\n",
       " ('Marti', 4),\n",
       " ('Masjid', 5),\n",
       " ('Maswi company', 29),\n",
       " ('Mataro', 2),\n",
       " ('Mbozi District Council', 4),\n",
       " ('Mbunge', 17),\n",
       " ('Mchuk', 3),\n",
       " ('Mdala Contractor', 2),\n",
       " ('Mh Kapuya', 2),\n",
       " ('Mi', 18),\n",
       " ('Mianz', 7),\n",
       " ('Milenium', 44),\n",
       " ('Ministry of water engineer', 9),\n",
       " ('Miomb', 3),\n",
       " ('Missi', 87),\n",
       " ('Missio', 2),\n",
       " ('Mission', 121),\n",
       " ('Missionary', 2),\n",
       " ('Miziriol', 46),\n",
       " ('Mkuyu', 17),\n",
       " ('Mombo urban water', 3),\n",
       " ('Mombo urban water s', 5),\n",
       " ('Moroil', 8),\n",
       " ('Morovian church', 6),\n",
       " ('Mosque', 11),\n",
       " ('Mpang', 13),\n",
       " ('Msabi', 31),\n",
       " ('Msiki', 2),\n",
       " ('Msikiti', 11),\n",
       " ('Muham', 2),\n",
       " ('Municipal', 2),\n",
       " ('Musa', 5),\n",
       " ('Muslims', 6),\n",
       " ('Mviwa', 13),\n",
       " ('Mw', 13),\n",
       " ('Mwanga town water authority', 4),\n",
       " ('Mwigicho', 2),\n",
       " ('Mwita Muremi', 2),\n",
       " ('Mzinga A', 9),\n",
       " ('Mzung', 2),\n",
       " ('Mzungu Paul', 6),\n",
       " ('N.P.R.', 2),\n",
       " ('NANRA contractor', 6),\n",
       " ('NCAA', 57),\n",
       " ('NDDP', 2),\n",
       " ('NG', 3),\n",
       " ('NORAD', 231),\n",
       " ('NORAD/', 6),\n",
       " ('NSC', 2),\n",
       " ('NYAKILANGANI', 28),\n",
       " ('Naishu', 17),\n",
       " ('Nampapanga', 2),\n",
       " ('Nampopanga', 2),\n",
       " ('Nandra Construction', 13),\n",
       " ('Nassor Fehed', 3),\n",
       " ('Ncaa', 6),\n",
       " ('Ndanda missions', 22),\n",
       " ('Nduku village', 3),\n",
       " ('Neemia mission', 2),\n",
       " ('Ngiresi village community', 3),\n",
       " ('Nice', 10),\n",
       " ('Niger', 2),\n",
       " ('No', 9),\n",
       " ('Norad', 152),\n",
       " ('North', 2),\n",
       " ('Not known', 17),\n",
       " ('Ns', 3),\n",
       " ('Nyamongo Gold mining', 4),\n",
       " ('OBC', 5),\n",
       " ('OIKOS', 3),\n",
       " ('OLA', 4),\n",
       " ('OLDONYOLENGAI', 4),\n",
       " ('OXFAM', 330),\n",
       " ('Oikos E .Africa', 80),\n",
       " ('Oikos E Africa', 3),\n",
       " ('Oikos E. Africa', 6),\n",
       " ('Oikos E.Africa', 4),\n",
       " ('Oikos E.Afrika', 5),\n",
       " ('Oldadai village community', 3),\n",
       " ('Olgilai village community', 14),\n",
       " ('Orien', 19),\n",
       " ('P', 18),\n",
       " ('P.N.R.', 2),\n",
       " ('PAD', 3),\n",
       " ('PADEP', 29),\n",
       " ('PART', 3),\n",
       " ('PATUU', 4),\n",
       " ('PCI', 8),\n",
       " ('PET', 24),\n",
       " ('PIDP', 11),\n",
       " ('PIT COOPERATION  LTD', 8),\n",
       " ('PMO', 2),\n",
       " ('PRF', 12),\n",
       " ('Padep', 4),\n",
       " ('Pata', 5),\n",
       " ('People P', 4),\n",
       " ('Pet Corporation Ltd', 13),\n",
       " ('Phase', 13),\n",
       " ('Plan Int', 17),\n",
       " ('Plan Internationa', 46),\n",
       " ('Plan International', 5),\n",
       " ('Plan Tanzania', 3),\n",
       " ('Po', 29),\n",
       " ('Pr', 53),\n",
       " ('Presadom', 3),\n",
       " ('Priva', 54),\n",
       " ('Private', 143),\n",
       " ('Q-sem Ltd', 2),\n",
       " ('QUWKWIN', 17),\n",
       " ('QWICKWIN', 13),\n",
       " ('Quick win project', 4),\n",
       " ('Quik', 2),\n",
       " ('RC', 174),\n",
       " ('RC C', 12),\n",
       " ('RC CH', 4),\n",
       " ('RC CHURCH', 125),\n",
       " ('RC Ch', 52),\n",
       " ('RC Churc', 14),\n",
       " ('RC Church', 75),\n",
       " ('RC church', 108),\n",
       " ('RC church/Central Gover', 14),\n",
       " ('RCchurch/CEFA', 21),\n",
       " ('RDC', 55),\n",
       " ('RE', 6),\n",
       " ('RED CROSS', 36),\n",
       " ('REDAP', 2),\n",
       " ('REDESO', 8),\n",
       " ('REGIONAL WATER ENGINEER ARUSHA', 9),\n",
       " ('REGWA COMPANY OF EGPTY', 2),\n",
       " ('REGWA COMPANY OF EGYPT', 2),\n",
       " ('RIDEP', 24),\n",
       " ('RSSP', 2),\n",
       " ('RUDE', 7),\n",
       " ('RUDEP', 9),\n",
       " ('RUDEP/', 10),\n",
       " ('RUNDAGA', 5),\n",
       " ('RURAL WATER SUPPLY', 3),\n",
       " ('RUVUMA BASIN', 3),\n",
       " ('RW', 14),\n",
       " ('RWE', 1206),\n",
       " ('RWE /Community', 15),\n",
       " ('RWE Community', 2),\n",
       " ('RWE/ Community', 7),\n",
       " ('RWE/Community', 7),\n",
       " ('RWE/DWE', 52),\n",
       " ('RWSP', 13),\n",
       " ('RWSSP', 149),\n",
       " ('Railway', 2),\n",
       " ('Rc', 3),\n",
       " ('Red Cross', 5),\n",
       " ('Redep', 9),\n",
       " ('Region Water Department', 92),\n",
       " ('Resolute', 2),\n",
       " ('Rhobi', 28),\n",
       " ('Rhoda', 8),\n",
       " ('Rips', 10),\n",
       " ('Rished', 5),\n",
       " ('Roma', 2),\n",
       " ('Roman Ca', 4),\n",
       " ('Roman Catholic', 5),\n",
       " ('Roman Catholic Rulenge Diocese', 9),\n",
       " ('Roman Cathoric -Kilomeni', 8),\n",
       " ('Roman Cathoric -Same', 2),\n",
       " ('Roman Cathoric Same', 8),\n",
       " ('Roman Church', 14),\n",
       " ('Roman catholic', 3),\n",
       " ('Rombo Dalta', 3),\n",
       " ('Rotar', 2),\n",
       " ('Rotary Club', 5),\n",
       " ('Rotary club', 13),\n",
       " ('Rotte', 3),\n",
       " ('Ruangwa contractor', 4),\n",
       " ('Rundu man', 7),\n",
       " ('Runduman', 4),\n",
       " ('Rural', 3),\n",
       " ('Rural Drinking Water Supply', 3),\n",
       " ('Ruthe', 16),\n",
       " ('S', 2),\n",
       " ('SAUWASA', 7),\n",
       " ('SAXON', 13),\n",
       " ('SAXON BUILDING CONTRACTORS', 7),\n",
       " ('SCHOOL', 2),\n",
       " ('SCOTT', 6),\n",
       " ('SDA', 16),\n",
       " ('SEMA', 249),\n",
       " ('SEMA CO LTD', 7),\n",
       " ('SENAPA', 2),\n",
       " ('SERENA', 2),\n",
       " ('SHAWASA', 45),\n",
       " ('SHIP', 2),\n",
       " ('SHIPO', 147),\n",
       " ('SHULE', 7),\n",
       " ('SHUWASA', 6),\n",
       " ('SHY BUILDERS', 37),\n",
       " ('SI', 33),\n",
       " ('SIA Ltd', 14),\n",
       " ('SIDA', 3),\n",
       " ('SIJM', 10),\n",
       " ('SIMAVI', 3),\n",
       " ('SIMBA CO', 7),\n",
       " ('SINGIDA YETU', 20),\n",
       " ('SOLIDAME', 45),\n",
       " ('SOLIDERM', 2),\n",
       " ('SONGAS', 10),\n",
       " ('SOWASA', 19),\n",
       " ('STAMPERS', 3),\n",
       " ('SULEMAN IDD', 10),\n",
       " ('SUWASA', 10),\n",
       " ('SW', 3),\n",
       " ('Sabodo', 22),\n",
       " ('Sacso', 3),\n",
       " ('Saleh Zaharani', 4),\n",
       " ('Sangea District Coun', 7),\n",
       " ('Sanje Wa', 6),\n",
       " ('Sao', 14),\n",
       " ('Save the rain', 7),\n",
       " ('Save the rain USA', 21),\n",
       " ('School', 2),\n",
       " ('Secondary', 2),\n",
       " ('Sekei village community', 20),\n",
       " ('Selikali', 2),\n",
       " ('Selous G', 3),\n",
       " ('Sengerema Water Department', 214),\n",
       " ('Serengeti District concil', 4),\n",
       " ('Serikali', 25),\n",
       " ('Serikali ya kijiji', 10),\n",
       " ('Shipo', 86),\n",
       " ('Shule', 6),\n",
       " ('Singasinga', 3),\n",
       " ('Singida General  Supplies  Ltd', 9),\n",
       " ('Songa', 10),\n",
       " ('Songea District Coun', 6),\n",
       " ('St', 54),\n",
       " ('St ph', 5),\n",
       " ('Sumbaw', 17),\n",
       " ('Summit for water/Community', 7),\n",
       " ('Swiss If', 29),\n",
       " ('T', 4),\n",
       " ('T. N. karugendo', 5),\n",
       " ('TA', 22),\n",
       " ('TAG', 10),\n",
       " ('TAG CHURCH', 3),\n",
       " (\"TAG Patmo's\", 2),\n",
       " ('TAHEA', 15),\n",
       " ('TAN PLANT LTD', 25),\n",
       " ('TANAP', 5),\n",
       " ('TANAPA', 31),\n",
       " ('TANAS', 3),\n",
       " ('TANROAD', 3),\n",
       " ('TANZAKESHO', 4),\n",
       " ('TASAF', 502),\n",
       " ('TAWASA', 25),\n",
       " ('TCRS', 707),\n",
       " ('TCRS /CARE', 4),\n",
       " ('TCRS /Government', 3),\n",
       " ('TCRS /TWESA', 2),\n",
       " ('TCRS Kibondo', 4),\n",
       " ('TCRS/TLC', 4),\n",
       " ('TDFT', 42),\n",
       " ('TGTS', 4),\n",
       " ('TLC', 55),\n",
       " ('TLC/John Majala', 2),\n",
       " ('TLTC', 8),\n",
       " ('TPP', 3),\n",
       " ('TPP TRUSTMOSHI', 15),\n",
       " ('TRACHOMA', 5),\n",
       " ('TREDEP', 23),\n",
       " ('TRIDEP', 5),\n",
       " ('TRUST', 5),\n",
       " ('TUMAINI FUND', 4),\n",
       " ('TUWASA', 32),\n",
       " ('TWE', 436),\n",
       " ('Tabora Municipal Council', 4),\n",
       " ('Tabraki', 5),\n",
       " ('Tanapa', 6),\n",
       " ('Tanesco', 3),\n",
       " ('Tanganyika Basin', 2),\n",
       " ('Tanz', 17),\n",
       " ('Tanzania', 5),\n",
       " ('Tanzania Government', 33),\n",
       " ('Tanzanian Government', 3),\n",
       " ('Tardo', 123),\n",
       " ('Tempo', 2),\n",
       " ('The I', 15),\n",
       " ('The Isla', 13),\n",
       " ('The desk and chair foundat', 31),\n",
       " ('Tom', 2),\n",
       " ('Total land Care', 2),\n",
       " ('Total land care', 23),\n",
       " ('Total landcare', 5),\n",
       " ('Totoland', 2),\n",
       " ('Totoland care', 4),\n",
       " ('Townsh', 2),\n",
       " ('Tulawaka Gold Mine', 5),\n",
       " ('U.S.A', 3),\n",
       " ('UDC/Sema', 20),\n",
       " ('UDC/sema', 2),\n",
       " ('UKILIG', 17),\n",
       " ('UMOJA DRILLING', 6),\n",
       " ('UN', 27),\n",
       " ('UN ONE', 4),\n",
       " ('UNDP', 2),\n",
       " ('UNHCR', 12),\n",
       " ('UNICEF', 332),\n",
       " ('UNIVERSAL CONSTRUCTION', 2),\n",
       " ('US Embassy', 15),\n",
       " ('USTAWI', 3),\n",
       " ('UYOGE', 3),\n",
       " ('Ubalozi wa Marekani', 9),\n",
       " ('Ubung', 9),\n",
       " ('Uhai wa mama na mtoto', 4),\n",
       " ('Ungan', 3),\n",
       " ('Unknown', 3),\n",
       " ('VICFISH LTD', 2),\n",
       " ('VICKFI', 2),\n",
       " ('VICTORIA DRILL', 3),\n",
       " ('VICTORIA DRILL CO', 5),\n",
       " ('VIEN CONSTRUCTION', 2),\n",
       " ('VIFAFI', 23),\n",
       " ('VILLAG', 13),\n",
       " ('VILLAGE COUNCIL', 42),\n",
       " ('VILLAGE COUNCIL Orpha', 7),\n",
       " ('VILLAGER', 2),\n",
       " ('VILLAGERS', 9),\n",
       " ('VITECOS', 34),\n",
       " ('VTTP', 4),\n",
       " ('VW', 2),\n",
       " ('VWC', 91),\n",
       " ('Vi', 3),\n",
       " ('Victoria', 9),\n",
       " ('Victoria company', 5),\n",
       " ('Vill', 12),\n",
       " ('Villa', 65),\n",
       " ('Villaers', 2),\n",
       " ('Village', 7),\n",
       " ('Village  Council', 4),\n",
       " ('Village Community', 15),\n",
       " ('Village Council', 58),\n",
       " ('Village Counil', 4),\n",
       " ('Village Government', 8),\n",
       " ('Village Govt', 11),\n",
       " ('Village community', 13),\n",
       " ('Village council', 3),\n",
       " ('Villager', 3),\n",
       " ('Villagers', 199),\n",
       " ('W.B', 2),\n",
       " ('W.C.S', 5),\n",
       " ('W.D &', 4),\n",
       " ('W.D. and I.D.', 2),\n",
       " ('WATER  AID', 10),\n",
       " ('WATER AID', 103),\n",
       " ('WATERAID', 31),\n",
       " ('WB', 30),\n",
       " ('WB / District Council', 2),\n",
       " ('WD and ID', 26),\n",
       " ('WE', 5),\n",
       " ('WEDECO', 397),\n",
       " ('WEDECO/WESSONS', 6),\n",
       " ('WEDEKO', 2),\n",
       " ('WFP', 15),\n",
       " ('WILLIAMSON DIAMOND LTD', 9),\n",
       " ('WINNIN SPIRIT CO', 2),\n",
       " ('WINNIN SPIRIT CO LTD', 2),\n",
       " ('WORLD BANK', 104),\n",
       " ('WORLD VISION', 20),\n",
       " ('WSDP', 13),\n",
       " ('WU', 301),\n",
       " ('WUA', 8),\n",
       " ('WVC', 3),\n",
       " ('WVT', 158),\n",
       " ('WWF', 23),\n",
       " ('Wa', 69),\n",
       " ('Wachina', 60),\n",
       " ('Wajerumani', 2),\n",
       " ('Wanan', 5),\n",
       " ('Wananchi', 32),\n",
       " ('Wanjoda', 6),\n",
       " ('Wasso', 5),\n",
       " ('Wasso companies', 4),\n",
       " ('Wasso contractors', 3),\n",
       " ('Water', 71),\n",
       " ('Water  Aid/Sema', 5),\n",
       " ('Water Aid', 48),\n",
       " ('Water Aid /sema', 44),\n",
       " ('Water Aid/Sema', 12),\n",
       " ('Water Aid/sema', 14),\n",
       " ('Water Department', 3),\n",
       " ('Water Project Mbawala chini', 13),\n",
       " ('Water aid /sema', 5),\n",
       " ('Water aid/sema', 2),\n",
       " ('Water board', 81),\n",
       " ('Water users Group', 2),\n",
       " ('Wo', 24),\n",
       " ('Word Bank', 2),\n",
       " ('World', 121),\n",
       " ('World Bank', 95),\n",
       " ('World Division', 2),\n",
       " ('World Vision', 270),\n",
       " ('World Vission', 12),\n",
       " ('World banks', 3),\n",
       " ('World vision', 408),\n",
       " ('YEBE CHIKOMESH', 3),\n",
       " ('YELL LTD', 2),\n",
       " ('YUMBAKA ENGINEERING', 6),\n",
       " ('Zacharia MTN', 4),\n",
       " ('Zao', 3),\n",
       " ('central government', 17),\n",
       " ('gwitembe', 2),\n",
       " ('hesawa', 15),\n",
       " ('ir', 3),\n",
       " ('kuwait', 6),\n",
       " ('local  technician', 2),\n",
       " ('local fundi', 4),\n",
       " ('local technician', 2),\n",
       " ('lutheran church', 8),\n",
       " ('morovian church', 3),\n",
       " ('not known', 24),\n",
       " ('one_off', 1098),\n",
       " ('private', 19),\n",
       " ('rc church', 2),\n",
       " ('secondary', 10),\n",
       " ('secondary school', 5),\n",
       " ('sengerema Water Department', 3),\n",
       " ('shule', 3),\n",
       " ('stansilaus', 2),\n",
       " ('villagers', 13),\n",
       " ('wanan', 52),\n",
       " ('wananchi', 119),\n",
       " ('water board', 2),\n",
       " ('world', 4)]"
      ]
     },
     "execution_count": 218,
     "metadata": {},
     "output_type": "execute_result"
    }
   ],
   "source": [
    "# A lot of work on installer needed.\n",
    "# look at sorting first to visually inspect potential bins\n",
    "print(df['installer'].value_counts())\n",
    "installer_df = df['installer'].value_counts().items()\n",
    "temp1 = {}\n",
    "for k, v in installer_df:\n",
    "    temp1.update({k:v})\n",
    "sorted(temp1.items(), key=lambda x: x[0], reverse=False)\n",
    "    "
   ]
  },
  {
   "cell_type": "code",
   "execution_count": 219,
   "metadata": {},
   "outputs": [
    {
     "name": "stdout",
     "output_type": "stream",
     "text": [
      "Arisan\n",
      "Cheese\n",
      "Government\n",
      "Henry\n",
      "Japan\n"
     ]
    }
   ],
   "source": [
    "# test\n",
    "test_dict = {'Arisan': {'Arisan', 'Arian', 'Artisan'}, 'Government': {'Government', 'government', 'govt.'}, 'Japan': {'Japan', 'Japan Government'}}\n",
    "\n",
    "def allocator(name):\n",
    "    for key, value in test_dict.items():\n",
    "        temp = []\n",
    "        for value1 in value:\n",
    "            temp.append(value1)\n",
    "        if name in temp:\n",
    "            return key\n",
    "        \n",
    "    return name\n",
    "        \n",
    "print(allocator('Arian'))\n",
    "print(allocator('Cheese'))\n",
    "print(allocator('govt.'))\n",
    "print(allocator('Henry'))\n",
    "print(allocator('Japan'))"
   ]
  },
  {
   "cell_type": "code",
   "execution_count": 220,
   "metadata": {},
   "outputs": [
    {
     "name": "stdout",
     "output_type": "stream",
     "text": [
      "92\n"
     ]
    }
   ],
   "source": [
    "# create installer dictionary (Got as far as T.)\n",
    "installer_dict = {'ACTIVE TANK CO LTD': {'ACTIVE TANK CO LTD','ACTIVE TANK CO'},\n",
    "                  'ADP': {'ADP', 'ADP Busangi'},\n",
    "                  'ADRA': {'ADRA', 'ADRA /Government', 'ADRA/Government','Adra','Adra /Community',\n",
    "                           'Adra/ Community', 'Adra/Community', 'Adrs'},\n",
    "                  'AFRICA MUSLIM': {'AFRICA MUSLIM', 'Africa Islamic Agency Tanzania'},\n",
    "                  'ACTION AID': {'ACTION AID', 'Action Aid'},\n",
    "                  'AI': {'AI','AIC', 'AIC KI','AICT'},\n",
    "                  'AMP Contract': {'AMP Contract', 'AMP Contracts','AMP contractor'},\n",
    "                  'AFRICAN DEVELOPMENT FOUNDATION': {'AFRICAN DEVELOPMENT FOUNDATION', \n",
    "                                                     'AFRICAN REFLECTIONS FOUNDATION', 'AGRICAN'},\n",
    "                  'Anglican Church': {'Anglican Church', 'ANGLIKANA CHURCH', 'ANGLI', 'ANGRIKANA', 'Angli', \n",
    "                                      'Anglican', 'Anglican Uganda', 'Anglican church', 'Anglikan',\n",
    "                                      'Anglikana', 'Angrikana', 'Chur', 'Church', 'CHRISTIAN OUTRICH'},\n",
    "                  'AQUA BLUES ANGELS': {'AQUA BLUES ANGELS', 'AQUA WEL', 'AQUA Wat', 'AQUA Wel'},\n",
    "                  'Action Contre La Faim': {'Action Contre La Faim', 'Action Contre la Faim'},\n",
    "                  'Active MKM': { 'Active MKM', 'Active KMK'},\n",
    "                  'Islamic': {'Islamic', 'Africa Islamic Agency Tanzania', 'Africa M', 'Africa Muslim Agenc',\n",
    "                              'African Muslims Age', 'African Realief Committe of Ku', 'Kuwait', 'KUWAIT'},\n",
    "                  'Africaone': {'Africaone', 'Africaone Ltd'},\n",
    "                  'Amboni Plantation': {'Amboni Plantation', 'Amboni plantation'},\n",
    "                  'American': {'American', 'Amec','Amref', 'Amec'},\n",
    "                  'Arab Community': {'Arab Community', 'Arab community'},\n",
    "                  'Ardhi': {'Ardhi Instute', 'Ardhi Water Wells', 'Ardhi and PET Companies', 'Ardhi water well'},\n",
    "                  'CARITAS': {'CARITAS', 'CARTAS', 'CARTAS Tanzania'},\n",
    "                  'Colonial Government': {'Colonial Government', 'British colonial government'},\n",
    "                  'Community': {'Community','Commu', 'Communit', 'Comunity','COMMU', 'COMMUNITY'},\n",
    "                  'Concern': {'Concern', 'Conce', 'Concen', 'Concern /government', 'Concern/Government'},\n",
    "                  'Consultant': {'Consultant', 'Consultant Engineer', 'Consultant and DWE',\n",
    "                                'Consulting Engineer', 'Consulting engineer', 'Consuting Engineer'},\n",
    "                  'Cosmo': {'Cosmo', 'Cosmos Engineering'},\n",
    "                  'Council': {'Council', 'Counc', 'DISTRICT COUNCIL', 'District  Council','District Counci',\n",
    "                              'District Council', 'District council', 'Distri'},\n",
    "                  'Artisan': {'Arisan', 'Arian', 'Artisan', 'Aartisa', 'Atisan'}, \n",
    "                  'Babu Sajini': {'Babu Sajini', 'Babu Sajin'},\n",
    "                  'China': {'CHINA', 'CHINA HENAN CONTRACTOR'},\n",
    "                  'CJEJOW': {'CJEJOW', 'CJEJ0', 'CJEJOW CONSTRUCTION'},\n",
    "                  'Concern': {'Concern', 'Concen'},\n",
    "                  'DANIDA' : {'DANIDA','DANIAD', 'DANID','DANIDS'},\n",
    "                  'DASIP' : {'DASIP', 'DASP', 'DASSIP'},\n",
    "                  'DBSPE': {'DBSPE', 'DBSP'},\n",
    "                  'DW': {'DW', 'DW#', 'DWE & LWI', 'DWR', 'DWW', 'DWE', 'DWE/','DWE}', 'District Water Department'\n",
    "                        'District water depar', 'District water department', 'District Water Department', 'Distric Water Department', \n",
    "                                                'District water department'},\n",
    "                  'Dr. Matobola': {'Dr. Matobola', 'Dr.Matobola'},\n",
    "                  'Dr. Matomola': {'Dr. Matomola','Dr.Matomola'},\n",
    "                  'EL': {'EL', 'ELCT'},\n",
    "                  'Egypt': {'People from Egypt', 'Tanz Egypt technical coopera', 'Tanzania/ Egypt', \n",
    "                            'Wizra ya maji na egypt'},\n",
    "                  'Fin Water': {'Fin Water', 'F', 'FIN WATER', 'FINI WATER', 'FINI Water','FW', \n",
    "                                'Fin water', 'FinW','FinWate','FinWater', 'Fini Water', \n",
    "                                'Fini water', 'Finland Government', 'Finwater', 'FINLAND','FINN WATER'},\n",
    "                  'Government': {'Government', 'GOVERNMENT', 'Government and Community', 'CENTRAL GOVERNMENT',\n",
    "                                 'Cebtral Government', 'Cental Government', 'Centr', 'Central govt',\n",
    "                                 'Central government', 'GOVER', 'GOVERM', 'GOVERN', 'GOVERNME', \n",
    "                                 'Wizara  ya maji', 'Wizara ya maji', 'wizara ya maji'},\n",
    "                  'GREINAKER': {'GREINAKER', 'GREINEKER'},\n",
    "                  'GRA' : {'GRA','GRA TZ MUSOMA'},\n",
    "                  'GRUMETI':{'GRUMETI', 'GRUMET', 'GRUMETI SINGITA', 'GURUMETI SAGITA CO'},\n",
    "                  'Grobal resource alliance': {'Grobal resource alliance', 'Grobal resource  alliance'},\n",
    "                  'Gwasco': {'Gwasco', 'Gwasco L','Gwaseco'},\n",
    "                  'HAPA': {'HAPA', 'HAPA SINGIDA'},\n",
    "                  'Hesawa': {'Hesawa', 'HESAWA', 'Hasawa','Hesawz', 'Hesewa'},\n",
    "                  'Individuals': {'Individuals', 'INDIVIDUALS', 'INDIVIDUAL'},\n",
    "                  'India': {'India', 'Indi'},\n",
    "                  'Institution': {'Institution', 'Insititutiona'},\n",
    "                  'ISF': {'ISF', 'ISF/Government', 'ISF/TACARE'},\n",
    "\n",
    "                  'Japan Government': {'Japan Government', 'JAPAN EMBASSY', 'JICA','JAICA', 'Jaica', 'JSICA','Jika'\n",
    "                                      'JAICA CO', 'Embasy of Japan in Tanzania'},\n",
    "                  'Jeshi la Wokovu': {'Jeshi la Wokovu', 'Jeshi la wokovu', 'Jeshi la wokovu [cida]'},\n",
    "                  'JUIN': {'JUIN', 'JUIN CO'},\n",
    "                  'KARUMBA BUILDING COMPANY LTD': {'KARUMBA BUILDING COMPANY LTD', 'KARUMBA BIULDIN',\n",
    "                                                  'KARUMBA BIULDING COMPANY LTD','KARUMBA BIULDING CONTRACTOR'},\n",
    "                  'Kilwa company': {'Kilwa company', 'Kilwater', 'Kiliwater'},\n",
    "                  'KKKT': {'KKKT', 'KK', 'KKKT CHURCH', 'KKKT DME', 'KKKT _ Konde and DWE', 'KKKT-Dioces ya Pare',\n",
    "                           'KKT', 'KKT C'},\n",
    "                  'KOBERG': {'KOBERG', 'KOBERG Contractor'},\n",
    "                  'KYASHA ENTERPR': {'KYASHA ENTERPR', 'KYASHA ENTREPR'},\n",
    "                  'Lawate fuka water su': {'Lawate fuka water su', 'Lawatefuka water sup'},\n",
    "                  'Local': {'Local', 'Local  technician', 'Local te', 'Local technical tec', 'Local technician', \n",
    "                           'Locall technician'},\n",
    "                  'LWI': {'LWI', 'LWI &CENTRAL GOVERNMENT'},\n",
    "                  'MACK DONALD CO LTD': {'MACK DONALD CO LTD','MACK DONALD CONTRACTOR', 'MACK DONALD CONTRSCTOR'},\n",
    "                  'MKONGO CONSTRUCTION': {'MKONGO CONSTRUCTION', 'MKON CONSTRUCTION', 'MKONG CONSTRUCTION',\n",
    "                                         'MKONGO BUILDING CONTRACTOR'},\n",
    "                  'MLAKI  CO': {'MLAKI  CO', 'MLAKI CO'},\n",
    "                  'MTUWASA': {'MTUWASA', 'MTUWASA and Community'},\n",
    "                  'MWAKI CONTRACTOR': {'MWAKI CONTRACTOR', 'MWAKI CONTRACTO'},\n",
    "                  'Makonde': {'Makonde', 'Makonde water Population', 'Makonde water population','Makonde water supply'},\n",
    "                  'Maswi company': {'Maswi company', 'Maswi'},\n",
    "                  'Milenium': {'Milenium','Milenia', 'Mileniam', 'Mileniam project'},\n",
    "                  'Magadini Makiwaru wa': {'Magadini Makiwaru wa', 'Magadini-Makiwaru wa'},\n",
    "                  'MWE' : {'MWE', 'MWE &'},\n",
    "                  'MTUWASA': {'MTUWASA','MTUWASA and Community', 'MUWASA','MUWSA'},\n",
    "                  'OXFAM': {'OXFAM', 'OXFARM'},\n",
    "                  'NORAD': {'NORAD', 'NIRAD', 'NORA'},\n",
    "                  'NYAKILANGANI': {'NYAKILANGANI', 'NYAKILANGANI CO', 'NYAKILANGANI CONSTRUCTION'},\n",
    "                  'Naishu': {'Naishu Construction Co. ltd', 'Naishu construction co. ltd'},\n",
    "                  'Private': {'Private', 'Privat'},\n",
    "                  'RC church': {'RC church', 'R.C', 'RC CATHORIC', 'RC/Mission', 'Roman', 'Cathoric', 'rc ch'},\n",
    "                  'Region Water Department': {'Region Water Department', 'Region water', 'Region water Department', \n",
    "                                              'Regional Water'},\n",
    "                  'SAXON BUILDING CONTRACTORS': {'SAXON BUILDING CONTRACTORS', 'SAXON  BUILDING CONTRACTOR',\n",
    "                                                 'SAXON BUILDING CONTRACTOR'},\n",
    "                  'TASAF': {'TASAF', 'TASA', 'TASAF 1', 'TASAF and Comunity', 'TASAF and MMEM', \n",
    "                            'TASAFcitizen and LGA', 'TASF', 'TASSAF', 'Tasaf', 'Tasaf and Lga',\n",
    "                            'TASAF/', 'TASSAF /TCRS', 'TASAF/DMDD'},\n",
    "                  'Taes': {'Taes', 'Taees'},\n",
    "                  'TUKWALE ENTERP': {'TUKWALE ENTERP', 'TUKWARE ENTERP'},\n",
    "                  'TWE': {'TWE', 'TWESA', 'TWESA /Community', 'TWESA/ Community'},         \n",
    "                  'UMOJA DRILLING': {'UMOJA DRILLING', 'UMOJA DRILLING CONSTRUCTION',\n",
    "                                     'UMOJA DRILLING CONTRACTOR','UMOJA DRILLING CONTRUCTO'},\n",
    "                  'UNICEF': {'UNICEF', 'UNICRF','Unicef','Unisef'},\n",
    "                  'VC': {'VC', 'VCIF'},\n",
    "                  'VIFAFI': {'VIFAFI', 'VIFAI'},\n",
    "                  'VITECOS': {'VITECOS','VITECOS INVEST', 'VTECOS'},\n",
    "                  'Village Govt': {'Village Govt','Village government', 'Village govt', \n",
    "                                   'Village local contractor', 'Village water committee', 'Subvillage'},\n",
    "                  'WORLD BANK': {'WORLD BANK', 'W', 'W/', 'WORLD NK', 'WOULD BANK', 'World bank'},\n",
    "                  'Water users Group': {'Water use Group','Water user Group','Water users Group'},\n",
    "                  'Zao': {'Zao','Zao water spring','Zao water spring X'}\n",
    "                 }\n",
    "\n",
    "print(len(installer_dict))"
   ]
  },
  {
   "cell_type": "code",
   "execution_count": 221,
   "metadata": {},
   "outputs": [
    {
     "name": "stdout",
     "output_type": "stream",
     "text": [
      "Arisan\n",
      "Cheese\n",
      "Government\n",
      "Henry\n",
      "Japan\n"
     ]
    }
   ],
   "source": [
    "# test with name of dictionary included. (Might be needed for actual .apply(...))\n",
    "test_dict2 = {'Arisan': {'Arisan', 'Arian', 'Artisan'}, 'Government': {'Government', 'government', 'govt.'}, 'Japan': {'Japan', 'Japan Government'}}\n",
    "\n",
    "def allocator2(name, names_dict):\n",
    "    for key, value in names_dict.items():\n",
    "        temp = []\n",
    "        for value1 in value:\n",
    "            temp.append(value1)\n",
    "        if name in temp:\n",
    "            return key\n",
    "        \n",
    "    return name\n",
    "        \n",
    "print(allocator2('Arian', test_dict2))\n",
    "print(allocator2('Cheese', test_dict2))\n",
    "print(allocator2('govt.', test_dict2))\n",
    "print(allocator2('Henry', test_dict2))\n",
    "print(allocator2('Japan', test_dict2))"
   ]
  },
  {
   "cell_type": "markdown",
   "metadata": {},
   "source": [
    "Got from 466 categories to 50, much better!\n",
    "\n",
    "Next is to turn all of the remaining 1s (and 2s) into another category.  Needs a function to apply after the above function."
   ]
  },
  {
   "cell_type": "code",
   "execution_count": null,
   "metadata": {},
   "outputs": [],
   "source": []
  },
  {
   "cell_type": "markdown",
   "metadata": {},
   "source": [
    "The below will work on the df column with apply method"
   ]
  },
  {
   "cell_type": "code",
   "execution_count": 222,
   "metadata": {},
   "outputs": [
    {
     "ename": "NameError",
     "evalue": "name 'test_df' is not defined",
     "output_type": "error",
     "traceback": [
      "\u001b[0;31m---------------------------------------------------------------------------\u001b[0m",
      "\u001b[0;31mNameError\u001b[0m                                 Traceback (most recent call last)",
      "\u001b[0;32m<ipython-input-222-7fca2a22696e>\u001b[0m in \u001b[0;36m<module>\u001b[0;34m()\u001b[0m\n\u001b[1;32m      4\u001b[0m     \u001b[0;32melse\u001b[0m\u001b[0;34m:\u001b[0m\u001b[0;34m\u001b[0m\u001b[0m\n\u001b[1;32m      5\u001b[0m         \u001b[0;32mreturn\u001b[0m \u001b[0mname\u001b[0m\u001b[0;34m\u001b[0m\u001b[0m\n\u001b[0;32m----> 6\u001b[0;31m \u001b[0mtest_df\u001b[0m\u001b[0;34m.\u001b[0m\u001b[0minstaller\u001b[0m \u001b[0;34m=\u001b[0m \u001b[0mtest_df\u001b[0m\u001b[0;34m.\u001b[0m\u001b[0minstaller\u001b[0m\u001b[0;34m.\u001b[0m\u001b[0mapply\u001b[0m\u001b[0;34m(\u001b[0m\u001b[0mchange_name\u001b[0m\u001b[0;34m)\u001b[0m\u001b[0;34m\u001b[0m\u001b[0m\n\u001b[0m\u001b[1;32m      7\u001b[0m \u001b[0mtest_df\u001b[0m\u001b[0;34m\u001b[0m\u001b[0m\n",
      "\u001b[0;31mNameError\u001b[0m: name 'test_df' is not defined"
     ]
    }
   ],
   "source": [
    "def change_name(name):\n",
    "    if test_df.installer.value_counts()[name] < 3:\n",
    "        return 'one-offs'\n",
    "    else:\n",
    "        return name\n",
    "test_df.installer = test_df.installer.apply(change_name)\n",
    "test_df"
   ]
  },
  {
   "cell_type": "code",
   "execution_count": 223,
   "metadata": {},
   "outputs": [],
   "source": [
    "def change_name2(name, df):\n",
    "    if df.installer.value_counts()[name] < 3:\n",
    "        return 'one-offs'\n",
    "    else:\n",
    "        return name\n",
    "# test_df.installer = test_df.installer.apply(lambda x: change_name2(x, test_df))\n",
    "# test_df"
   ]
  },
  {
   "cell_type": "markdown",
   "metadata": {},
   "source": [
    "Now run installer functions"
   ]
  },
  {
   "cell_type": "markdown",
   "metadata": {},
   "source": [
    "### Here we reduce number of installer categories"
   ]
  },
  {
   "cell_type": "code",
   "execution_count": 124,
   "metadata": {},
   "outputs": [
    {
     "data": {
      "text/plain": [
       "DW            17847\n",
       "Government     3103\n",
       "Community      1675\n",
       "DANIDA         1602\n",
       "Hesawa         1379\n",
       "RWE            1206\n",
       "KKKT           1187\n",
       "Council        1166\n",
       "one_off        1098\n",
       "Fin Water       972\n",
       "0               777\n",
       "TCRS            707\n",
       "CES             610\n",
       "TASAF           502\n",
       "TWE             436\n",
       "Name: installer, dtype: int64"
      ]
     },
     "execution_count": 124,
     "metadata": {},
     "output_type": "execute_result"
    }
   ],
   "source": [
    "df.installer = df.installer.apply(lambda name: allocator2(name, installer_dict))\n",
    "df['installer'].value_counts()[:15]"
   ]
  },
  {
   "cell_type": "markdown",
   "metadata": {},
   "source": [
    "## How to create counts in pandas properly"
   ]
  },
  {
   "cell_type": "code",
   "execution_count": 125,
   "metadata": {},
   "outputs": [
    {
     "data": {
      "text/html": [
       "<div>\n",
       "<style scoped>\n",
       "    .dataframe tbody tr th:only-of-type {\n",
       "        vertical-align: middle;\n",
       "    }\n",
       "\n",
       "    .dataframe tbody tr th {\n",
       "        vertical-align: top;\n",
       "    }\n",
       "\n",
       "    .dataframe thead th {\n",
       "        text-align: right;\n",
       "    }\n",
       "</style>\n",
       "<table border=\"1\" class=\"dataframe\">\n",
       "  <thead>\n",
       "    <tr style=\"text-align: right;\">\n",
       "      <th></th>\n",
       "      <th>0</th>\n",
       "    </tr>\n",
       "  </thead>\n",
       "  <tbody>\n",
       "    <tr>\n",
       "      <th>17847</th>\n",
       "      <td>1</td>\n",
       "    </tr>\n",
       "    <tr>\n",
       "      <th>3103</th>\n",
       "      <td>1</td>\n",
       "    </tr>\n",
       "    <tr>\n",
       "      <th>1675</th>\n",
       "      <td>1</td>\n",
       "    </tr>\n",
       "    <tr>\n",
       "      <th>1602</th>\n",
       "      <td>1</td>\n",
       "    </tr>\n",
       "    <tr>\n",
       "      <th>1379</th>\n",
       "      <td>1</td>\n",
       "    </tr>\n",
       "    <tr>\n",
       "      <th>1206</th>\n",
       "      <td>1</td>\n",
       "    </tr>\n",
       "    <tr>\n",
       "      <th>1187</th>\n",
       "      <td>1</td>\n",
       "    </tr>\n",
       "    <tr>\n",
       "      <th>1166</th>\n",
       "      <td>1</td>\n",
       "    </tr>\n",
       "    <tr>\n",
       "      <th>1098</th>\n",
       "      <td>1</td>\n",
       "    </tr>\n",
       "    <tr>\n",
       "      <th>972</th>\n",
       "      <td>1</td>\n",
       "    </tr>\n",
       "    <tr>\n",
       "      <th>777</th>\n",
       "      <td>1</td>\n",
       "    </tr>\n",
       "    <tr>\n",
       "      <th>707</th>\n",
       "      <td>1</td>\n",
       "    </tr>\n",
       "    <tr>\n",
       "      <th>610</th>\n",
       "      <td>1</td>\n",
       "    </tr>\n",
       "    <tr>\n",
       "      <th>502</th>\n",
       "      <td>1</td>\n",
       "    </tr>\n",
       "    <tr>\n",
       "      <th>436</th>\n",
       "      <td>1</td>\n",
       "    </tr>\n",
       "    <tr>\n",
       "      <th>408</th>\n",
       "      <td>2</td>\n",
       "    </tr>\n",
       "    <tr>\n",
       "      <th>397</th>\n",
       "      <td>1</td>\n",
       "    </tr>\n",
       "    <tr>\n",
       "      <th>383</th>\n",
       "      <td>1</td>\n",
       "    </tr>\n",
       "    <tr>\n",
       "      <th>355</th>\n",
       "      <td>1</td>\n",
       "    </tr>\n",
       "    <tr>\n",
       "      <th>332</th>\n",
       "      <td>1</td>\n",
       "    </tr>\n",
       "    <tr>\n",
       "      <th>330</th>\n",
       "      <td>1</td>\n",
       "    </tr>\n",
       "    <tr>\n",
       "      <th>329</th>\n",
       "      <td>1</td>\n",
       "    </tr>\n",
       "    <tr>\n",
       "      <th>301</th>\n",
       "      <td>1</td>\n",
       "    </tr>\n",
       "    <tr>\n",
       "      <th>287</th>\n",
       "      <td>1</td>\n",
       "    </tr>\n",
       "    <tr>\n",
       "      <th>278</th>\n",
       "      <td>1</td>\n",
       "    </tr>\n",
       "    <tr>\n",
       "      <th>276</th>\n",
       "      <td>1</td>\n",
       "    </tr>\n",
       "    <tr>\n",
       "      <th>270</th>\n",
       "      <td>1</td>\n",
       "    </tr>\n",
       "    <tr>\n",
       "      <th>249</th>\n",
       "      <td>1</td>\n",
       "    </tr>\n",
       "    <tr>\n",
       "      <th>244</th>\n",
       "      <td>1</td>\n",
       "    </tr>\n",
       "    <tr>\n",
       "      <th>231</th>\n",
       "      <td>1</td>\n",
       "    </tr>\n",
       "    <tr>\n",
       "      <th>...</th>\n",
       "      <td>...</td>\n",
       "    </tr>\n",
       "    <tr>\n",
       "      <th>31</th>\n",
       "      <td>6</td>\n",
       "    </tr>\n",
       "    <tr>\n",
       "      <th>30</th>\n",
       "      <td>8</td>\n",
       "    </tr>\n",
       "    <tr>\n",
       "      <th>29</th>\n",
       "      <td>8</td>\n",
       "    </tr>\n",
       "    <tr>\n",
       "      <th>28</th>\n",
       "      <td>4</td>\n",
       "    </tr>\n",
       "    <tr>\n",
       "      <th>27</th>\n",
       "      <td>4</td>\n",
       "    </tr>\n",
       "    <tr>\n",
       "      <th>26</th>\n",
       "      <td>4</td>\n",
       "    </tr>\n",
       "    <tr>\n",
       "      <th>25</th>\n",
       "      <td>7</td>\n",
       "    </tr>\n",
       "    <tr>\n",
       "      <th>24</th>\n",
       "      <td>9</td>\n",
       "    </tr>\n",
       "    <tr>\n",
       "      <th>23</th>\n",
       "      <td>8</td>\n",
       "    </tr>\n",
       "    <tr>\n",
       "      <th>22</th>\n",
       "      <td>9</td>\n",
       "    </tr>\n",
       "    <tr>\n",
       "      <th>21</th>\n",
       "      <td>6</td>\n",
       "    </tr>\n",
       "    <tr>\n",
       "      <th>20</th>\n",
       "      <td>5</td>\n",
       "    </tr>\n",
       "    <tr>\n",
       "      <th>19</th>\n",
       "      <td>8</td>\n",
       "    </tr>\n",
       "    <tr>\n",
       "      <th>18</th>\n",
       "      <td>5</td>\n",
       "    </tr>\n",
       "    <tr>\n",
       "      <th>17</th>\n",
       "      <td>13</td>\n",
       "    </tr>\n",
       "    <tr>\n",
       "      <th>16</th>\n",
       "      <td>4</td>\n",
       "    </tr>\n",
       "    <tr>\n",
       "      <th>15</th>\n",
       "      <td>14</td>\n",
       "    </tr>\n",
       "    <tr>\n",
       "      <th>14</th>\n",
       "      <td>12</td>\n",
       "    </tr>\n",
       "    <tr>\n",
       "      <th>13</th>\n",
       "      <td>24</td>\n",
       "    </tr>\n",
       "    <tr>\n",
       "      <th>12</th>\n",
       "      <td>14</td>\n",
       "    </tr>\n",
       "    <tr>\n",
       "      <th>11</th>\n",
       "      <td>10</td>\n",
       "    </tr>\n",
       "    <tr>\n",
       "      <th>10</th>\n",
       "      <td>23</td>\n",
       "    </tr>\n",
       "    <tr>\n",
       "      <th>9</th>\n",
       "      <td>26</td>\n",
       "    </tr>\n",
       "    <tr>\n",
       "      <th>8</th>\n",
       "      <td>22</td>\n",
       "    </tr>\n",
       "    <tr>\n",
       "      <th>7</th>\n",
       "      <td>30</td>\n",
       "    </tr>\n",
       "    <tr>\n",
       "      <th>6</th>\n",
       "      <td>35</td>\n",
       "    </tr>\n",
       "    <tr>\n",
       "      <th>5</th>\n",
       "      <td>61</td>\n",
       "    </tr>\n",
       "    <tr>\n",
       "      <th>4</th>\n",
       "      <td>66</td>\n",
       "    </tr>\n",
       "    <tr>\n",
       "      <th>3</th>\n",
       "      <td>113</td>\n",
       "    </tr>\n",
       "    <tr>\n",
       "      <th>2</th>\n",
       "      <td>177</td>\n",
       "    </tr>\n",
       "  </tbody>\n",
       "</table>\n",
       "<p>137 rows × 1 columns</p>\n",
       "</div>"
      ],
      "text/plain": [
       "         0\n",
       "17847    1\n",
       "3103     1\n",
       "1675     1\n",
       "1602     1\n",
       "1379     1\n",
       "1206     1\n",
       "1187     1\n",
       "1166     1\n",
       "1098     1\n",
       "972      1\n",
       "777      1\n",
       "707      1\n",
       "610      1\n",
       "502      1\n",
       "436      1\n",
       "408      2\n",
       "397      1\n",
       "383      1\n",
       "355      1\n",
       "332      1\n",
       "330      1\n",
       "329      1\n",
       "301      1\n",
       "287      1\n",
       "278      1\n",
       "276      1\n",
       "270      1\n",
       "249      1\n",
       "244      1\n",
       "231      1\n",
       "...    ...\n",
       "31       6\n",
       "30       8\n",
       "29       8\n",
       "28       4\n",
       "27       4\n",
       "26       4\n",
       "25       7\n",
       "24       9\n",
       "23       8\n",
       "22       9\n",
       "21       6\n",
       "20       5\n",
       "19       8\n",
       "18       5\n",
       "17      13\n",
       "16       4\n",
       "15      14\n",
       "14      12\n",
       "13      24\n",
       "12      14\n",
       "11      10\n",
       "10      23\n",
       "9       26\n",
       "8       22\n",
       "7       30\n",
       "6       35\n",
       "5       61\n",
       "4       66\n",
       "3      113\n",
       "2      177\n",
       "\n",
       "[137 rows x 1 columns]"
      ]
     },
     "execution_count": 125,
     "metadata": {},
     "output_type": "execute_result"
    }
   ],
   "source": [
    "from collections import Counter\n",
    "number_installed  = []\n",
    "for index in df['installer'].value_counts():\n",
    "    number_installed.append(index)\n",
    "count_installed = pd.DataFrame.from_dict(Counter(number_installed), orient=\"index\")\n",
    "count_installed\n",
    "# ^ count_installed is in format: col0 = how many have you installed; col1 = number of orgs who have installed this many"
   ]
  },
  {
   "cell_type": "markdown",
   "metadata": {},
   "source": [
    "Looks reasonable to have a category of one_off if you installed only one water point"
   ]
  },
  {
   "cell_type": "code",
   "execution_count": 136,
   "metadata": {},
   "outputs": [
    {
     "name": "stdout",
     "output_type": "stream",
     "text": [
      "[]\n"
     ]
    }
   ],
   "source": [
    "one_offs = []\n",
    "names = df['installer'].value_counts().index\n",
    "for name in names:\n",
    "    if df['installer'].value_counts()[name] == 1:\n",
    "        one_offs.append(name)\n",
    "len(one_offs)\n",
    "print(one_offs[:10])"
   ]
  },
  {
   "cell_type": "code",
   "execution_count": 137,
   "metadata": {},
   "outputs": [
    {
     "data": {
      "text/plain": [
       "True"
      ]
     },
     "execution_count": 137,
     "metadata": {},
     "output_type": "execute_result"
    }
   ],
   "source": [
    "'Islamic' in df.installer.values"
   ]
  },
  {
   "cell_type": "code",
   "execution_count": 138,
   "metadata": {},
   "outputs": [
    {
     "data": {
      "text/plain": [
       "True"
      ]
     },
     "execution_count": 138,
     "metadata": {},
     "output_type": "execute_result"
    }
   ],
   "source": [
    "def is_one_off(name):\n",
    "    if name in one_offs:\n",
    "        return 'one_off'\n",
    "    else: \n",
    "        return name\n",
    "\n",
    "df.installer = df.installer.apply(is_one_off)\n",
    "'Islamic' in df.installer.values"
   ]
  },
  {
   "cell_type": "code",
   "execution_count": 139,
   "metadata": {},
   "outputs": [
    {
     "data": {
      "text/plain": [
       "True"
      ]
     },
     "execution_count": 139,
     "metadata": {},
     "output_type": "execute_result"
    }
   ],
   "source": [
    "'one_off' in df.installer.values"
   ]
  },
  {
   "cell_type": "code",
   "execution_count": 135,
   "metadata": {},
   "outputs": [
    {
     "ename": "AttributeError",
     "evalue": "'Series' object has no attribute 'values_counts'",
     "output_type": "error",
     "traceback": [
      "\u001b[0;31m---------------------------------------------------------------------------\u001b[0m",
      "\u001b[0;31mAttributeError\u001b[0m                            Traceback (most recent call last)",
      "\u001b[0;32m<ipython-input-135-987d48735090>\u001b[0m in \u001b[0;36m<module>\u001b[0;34m()\u001b[0m\n\u001b[0;32m----> 1\u001b[0;31m \u001b[0mdf\u001b[0m\u001b[0;34m.\u001b[0m\u001b[0minstaller\u001b[0m\u001b[0;34m.\u001b[0m\u001b[0mvalues_counts\u001b[0m\u001b[0;34m(\u001b[0m\u001b[0;34m)\u001b[0m\u001b[0;34m\u001b[0m\u001b[0m\n\u001b[0m",
      "\u001b[0;32m~/anaconda3/lib/python3.6/site-packages/pandas/core/generic.py\u001b[0m in \u001b[0;36m__getattr__\u001b[0;34m(self, name)\u001b[0m\n\u001b[1;32m   4370\u001b[0m             \u001b[0;32mif\u001b[0m \u001b[0mself\u001b[0m\u001b[0;34m.\u001b[0m\u001b[0m_info_axis\u001b[0m\u001b[0;34m.\u001b[0m\u001b[0m_can_hold_identifiers_and_holds_name\u001b[0m\u001b[0;34m(\u001b[0m\u001b[0mname\u001b[0m\u001b[0;34m)\u001b[0m\u001b[0;34m:\u001b[0m\u001b[0;34m\u001b[0m\u001b[0m\n\u001b[1;32m   4371\u001b[0m                 \u001b[0;32mreturn\u001b[0m \u001b[0mself\u001b[0m\u001b[0;34m[\u001b[0m\u001b[0mname\u001b[0m\u001b[0;34m]\u001b[0m\u001b[0;34m\u001b[0m\u001b[0m\n\u001b[0;32m-> 4372\u001b[0;31m             \u001b[0;32mreturn\u001b[0m \u001b[0mobject\u001b[0m\u001b[0;34m.\u001b[0m\u001b[0m__getattribute__\u001b[0m\u001b[0;34m(\u001b[0m\u001b[0mself\u001b[0m\u001b[0;34m,\u001b[0m \u001b[0mname\u001b[0m\u001b[0;34m)\u001b[0m\u001b[0;34m\u001b[0m\u001b[0m\n\u001b[0m\u001b[1;32m   4373\u001b[0m \u001b[0;34m\u001b[0m\u001b[0m\n\u001b[1;32m   4374\u001b[0m     \u001b[0;32mdef\u001b[0m \u001b[0m__setattr__\u001b[0m\u001b[0;34m(\u001b[0m\u001b[0mself\u001b[0m\u001b[0;34m,\u001b[0m \u001b[0mname\u001b[0m\u001b[0;34m,\u001b[0m \u001b[0mvalue\u001b[0m\u001b[0;34m)\u001b[0m\u001b[0;34m:\u001b[0m\u001b[0;34m\u001b[0m\u001b[0m\n",
      "\u001b[0;31mAttributeError\u001b[0m: 'Series' object has no attribute 'values_counts'"
     ]
    }
   ],
   "source": [
    "df.installer.values_counts()"
   ]
  },
  {
   "cell_type": "markdown",
   "metadata": {},
   "source": [
    "^ So that worked."
   ]
  },
  {
   "cell_type": "markdown",
   "metadata": {},
   "source": [
    "Rerun eda_helper"
   ]
  },
  {
   "cell_type": "code",
   "execution_count": null,
   "metadata": {},
   "outputs": [],
   "source": [
    "print(eda_helper(df))"
   ]
  },
  {
   "cell_type": "code",
   "execution_count": null,
   "metadata": {},
   "outputs": [],
   "source": [
    "# save this good data!\n",
    "# df.to_csv('/Users/RAhmed/data store/Wesleyan_Capstone/corrected_data02.csv', index=False)"
   ]
  },
  {
   "cell_type": "markdown",
   "metadata": {},
   "source": [
    "# DO AGAIN!"
   ]
  },
  {
   "cell_type": "code",
   "execution_count": 360,
   "metadata": {},
   "outputs": [],
   "source": [
    "# need to do wpt_year again\n",
    "df = pd.read_csv('/Users/RAhmed/data store/Wesleyan_Capstone/corrected_data03.csv')"
   ]
  },
  {
   "cell_type": "code",
   "execution_count": 361,
   "metadata": {},
   "outputs": [],
   "source": [
    "# key is to cahnge construction year from an int to a float (otherwise rounds)\n",
    "df.construction_year = df.construction_year.astype(np.float64)"
   ]
  },
  {
   "cell_type": "code",
   "execution_count": 362,
   "metadata": {},
   "outputs": [
    {
     "data": {
      "text/plain": [
       "numpy.float64"
      ]
     },
     "execution_count": 362,
     "metadata": {},
     "output_type": "execute_result"
    }
   ],
   "source": [
    "type(df.construction_year[1])"
   ]
  },
  {
   "cell_type": "code",
   "execution_count": 364,
   "metadata": {},
   "outputs": [
    {
     "data": {
      "text/html": [
       "<div>\n",
       "<style scoped>\n",
       "    .dataframe tbody tr th:only-of-type {\n",
       "        vertical-align: middle;\n",
       "    }\n",
       "\n",
       "    .dataframe tbody tr th {\n",
       "        vertical-align: top;\n",
       "    }\n",
       "\n",
       "    .dataframe thead th {\n",
       "        text-align: right;\n",
       "    }\n",
       "</style>\n",
       "<table border=\"1\" class=\"dataframe\">\n",
       "  <thead>\n",
       "    <tr style=\"text-align: right;\">\n",
       "      <th></th>\n",
       "      <th>id</th>\n",
       "      <th>date_recorded</th>\n",
       "      <th>season_recorded</th>\n",
       "      <th>gps_height</th>\n",
       "      <th>installer</th>\n",
       "      <th>longitude</th>\n",
       "      <th>latitude</th>\n",
       "      <th>basin</th>\n",
       "      <th>region_code</th>\n",
       "      <th>population</th>\n",
       "      <th>...</th>\n",
       "      <th>construction_year</th>\n",
       "      <th>extraction_type_group</th>\n",
       "      <th>management_group</th>\n",
       "      <th>payment_type</th>\n",
       "      <th>water_quality</th>\n",
       "      <th>quantity_group</th>\n",
       "      <th>source_type</th>\n",
       "      <th>source_class</th>\n",
       "      <th>waterpoint_type_group</th>\n",
       "      <th>status_group</th>\n",
       "    </tr>\n",
       "  </thead>\n",
       "  <tbody>\n",
       "    <tr>\n",
       "      <th>0</th>\n",
       "      <td>20163</td>\n",
       "      <td>17/02/13</td>\n",
       "      <td>short_dry</td>\n",
       "      <td>330</td>\n",
       "      <td>DANIDA</td>\n",
       "      <td>37.351138</td>\n",
       "      <td>-11.649440</td>\n",
       "      <td>Ruvuma / Southern Coast</td>\n",
       "      <td>10</td>\n",
       "      <td>1</td>\n",
       "      <td>...</td>\n",
       "      <td>1994.0</td>\n",
       "      <td>swn 80</td>\n",
       "      <td>user-group</td>\n",
       "      <td>annually</td>\n",
       "      <td>soft</td>\n",
       "      <td>insufficient</td>\n",
       "      <td>borehole</td>\n",
       "      <td>groundwater</td>\n",
       "      <td>hand pump</td>\n",
       "      <td>functional needs repair</td>\n",
       "    </tr>\n",
       "    <tr>\n",
       "      <th>1</th>\n",
       "      <td>42800</td>\n",
       "      <td>17/02/13</td>\n",
       "      <td>short_dry</td>\n",
       "      <td>327</td>\n",
       "      <td>DANIDA</td>\n",
       "      <td>37.351869</td>\n",
       "      <td>-11.648378</td>\n",
       "      <td>Ruvuma / Southern Coast</td>\n",
       "      <td>10</td>\n",
       "      <td>1</td>\n",
       "      <td>...</td>\n",
       "      <td>1994.0</td>\n",
       "      <td>swn 80</td>\n",
       "      <td>user-group</td>\n",
       "      <td>annually</td>\n",
       "      <td>soft</td>\n",
       "      <td>enough</td>\n",
       "      <td>borehole</td>\n",
       "      <td>groundwater</td>\n",
       "      <td>hand pump</td>\n",
       "      <td>functional needs repair</td>\n",
       "    </tr>\n",
       "    <tr>\n",
       "      <th>2</th>\n",
       "      <td>57360</td>\n",
       "      <td>14/02/13</td>\n",
       "      <td>short_dry</td>\n",
       "      <td>439</td>\n",
       "      <td>TASAF</td>\n",
       "      <td>37.082702</td>\n",
       "      <td>-11.586297</td>\n",
       "      <td>Ruvuma / Southern Coast</td>\n",
       "      <td>10</td>\n",
       "      <td>1</td>\n",
       "      <td>...</td>\n",
       "      <td>2010.0</td>\n",
       "      <td>swn 80</td>\n",
       "      <td>user-group</td>\n",
       "      <td>never pay</td>\n",
       "      <td>soft</td>\n",
       "      <td>insufficient</td>\n",
       "      <td>borehole</td>\n",
       "      <td>groundwater</td>\n",
       "      <td>hand pump</td>\n",
       "      <td>non functional</td>\n",
       "    </tr>\n",
       "    <tr>\n",
       "      <th>3</th>\n",
       "      <td>338</td>\n",
       "      <td>23/02/13</td>\n",
       "      <td>short_dry</td>\n",
       "      <td>559</td>\n",
       "      <td>MKONGO CONSTRUCTION</td>\n",
       "      <td>36.463786</td>\n",
       "      <td>-11.568577</td>\n",
       "      <td>Ruvuma / Southern Coast</td>\n",
       "      <td>10</td>\n",
       "      <td>500</td>\n",
       "      <td>...</td>\n",
       "      <td>2011.0</td>\n",
       "      <td>other</td>\n",
       "      <td>unknown</td>\n",
       "      <td>unknown</td>\n",
       "      <td>soft</td>\n",
       "      <td>unknown</td>\n",
       "      <td>borehole</td>\n",
       "      <td>groundwater</td>\n",
       "      <td>other</td>\n",
       "      <td>non functional</td>\n",
       "    </tr>\n",
       "    <tr>\n",
       "      <th>4</th>\n",
       "      <td>51453</td>\n",
       "      <td>23/02/13</td>\n",
       "      <td>short_dry</td>\n",
       "      <td>568</td>\n",
       "      <td>DWE</td>\n",
       "      <td>36.465277</td>\n",
       "      <td>-11.566805</td>\n",
       "      <td>Ruvuma / Southern Coast</td>\n",
       "      <td>10</td>\n",
       "      <td>100</td>\n",
       "      <td>...</td>\n",
       "      <td>2003.0</td>\n",
       "      <td>swn 80</td>\n",
       "      <td>user-group</td>\n",
       "      <td>monthly</td>\n",
       "      <td>soft</td>\n",
       "      <td>dry</td>\n",
       "      <td>shallow well</td>\n",
       "      <td>groundwater</td>\n",
       "      <td>hand pump</td>\n",
       "      <td>non functional</td>\n",
       "    </tr>\n",
       "  </tbody>\n",
       "</table>\n",
       "<p>5 rows × 23 columns</p>\n",
       "</div>"
      ],
      "text/plain": [
       "      id date_recorded season_recorded  gps_height            installer  \\\n",
       "0  20163      17/02/13       short_dry         330               DANIDA   \n",
       "1  42800      17/02/13       short_dry         327               DANIDA   \n",
       "2  57360      14/02/13       short_dry         439                TASAF   \n",
       "3    338      23/02/13       short_dry         559  MKONGO CONSTRUCTION   \n",
       "4  51453      23/02/13       short_dry         568                  DWE   \n",
       "\n",
       "   longitude   latitude                    basin  region_code population  \\\n",
       "0  37.351138 -11.649440  Ruvuma / Southern Coast           10          1   \n",
       "1  37.351869 -11.648378  Ruvuma / Southern Coast           10          1   \n",
       "2  37.082702 -11.586297  Ruvuma / Southern Coast           10          1   \n",
       "3  36.463786 -11.568577  Ruvuma / Southern Coast           10        500   \n",
       "4  36.465277 -11.566805  Ruvuma / Southern Coast           10        100   \n",
       "\n",
       "            ...            construction_year extraction_type_group  \\\n",
       "0           ...                       1994.0                swn 80   \n",
       "1           ...                       1994.0                swn 80   \n",
       "2           ...                       2010.0                swn 80   \n",
       "3           ...                       2011.0                 other   \n",
       "4           ...                       2003.0                swn 80   \n",
       "\n",
       "  management_group  payment_type water_quality quantity_group   source_type  \\\n",
       "0       user-group      annually          soft   insufficient      borehole   \n",
       "1       user-group      annually          soft         enough      borehole   \n",
       "2       user-group     never pay          soft   insufficient      borehole   \n",
       "3          unknown       unknown          soft        unknown      borehole   \n",
       "4       user-group       monthly          soft            dry  shallow well   \n",
       "\n",
       "  source_class waterpoint_type_group             status_group  \n",
       "0  groundwater             hand pump  functional needs repair  \n",
       "1  groundwater             hand pump  functional needs repair  \n",
       "2  groundwater             hand pump           non functional  \n",
       "3  groundwater                 other           non functional  \n",
       "4  groundwater             hand pump           non functional  \n",
       "\n",
       "[5 rows x 23 columns]"
      ]
     },
     "execution_count": 364,
     "metadata": {},
     "output_type": "execute_result"
    }
   ],
   "source": [
    "df.head()"
   ]
  },
  {
   "cell_type": "code",
   "execution_count": 365,
   "metadata": {},
   "outputs": [
    {
     "data": {
      "text/plain": [
       "str"
      ]
     },
     "execution_count": 365,
     "metadata": {},
     "output_type": "execute_result"
    }
   ],
   "source": [
    "type(df['date_recorded'][1])"
   ]
  },
  {
   "cell_type": "code",
   "execution_count": 366,
   "metadata": {},
   "outputs": [
    {
     "data": {
      "text/plain": [
       "Index(['id', 'date_recorded', 'season_recorded', 'gps_height', 'installer',\n",
       "       'longitude', 'latitude', 'basin', 'region_code', 'population',\n",
       "       'public_meeting', 'scheme_management', 'permit', 'construction_year',\n",
       "       'extraction_type_group', 'management_group', 'payment_type',\n",
       "       'water_quality', 'quantity_group', 'source_type', 'source_class',\n",
       "       'waterpoint_type_group', 'status_group'],\n",
       "      dtype='object')"
      ]
     },
     "execution_count": 366,
     "metadata": {},
     "output_type": "execute_result"
    }
   ],
   "source": [
    "df.columns"
   ]
  },
  {
   "cell_type": "code",
   "execution_count": null,
   "metadata": {},
   "outputs": [],
   "source": [
    "# Apply wpt_age globally"
   ]
  },
  {
   "cell_type": "code",
   "execution_count": 367,
   "metadata": {},
   "outputs": [
    {
     "data": {
      "text/plain": [
       "'17/02/13'"
      ]
     },
     "execution_count": 367,
     "metadata": {},
     "output_type": "execute_result"
    }
   ],
   "source": [
    "df.iat[0, 1]"
   ]
  },
  {
   "cell_type": "code",
   "execution_count": 368,
   "metadata": {},
   "outputs": [
    {
     "data": {
      "text/plain": [
       "str"
      ]
     },
     "execution_count": 368,
     "metadata": {},
     "output_type": "execute_result"
    }
   ],
   "source": [
    "type(df.iat[0, 1])"
   ]
  },
  {
   "cell_type": "code",
   "execution_count": 369,
   "metadata": {},
   "outputs": [
    {
     "data": {
      "text/plain": [
       "2013.215053763441"
      ]
     },
     "execution_count": 369,
     "metadata": {},
     "output_type": "execute_result"
    }
   ],
   "source": [
    "# create helper function and test\n",
    "# BE CAREFUL - how is is in Excel file and df is different\n",
    "\n",
    "# ARCHIVE DO NOT DELETE\n",
    "def year_convert(date_recorded):\n",
    "    \"\"\"\n",
    "    takes custom string (e.g. '18/03/13') and converts to a float\n",
    "    is not super accurate as assumes all months have 31 days\n",
    "    \n",
    "    \"\"\"\n",
    "    year = float(date_recorded[6:8])\n",
    "    if year > 30:\n",
    "        year += 1900\n",
    "    else: \n",
    "        year += 2000\n",
    "    month = float(date_recorded[3:5])\n",
    "    day = float(date_recorded[:2])\n",
    "    \n",
    "    return year + ((month - 1) / 12) + (day / (31*12)) \n",
    "\n",
    "year_convert('18/03/13')"
   ]
  },
  {
   "cell_type": "code",
   "execution_count": 370,
   "metadata": {},
   "outputs": [
    {
     "data": {
      "text/plain": [
       "2013.1290322580644"
      ]
     },
     "execution_count": 370,
     "metadata": {},
     "output_type": "execute_result"
    }
   ],
   "source": [
    "# IMPORTANT CHECK TO USE THIS OR PREVIOUS\n",
    "def year_convert2(date_recorded):\n",
    "    \"\"\"\n",
    "    takes custom string (e.g. '2013-04-17') and converts to a float\n",
    "    is not super accurate as assumes all months have 31 days\n",
    "    \n",
    "    \"\"\"\n",
    "    year = float(date_recorded[:4])\n",
    "    month = float(date_recorded[5:7])\n",
    "    day = float(date_recorded[8:10])\n",
    "    \n",
    "    return year + ((month - 1) / 12) + (day / (31*12)) \n",
    "\n",
    "year_convert2('2013-02-17')"
   ]
  },
  {
   "cell_type": "code",
   "execution_count": 371,
   "metadata": {},
   "outputs": [],
   "source": [
    "df['date_recorded'] = df['date_recorded'].apply(year_convert)\n"
   ]
  },
  {
   "cell_type": "code",
   "execution_count": 372,
   "metadata": {},
   "outputs": [
    {
     "data": {
      "text/html": [
       "<div>\n",
       "<style scoped>\n",
       "    .dataframe tbody tr th:only-of-type {\n",
       "        vertical-align: middle;\n",
       "    }\n",
       "\n",
       "    .dataframe tbody tr th {\n",
       "        vertical-align: top;\n",
       "    }\n",
       "\n",
       "    .dataframe thead th {\n",
       "        text-align: right;\n",
       "    }\n",
       "</style>\n",
       "<table border=\"1\" class=\"dataframe\">\n",
       "  <thead>\n",
       "    <tr style=\"text-align: right;\">\n",
       "      <th></th>\n",
       "      <th>id</th>\n",
       "      <th>date_recorded</th>\n",
       "      <th>season_recorded</th>\n",
       "      <th>gps_height</th>\n",
       "      <th>installer</th>\n",
       "      <th>longitude</th>\n",
       "      <th>latitude</th>\n",
       "      <th>basin</th>\n",
       "      <th>region_code</th>\n",
       "      <th>population</th>\n",
       "      <th>...</th>\n",
       "      <th>construction_year</th>\n",
       "      <th>extraction_type_group</th>\n",
       "      <th>management_group</th>\n",
       "      <th>payment_type</th>\n",
       "      <th>water_quality</th>\n",
       "      <th>quantity_group</th>\n",
       "      <th>source_type</th>\n",
       "      <th>source_class</th>\n",
       "      <th>waterpoint_type_group</th>\n",
       "      <th>status_group</th>\n",
       "    </tr>\n",
       "  </thead>\n",
       "  <tbody>\n",
       "    <tr>\n",
       "      <th>0</th>\n",
       "      <td>20163</td>\n",
       "      <td>2013.129032</td>\n",
       "      <td>short_dry</td>\n",
       "      <td>330</td>\n",
       "      <td>DANIDA</td>\n",
       "      <td>37.351138</td>\n",
       "      <td>-11.649440</td>\n",
       "      <td>Ruvuma / Southern Coast</td>\n",
       "      <td>10</td>\n",
       "      <td>1</td>\n",
       "      <td>...</td>\n",
       "      <td>1994.0</td>\n",
       "      <td>swn 80</td>\n",
       "      <td>user-group</td>\n",
       "      <td>annually</td>\n",
       "      <td>soft</td>\n",
       "      <td>insufficient</td>\n",
       "      <td>borehole</td>\n",
       "      <td>groundwater</td>\n",
       "      <td>hand pump</td>\n",
       "      <td>functional needs repair</td>\n",
       "    </tr>\n",
       "    <tr>\n",
       "      <th>1</th>\n",
       "      <td>42800</td>\n",
       "      <td>2013.129032</td>\n",
       "      <td>short_dry</td>\n",
       "      <td>327</td>\n",
       "      <td>DANIDA</td>\n",
       "      <td>37.351869</td>\n",
       "      <td>-11.648378</td>\n",
       "      <td>Ruvuma / Southern Coast</td>\n",
       "      <td>10</td>\n",
       "      <td>1</td>\n",
       "      <td>...</td>\n",
       "      <td>1994.0</td>\n",
       "      <td>swn 80</td>\n",
       "      <td>user-group</td>\n",
       "      <td>annually</td>\n",
       "      <td>soft</td>\n",
       "      <td>enough</td>\n",
       "      <td>borehole</td>\n",
       "      <td>groundwater</td>\n",
       "      <td>hand pump</td>\n",
       "      <td>functional needs repair</td>\n",
       "    </tr>\n",
       "    <tr>\n",
       "      <th>2</th>\n",
       "      <td>57360</td>\n",
       "      <td>2013.120968</td>\n",
       "      <td>short_dry</td>\n",
       "      <td>439</td>\n",
       "      <td>TASAF</td>\n",
       "      <td>37.082702</td>\n",
       "      <td>-11.586297</td>\n",
       "      <td>Ruvuma / Southern Coast</td>\n",
       "      <td>10</td>\n",
       "      <td>1</td>\n",
       "      <td>...</td>\n",
       "      <td>2010.0</td>\n",
       "      <td>swn 80</td>\n",
       "      <td>user-group</td>\n",
       "      <td>never pay</td>\n",
       "      <td>soft</td>\n",
       "      <td>insufficient</td>\n",
       "      <td>borehole</td>\n",
       "      <td>groundwater</td>\n",
       "      <td>hand pump</td>\n",
       "      <td>non functional</td>\n",
       "    </tr>\n",
       "    <tr>\n",
       "      <th>3</th>\n",
       "      <td>338</td>\n",
       "      <td>2013.145161</td>\n",
       "      <td>short_dry</td>\n",
       "      <td>559</td>\n",
       "      <td>MKONGO CONSTRUCTION</td>\n",
       "      <td>36.463786</td>\n",
       "      <td>-11.568577</td>\n",
       "      <td>Ruvuma / Southern Coast</td>\n",
       "      <td>10</td>\n",
       "      <td>500</td>\n",
       "      <td>...</td>\n",
       "      <td>2011.0</td>\n",
       "      <td>other</td>\n",
       "      <td>unknown</td>\n",
       "      <td>unknown</td>\n",
       "      <td>soft</td>\n",
       "      <td>unknown</td>\n",
       "      <td>borehole</td>\n",
       "      <td>groundwater</td>\n",
       "      <td>other</td>\n",
       "      <td>non functional</td>\n",
       "    </tr>\n",
       "    <tr>\n",
       "      <th>4</th>\n",
       "      <td>51453</td>\n",
       "      <td>2013.145161</td>\n",
       "      <td>short_dry</td>\n",
       "      <td>568</td>\n",
       "      <td>DWE</td>\n",
       "      <td>36.465277</td>\n",
       "      <td>-11.566805</td>\n",
       "      <td>Ruvuma / Southern Coast</td>\n",
       "      <td>10</td>\n",
       "      <td>100</td>\n",
       "      <td>...</td>\n",
       "      <td>2003.0</td>\n",
       "      <td>swn 80</td>\n",
       "      <td>user-group</td>\n",
       "      <td>monthly</td>\n",
       "      <td>soft</td>\n",
       "      <td>dry</td>\n",
       "      <td>shallow well</td>\n",
       "      <td>groundwater</td>\n",
       "      <td>hand pump</td>\n",
       "      <td>non functional</td>\n",
       "    </tr>\n",
       "  </tbody>\n",
       "</table>\n",
       "<p>5 rows × 23 columns</p>\n",
       "</div>"
      ],
      "text/plain": [
       "      id  date_recorded season_recorded  gps_height            installer  \\\n",
       "0  20163    2013.129032       short_dry         330               DANIDA   \n",
       "1  42800    2013.129032       short_dry         327               DANIDA   \n",
       "2  57360    2013.120968       short_dry         439                TASAF   \n",
       "3    338    2013.145161       short_dry         559  MKONGO CONSTRUCTION   \n",
       "4  51453    2013.145161       short_dry         568                  DWE   \n",
       "\n",
       "   longitude   latitude                    basin  region_code population  \\\n",
       "0  37.351138 -11.649440  Ruvuma / Southern Coast           10          1   \n",
       "1  37.351869 -11.648378  Ruvuma / Southern Coast           10          1   \n",
       "2  37.082702 -11.586297  Ruvuma / Southern Coast           10          1   \n",
       "3  36.463786 -11.568577  Ruvuma / Southern Coast           10        500   \n",
       "4  36.465277 -11.566805  Ruvuma / Southern Coast           10        100   \n",
       "\n",
       "            ...            construction_year extraction_type_group  \\\n",
       "0           ...                       1994.0                swn 80   \n",
       "1           ...                       1994.0                swn 80   \n",
       "2           ...                       2010.0                swn 80   \n",
       "3           ...                       2011.0                 other   \n",
       "4           ...                       2003.0                swn 80   \n",
       "\n",
       "  management_group  payment_type water_quality quantity_group   source_type  \\\n",
       "0       user-group      annually          soft   insufficient      borehole   \n",
       "1       user-group      annually          soft         enough      borehole   \n",
       "2       user-group     never pay          soft   insufficient      borehole   \n",
       "3          unknown       unknown          soft        unknown      borehole   \n",
       "4       user-group       monthly          soft            dry  shallow well   \n",
       "\n",
       "  source_class waterpoint_type_group             status_group  \n",
       "0  groundwater             hand pump  functional needs repair  \n",
       "1  groundwater             hand pump  functional needs repair  \n",
       "2  groundwater             hand pump           non functional  \n",
       "3  groundwater                 other           non functional  \n",
       "4  groundwater             hand pump           non functional  \n",
       "\n",
       "[5 rows x 23 columns]"
      ]
     },
     "execution_count": 372,
     "metadata": {},
     "output_type": "execute_result"
    }
   ],
   "source": [
    "df.head()"
   ]
  },
  {
   "cell_type": "code",
   "execution_count": 373,
   "metadata": {},
   "outputs": [
    {
     "name": "stdout",
     "output_type": "stream",
     "text": [
      "<class 'numpy.float64'>\n"
     ]
    }
   ],
   "source": [
    "print(type(df.iat[0, 1]))"
   ]
  },
  {
   "cell_type": "code",
   "execution_count": 374,
   "metadata": {},
   "outputs": [
    {
     "name": "stdout",
     "output_type": "stream",
     "text": [
      "<class 'numpy.float64'>\n"
     ]
    }
   ],
   "source": [
    "print(type(df.iat[0, 13]))"
   ]
  },
  {
   "cell_type": "code",
   "execution_count": 375,
   "metadata": {},
   "outputs": [
    {
     "data": {
      "text/plain": [
       "12.14247311827944"
      ]
     },
     "execution_count": 375,
     "metadata": {},
     "output_type": "execute_result"
    }
   ],
   "source": [
    "df.iat[7, 1] - df.iat[7, 13]"
   ]
  },
  {
   "cell_type": "code",
   "execution_count": 376,
   "metadata": {},
   "outputs": [
    {
     "data": {
      "text/plain": [
       "Index(['id', 'date_recorded', 'season_recorded', 'gps_height', 'installer',\n",
       "       'longitude', 'latitude', 'basin', 'region_code', 'population',\n",
       "       'public_meeting', 'scheme_management', 'permit', 'construction_year',\n",
       "       'extraction_type_group', 'management_group', 'payment_type',\n",
       "       'water_quality', 'quantity_group', 'source_type', 'source_class',\n",
       "       'waterpoint_type_group', 'status_group'],\n",
       "      dtype='object')"
      ]
     },
     "execution_count": 376,
     "metadata": {},
     "output_type": "execute_result"
    }
   ],
   "source": [
    "df.columns"
   ]
  },
  {
   "cell_type": "code",
   "execution_count": 377,
   "metadata": {},
   "outputs": [],
   "source": [
    "# need another helper function in the case that construction_year is still zero\n",
    "def check_not_zero(df):\n",
    "    \"\"\" \n",
    "    passes if not zero\n",
    "    else sets to recorded date set as a float\n",
    "    \"\"\"\n",
    "    for i in df.index:\n",
    "        if df.iat[df.index[i], 13] != 0: \n",
    "           pass\n",
    "            \n",
    "        else: \n",
    "            df.iat[i, 13] = df.iat[i, 1]\n",
    "                       \n",
    "    return df"
   ]
  },
  {
   "cell_type": "code",
   "execution_count": 378,
   "metadata": {},
   "outputs": [
    {
     "data": {
      "text/plain": [
       "numpy.float64"
      ]
     },
     "execution_count": 378,
     "metadata": {},
     "output_type": "execute_result"
    }
   ],
   "source": [
    "type(df.date_recorded[1])"
   ]
  },
  {
   "cell_type": "code",
   "execution_count": 379,
   "metadata": {},
   "outputs": [
    {
     "name": "stdout",
     "output_type": "stream",
     "text": [
      "1982.000000    3366\n",
      "2012.000000    2958\n",
      "2009.000000    2850\n",
      "1992.000000    2416\n",
      "1985.000000    2399\n",
      "2006.000000    2284\n",
      "2007.000000    2224\n",
      "2010.000000    2159\n",
      "1978.000000    2112\n",
      "2008.000000    1974\n",
      "2011.000000    1973\n",
      "1988.000000    1764\n",
      "1994.000000    1522\n",
      "1995.000000    1441\n",
      "1998.000000    1401\n",
      "1993.000000    1377\n",
      "2002.000000    1340\n",
      "2000.000000    1326\n",
      "1990.000000    1211\n",
      "1983.000000    1174\n",
      "1999.000000    1151\n",
      "1977.000000    1144\n",
      "2004.000000    1106\n",
      "2005.000000    1101\n",
      "1980.000000     947\n",
      "1986.000000     883\n",
      "1987.000000     860\n",
      "1979.000000     762\n",
      "1996.000000     746\n",
      "2003.000000     716\n",
      "               ... \n",
      "2011.653226      10\n",
      "2011.626344      10\n",
      "2011.629032      10\n",
      "2012.784946       9\n",
      "2013.045699       9\n",
      "2012.830645       9\n",
      "2012.959677       9\n",
      "2011.618280       8\n",
      "2011.639785       8\n",
      "1967.000000       8\n",
      "2013.107527       7\n",
      "2011.637097       7\n",
      "2011.650538       7\n",
      "2012.981183       7\n",
      "2012.973118       6\n",
      "2012.978495       5\n",
      "2012.825269       5\n",
      "2011.645161       5\n",
      "2013.174731       4\n",
      "2012.946237       4\n",
      "2011.631720       4\n",
      "2011.634409       4\n",
      "2004.919355       3\n",
      "2013.064516       2\n",
      "2012.852151       2\n",
      "2011.655914       2\n",
      "2013.115591       1\n",
      "2012.793011       1\n",
      "2011.188172       1\n",
      "2012.801075       1\n",
      "Name: construction_year, Length: 165, dtype: int64\n"
     ]
    }
   ],
   "source": [
    "df = check_not_zero(df)\n",
    "print(df.construction_year.value_counts())\n",
    "# df2.head()\n",
    "# print(type(df2.construction_year[1]))\n",
    "# print(type(df2.date_recorded[1]))"
   ]
  },
  {
   "cell_type": "code",
   "execution_count": 380,
   "metadata": {},
   "outputs": [
    {
     "data": {
      "text/plain": [
       "0      1994.0\n",
       "1      1994.0\n",
       "2      2010.0\n",
       "3      2011.0\n",
       "4      2003.0\n",
       "5      2007.0\n",
       "6      2007.0\n",
       "7      2001.0\n",
       "8      1994.0\n",
       "9      1998.0\n",
       "10     2003.0\n",
       "11     2003.0\n",
       "12     2007.0\n",
       "13     2003.0\n",
       "14     2007.0\n",
       "15     2007.0\n",
       "16     2003.0\n",
       "17     2008.0\n",
       "18     2006.0\n",
       "19     2006.0\n",
       "20     2006.0\n",
       "21     2006.0\n",
       "22     2006.0\n",
       "23     2006.0\n",
       "24     1994.0\n",
       "25     1987.0\n",
       "26     1988.0\n",
       "27     1988.0\n",
       "28     1988.0\n",
       "29     1988.0\n",
       "        ...  \n",
       "270    2007.0\n",
       "271    2007.0\n",
       "272    1992.0\n",
       "273    1992.0\n",
       "274    2007.0\n",
       "275    2012.0\n",
       "276    1992.0\n",
       "277    2012.0\n",
       "278    2011.0\n",
       "279    1996.0\n",
       "280    2004.0\n",
       "281    2004.0\n",
       "282    1990.0\n",
       "283    2012.0\n",
       "284    2012.0\n",
       "285    2012.0\n",
       "286    1990.0\n",
       "287    2008.0\n",
       "288    2008.0\n",
       "289    2004.0\n",
       "290    2008.0\n",
       "291    1992.0\n",
       "292    2007.0\n",
       "293    1990.0\n",
       "294    1990.0\n",
       "295    1990.0\n",
       "296    2008.0\n",
       "297    2004.0\n",
       "298    1994.0\n",
       "299    1994.0\n",
       "Name: construction_year, Length: 300, dtype: float64"
      ]
     },
     "execution_count": 380,
     "metadata": {},
     "output_type": "execute_result"
    }
   ],
   "source": [
    "df['construction_year'][:300]"
   ]
  },
  {
   "cell_type": "code",
   "execution_count": 382,
   "metadata": {},
   "outputs": [
    {
     "data": {
      "text/plain": [
       "Index(['id', 'date_recorded', 'season_recorded', 'gps_height', 'installer',\n",
       "       'longitude', 'latitude', 'basin', 'region_code', 'population',\n",
       "       'public_meeting', 'scheme_management', 'permit', 'construction_year',\n",
       "       'extraction_type_group', 'management_group', 'payment_type',\n",
       "       'water_quality', 'quantity_group', 'source_type', 'source_class',\n",
       "       'waterpoint_type_group', 'status_group'],\n",
       "      dtype='object')"
      ]
     },
     "execution_count": 382,
     "metadata": {},
     "output_type": "execute_result"
    }
   ],
   "source": [
    "df.columns"
   ]
  },
  {
   "cell_type": "code",
   "execution_count": null,
   "metadata": {},
   "outputs": [],
   "source": [
    "# worked - need to now create wpt age"
   ]
  },
  {
   "cell_type": "code",
   "execution_count": 383,
   "metadata": {},
   "outputs": [],
   "source": [
    "df_wpt_age = df.date_recorded - df.construction_year\n",
    "# df.insert(13,'wpt_age',df_wpt_age )"
   ]
  },
  {
   "cell_type": "code",
   "execution_count": 384,
   "metadata": {},
   "outputs": [
    {
     "data": {
      "text/plain": [
       "0    19.129032\n",
       "1    19.129032\n",
       "2     3.120968\n",
       "3     2.145161\n",
       "4    10.145161\n",
       "dtype: float64"
      ]
     },
     "execution_count": 384,
     "metadata": {},
     "output_type": "execute_result"
    }
   ],
   "source": [
    "df_wpt_age.head()"
   ]
  },
  {
   "cell_type": "code",
   "execution_count": 385,
   "metadata": {},
   "outputs": [],
   "source": [
    "df.insert(13,'wpt_age', df_wpt_age )"
   ]
  },
  {
   "cell_type": "code",
   "execution_count": 386,
   "metadata": {},
   "outputs": [
    {
     "data": {
      "text/plain": [
       "Index(['id', 'date_recorded', 'season_recorded', 'gps_height', 'installer',\n",
       "       'longitude', 'latitude', 'basin', 'region_code', 'population',\n",
       "       'public_meeting', 'scheme_management', 'permit', 'wpt_age',\n",
       "       'construction_year', 'extraction_type_group', 'management_group',\n",
       "       'payment_type', 'water_quality', 'quantity_group', 'source_type',\n",
       "       'source_class', 'waterpoint_type_group', 'status_group'],\n",
       "      dtype='object')"
      ]
     },
     "execution_count": 386,
     "metadata": {},
     "output_type": "execute_result"
    }
   ],
   "source": [
    "df.columns"
   ]
  },
  {
   "cell_type": "code",
   "execution_count": 389,
   "metadata": {},
   "outputs": [
    {
     "data": {
      "text/plain": [
       "58800    0.0\n",
       "58801    0.0\n",
       "58802    0.0\n",
       "58803    0.0\n",
       "58804    0.0\n",
       "58805    0.0\n",
       "58806    0.0\n",
       "58807    0.0\n",
       "58808    0.0\n",
       "58809    0.0\n",
       "58810    0.0\n",
       "58811    0.0\n",
       "58812    0.0\n",
       "58813    0.0\n",
       "58814    0.0\n",
       "58815    0.0\n",
       "58816    0.0\n",
       "58817    0.0\n",
       "58818    0.0\n",
       "58819    0.0\n",
       "58820    0.0\n",
       "58821    0.0\n",
       "58822    0.0\n",
       "58823    0.0\n",
       "58824    0.0\n",
       "58825    0.0\n",
       "58826    0.0\n",
       "58827    0.0\n",
       "58828    0.0\n",
       "58829    0.0\n",
       "        ... \n",
       "58970    0.0\n",
       "58971    0.0\n",
       "58972    0.0\n",
       "58973    0.0\n",
       "58974    0.0\n",
       "58975    0.0\n",
       "58976    0.0\n",
       "58977    0.0\n",
       "58978    0.0\n",
       "58979    0.0\n",
       "58980    0.0\n",
       "58981    0.0\n",
       "58982    0.0\n",
       "58983    0.0\n",
       "58984    0.0\n",
       "58985    0.0\n",
       "58986    0.0\n",
       "58987    0.0\n",
       "58988    0.0\n",
       "58989    0.0\n",
       "58990    0.0\n",
       "58991    0.0\n",
       "58992    0.0\n",
       "58993    0.0\n",
       "58994    0.0\n",
       "58995    0.0\n",
       "58996    0.0\n",
       "58997    0.0\n",
       "58998    0.0\n",
       "58999    0.0\n",
       "Name: wpt_age, Length: 200, dtype: float64"
      ]
     },
     "execution_count": 389,
     "metadata": {},
     "output_type": "execute_result"
    }
   ],
   "source": [
    "df['wpt_age'][58800: 59000]"
   ]
  },
  {
   "cell_type": "code",
   "execution_count": null,
   "metadata": {},
   "outputs": [],
   "source": [
    "### What has happened is that with rounding, zero construction "
   ]
  },
  {
   "cell_type": "code",
   "execution_count": 390,
   "metadata": {},
   "outputs": [],
   "source": [
    "# df.to_csv('/Users/RAhmed/data store/Wesleyan_Capstone/corrected_data04.csv', index=False)"
   ]
  },
  {
   "cell_type": "code",
   "execution_count": 171,
   "metadata": {},
   "outputs": [],
   "source": [
    "def eda_helper(df):\n",
    "   dict_list = []\n",
    "   for col in df.columns:\n",
    "       data = df[col]\n",
    "       dict_ = {}\n",
    "       # The null count for a column. \n",
    "       dict_.update({\"null_count\" : data.isnull().sum()})\n",
    "       # Counting the unique values in a column\n",
    "       dict_.update({\"unique_count\" : len(data.unique())})\n",
    "       # Finding the types of data in the column\n",
    "       # This is useful for finding out potential problems with type mismatches\n",
    "       dict_.update({\"data_type\" : set([type(d).__name__ for d in data])})\n",
    "       #dict_.update({\"score\" : match[1]})\n",
    "       dict_list.append(dict_)\n",
    "   eda_df = pd.DataFrame(dict_list)\n",
    "   eda_df.index = df.columns\n",
    "   eda_df.sort_values(by=['null_count', 'unique_count'], ascending=[True, False], inplace=True)\n",
    "       \n",
    "   return eda_df"
   ]
  },
  {
   "cell_type": "code",
   "execution_count": 172,
   "metadata": {},
   "outputs": [
    {
     "name": "stdout",
     "output_type": "stream",
     "text": [
      "                           data_type  null_count  unique_count\n",
      "id                             {int}           0         59400\n",
      "latitude                     {float}           0         57517\n",
      "longitude                    {float}           0         57516\n",
      "gps_height                     {int}           0          2429\n",
      "date_recorded                  {str}           0           356\n",
      "construction_year              {int}           0            55\n",
      "region_code                    {int}           0            27\n",
      "extraction_type_group          {str}           0            13\n",
      "basin                          {str}           0             9\n",
      "population                     {str}           0             9\n",
      "water_quality                  {str}           0             8\n",
      "payment_type                   {str}           0             7\n",
      "source_type                    {str}           0             7\n",
      "waterpoint_type_group          {str}           0             6\n",
      "management_group               {str}           0             5\n",
      "quantity_group                 {str}           0             5\n",
      "season_recorded                {str}           0             4\n",
      "source_class                   {str}           0             3\n",
      "status_group                   {str}           0             3\n",
      "permit                 {float, bool}        3056             3\n",
      "public_meeting         {float, bool}        3334             3\n",
      "installer               {str, float}        3655           885\n",
      "scheme_management       {str, float}        3877            13\n"
     ]
    }
   ],
   "source": [
    "print(eda_helper(df))"
   ]
  },
  {
   "cell_type": "code",
   "execution_count": 179,
   "metadata": {},
   "outputs": [
    {
     "name": "stdout",
     "output_type": "stream",
     "text": [
      "2014/00/00 <class 'str'>\n"
     ]
    }
   ],
   "source": [
    "def year_to_str(year):\n",
    "    if year < 2000:\n",
    "        year_str = str(year)[-2:]\n",
    "        year_19 = \n",
    "    else:\n",
    "        year_str = str(year)[-2:]\n",
    "    str_a = str(year)\n",
    "    output = '01/01/' \n",
    "    return output\n",
    "\n",
    "# a0 = year_to_str(2014)\n",
    "# print(a0, type(a0))\n"
   ]
  },
  {
   "cell_type": "code",
   "execution_count": 189,
   "metadata": {},
   "outputs": [
    {
     "name": "stdout",
     "output_type": "stream",
     "text": [
      "14 <class 'str'>\n"
     ]
    }
   ],
   "source": [
    "year = 2014\n",
    "a = str(year)[-2:]\n",
    "print(a, type(a))"
   ]
  },
  {
   "cell_type": "code",
   "execution_count": 181,
   "metadata": {},
   "outputs": [
    {
     "ename": "ValueError",
     "evalue": "could not convert string to float: '25/0'",
     "output_type": "error",
     "traceback": [
      "\u001b[0;31m---------------------------------------------------------------------------\u001b[0m",
      "\u001b[0;31mValueError\u001b[0m                                Traceback (most recent call last)",
      "\u001b[0;32m<ipython-input-181-4b641941e54b>\u001b[0m in \u001b[0;36m<module>\u001b[0;34m()\u001b[0m\n\u001b[0;32m----> 1\u001b[0;31m \u001b[0mdf_wpt_age\u001b[0m \u001b[0;34m=\u001b[0m \u001b[0mdf\u001b[0m\u001b[0;34m[\u001b[0m\u001b[0;34m'date_recorded'\u001b[0m\u001b[0;34m]\u001b[0m\u001b[0;34m.\u001b[0m\u001b[0mapply\u001b[0m\u001b[0;34m(\u001b[0m\u001b[0myear_convert\u001b[0m\u001b[0;34m)\u001b[0m \u001b[0;34m-\u001b[0m \u001b[0mdf\u001b[0m\u001b[0;34m[\u001b[0m\u001b[0;34m'construction_year'\u001b[0m\u001b[0;34m]\u001b[0m\u001b[0;34m.\u001b[0m\u001b[0mapply\u001b[0m\u001b[0;34m(\u001b[0m\u001b[0mcheck_not_zero\u001b[0m\u001b[0;34m)\u001b[0m\u001b[0;34m\u001b[0m\u001b[0m\n\u001b[0m\u001b[1;32m      2\u001b[0m \u001b[0mdf_wpt_age\u001b[0m\u001b[0;34m.\u001b[0m\u001b[0mhead\u001b[0m\u001b[0;34m(\u001b[0m\u001b[0;34m)\u001b[0m\u001b[0;34m\u001b[0m\u001b[0m\n",
      "\u001b[0;32m~/anaconda3/lib/python3.6/site-packages/pandas/core/series.py\u001b[0m in \u001b[0;36mapply\u001b[0;34m(self, func, convert_dtype, args, **kwds)\u001b[0m\n\u001b[1;32m   3190\u001b[0m             \u001b[0;32melse\u001b[0m\u001b[0;34m:\u001b[0m\u001b[0;34m\u001b[0m\u001b[0m\n\u001b[1;32m   3191\u001b[0m                 \u001b[0mvalues\u001b[0m \u001b[0;34m=\u001b[0m \u001b[0mself\u001b[0m\u001b[0;34m.\u001b[0m\u001b[0mastype\u001b[0m\u001b[0;34m(\u001b[0m\u001b[0mobject\u001b[0m\u001b[0;34m)\u001b[0m\u001b[0;34m.\u001b[0m\u001b[0mvalues\u001b[0m\u001b[0;34m\u001b[0m\u001b[0m\n\u001b[0;32m-> 3192\u001b[0;31m                 \u001b[0mmapped\u001b[0m \u001b[0;34m=\u001b[0m \u001b[0mlib\u001b[0m\u001b[0;34m.\u001b[0m\u001b[0mmap_infer\u001b[0m\u001b[0;34m(\u001b[0m\u001b[0mvalues\u001b[0m\u001b[0;34m,\u001b[0m \u001b[0mf\u001b[0m\u001b[0;34m,\u001b[0m \u001b[0mconvert\u001b[0m\u001b[0;34m=\u001b[0m\u001b[0mconvert_dtype\u001b[0m\u001b[0;34m)\u001b[0m\u001b[0;34m\u001b[0m\u001b[0m\n\u001b[0m\u001b[1;32m   3193\u001b[0m \u001b[0;34m\u001b[0m\u001b[0m\n\u001b[1;32m   3194\u001b[0m         \u001b[0;32mif\u001b[0m \u001b[0mlen\u001b[0m\u001b[0;34m(\u001b[0m\u001b[0mmapped\u001b[0m\u001b[0;34m)\u001b[0m \u001b[0;32mand\u001b[0m \u001b[0misinstance\u001b[0m\u001b[0;34m(\u001b[0m\u001b[0mmapped\u001b[0m\u001b[0;34m[\u001b[0m\u001b[0;36m0\u001b[0m\u001b[0;34m]\u001b[0m\u001b[0;34m,\u001b[0m \u001b[0mSeries\u001b[0m\u001b[0;34m)\u001b[0m\u001b[0;34m:\u001b[0m\u001b[0;34m\u001b[0m\u001b[0m\n",
      "\u001b[0;32mpandas/_libs/src/inference.pyx\u001b[0m in \u001b[0;36mpandas._libs.lib.map_infer\u001b[0;34m()\u001b[0m\n",
      "\u001b[0;32m<ipython-input-128-72e61c788213>\u001b[0m in \u001b[0;36myear_convert\u001b[0;34m(date_recorded)\u001b[0m\n\u001b[1;32m      6\u001b[0m \u001b[0;34m\u001b[0m\u001b[0m\n\u001b[1;32m      7\u001b[0m     \"\"\"\n\u001b[0;32m----> 8\u001b[0;31m     \u001b[0myear\u001b[0m \u001b[0;34m=\u001b[0m \u001b[0mfloat\u001b[0m\u001b[0;34m(\u001b[0m\u001b[0mdate_recorded\u001b[0m\u001b[0;34m[\u001b[0m\u001b[0;34m:\u001b[0m\u001b[0;36m4\u001b[0m\u001b[0;34m]\u001b[0m\u001b[0;34m)\u001b[0m\u001b[0;34m\u001b[0m\u001b[0m\n\u001b[0m\u001b[1;32m      9\u001b[0m     \u001b[0mmonth\u001b[0m \u001b[0;34m=\u001b[0m \u001b[0mfloat\u001b[0m\u001b[0;34m(\u001b[0m\u001b[0mdate_recorded\u001b[0m\u001b[0;34m[\u001b[0m\u001b[0;36m5\u001b[0m\u001b[0;34m:\u001b[0m\u001b[0;36m7\u001b[0m\u001b[0;34m]\u001b[0m\u001b[0;34m)\u001b[0m\u001b[0;34m\u001b[0m\u001b[0m\n\u001b[1;32m     10\u001b[0m     \u001b[0mday\u001b[0m \u001b[0;34m=\u001b[0m \u001b[0mfloat\u001b[0m\u001b[0;34m(\u001b[0m\u001b[0mdate_recorded\u001b[0m\u001b[0;34m[\u001b[0m\u001b[0;36m8\u001b[0m\u001b[0;34m:\u001b[0m\u001b[0;34m]\u001b[0m\u001b[0;34m)\u001b[0m\u001b[0;34m\u001b[0m\u001b[0m\n",
      "\u001b[0;31mValueError\u001b[0m: could not convert string to float: '25/0'"
     ]
    }
   ],
   "source": [
    "df_wpt_age = df['date_recorded'].apply(year_convert) - df['construction_year'].apply(check_not_zero)\n",
    "df_wpt_age.head()"
   ]
  },
  {
   "cell_type": "code",
   "execution_count": 130,
   "metadata": {},
   "outputs": [
    {
     "ename": "NameError",
     "evalue": "name 'df_wpt_age' is not defined",
     "output_type": "error",
     "traceback": [
      "\u001b[0;31m---------------------------------------------------------------------------\u001b[0m",
      "\u001b[0;31mNameError\u001b[0m                                 Traceback (most recent call last)",
      "\u001b[0;32m<ipython-input-130-541721841aa8>\u001b[0m in \u001b[0;36m<module>\u001b[0;34m()\u001b[0m\n\u001b[0;32m----> 1\u001b[0;31m \u001b[0mdf\u001b[0m\u001b[0;34m.\u001b[0m\u001b[0minsert\u001b[0m\u001b[0;34m(\u001b[0m\u001b[0;36m14\u001b[0m\u001b[0;34m,\u001b[0m \u001b[0;34m'wpt_age'\u001b[0m\u001b[0;34m,\u001b[0m \u001b[0mdf_wpt_age\u001b[0m\u001b[0;34m)\u001b[0m\u001b[0;34m\u001b[0m\u001b[0m\n\u001b[0m\u001b[1;32m      2\u001b[0m \u001b[0mdf\u001b[0m\u001b[0;34m.\u001b[0m\u001b[0mhead\u001b[0m\u001b[0;34m(\u001b[0m\u001b[0;34m)\u001b[0m\u001b[0;34m\u001b[0m\u001b[0m\n",
      "\u001b[0;31mNameError\u001b[0m: name 'df_wpt_age' is not defined"
     ]
    }
   ],
   "source": [
    "df.insert(14, 'wpt_age', df_wpt_age)\n",
    "df.head()"
   ]
  },
  {
   "cell_type": "code",
   "execution_count": null,
   "metadata": {},
   "outputs": [],
   "source": [
    "# save this update\n",
    "# df.to_csv('/Users/RAhmed/data store/Wesleyan_Capstone/corrected_data03.csv', index=False)"
   ]
  },
  {
   "cell_type": "code",
   "execution_count": null,
   "metadata": {},
   "outputs": [],
   "source": [
    "categories = {'extraction_type_group', 'region_code', 'population', 'water_quality', 'payment_type',\n",
    "              'source_type', 'basin', 'management_group', 'quantity_group', 'season_recorded', \n",
    "              'waterpoint_type_group', 'source_class', 'status_group', 'permit', 'installer', \n",
    "              'public_meeting', 'scheme_management', 'region_code'\n",
    "            }\n",
    "\n",
    "for item in categories:\n",
    "    df[item] = df[item].astype('category')"
   ]
  },
  {
   "cell_type": "code",
   "execution_count": null,
   "metadata": {},
   "outputs": [],
   "source": [
    "print(eda_helper(df))"
   ]
  },
  {
   "cell_type": "code",
   "execution_count": null,
   "metadata": {},
   "outputs": [],
   "source": [
    "ax.set_xlabel('X_axi',fontsize=0.1)\n",
    "ax = sns.countplot(x='extraction_type_group', hue='status_group', data=df)\n",
    "ax.figure.savefig(\"output0.png\", dpi = 1000)"
   ]
  },
  {
   "cell_type": "code",
   "execution_count": null,
   "metadata": {},
   "outputs": [],
   "source": [
    "ax = sns.countplot(x='region_code', hue='status_group', data=df)"
   ]
  },
  {
   "cell_type": "code",
   "execution_count": null,
   "metadata": {},
   "outputs": [],
   "source": [
    "ax = sns.countplot(x='population', hue='status_group', data=df)"
   ]
  },
  {
   "cell_type": "code",
   "execution_count": null,
   "metadata": {},
   "outputs": [],
   "source": [
    "ax = sns.countplot(x='water_quality', hue='status_group', data=df)"
   ]
  },
  {
   "cell_type": "code",
   "execution_count": null,
   "metadata": {},
   "outputs": [],
   "source": [
    "ax = sns.countplot(x='payment_type', hue='status_group', data=df)"
   ]
  },
  {
   "cell_type": "code",
   "execution_count": null,
   "metadata": {},
   "outputs": [],
   "source": [
    "ax = sns.countplot(x='source_type', hue='status_group', data=df)"
   ]
  },
  {
   "cell_type": "code",
   "execution_count": null,
   "metadata": {},
   "outputs": [],
   "source": [
    "ax = sns.countplot(x='basin', hue='status_group', data=df)"
   ]
  },
  {
   "cell_type": "code",
   "execution_count": null,
   "metadata": {},
   "outputs": [],
   "source": [
    "ax = sns.countplot(x='management_group', hue='status_group', data=df)"
   ]
  },
  {
   "cell_type": "code",
   "execution_count": null,
   "metadata": {},
   "outputs": [],
   "source": [
    "ax = sns.countplot(x='quantity_group', hue='status_group', data=df)"
   ]
  },
  {
   "cell_type": "code",
   "execution_count": null,
   "metadata": {},
   "outputs": [],
   "source": [
    "ax = sns.countplot(x='season_recorded', hue='status_group', data=df)"
   ]
  },
  {
   "cell_type": "code",
   "execution_count": null,
   "metadata": {},
   "outputs": [],
   "source": [
    "ax = sns.countplot(x='waterpoint_type_group', hue='status_group', data=df)"
   ]
  },
  {
   "cell_type": "code",
   "execution_count": null,
   "metadata": {},
   "outputs": [],
   "source": [
    "ax = sns.countplot(x='source_class', hue='status_group', data=df)"
   ]
  },
  {
   "cell_type": "code",
   "execution_count": null,
   "metadata": {},
   "outputs": [],
   "source": [
    "ax = sns.countplot(x='permit', hue='status_group', data=df)"
   ]
  },
  {
   "cell_type": "code",
   "execution_count": null,
   "metadata": {},
   "outputs": [],
   "source": [
    "ax.set_xlabel('X_axi',fontsize=0.2)\n",
    "ax = sns.countplot(x='installer', hue='status_group', data=df)\n",
    "ax.figure.savefig(\"output1.png\", dpi = 800)"
   ]
  },
  {
   "cell_type": "code",
   "execution_count": null,
   "metadata": {},
   "outputs": [],
   "source": [
    "ax.set_xlabel('X_axi',fontsize=0.4)\n",
    "\n",
    "sns.axes_style()\n",
    "# sns.set_context(\"notebook\", font_scale=.5, rc={\"lines.linewidth\": 2.5})\n",
    "ax = sns.countplot(x='scheme_management', hue='status_group', data=df)\n",
    "ax.figure.savefig(\"output1.png\", dpi = 400)"
   ]
  },
  {
   "cell_type": "code",
   "execution_count": null,
   "metadata": {},
   "outputs": [],
   "source": [
    "ax.figure.savefig(\"output.png\", dpi = 400)"
   ]
  },
  {
   "cell_type": "code",
   "execution_count": null,
   "metadata": {},
   "outputs": [],
   "source": [
    "ax = sns.countplot(x='public_meeting', hue='status_group', data=df)"
   ]
  },
  {
   "cell_type": "code",
   "execution_count": null,
   "metadata": {},
   "outputs": [],
   "source": [
    "df.groupby('installer')['status_group'].value_counts()"
   ]
  },
  {
   "cell_type": "code",
   "execution_count": null,
   "metadata": {},
   "outputs": [],
   "source": [
    "# for r in range([start], stop[, step])\n",
    "for r in range(1000, 1100, 1): print(r)"
   ]
  },
  {
   "cell_type": "code",
   "execution_count": null,
   "metadata": {},
   "outputs": [],
   "source": []
  }
 ],
 "metadata": {
  "kernelspec": {
   "display_name": "Python 3",
   "language": "python",
   "name": "python3"
  },
  "language_info": {
   "codemirror_mode": {
    "name": "ipython",
    "version": 3
   },
   "file_extension": ".py",
   "mimetype": "text/x-python",
   "name": "python",
   "nbconvert_exporter": "python",
   "pygments_lexer": "ipython3",
   "version": "3.6.5"
  }
 },
 "nbformat": 4,
 "nbformat_minor": 2
}
