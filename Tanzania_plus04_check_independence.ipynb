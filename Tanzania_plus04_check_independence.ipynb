{
 "cells": [
  {
   "cell_type": "markdown",
   "metadata": {},
   "source": [
    "# Consolidated workflow"
   ]
  },
  {
   "cell_type": "markdown",
   "metadata": {},
   "source": [
    "Import initial libraries and data file. N.B. The data already had season_recorded added as a composite variable, by me, earlier."
   ]
  },
  {
   "cell_type": "code",
   "execution_count": 28,
   "metadata": {},
   "outputs": [
    {
     "data": {
      "text/plain": [
       "(59400, 23)"
      ]
     },
     "execution_count": 28,
     "metadata": {},
     "output_type": "execute_result"
    }
   ],
   "source": [
    "# import libraries and data\n",
    "import numpy as np\n",
    "import pandas as pd\n",
    "import matplotlib.pyplot as plt\n",
    "import seaborn as sns\n",
    "\n",
    "# check select_data\n",
    "df = pd.read_csv('/Users/RAhmed/data store/Wesleyan_Capstone/select_data.csv')\n",
    "df.shape"
   ]
  },
  {
   "cell_type": "markdown",
   "metadata": {},
   "source": [
    "## Get rid of NaNs"
   ]
  },
  {
   "cell_type": "code",
   "execution_count": 9,
   "metadata": {},
   "outputs": [
    {
     "data": {
      "text/plain": [
       "id                       False\n",
       "date_recorded            False\n",
       "season_recorded          False\n",
       "gps_height               False\n",
       "installer                 True\n",
       "longitude                False\n",
       "latitude                 False\n",
       "basin                    False\n",
       "region_code              False\n",
       "population               False\n",
       "public_meeting            True\n",
       "scheme_management         True\n",
       "permit                    True\n",
       "construction_year        False\n",
       "extraction_type_group    False\n",
       "management_group         False\n",
       "payment_type             False\n",
       "water_quality            False\n",
       "quantity_group           False\n",
       "source_type              False\n",
       "source_class             False\n",
       "waterpoint_type_group    False\n",
       "status_group             False\n",
       "dtype: bool"
      ]
     },
     "execution_count": 9,
     "metadata": {},
     "output_type": "execute_result"
    }
   ],
   "source": [
    "# check which column has NaNs\n",
    "df.isna().any()"
   ]
  },
  {
   "cell_type": "code",
   "execution_count": 10,
   "metadata": {},
   "outputs": [
    {
     "data": {
      "text/plain": [
       "3655"
      ]
     },
     "execution_count": 10,
     "metadata": {},
     "output_type": "execute_result"
    }
   ],
   "source": [
    "df['installer'].isnull().sum()"
   ]
  },
  {
   "cell_type": "code",
   "execution_count": 11,
   "metadata": {},
   "outputs": [
    {
     "data": {
      "text/plain": [
       "3334"
      ]
     },
     "execution_count": 11,
     "metadata": {},
     "output_type": "execute_result"
    }
   ],
   "source": [
    "df['public_meeting'].isnull().sum()"
   ]
  },
  {
   "cell_type": "code",
   "execution_count": 12,
   "metadata": {},
   "outputs": [
    {
     "data": {
      "text/plain": [
       "3877"
      ]
     },
     "execution_count": 12,
     "metadata": {},
     "output_type": "execute_result"
    }
   ],
   "source": [
    "df['scheme_management'].isnull().sum()"
   ]
  },
  {
   "cell_type": "code",
   "execution_count": 13,
   "metadata": {},
   "outputs": [
    {
     "data": {
      "text/plain": [
       "3056"
      ]
     },
     "execution_count": 13,
     "metadata": {},
     "output_type": "execute_result"
    }
   ],
   "source": [
    "df['permit'].isnull().sum()"
   ]
  },
  {
   "cell_type": "markdown",
   "metadata": {},
   "source": [
    "There are relatively a lot of NaNs in public_meeting so ignoring these will remove valuable info. Also, the test set is likely to have NaNs, so we need to come up with consistent treatment that will also be used on the test set. For all of these I will turn NaN into 'unknown'.\n",
    "\n",
    "N.B. That booleans need to be treated differently, as you cannot mix True, False and 'unknown'."
   ]
  },
  {
   "cell_type": "code",
   "execution_count": 14,
   "metadata": {},
   "outputs": [
    {
     "name": "stdout",
     "output_type": "stream",
     "text": [
      "True\n",
      "0\n",
      "3656\n"
     ]
    }
   ],
   "source": [
    "# fix df['installer']. N.B. Was already one 'unknown', adding more where no entry\n",
    "df['installer'].fillna(value='unknown', inplace=True)\n",
    "print('unknown' in df.installer.unique())\n",
    "print(df['installer'].isnull().sum())\n",
    "print((df['installer'] == 'unknown').sum())"
   ]
  },
  {
   "cell_type": "code",
   "execution_count": 15,
   "metadata": {},
   "outputs": [
    {
     "name": "stdout",
     "output_type": "stream",
     "text": [
      "missing entries 3334\n",
      "True     51011\n",
      "False     5055\n",
      "Name: public_meeting, dtype: int64\n"
     ]
    }
   ],
   "source": [
    "# situation for df['public_meeting']\n",
    "print('missing entries', df['public_meeting'].isnull().sum())\n",
    "print(df['public_meeting'].value_counts())"
   ]
  },
  {
   "cell_type": "code",
   "execution_count": 16,
   "metadata": {},
   "outputs": [],
   "source": [
    "# function to correct boolean variable with missing entries\n",
    "def bool_converter(bool):\n",
    "    if bool == False:\n",
    "        return 0\n",
    "    elif bool == True:\n",
    "        return 1\n",
    "    else: \n",
    "        return 2"
   ]
  },
  {
   "cell_type": "code",
   "execution_count": 17,
   "metadata": {},
   "outputs": [
    {
     "name": "stdout",
     "output_type": "stream",
     "text": [
      "1    51011\n",
      "0     5055\n",
      "2     3334\n",
      "Name: public_meeting, dtype: int64\n"
     ]
    }
   ],
   "source": [
    "# fix df['public_meeting']\n",
    "df['public_meeting'] = df['public_meeting'].apply(bool_converter)\n",
    "print(df['public_meeting'].value_counts())"
   ]
  },
  {
   "cell_type": "code",
   "execution_count": 18,
   "metadata": {},
   "outputs": [
    {
     "name": "stdout",
     "output_type": "stream",
     "text": [
      "True\n",
      "0\n",
      "3877\n"
     ]
    }
   ],
   "source": [
    "# fix df['scheme_management'], is non-boolean\n",
    "df['scheme_management'].fillna(value='unknown', inplace=True)\n",
    "print('unknown' in df.scheme_management.unique())\n",
    "print(df['scheme_management'].isnull().sum())\n",
    "print((df['scheme_management'] == 'unknown').sum())"
   ]
  },
  {
   "cell_type": "code",
   "execution_count": 19,
   "metadata": {},
   "outputs": [
    {
     "name": "stdout",
     "output_type": "stream",
     "text": [
      "1    38852\n",
      "0    17492\n",
      "2     3056\n",
      "Name: permit, dtype: int64\n"
     ]
    }
   ],
   "source": [
    "# fix df['permit'], is boolean\n",
    "df['permit'] = df['permit'].apply(bool_converter)\n",
    "print(df['permit'].value_counts())"
   ]
  },
  {
   "cell_type": "markdown",
   "metadata": {},
   "source": [
    "## EDA: initial look at variables"
   ]
  },
  {
   "cell_type": "markdown",
   "metadata": {},
   "source": [
    "Explore using Roland Jeannier's function"
   ]
  },
  {
   "cell_type": "code",
   "execution_count": 20,
   "metadata": {},
   "outputs": [],
   "source": [
    "def eda_helper(df):\n",
    "   dict_list = []\n",
    "   for col in df.columns:\n",
    "       data = df[col]\n",
    "       dict_ = {}\n",
    "       # The null count for a column. \n",
    "       dict_.update({\"null_count\" : data.isnull().sum()})\n",
    "       # Counting the unique values in a column\n",
    "       dict_.update({\"unique_count\" : len(data.unique())})\n",
    "       # Finding the types of data in the column\n",
    "       # This is useful for finding out potential problems with type mismatches\n",
    "       dict_.update({\"data_type\" : set([type(d).__name__ for d in data])})\n",
    "       #dict_.update({\"score\" : match[1]})\n",
    "       dict_list.append(dict_)\n",
    "   eda_df = pd.DataFrame(dict_list)\n",
    "   eda_df.index = df.columns\n",
    "   eda_df.sort_values(by=['null_count', 'unique_count'], ascending=[True, False], inplace=True)\n",
    "       \n",
    "   return eda_df"
   ]
  },
  {
   "cell_type": "code",
   "execution_count": 21,
   "metadata": {},
   "outputs": [
    {
     "name": "stdout",
     "output_type": "stream",
     "text": [
      "                      data_type  null_count  unique_count\n",
      "id                        {int}           0         59400\n",
      "latitude                {float}           0         57517\n",
      "longitude               {float}           0         57516\n",
      "gps_height                {int}           0          2428\n",
      "installer                 {str}           0          2145\n",
      "population                {int}           0          1049\n",
      "date_recorded             {str}           0           356\n",
      "construction_year         {int}           0            55\n",
      "region_code               {int}           0            27\n",
      "scheme_management         {str}           0            13\n",
      "extraction_type_group     {str}           0            13\n",
      "basin                     {str}           0             9\n",
      "water_quality             {str}           0             8\n",
      "payment_type              {str}           0             7\n",
      "source_type               {str}           0             7\n",
      "waterpoint_type_group     {str}           0             6\n",
      "management_group          {str}           0             5\n",
      "quantity_group            {str}           0             5\n",
      "season_recorded           {str}           0             4\n",
      "public_meeting            {int}           0             3\n",
      "permit                    {int}           0             3\n",
      "source_class              {str}           0             3\n",
      "status_group              {str}           0             3\n"
     ]
    }
   ],
   "source": [
    "print(eda_helper(df))"
   ]
  },
  {
   "cell_type": "markdown",
   "metadata": {},
   "source": [
    "^ above all looks as it should."
   ]
  },
  {
   "cell_type": "markdown",
   "metadata": {},
   "source": [
    "### Long look at installer"
   ]
  },
  {
   "cell_type": "code",
   "execution_count": 32,
   "metadata": {},
   "outputs": [
    {
     "data": {
      "text/plain": [
       "2145"
      ]
     },
     "execution_count": 32,
     "metadata": {},
     "output_type": "execute_result"
    }
   ],
   "source": [
    "df['installer'].nunique()"
   ]
  },
  {
   "cell_type": "markdown",
   "metadata": {},
   "source": [
    "There are a lot of installers!!! Let's look at some of them to get an idea."
   ]
  },
  {
   "cell_type": "code",
   "execution_count": 33,
   "metadata": {},
   "outputs": [
    {
     "data": {
      "text/plain": [
       "DWE                             17402\n",
       "unknown                          3656\n",
       "Government                       1825\n",
       "RWE                              1206\n",
       "Commu                            1060\n",
       "DANIDA                           1050\n",
       "KKKT                              898\n",
       "Hesawa                            840\n",
       "0                                 777\n",
       "TCRS                              707\n",
       "Central government                622\n",
       "CES                               610\n",
       "Community                         553\n",
       "DANID                             552\n",
       "District Council                  551\n",
       "HESAWA                            539\n",
       "World vision                      408\n",
       "LGA                               408\n",
       "WEDECO                            397\n",
       "TASAF                             396\n",
       "District council                  392\n",
       "Gover                             383\n",
       "AMREF                             329\n",
       "TWESA                             316\n",
       "WU                                301\n",
       "Dmdd                              287\n",
       "ACRA                              278\n",
       "World Vision                      270\n",
       "SEMA                              249\n",
       "DW                                246\n",
       "                                ...  \n",
       "villigers                           1\n",
       "Rashid Seng'ombe                    1\n",
       "Al Ha                               1\n",
       "CARE                                1\n",
       "rc ch                               1\n",
       "TUKWARE ENTERP                      1\n",
       "Frida mokeki                        1\n",
       "DSP                                 1\n",
       "Pori la akiba kigosi                1\n",
       "Mkulima                             1\n",
       "Regwa Company                       1\n",
       "ROMAN CATHOLIC                      1\n",
       "DWE&                                1\n",
       "G.D&I.D                             1\n",
       "SIMBA LODGE                         1\n",
       "HesaWa                              1\n",
       "ALLYS                               1\n",
       "Mashaka M                           1\n",
       "Water Authority                     1\n",
       "Sekondari                           1\n",
       "Lions club kilimanjaro              1\n",
       "Wadeco                              1\n",
       "Mpango wa Mwisa                     1\n",
       "SINGIDA  YETU                       1\n",
       "Sua                                 1\n",
       "Bhoke Mwita                         1\n",
       "Ramadhani Nyambizi                  1\n",
       "Dr.Matomola                         1\n",
       "Egypt Technical Co Operation        1\n",
       "Wamisionari wa Kikatoriki           1\n",
       "Name: installer, Length: 2145, dtype: int64"
      ]
     },
     "execution_count": 33,
     "metadata": {},
     "output_type": "execute_result"
    }
   ],
   "source": [
    "df['installer'].value_counts()"
   ]
  },
  {
   "cell_type": "markdown",
   "metadata": {},
   "source": [
    "Make the list alphabetical."
   ]
  },
  {
   "cell_type": "code",
   "execution_count": 34,
   "metadata": {},
   "outputs": [
    {
     "data": {
      "text/plain": [
       "[('-', 3),\n",
       " ('0', 777),\n",
       " ('A.D.B', 1),\n",
       " ('AAR', 4),\n",
       " ('ABASIA', 29),\n",
       " ('ABD', 1),\n",
       " ('ABDALA', 1),\n",
       " ('ABDUL', 1),\n",
       " ('AC', 2),\n",
       " ('ACORD', 3),\n",
       " ('ACRA', 278),\n",
       " ('ACT', 1),\n",
       " ('ACT MARA', 1),\n",
       " ('ACTION AID', 1),\n",
       " ('ACTIVE TANK CO', 9),\n",
       " ('ACTIVE TANK CO LTD', 2),\n",
       " ('AD', 14),\n",
       " ('ADAP', 4),\n",
       " ('ADB', 5),\n",
       " ('ADP', 19),\n",
       " ('ADP Busangi', 14),\n",
       " ('ADRA', 55),\n",
       " ('ADRA /Government', 6),\n",
       " ('ADRA/Government', 3),\n",
       " ('AF', 4),\n",
       " ('AFRICA', 2),\n",
       " ('AFRICA MUSLIM', 1),\n",
       " ('AFRICAN DEVELOPMENT FOUNDATION', 6),\n",
       " ('AFRICAN REFLECTIONS FOUNDATION', 1),\n",
       " ('AGRICAN', 1),\n",
       " ('AI', 11),\n",
       " ('AIC', 10),\n",
       " ('AIC KI', 1),\n",
       " ('AICT', 84),\n",
       " ('AIMGOLD', 9),\n",
       " ('AIXOS', 1),\n",
       " ('ALIA', 1),\n",
       " ('ALLYS', 1),\n",
       " ('AMP Contract', 6),\n",
       " ('AMP Contracts', 6),\n",
       " ('AMP contractor', 9),\n",
       " ('AMREF', 329),\n",
       " ('ANGLI', 5),\n",
       " ('ANGLIKANA CHURCH', 1),\n",
       " ('ANGRIKANA', 7),\n",
       " ('ANSWAR', 1),\n",
       " ('APM', 2),\n",
       " ('AQAL', 2),\n",
       " ('AQUA BLUES ANGELS', 1),\n",
       " ('AQUA WEL', 1)]"
      ]
     },
     "execution_count": 34,
     "metadata": {},
     "output_type": "execute_result"
    }
   ],
   "source": [
    "# create an alphabetical list of installers and take a look\n",
    "temp1 = {}\n",
    "for k, v in df['installer'].value_counts().items():\n",
    "    temp1.update({k:v})\n",
    "sort_dict = sorted(temp1.items(), key=lambda x: x[0], reverse=False)\n",
    "sort_dict[:50]"
   ]
  },
  {
   "cell_type": "markdown",
   "metadata": {},
   "source": [
    "There is clear duplicaton due to mis-spellings, abbreviations and different capitalisation, etc.  Fix this by putting related/same installers into a  dictionary and allocate each installer against the new dictionary."
   ]
  },
  {
   "cell_type": "code",
   "execution_count": 35,
   "metadata": {},
   "outputs": [
    {
     "name": "stdout",
     "output_type": "stream",
     "text": [
      "128\n"
     ]
    }
   ],
   "source": [
    "# create installer dictionary\n",
    "installer_dict = {'ACTIVE TANK CO LTD': {'ACTIVE TANK CO LTD','ACTIVE TANK CO'},\n",
    "                  'ADP': {'ADP', 'ADP Busangi'},\n",
    "                  'ADRA': {'ADRA', 'ADRA /Government', 'ADRA/Government','Adra','Adra /Community',\n",
    "                           'Adra/ Community', 'Adra/Community', 'Adrs'},\n",
    "                  'AFRICA MUSLIM': {'AFRICA MUSLIM', 'Africa Islamic Agency Tanzania'},\n",
    "                  'ACTION AID': {'ACTION AID', 'Action Aid'},\n",
    "                  'AI': {'AI','AIC', 'AIC KI','AICT'},\n",
    "                  'AMP Contract': {'AMP Contract', 'AMP Contracts','AMP contractor'},\n",
    "                  'AFRICAN DEVELOPMENT FOUNDATION': {'AFRICAN DEVELOPMENT FOUNDATION', \n",
    "                                                     'AFRICAN REFLECTIONS FOUNDATION', 'AGRICAN'},\n",
    "                  'Anglican Church': {'Anglican Church', 'ANGLIKANA CHURCH', 'ANGLI', 'ANGRIKANA', 'Angli', \n",
    "                                      'Anglican', 'Anglican Uganda', 'Anglican church', 'Anglikan',\n",
    "                                      'Anglikana', 'Angrikana', 'Chur', 'Church', 'CHRISTIAN OUTRICH', \n",
    "                                      'anglican Uganda'},\n",
    "                  'AQUA BLUES ANGELS': {'AQUA BLUES ANGELS', 'AQUA WEL', 'AQUA Wat', 'AQUA Wel'},\n",
    "                  'Action Contre La Faim': {'Action Contre La Faim', 'Action Contre la Faim'},\n",
    "                  'Active MKM': { 'Active MKM', 'Active KMK'},\n",
    "                  'Africaone': {'Africaone', 'Africaone Ltd'},\n",
    "                  'Amboni Plantation': {'Amboni Plantation', 'Amboni plantation'},\n",
    "                  'American': {'American', 'Amec','Amref', 'Amec', 'USAID', 'US Embassy', \n",
    "                               'USA EMBASSY', 'USAID', 'U.S.A'},\n",
    "                  'Arab Community': {'Arab Community', 'Arab community'},\n",
    "                  'Ardhi': {'Ardhi Instute', 'Ardhi Water Wells', 'Ardhi and PET Companies', 'Ardhi water well'},\n",
    "                  'CARITAS': {'CARITAS', 'CARTAS', 'CARTAS Tanzania'},\n",
    "                  'Colonial Government': {'Colonial Government', 'British colonial government'},\n",
    "                  'Community': {'Community','Commu', 'Communit', 'Comunity','COMMU', 'COMMUNITY'},\n",
    "                  'Concern': {'Concern', 'Conce', 'Concen', 'Concern /government', 'Concern/Government'},\n",
    "                  'Consultant': {'Consultant', 'Consultant Engineer', 'Consultant and DWE',\n",
    "                                'Consulting Engineer', 'Consulting engineer', 'Consuting Engineer'},\n",
    "                  'Cosmo': {'Cosmo', 'Cosmos Engineering'},\n",
    "                  'Council': {'Council', 'Counc', 'DISTRICT COUNCIL', 'District  Council','District Counci',\n",
    "                              'District Council', 'District council', 'Distri', 'Municipal', 'Municipal Council'},\n",
    "                  'Artisan': {'Arisan', 'Arian', 'Artisan', 'Aartisa', 'Atisan'}, \n",
    "                  'Babu Sajini': {'Babu Sajini', 'Babu Sajin'},\n",
    "                  'China': {'CHINA', 'CHINA HENAN CONTRACTOR'},\n",
    "                  'CJEJOW': {'CJEJOW', 'CJEJ0', 'CJEJOW CONSTRUCTION'},\n",
    "                  'Concern': {'Concern', 'Concen'},\n",
    "                  'DANIDA' : {'DANIDA','DANIAD', 'DANID','DANIDS'},\n",
    "                  'DASIP' : {'DASIP', 'DASP', 'DASSIP'},\n",
    "                  'DBSPE': {'DBSPE', 'DBSP'},\n",
    "                  'DW': {'DW', 'DW#', 'DWE & LWI', 'DWR', 'DWW', 'DWE', 'DWE/','DWE}', 'District Water Department',\n",
    "                         'District water depar', 'District water department', 'District Water Department', \n",
    "                         'Distric Water Department', 'District water department', 'Water Authority', 'Water boards',\n",
    "                         'water board', 'Water board', 'Water department', 'WB','WB / District Council'},\n",
    "                  'Dr. Matobola': {'Dr. Matobola', 'Dr.Matobola'},\n",
    "                  'Dr. Matomola': {'Dr. Matomola','Dr.Matomola'},\n",
    "                  'EL': {'EL', 'ELCT'},\n",
    "                  'Egypt': {'People from Egypt', 'Tanz Egypt technical coopera', 'Tanzania/ Egypt', \n",
    "                            'Wizra ya maji na egypt', 'Tanz Egypt technical coopera',\n",
    "                            'Tanz/Egypt technical coopera', 'Tanzania Egypt Technical Co Op', \n",
    "                            'REGWA COMPANY OF EGPTY', 'REGWA COMPANY OF EGYPT'},\n",
    "                  'Fin Water': {'Fin Water', 'F', 'FIN WATER', 'FINI WATER', 'FINI Water','FW', \n",
    "                                'Fin water', 'FinW','FinWate','FinWater', 'Fini Water', \n",
    "                                'Fini water', 'Finland Government', 'Finwater', 'FINLAND','FINN WATER'},\n",
    "                  'Germany' : {'Germany', 'german', 'germany', 'THREE WAY GERMAN'},\n",
    "                  'Government': {'Government', 'GOVERNMENT', 'Government and Community', 'CENTRAL GOVERNMENT',\n",
    "                                 'Cebtral Government', 'Cental Government', 'Centr', 'Central govt', 'Centra govt',\n",
    "                                 'Central government', 'GOVER', 'GOVERM', 'GOVERN', 'GOVERNME', \n",
    "                                 'Wizara  ya maji', 'Wizara ya maji', 'wizara ya maji', 'MW', \n",
    "                                 'TANZANIAN GOVERNMENT', 'Cetral government /RC', 'Tansi', 'Tanz',\n",
    "                                 'Tanza', 'Tanzania', 'Tanzanian Government', \n",
    "                                 'Tanzania Government', 'Tanzania government','Ministry of water', \n",
    "                                 'Ministry of water engineer'\n",
    "                                },\n",
    "                  'GREINAKER': {'GREINAKER', 'GREINEKER'},\n",
    "                  'GRA' : {'GRA','GRA TZ MUSOMA'},\n",
    "                  'GRUMETI':{'GRUMETI', 'GRUMET', 'GRUMETI SINGITA', 'GURUMETI SAGITA CO'},\n",
    "                  'Grobal resource alliance': {'Grobal resource alliance', 'Grobal resource  alliance'},\n",
    "                  'Gwasco': {'Gwasco', 'Gwasco L','Gwaseco'},\n",
    "                  'HAPA': {'HAPA', 'HAPA SINGIDA'},\n",
    "                  'Hesawa': {'Hesawa', 'HESAWA', 'Hasawa','Hesawz', 'Hesewa'},\n",
    "                  'Individuals': {'Individuals', 'INDIVIDUALS', 'INDIVIDUAL'},\n",
    "                  'India': {'India', 'Indi'},\n",
    "                  'Institution': {'Institution', 'Insititutiona'},\n",
    "                  'Islamic': {'Islamic', 'Africa Islamic Agency Tanzania', 'Africa M', 'Africa Muslim Agenc',\n",
    "                              'African Muslims Age', 'African Realief Committe of Ku', 'Kuwait', 'KUWAIT', 'Mosque',\n",
    "                              'Muslims', 'Muslimu Society(Shia)', 'MUSLIMEHEFEN INTERNATIONAL'},\n",
    "                  'ISF': {'ISF', 'ISF/Government', 'ISF/TACARE'},\n",
    "                  'Japan Government': {'Japan Government', 'JAPAN EMBASSY', 'JICA','JAICA', 'Jaica', 'JSICA','Jika'\n",
    "                                      'JAICA CO', 'Embasy of Japan in Tanzania'},\n",
    "                  'Jeshi la Wokovu': {'Jeshi la Wokovu', 'Jeshi la wokovu', 'Jeshi la wokovu [cida]'},\n",
    "                  'JUIN': {'JUIN', 'JUIN CO'},\n",
    "                  'KARUMBA BUILDING COMPANY LTD': {'KARUMBA BUILDING COMPANY LTD', 'KARUMBA BIULDIN',\n",
    "                                                  'KARUMBA BIULDING COMPANY LTD','KARUMBA BIULDING CONTRACTOR'},\n",
    "                  'Kilwa company': {'Kilwa company', 'Kilwater', 'Kiliwater'},\n",
    "                  'KKKT': {'KKKT', 'KK', 'KKKT CHURCH', 'KKKT DME', 'KKKT _ Konde and DWE', 'KKKT-Dioces ya Pare',\n",
    "                           'KKT', 'KKT C'},\n",
    "                  'KOBERG': {'KOBERG', 'KOBERG Contractor'},\n",
    "                  'KYASHA ENTERPR': {'KYASHA ENTERPR', 'KYASHA ENTREPR'},\n",
    "                  'Lawate fuka water su': {'Lawate fuka water su', 'Lawatefuka water sup'},\n",
    "                  'Local': {'Local', 'Local  technician', 'Local te', 'Local technical tec', 'Local technician', \n",
    "                           'Locall technician'},\n",
    "                  'LWI': {'LWI', 'LWI &CENTRAL GOVERNMENT'},\n",
    "                  'Magadini-Makiwaru wa': {'Magadini-Makiwaru wa', 'Magadini Makiwaru wa'},\n",
    "                  'MACK DONALD CO LTD': {'MACK DONALD CO LTD','MACK DONALD CONTRACTOR', 'MACK DONALD CONTRSCTOR'},\n",
    "                  'Maswi': {'Maswi', 'Maswi Company', 'Maswi company', 'Maswi drilling co ltd'},\n",
    "                  'MKONGO CONSTRUCTION': {'MKONGO CONSTRUCTION', 'MKON CONSTRUCTION', 'MKONG CONSTRUCTION',\n",
    "                                         'MKONGO BUILDING CONTRACTOR'},\n",
    "                  'MLAKI  CO': {'MLAKI  CO', 'MLAKI CO'},\n",
    "                  'Mombo urban water': {'Mombo urban water', 'Mombo urban  water', 'Mombo urban water s'},\n",
    "                  'MTUWASA': {'MTUWASA', 'MTUWASA and Community'},\n",
    "                  'MWAKI CONTRACTOR': {'MWAKI CONTRACTOR', 'MWAKI CONTRACTO'},\n",
    "                  'Makonde': {'Makonde', 'Makonde water Population', 'Makonde water population','Makonde water supply'},\n",
    "                  'Maswi company': {'Maswi company', 'Maswi'},\n",
    "                  'Milenium': {'Milenium','Milenia', 'Mileniam', 'Mileniam project'},\n",
    "                  'Magadini Makiwaru wa': {'Magadini Makiwaru wa', 'Magadini-Makiwaru wa'},\n",
    "                  'Moravian': {'Moravian', 'Morovi', 'Morovian Church', 'Morovian church', 'Morrov', 'Morrovian'},\n",
    "                  'MWE' : {'MWE', 'MWE &'},\n",
    "                  'MTUWASA': {'MTUWASA','MTUWASA and Community', 'MUWASA','MUWSA'},\n",
    "                  'NYAKILANGANI': {'NYAKILANGANI', 'NYAKILANGANI  CO','NYAKILANGANI CO', \n",
    "                                   'NYAKILANGANI CONSTRUCTION', 'Nyakilanganyi'},\n",
    "                  'Oikos E .Africa': {'Oikos E Africa', 'Oikos E Africa','Oikos E Africa', 'Oikos E. Africa', \n",
    "                                      'Oikos E.Africa','Oikos E.Afrika'},\n",
    "                  'OXFAM': {'OXFAM', 'OXFARM'},\n",
    "                  'NORAD': {'NORAD', 'NIRAD', 'NORA'},\n",
    "                  'NYAKILANGANI': {'NYAKILANGANI', 'NYAKILANGANI CO', 'NYAKILANGANI CONSTRUCTION'},\n",
    "                  'Naishu': {'Naishu Construction Co. ltd', 'Naishu construction co. ltd',\n",
    "                             'Naishu construction co.ltd'},\n",
    "                  'Netherlands': {'Netherlands', 'Nerthlands'},\n",
    "                  'NORAD': {'NORAD', 'NORA','NORAD/', 'No', 'Norad'},\n",
    "                  'Plan Int': {'Plan Int', 'Plan Internationa', 'Plan International','Plan Tanzania'},\n",
    "                  'Private': {'Private', 'Privat', 'private', 'Private individuals', 'Private owned', \n",
    "                              'Private person'},\n",
    "                  'QUICKWINS': {'QUICKWINS', 'QUIK', 'QUKWIN','QUWKWIN', 'QWICKWIN', \n",
    "                                'Quick win project', 'Quick win project /Council',\n",
    "                                'Quick win/halmashauri', 'Quik','Qwick Win'},\n",
    "                  'RC church': {'RC church', 'R.C', 'RC CATHORIC', 'RC/Mission', 'Roman', 'Cathoric', 'rc ch',\n",
    "                                'Romam', 'CG/RC', 'RC MISSIONARY', 'rc church',\n",
    "                                'Roma', 'Roman Ca', 'Roman Catholic', 'Roman Catholic Rulenge Diocese',\n",
    "                                'Roman Cathoric -Kilomeni', 'Roman Cathoric -Same', 'Roman Cathoric Same', \n",
    "                                'Roman Church', 'Roman catholic', 'R', 'RC', 'RC .Church', 'RC C', \n",
    "                                'RC CATHORIC', 'RC CH','RC CHURCH', 'RC CHURCH BROTHER', 'RC Ch', \n",
    "                                'RC Churc', 'RC Church', 'RC MISSION', 'RC MISSIONARY', 'RC Mi', \n",
    "                                'RC Mis', 'RC Msufi', 'RC Njoro', 'RC church','RC church/CEFA'\n",
    "                               },\n",
    "                  'Region Water Department': {'Region Water Department', 'Region water', 'Region water Department', \n",
    "                                              'Regional Water'},\n",
    "                  'REGWA': {'REGWA', 'REGWA Company', 'Region Water Department', 'Region water', \n",
    "                            'Region water Department', 'Regional Water','Regwa Company'},\n",
    "                  'Rombo delta': {'Rombo delta', 'Rombo Dalta'},\n",
    "                  'Rotary Club': {'Rotary Club', 'Rotary club', 'Rotary club Australia', 'Rotary club kitchener', \n",
    "                                  'Rotery c', 'Rotte', 'Rotary Club of Chico and Moshi', 'Rotary Club of USA and Moshi', 'Rotary club', \n",
    "                                  'Rotary club Australia'},\n",
    "                  'RUDE': {'RUDE', 'RUDEP', 'RUDEP/'},\n",
    "                  'Rundu man': {'Rundu man', 'RunduMan', 'Runduman'},\n",
    "                  'SAXON BUILDING CONTRACTORS': {'SAXON BUILDING CONTRACTORS', 'SAXON  BUILDING CONTRACTOR',\n",
    "                                                 'SAXON BUILDING CONTRACTOR', 'SAXON'},\n",
    "                  'secondary school': {'secondary school', 'secondary', 'SCHOO', 'SCHOOL', \n",
    "                                       'Schoo', 'School', 'School Adm9nstrarion', 'School Adminstrarion',\n",
    "                                       'Secondary','Secondary school', 'S.P.C Pre-primary School',\n",
    "                                       'Sekondari', 'SCHOOL', 'PRINCE MEDIUM SCHOOL'},\n",
    "                  'sengerema Water Department': {'sengerema Water Department', 'sengerema water Department'},\n",
    "                  'Serikali': {'Serikali', 'Serikali ya kijiji', 'Serikari'},\n",
    "                  'Shule': {'Shule', 'Shule ya msingi','Shule ya msingi ufala'},\n",
    "                  'SIMBA': {'SIMBA', 'SIMBA CO','SIMBA LODGE'},\n",
    "                  'SINGIDA  YETU': {'SINGIDA  YETU', 'SINGIDA YETU'},\n",
    "                  'SOLIDAME': {'SOLIDAME', 'SOLIDARM', 'SOLIDERM'},\n",
    "                  'Songa': {'Songa', 'Songas'},\n",
    "                  'TASAF': {'TASAF', 'TASA', 'TASAF 1', 'TASAF and Comunity', 'TASAF and MMEM', \n",
    "                            'TASAFcitizen and LGA', 'TASF', 'TASSAF', 'Tasaf', 'Tasaf and Lga',\n",
    "                            'TASAF/', 'TASSAF /TCRS', 'TASSAF/ TCRS', 'TASSAF/TCRS', \n",
    "                            'TASAF/DMDD', 'TCRS/ TASSAF','TASAF/TLC'},\n",
    "                  'Taes': {'Taes', 'Taees'},\n",
    "                  'TLC': {'TLC', 'TLC/Emmanuel Kasoga', 'TLC/Jenus Malecha','TLC/John Majala',\n",
    "                          'TLC/Nyengesa Masanja', 'TLC/Samora', \"TLC/Seleman Mang'ombe\",\n",
    "                          'TLC/Sorri', 'TLC/Thimotheo Masunga', 'TLC/community', 'TLTC'},\n",
    "                  'Total Landcare': {'Total Landcare','Total land Care', 'Total land care', \n",
    "                                     'Total landcare', 'Totoland', 'Totoland care'},\n",
    "                  'TREDEP': {'TREDEP',  'TRIDEP'},\n",
    "                  'TUKWALE ENTERP': {'TUKWALE ENTERP', 'TUKWARE ENTERP'},\n",
    "                  'TWE': {'TWE', 'TWESA', 'TWESA /Community', 'TWESA/ Community', 'TWESA/Community', \n",
    "                          'TWESA/JAMII', 'TWESS'},   \n",
    "                  'UDC/Sema': {'UDC/Sema', 'UDC/sema'},\n",
    "                  'UMOJA DRILLING': {'UMOJA DRILLING', 'UMOJA DRILLING CONSTRUCTION',\n",
    "                                     'UMOJA DRILLING CONTRACTOR','UMOJA DRILLING CONTRUCTO'},\n",
    "                  'UNICEF': {'UNICEF', 'UNICRF','Unicef','Unisef', 'UN','UN Habitat','UN ONE', \n",
    "                             'UNDP', 'UNHCR'},\n",
    "                  'unknown': {'unknown', 'not known', 'Not kno', 'Not known', '0'},\n",
    "                  'VC': {'VC', 'VCIF'},\n",
    "                  'VIFAFI': {'VIFAFI', 'VIFAI', 'VIFAF'},\n",
    "                  'VITECOS': {'VITECOS','VITECOS INVEST', 'VTECOS'},\n",
    "                  'Village Govt': {'Village Govt','Village government', 'Village govt', \n",
    "                                   'Village local contractor', 'Village water committee', 'Subvillage',\n",
    "                                   'villager', 'villagers','villigers','Vill', 'Villa', 'Villaers', \n",
    "                                   'Villag', 'Village', 'Village  Council', 'Village Community',\n",
    "                                   'Village Council', 'Village Counil', 'Village Government', \n",
    "                                   'Village Office', 'Village Technician', \n",
    "                                   'Village community', 'Village community members', \n",
    "                                   'Village council', 'Village government', 'Village govt',\n",
    "                                   'Village local contractor', 'Village water attendant', \n",
    "                                   'Village water committee', 'Villager', 'Villagerd', 'Villagers', \n",
    "                                   'Villages', 'Villege Council', 'Villi',\n",
    "                                   'Vi','ViLLAGE COUNCIL', 'VILLAG','VILLAGE','VILLAGE COUNCIL', \n",
    "                                   'VILLAGE COUNCIL .ODA', 'VILLAGE COUNCIL Orpha', 'VILLAGE WATER COMMISSION', \n",
    "                                   'VILLAGER', 'VILLAGERS', \n",
    "                                  },\n",
    "                  'Victoria': {'Victoria', 'Victoria company'},\n",
    "                  'Wamisionari wa Kikatoriki': {'Wamisionari wa Kikatoriki','Wamissionari wa kikatoriki'},\n",
    "                  'WORLD BANK': {'WORLD BANK', 'W', 'W/', 'WORLD NK', 'WOULD BANK', 'World bank',\n",
    "                                 'world banks', 'world', 'World banks', 'Wo', 'Word', \n",
    "                                 'Word Bank','Word bank', 'World', 'World Bank', \n",
    "                                 'WORDL BANK','WORLD NK', 'WOULD BANK'},\n",
    "                  'Wasso': {'Wasso', 'Wasso companies','Wasso contractors'},\n",
    "                  'Water users Group': {'Water use Group','Water user Group','Water users Group'},\n",
    "                  'WATER  AID' : {'WATER  AIDS', 'WATER  AIDS', 'WATERAID', \n",
    "                                  'Water aid', 'Water aid /sema','Water aid/sema',\n",
    "                                  'Water  Aid/Maji tech', 'Water  Aid/Sema', 'Water /sema', \n",
    "                                  'Water Aid', 'Water Aid /sema', 'Water Aid/DWE', \n",
    "                                  'Water Aid/Sema', 'Water Aid/sema'},\n",
    "                  'WEDECO': {'WEDECO', 'WEDECO/WESSONS','WEDEKO'},\n",
    "                  'WINAM  CONSTRUCTION': {'WINAM  CONSTRUCTION', 'WINAM CO', 'WINAM CONSTRUCTION'},\n",
    "                  'WINNIN SPIRIT CO': {'WINNIN SPIRIT CO', 'WINNIN SPIRIT CO LTD'},\n",
    "                  'World Vision': {'World Vision', 'World vision', 'World Vission', 'World Division', \n",
    "                                   'World Visiin', 'Word divisio', 'WORLD VISION'},\n",
    "                  'WWF': {'WWF', 'WWF/', 'WW'},\n",
    "                  'Zao': {'Zao','Zao water spring','Zao water spring X'}\n",
    "                 }\n",
    "\n",
    "print(len(installer_dict))"
   ]
  },
  {
   "cell_type": "code",
   "execution_count": 36,
   "metadata": {},
   "outputs": [],
   "source": [
    "# function to allocate entries to the entries in the dictionary for installers\n",
    "def allocator2(name, names_dict):\n",
    "    for key, value in names_dict.items():\n",
    "        temp = []\n",
    "        for value1 in value:\n",
    "            temp.append(value1)\n",
    "        if name in temp:\n",
    "            return key\n",
    "        \n",
    "    return name"
   ]
  },
  {
   "cell_type": "code",
   "execution_count": 37,
   "metadata": {},
   "outputs": [
    {
     "data": {
      "text/plain": [
       "1641"
      ]
     },
     "execution_count": 37,
     "metadata": {},
     "output_type": "execute_result"
    }
   ],
   "source": [
    "# run allocator2 function\n",
    "df.installer = df.installer.apply(lambda name: allocator2(name, installer_dict))\n",
    "df['installer'].nunique()"
   ]
  },
  {
   "cell_type": "code",
   "execution_count": 38,
   "metadata": {},
   "outputs": [
    {
     "data": {
      "text/plain": [
       "{1: 865,\n",
       " 2: 157,\n",
       " 3: 94,\n",
       " 4: 64,\n",
       " 5: 51,\n",
       " 6: 28,\n",
       " 7: 22,\n",
       " 8: 19,\n",
       " 9: 25,\n",
       " 10: 19,\n",
       " 11: 10,\n",
       " 12: 12,\n",
       " 13: 17,\n",
       " 14: 10,\n",
       " 15: 12,\n",
       " 16: 5,\n",
       " 17: 8,\n",
       " 18: 6,\n",
       " 19: 7,\n",
       " 20: 2,\n",
       " 21: 7,\n",
       " 22: 11,\n",
       " 23: 4,\n",
       " 24: 7,\n",
       " 25: 8,\n",
       " 26: 5,\n",
       " 27: 4,\n",
       " 28: 5,\n",
       " 29: 8,\n",
       " 30: 5,\n",
       " 31: 8,\n",
       " 32: 3,\n",
       " 33: 2,\n",
       " 34: 2,\n",
       " 35: 3,\n",
       " 36: 3,\n",
       " 37: 3,\n",
       " 38: 2,\n",
       " 40: 1,\n",
       " 41: 2,\n",
       " 42: 3,\n",
       " 44: 2,\n",
       " 45: 1,\n",
       " 46: 4,\n",
       " 48: 1,\n",
       " 50: 1,\n",
       " 52: 2,\n",
       " 53: 1,\n",
       " 54: 3,\n",
       " 55: 3,\n",
       " 57: 1,\n",
       " 60: 2,\n",
       " 62: 1,\n",
       " 63: 1,\n",
       " 64: 1,\n",
       " 65: 1,\n",
       " 69: 1,\n",
       " 71: 2,\n",
       " 72: 2,\n",
       " 73: 1,\n",
       " 75: 2,\n",
       " 84: 2,\n",
       " 86: 2,\n",
       " 87: 1,\n",
       " 89: 1,\n",
       " 91: 1,\n",
       " 94: 1,\n",
       " 97: 2,\n",
       " 98: 1,\n",
       " 100: 1,\n",
       " 102: 1,\n",
       " 103: 1,\n",
       " 105: 1,\n",
       " 106: 1,\n",
       " 110: 1,\n",
       " 119: 2,\n",
       " 121: 1,\n",
       " 123: 1,\n",
       " 125: 1,\n",
       " 126: 1,\n",
       " 137: 1,\n",
       " 141: 2,\n",
       " 147: 1,\n",
       " 149: 1,\n",
       " 154: 1,\n",
       " 156: 1,\n",
       " 158: 1,\n",
       " 164: 1,\n",
       " 166: 2,\n",
       " 168: 1,\n",
       " 176: 1,\n",
       " 178: 1,\n",
       " 179: 1,\n",
       " 187: 1,\n",
       " 192: 1,\n",
       " 197: 1,\n",
       " 202: 1,\n",
       " 214: 1,\n",
       " 222: 2,\n",
       " 224: 1,\n",
       " 235: 1,\n",
       " 244: 1,\n",
       " 249: 1,\n",
       " 277: 1,\n",
       " 278: 1,\n",
       " 287: 1,\n",
       " 301: 1,\n",
       " 329: 1,\n",
       " 330: 1,\n",
       " 358: 2,\n",
       " 379: 1,\n",
       " 383: 1,\n",
       " 396: 1,\n",
       " 405: 1,\n",
       " 408: 1,\n",
       " 439: 1,\n",
       " 511: 1,\n",
       " 512: 1,\n",
       " 610: 1,\n",
       " 635: 1,\n",
       " 707: 1,\n",
       " 714: 1,\n",
       " 975: 1,\n",
       " 1169: 1,\n",
       " 1187: 1,\n",
       " 1206: 1,\n",
       " 1382: 1,\n",
       " 1604: 1,\n",
       " 1675: 1,\n",
       " 3179: 1,\n",
       " 4475: 1,\n",
       " 18015: 1}"
      ]
     },
     "execution_count": 38,
     "metadata": {},
     "output_type": "execute_result"
    }
   ],
   "source": [
    "# first create a dictionary of how many installed just one pump, 2 pumps, etc. \n",
    "# This is the frequency_count dictionary below\n",
    "installer_freq = []\n",
    "for _ in df['installer'].value_counts(ascending=True):\n",
    "    installer_freq.append(_)\n",
    "frequency_count  = {x:installer_freq.count(x) for x in installer_freq}\n",
    "frequency_count"
   ]
  },
  {
   "cell_type": "markdown",
   "metadata": {},
   "source": [
    "Still a very high level of categories, 2145 down to 1641. Later  want to look at combining one-offs (i.e. only installed one wapter pump).\n",
    "\n",
    "First look at this visually."
   ]
  },
  {
   "cell_type": "markdown",
   "metadata": {},
   "source": [
    "What I want is a list of key * value form frequency_count, above, to do a gini-type plot"
   ]
  },
  {
   "cell_type": "code",
   "execution_count": 39,
   "metadata": {},
   "outputs": [
    {
     "data": {
      "text/plain": [
       "[865, 314, 282, 256, 255, 168, 154, 152, 225, 190]"
      ]
     },
     "execution_count": 39,
     "metadata": {},
     "output_type": "execute_result"
    }
   ],
   "source": [
    "# list of installers * how many they installed\n",
    "list0 = []\n",
    "for key, value in frequency_count.items():\n",
    "    list0.append(key * value)\n",
    "list0[:10]"
   ]
  },
  {
   "cell_type": "markdown",
   "metadata": {},
   "source": [
    "^ the above list says that (invisble index from 1) 865 were installed by people who did 1, a further 314 were installed by people who did 2, etc.\n",
    "\n",
    "Now I want to get a cumululative running total for my graphic"
   ]
  },
  {
   "cell_type": "code",
   "execution_count": 40,
   "metadata": {},
   "outputs": [
    {
     "data": {
      "text/plain": [
       "[0,\n",
       " 865,\n",
       " 1179,\n",
       " 1461,\n",
       " 1717,\n",
       " 1972,\n",
       " 2140,\n",
       " 2294,\n",
       " 2446,\n",
       " 2671,\n",
       " 2861,\n",
       " 2971,\n",
       " 3115,\n",
       " 3336,\n",
       " 3476,\n",
       " 3656,\n",
       " 3736,\n",
       " 3872,\n",
       " 3980,\n",
       " 4113,\n",
       " 4153,\n",
       " 4300,\n",
       " 4542,\n",
       " 4634,\n",
       " 4802,\n",
       " 5002,\n",
       " 5132,\n",
       " 5240,\n",
       " 5380,\n",
       " 5612,\n",
       " 5762,\n",
       " 6010,\n",
       " 6106,\n",
       " 6172,\n",
       " 6240,\n",
       " 6345,\n",
       " 6453,\n",
       " 6564,\n",
       " 6640,\n",
       " 6680,\n",
       " 6762,\n",
       " 6888,\n",
       " 6976,\n",
       " 7021,\n",
       " 7205,\n",
       " 7253,\n",
       " 7303,\n",
       " 7407,\n",
       " 7460,\n",
       " 7622,\n",
       " 7787,\n",
       " 7844,\n",
       " 7964,\n",
       " 8026,\n",
       " 8089,\n",
       " 8153,\n",
       " 8218,\n",
       " 8287,\n",
       " 8429,\n",
       " 8573,\n",
       " 8646,\n",
       " 8796,\n",
       " 8964,\n",
       " 9136,\n",
       " 9223,\n",
       " 9312,\n",
       " 9403,\n",
       " 9497,\n",
       " 9691,\n",
       " 9789,\n",
       " 9889,\n",
       " 9991,\n",
       " 10094,\n",
       " 10199,\n",
       " 10305,\n",
       " 10415,\n",
       " 10653,\n",
       " 10774,\n",
       " 10897,\n",
       " 11022,\n",
       " 11148,\n",
       " 11285,\n",
       " 11567,\n",
       " 11714,\n",
       " 11863,\n",
       " 12017,\n",
       " 12173,\n",
       " 12331,\n",
       " 12495,\n",
       " 12827,\n",
       " 12995,\n",
       " 13171,\n",
       " 13349,\n",
       " 13528,\n",
       " 13715,\n",
       " 13907,\n",
       " 14104,\n",
       " 14306,\n",
       " 14520,\n",
       " 14964,\n",
       " 15188,\n",
       " 15423,\n",
       " 15667,\n",
       " 15916,\n",
       " 16193,\n",
       " 16471,\n",
       " 16758,\n",
       " 17059,\n",
       " 17388,\n",
       " 17718,\n",
       " 18434,\n",
       " 18813,\n",
       " 19196,\n",
       " 19592,\n",
       " 19997,\n",
       " 20405,\n",
       " 20844,\n",
       " 21355,\n",
       " 21867,\n",
       " 22477,\n",
       " 23112,\n",
       " 23819,\n",
       " 24533,\n",
       " 25508,\n",
       " 26677,\n",
       " 27864,\n",
       " 29070,\n",
       " 30452,\n",
       " 32056,\n",
       " 33731,\n",
       " 36910,\n",
       " 41385,\n",
       " 59400]"
      ]
     },
     "execution_count": 40,
     "metadata": {},
     "output_type": "execute_result"
    }
   ],
   "source": [
    "cum_installers = [0]\n",
    "for i in range(len(list0)):\n",
    "    cum_installers.append(cum_installers[i] + list0[i])\n",
    "cum_installers"
   ]
  },
  {
   "cell_type": "code",
   "execution_count": 41,
   "metadata": {},
   "outputs": [
    {
     "data": {
      "image/png": "[encoded data removed]",
      "text/plain": [
       "<Figure size 432x288 with 1 Axes>"
      ]
     },
     "metadata": {},
     "output_type": "display_data"
    }
   ],
   "source": [
    "import matplotlib.pyplot as plt\n",
    "sns.set_style(\"darkgrid\")\n",
    "ax = plt.plot(cum_installers)\n",
    "plt.xlabel('Number of installers')\n",
    "plt.ylabel('Number of installations')\n",
    "plt.title('Cumulative water point installations')\n",
    "plt.savefig('cum_installers.png')"
   ]
  },
  {
   "cell_type": "markdown",
   "metadata": {},
   "source": [
    "Looks reasonable to have a category of one_off if you installed only one water point."
   ]
  },
  {
   "cell_type": "code",
   "execution_count": 42,
   "metadata": {},
   "outputs": [
    {
     "name": "stdout",
     "output_type": "stream",
     "text": [
      "['MTAMBO', 'salamu kita', 'Dina', 'joery magabe', 'EMANDA BUILDERS', 'Government/TCRS', 'mzee mabena', 'Chuo', 'Others', 'MAISHULE']\n"
     ]
    }
   ],
   "source": [
    "one_offs = []\n",
    "names = df['installer'].value_counts().index\n",
    "for name in names:\n",
    "    if df['installer'].value_counts()[name] == 1:\n",
    "        one_offs.append(name)\n",
    "len(one_offs)\n",
    "print(one_offs[:10])"
   ]
  },
  {
   "cell_type": "code",
   "execution_count": 43,
   "metadata": {},
   "outputs": [
    {
     "data": {
      "text/plain": [
       "DW                           18015\n",
       "unknown                       4475\n",
       "Government                    3179\n",
       "Community                     1675\n",
       "DANIDA                        1604\n",
       "Hesawa                        1382\n",
       "RWE                           1206\n",
       "KKKT                          1187\n",
       "Council                       1169\n",
       "Fin Water                      975\n",
       "one_off                        865\n",
       "World Vision                   714\n",
       "TCRS                           707\n",
       "RC church                      635\n",
       "CES                            610\n",
       "TASAF                          512\n",
       "Village Govt                   511\n",
       "TWE                            439\n",
       "LGA                            408\n",
       "WEDECO                         405\n",
       "NORAD                          396\n",
       "Gover                          383\n",
       "UNICEF                         379\n",
       "Japan Government               358\n",
       "WORLD BANK                     358\n",
       "OXFAM                          330\n",
       "AMREF                          329\n",
       "WU                             301\n",
       "Dmdd                           287\n",
       "ACRA                           278\n",
       "                             ...  \n",
       "NIRAD                            2\n",
       "SERENA                           2\n",
       "Concern/Government               2\n",
       "W.D. and I.D.                    2\n",
       "Tempo                            2\n",
       "COEK                             2\n",
       "N.P.R.                           2\n",
       "Henure Dema                      2\n",
       "DCCA                             2\n",
       "Ko                               2\n",
       "CHANI                            2\n",
       "MTC                              2\n",
       "Ar                               2\n",
       "MBULI CO                         2\n",
       "Governme                         2\n",
       "Resolute                         2\n",
       "FOLAC                            2\n",
       "TUKWALE ENTERP                   2\n",
       "LIPS                             2\n",
       "VICFISH LTD                      2\n",
       "MD                               2\n",
       "DADP                             2\n",
       "Mataro                           2\n",
       "Muham                            2\n",
       "Mh Kapuya                        2\n",
       "Kkkt                             2\n",
       "Missionary                       2\n",
       "Rotar                            2\n",
       "APM                              2\n",
       "Wamisionari wa Kikatoriki        2\n",
       "Name: installer, Length: 777, dtype: int64"
      ]
     },
     "execution_count": 43,
     "metadata": {},
     "output_type": "execute_result"
    }
   ],
   "source": [
    "def is_one_off(name):\n",
    "    if name in one_offs:\n",
    "        return 'one_off'\n",
    "    else: \n",
    "        return name\n",
    "\n",
    "df['installer'] = df['installer'].apply(is_one_off)\n",
    "df['installer'].value_counts()"
   ]
  },
  {
   "cell_type": "markdown",
   "metadata": {},
   "source": [
    "Now there are 777 installers, down from 2145, Could also do for installed two pumps."
   ]
  },
  {
   "cell_type": "markdown",
   "metadata": {},
   "source": [
    "## Bins for population"
   ]
  },
  {
   "cell_type": "markdown",
   "metadata": {},
   "source": [
    "Makes it easier for decision tree, and more logical"
   ]
  },
  {
   "cell_type": "markdown",
   "metadata": {},
   "source": [
    "Do population next"
   ]
  },
  {
   "cell_type": "code",
   "execution_count": 44,
   "metadata": {},
   "outputs": [
    {
     "data": {
      "text/plain": [
       "0       21381\n",
       "1        7025\n",
       "200      1940\n",
       "150      1892\n",
       "250      1681\n",
       "300      1476\n",
       "100      1146\n",
       "50       1139\n",
       "500      1009\n",
       "350       986\n",
       "120       916\n",
       "400       775\n",
       "60        706\n",
       "30        626\n",
       "40        552\n",
       "80        533\n",
       "450       499\n",
       "20        462\n",
       "600       438\n",
       "230       388\n",
       "75        289\n",
       "1000      278\n",
       "800       269\n",
       "90        265\n",
       "130       264\n",
       "25        255\n",
       "320       249\n",
       "35        245\n",
       "360       222\n",
       "140       215\n",
       "        ...  \n",
       "8848        1\n",
       "628         1\n",
       "4520        1\n",
       "468         1\n",
       "693         1\n",
       "725         1\n",
       "789         1\n",
       "821         1\n",
       "5300        1\n",
       "3127        1\n",
       "2345        1\n",
       "3031        1\n",
       "886         1\n",
       "392         1\n",
       "424         1\n",
       "2807        1\n",
       "726         1\n",
       "694         1\n",
       "2569        1\n",
       "4788        1\n",
       "662         1\n",
       "4660        1\n",
       "406         1\n",
       "1032        1\n",
       "1160        1\n",
       "3241        1\n",
       "1960        1\n",
       "1685        1\n",
       "2248        1\n",
       "1439        1\n",
       "Name: population, Length: 1049, dtype: int64"
      ]
     },
     "execution_count": 44,
     "metadata": {},
     "output_type": "execute_result"
    }
   ],
   "source": [
    "df['population'].value_counts()"
   ]
  },
  {
   "cell_type": "code",
   "execution_count": 45,
   "metadata": {},
   "outputs": [],
   "source": [
    "# good 'category' bins look like 0, 1, 2-20, 20-30, 30-50, 50-100, 100-200, 200-300, 300-500, 500-1000, > 1000\n",
    "# can do that after. Method will be create a category with a string name"
   ]
  },
  {
   "cell_type": "code",
   "execution_count": 46,
   "metadata": {},
   "outputs": [],
   "source": [
    "# function to create bins for population variable\n",
    "def popn_bins(population):\n",
    "    if population == 0:\n",
    "        return '0'\n",
    "    elif population == 1:\n",
    "        return '1'\n",
    "    elif 2 <= population <  20:\n",
    "        return '20'\n",
    "    elif 20 <= population <  30:\n",
    "        return '30'\n",
    "    elif 30 <= population <  50:\n",
    "        return '50'\n",
    "    elif 50 <= population <  100:\n",
    "        return '100'\n",
    "    elif 100 <= population <  200:\n",
    "        return '100'\n",
    "    elif 200 <= population <  300:\n",
    "        return '100'\n",
    "    elif 300 <= population <  500:\n",
    "        return '500'\n",
    "    elif 500 <= population <  1000:\n",
    "        return '1000'\n",
    "    else:\n",
    "        return '1000+'\n",
    "\n",
    "# for item in df.population:\n",
    "#     print(item, type(item))\n",
    "# run function on df\n",
    "df.population = df.population.apply(popn_bins)"
   ]
  },
  {
   "cell_type": "code",
   "execution_count": 47,
   "metadata": {},
   "outputs": [
    {
     "data": {
      "text/plain": [
       "0        21381\n",
       "100      16391\n",
       "1         7025\n",
       "500       5741\n",
       "1000      3947\n",
       "50        1829\n",
       "1000+     1690\n",
       "30         804\n",
       "20         592\n",
       "Name: population, dtype: int64"
      ]
     },
     "execution_count": 47,
     "metadata": {},
     "output_type": "execute_result"
    }
   ],
   "source": [
    "df['population'].value_counts()"
   ]
  },
  {
   "cell_type": "markdown",
   "metadata": {},
   "source": [
    "## Fix gps_height"
   ]
  },
  {
   "cell_type": "markdown",
   "metadata": {},
   "source": [
    "Find number of zeros in gps_height. Zero means no info."
   ]
  },
  {
   "cell_type": "code",
   "execution_count": 48,
   "metadata": {},
   "outputs": [
    {
     "data": {
      "text/plain": [
       "20438"
      ]
     },
     "execution_count": 48,
     "metadata": {},
     "output_type": "execute_result"
    }
   ],
   "source": [
    "df['gps_height'].value_counts()[0]"
   ]
  },
  {
   "cell_type": "markdown",
   "metadata": {},
   "source": [
    "Huge number of gps_heights are zero, Can fix with a nearest neighbour (Euclidian lat/long) from 1000 random samples, then repeat many times."
   ]
  },
  {
   "cell_type": "code",
   "execution_count": 49,
   "metadata": {},
   "outputs": [],
   "source": [
    "# need helper in dict to find key of maximum value, used in gps_helper\n",
    "def find_dict_max(dict_):\n",
    "    for keys, values in dict_.items():\n",
    "        if values == max(dict_.values()):\n",
    "            return keys"
   ]
  },
  {
   "cell_type": "code",
   "execution_count": 50,
   "metadata": {},
   "outputs": [],
   "source": [
    "def gps_helper(df):\n",
    "    \"\"\" \n",
    "    takes average height of Euclidian 3 nearest neighbours by distance (lat/long)\n",
    "    trying every short cut to optimise\n",
    "    Not even finding square root of error terms to save a calculation\n",
    "    Notice that you still need to return a df_gps_list for later incorporation\n",
    "    (Setting just not working by any means)\n",
    "    \n",
    "    This version works with putting new value directly into base case df\n",
    "    \n",
    "    \"\"\"\n",
    "    for i in df.index:\n",
    "        # v just progess checking during running of function\n",
    "        if i % 100 == 0:\n",
    "            pass\n",
    "        \n",
    "        if df.iat[i, 3] != 0: \n",
    "           pass\n",
    "            \n",
    "        else: \n",
    "            # neighbours = {index: distance, ...} - are dummy keys / values that get replaced\n",
    "            neighbours = {999999: 9999, 999998: 9998, 999997: 9997}\n",
    "            for j in df.index: \n",
    "                if j != i: \n",
    "                    euclidian_dist = ((df.iat[i, 6] - df.iat[j, 6])**2 + (df.iat[i, 5] - df.iat[j, 5])**2)\n",
    "    \n",
    "                    if euclidian_dist < max(neighbours.values()):\n",
    "                        # if yes, need to remove max distance so far and update  with smaller distance\n",
    "                        neighbours.pop(find_dict_max(neighbours))\n",
    "                        neighbours.update({j: euclidian_dist})\n",
    " \n",
    "            heights = []\n",
    "            for k in neighbours.keys():\n",
    "                heights.append(df['gps_height'][k])\n",
    "            if len(heights) != 0:\n",
    "                df.iat[i, 3] = sum(heights) / len(heights)\n",
    "            else: \n",
    "                df.iat[i, 3] = 0\n",
    "\n",
    "    zero_count = 0\n",
    "    for m in range(df.shape[0]):\n",
    "        if df.iat[m, 3] == 0:\n",
    "            zero_count += 1\n",
    "\n",
    "    print(\"number of zero heights is: {}\".format(zero_count))\n",
    "    return df"
   ]
  },
  {
   "cell_type": "code",
   "execution_count": 51,
   "metadata": {},
   "outputs": [
    {
     "name": "stdout",
     "output_type": "stream",
     "text": [
      "initial zeros 20438\n",
      "number of zero heights is: 330\n",
      "0\n",
      "number of zero heights is: 294\n",
      "1\n",
      "number of zero heights is: 266\n",
      "2\n",
      "number of zero heights is: 274\n",
      "3\n",
      "number of zero heights is: 285\n",
      "4\n",
      "number of zero heights is: 301\n",
      "5\n",
      "number of zero heights is: 329\n",
      "6\n",
      "number of zero heights is: 299\n",
      "7\n",
      "number of zero heights is: 296\n",
      "8\n",
      "number of zero heights is: 286\n",
      "9\n",
      "number of zero heights is: 271\n",
      "10\n",
      "number of zero heights is: 289\n",
      "11\n",
      "number of zero heights is: 308\n",
      "12\n",
      "number of zero heights is: 277\n",
      "13\n",
      "number of zero heights is: 270\n",
      "14\n",
      "number of zero heights is: 302\n",
      "15\n",
      "number of zero heights is: 244\n",
      "16\n",
      "number of zero heights is: 296\n",
      "17\n",
      "number of zero heights is: 278\n",
      "18\n",
      "number of zero heights is: 254\n",
      "19\n",
      "number of zero heights is: 282\n",
      "20\n",
      "number of zero heights is: 284\n",
      "21\n",
      "number of zero heights is: 229\n",
      "22\n",
      "number of zero heights is: 261\n",
      "23\n",
      "number of zero heights is: 283\n",
      "24\n",
      "number of zero heights is: 255\n",
      "25\n",
      "number of zero heights is: 255\n",
      "26\n",
      "number of zero heights is: 258\n",
      "27\n",
      "number of zero heights is: 227\n",
      "28\n",
      "number of zero heights is: 239\n",
      "29\n",
      "number of zero heights is: 252\n",
      "30\n",
      "number of zero heights is: 240\n",
      "31\n",
      "number of zero heights is: 236\n",
      "32\n",
      "number of zero heights is: 269\n",
      "33\n",
      "number of zero heights is: 235\n",
      "34\n",
      "number of zero heights is: 250\n",
      "35\n",
      "number of zero heights is: 237\n",
      "36\n",
      "number of zero heights is: 266\n",
      "37\n",
      "number of zero heights is: 188\n",
      "38\n",
      "number of zero heights is: 233\n",
      "39\n",
      "number of zero heights is: 255\n",
      "40\n",
      "number of zero heights is: 240\n",
      "41\n",
      "number of zero heights is: 235\n",
      "42\n",
      "number of zero heights is: 249\n",
      "43\n",
      "number of zero heights is: 209\n",
      "44\n",
      "number of zero heights is: 243\n",
      "45\n",
      "number of zero heights is: 219\n",
      "46\n",
      "number of zero heights is: 236\n",
      "47\n",
      "number of zero heights is: 235\n",
      "48\n",
      "number of zero heights is: 236\n",
      "49\n",
      "number of zero heights is: 198\n",
      "50\n",
      "number of zero heights is: 203\n",
      "51\n",
      "number of zero heights is: 229\n",
      "52\n",
      "number of zero heights is: 189\n",
      "53\n",
      "number of zero heights is: 201\n",
      "54\n",
      "number of zero heights is: 204\n",
      "55\n",
      "number of zero heights is: 179\n",
      "56\n",
      "number of zero heights is: 220\n",
      "57\n",
      "number of zero heights is: 227\n",
      "58\n",
      "number of zero heights is: 172\n",
      "59\n",
      "iterations 59\n",
      "521.1268591880798 s\n",
      "remaining zeros 16579\n"
     ]
    }
   ],
   "source": [
    "import time\n",
    "# keep shuffling the df and redo function for for 1000 entries\n",
    "print(\"initial zeros\", df['gps_height'].value_counts()[0])\n",
    "iters = []\n",
    "start = time.time()\n",
    "for i in range(60):\n",
    "    df = df.reindex(np.random.permutation(df.index))\n",
    "    df = df.reset_index(drop=True)\n",
    "    df[:1000] = gps_helper(df[:1000])\n",
    "    iters.append(i)\n",
    "    print(i)\n",
    "\n",
    "stop = time.time()\n",
    "print(\"iterations\", max(iters))\n",
    "print(stop - start, \"s\")\n",
    "print(\"remaining zeros\", df['gps_height'].value_counts()[0])"
   ]
  },
  {
   "cell_type": "markdown",
   "metadata": {},
   "source": [
    "Done: six times."
   ]
  },
  {
   "cell_type": "markdown",
   "metadata": {},
   "source": [
    "## Fix construction_year"
   ]
  },
  {
   "cell_type": "code",
   "execution_count": 52,
   "metadata": {},
   "outputs": [
    {
     "data": {
      "text/plain": [
       "20709"
      ]
     },
     "execution_count": 52,
     "metadata": {},
     "output_type": "execute_result"
    }
   ],
   "source": [
    "df['construction_year'].value_counts()[0]"
   ]
  },
  {
   "cell_type": "markdown",
   "metadata": {},
   "source": [
    "Huge number of construction_year are zero, Can fix with a 'match on all 4 of these relevant variables' from 1000 random samples, then repeat many times."
   ]
  },
  {
   "cell_type": "code",
   "execution_count": 53,
   "metadata": {},
   "outputs": [],
   "source": [
    "# Redo for construction_year\n",
    "def construction_helper(df):\n",
    "    \"\"\" \n",
    "    BASED ON gps_helper function\n",
    "    INPUT is the whole dataframe, so that you can easily traverse rows and columns\n",
    "    OUTPUT is whole df that has the new construction_year\n",
    "    IDEA: if construction_year is zero, iterate df to find matches for all chosen comparison variables.\n",
    "    If all match, add the iterative row's year to a list and take average of list at end. Put that into \n",
    "    output df's entry.\n",
    "   \n",
    "    \"\"\"\n",
    "    for i in df.index:\n",
    "        \n",
    "        if df.iat[i, 13] != 0: \n",
    "           pass\n",
    "            \n",
    "        else: \n",
    "            # initialise list that you will put matching years into\n",
    "            matching_years = []\n",
    "            for j in df.index: \n",
    "                # Many construction_year = 0, so not using these\n",
    "                if (j != i) and (df.iat[j, 13] != 0):\n",
    "                    # using a counter for readability\n",
    "                    counter = 0\n",
    "                    if df.iat[i, 4] == df.iat[j, 4]:\n",
    "                        counter += 1\n",
    "                    if df.iat[i, 11] == df.iat[j, 11]:\n",
    "                        counter += 1 \n",
    "                    if df.iat[i, 14] == df.iat[j, 14]:\n",
    "                        counter += 1 \n",
    "                    if df.iat[i, -1] == df.iat[j, -1]:\n",
    "                        counter += 1    \n",
    "                    # check if all items match\n",
    "                    if counter == 4:\n",
    "                        # if yes, add to matching_years\n",
    "                        matching_years.append(df.iat[j, 13])\n",
    "                    else:\n",
    "                        pass\n",
    "                    \n",
    "            # now need to get average year of the matches   \n",
    "            if len(matching_years) != 0:\n",
    "                df.iat[i, 13] = round(sum(matching_years)/len(matching_years))\n",
    "            else: \n",
    "                df.iat[i, 13] = 0\n",
    "\n",
    "    zero_count = 0\n",
    "    for m in df.index:\n",
    "        if df.iat[m, 13] == 0:\n",
    "            zero_count += 1\n",
    "    \n",
    "    print(\"final number of zero years is: {}\".format(zero_count))\n",
    "    return df"
   ]
  },
  {
   "cell_type": "code",
   "execution_count": 54,
   "metadata": {},
   "outputs": [
    {
     "data": {
      "text/plain": [
       "20709"
      ]
     },
     "execution_count": 54,
     "metadata": {},
     "output_type": "execute_result"
    }
   ],
   "source": [
    "df['construction_year'].value_counts()[0]"
   ]
  },
  {
   "cell_type": "code",
   "execution_count": 55,
   "metadata": {},
   "outputs": [
    {
     "name": "stdout",
     "output_type": "stream",
     "text": [
      "initial zeros 20709\n",
      "final number of zero years is: 204\n",
      "0\n",
      "final number of zero years is: 212\n",
      "1\n",
      "final number of zero years is: 212\n",
      "2\n",
      "final number of zero years is: 241\n",
      "3\n",
      "final number of zero years is: 224\n",
      "4\n",
      "final number of zero years is: 214\n",
      "5\n",
      "final number of zero years is: 211\n",
      "6\n",
      "final number of zero years is: 221\n",
      "7\n",
      "final number of zero years is: 196\n",
      "8\n",
      "final number of zero years is: 206\n",
      "9\n",
      "final number of zero years is: 198\n",
      "10\n",
      "final number of zero years is: 187\n",
      "11\n",
      "final number of zero years is: 180\n",
      "12\n"
     ]
    },
    {
     "ename": "KeyboardInterrupt",
     "evalue": "",
     "output_type": "error",
     "traceback": [
      "\u001b[0;31m---------------------------------------------------------------------------\u001b[0m",
      "\u001b[0;31mKeyboardInterrupt\u001b[0m                         Traceback (most recent call last)",
      "\u001b[0;32m<ipython-input-55-9c2c760e0bde>\u001b[0m in \u001b[0;36m<module>\u001b[0;34m()\u001b[0m\n\u001b[1;32m      5\u001b[0m     \u001b[0mdf\u001b[0m \u001b[0;34m=\u001b[0m \u001b[0mdf\u001b[0m\u001b[0;34m.\u001b[0m\u001b[0mreindex\u001b[0m\u001b[0;34m(\u001b[0m\u001b[0mnp\u001b[0m\u001b[0;34m.\u001b[0m\u001b[0mrandom\u001b[0m\u001b[0;34m.\u001b[0m\u001b[0mpermutation\u001b[0m\u001b[0;34m(\u001b[0m\u001b[0mdf\u001b[0m\u001b[0;34m.\u001b[0m\u001b[0mindex\u001b[0m\u001b[0;34m)\u001b[0m\u001b[0;34m)\u001b[0m\u001b[0;34m\u001b[0m\u001b[0m\n\u001b[1;32m      6\u001b[0m     \u001b[0mdf\u001b[0m \u001b[0;34m=\u001b[0m \u001b[0mdf\u001b[0m\u001b[0;34m.\u001b[0m\u001b[0mreset_index\u001b[0m\u001b[0;34m(\u001b[0m\u001b[0mdrop\u001b[0m\u001b[0;34m=\u001b[0m\u001b[0;32mTrue\u001b[0m\u001b[0;34m)\u001b[0m\u001b[0;34m\u001b[0m\u001b[0m\n\u001b[0;32m----> 7\u001b[0;31m     \u001b[0mdf\u001b[0m\u001b[0;34m[\u001b[0m\u001b[0;34m:\u001b[0m\u001b[0;36m1000\u001b[0m\u001b[0;34m]\u001b[0m \u001b[0;34m=\u001b[0m \u001b[0mconstruction_helper\u001b[0m\u001b[0;34m(\u001b[0m\u001b[0mdf\u001b[0m\u001b[0;34m[\u001b[0m\u001b[0;34m:\u001b[0m\u001b[0;36m1000\u001b[0m\u001b[0;34m]\u001b[0m\u001b[0;34m)\u001b[0m\u001b[0;34m\u001b[0m\u001b[0m\n\u001b[0m\u001b[1;32m      8\u001b[0m     \u001b[0miters\u001b[0m\u001b[0;34m.\u001b[0m\u001b[0mappend\u001b[0m\u001b[0;34m(\u001b[0m\u001b[0mi\u001b[0m\u001b[0;34m)\u001b[0m\u001b[0;34m\u001b[0m\u001b[0m\n\u001b[1;32m      9\u001b[0m     \u001b[0mprint\u001b[0m\u001b[0;34m(\u001b[0m\u001b[0mi\u001b[0m\u001b[0;34m)\u001b[0m\u001b[0;34m\u001b[0m\u001b[0m\n",
      "\u001b[0;32m<ipython-input-53-11be68e812e4>\u001b[0m in \u001b[0;36mconstruction_helper\u001b[0;34m(df)\u001b[0m\n\u001b[1;32m     25\u001b[0m                     \u001b[0;32mif\u001b[0m \u001b[0mdf\u001b[0m\u001b[0;34m.\u001b[0m\u001b[0miat\u001b[0m\u001b[0;34m[\u001b[0m\u001b[0mi\u001b[0m\u001b[0;34m,\u001b[0m \u001b[0;36m4\u001b[0m\u001b[0;34m]\u001b[0m \u001b[0;34m==\u001b[0m \u001b[0mdf\u001b[0m\u001b[0;34m.\u001b[0m\u001b[0miat\u001b[0m\u001b[0;34m[\u001b[0m\u001b[0mj\u001b[0m\u001b[0;34m,\u001b[0m \u001b[0;36m4\u001b[0m\u001b[0;34m]\u001b[0m\u001b[0;34m:\u001b[0m\u001b[0;34m\u001b[0m\u001b[0m\n\u001b[1;32m     26\u001b[0m                         \u001b[0mcounter\u001b[0m \u001b[0;34m+=\u001b[0m \u001b[0;36m1\u001b[0m\u001b[0;34m\u001b[0m\u001b[0m\n\u001b[0;32m---> 27\u001b[0;31m                     \u001b[0;32mif\u001b[0m \u001b[0mdf\u001b[0m\u001b[0;34m.\u001b[0m\u001b[0miat\u001b[0m\u001b[0;34m[\u001b[0m\u001b[0mi\u001b[0m\u001b[0;34m,\u001b[0m \u001b[0;36m11\u001b[0m\u001b[0;34m]\u001b[0m \u001b[0;34m==\u001b[0m \u001b[0mdf\u001b[0m\u001b[0;34m.\u001b[0m\u001b[0miat\u001b[0m\u001b[0;34m[\u001b[0m\u001b[0mj\u001b[0m\u001b[0;34m,\u001b[0m \u001b[0;36m11\u001b[0m\u001b[0;34m]\u001b[0m\u001b[0;34m:\u001b[0m\u001b[0;34m\u001b[0m\u001b[0m\n\u001b[0m\u001b[1;32m     28\u001b[0m                         \u001b[0mcounter\u001b[0m \u001b[0;34m+=\u001b[0m \u001b[0;36m1\u001b[0m\u001b[0;34m\u001b[0m\u001b[0m\n\u001b[1;32m     29\u001b[0m                     \u001b[0;32mif\u001b[0m \u001b[0mdf\u001b[0m\u001b[0;34m.\u001b[0m\u001b[0miat\u001b[0m\u001b[0;34m[\u001b[0m\u001b[0mi\u001b[0m\u001b[0;34m,\u001b[0m \u001b[0;36m14\u001b[0m\u001b[0;34m]\u001b[0m \u001b[0;34m==\u001b[0m \u001b[0mdf\u001b[0m\u001b[0;34m.\u001b[0m\u001b[0miat\u001b[0m\u001b[0;34m[\u001b[0m\u001b[0mj\u001b[0m\u001b[0;34m,\u001b[0m \u001b[0;36m14\u001b[0m\u001b[0;34m]\u001b[0m\u001b[0;34m:\u001b[0m\u001b[0;34m\u001b[0m\u001b[0m\n",
      "\u001b[0;32m~/anaconda3/lib/python3.6/site-packages/pandas/core/indexing.py\u001b[0m in \u001b[0;36m__getitem__\u001b[0;34m(self, key)\u001b[0m\n\u001b[1;32m   2139\u001b[0m                 \u001b[0;32mraise\u001b[0m \u001b[0mValueError\u001b[0m\u001b[0;34m(\u001b[0m\u001b[0;34m'Invalid call for scalar access (getting)!'\u001b[0m\u001b[0;34m)\u001b[0m\u001b[0;34m\u001b[0m\u001b[0m\n\u001b[1;32m   2140\u001b[0m \u001b[0;34m\u001b[0m\u001b[0m\n\u001b[0;32m-> 2141\u001b[0;31m         \u001b[0mkey\u001b[0m \u001b[0;34m=\u001b[0m \u001b[0mself\u001b[0m\u001b[0;34m.\u001b[0m\u001b[0m_convert_key\u001b[0m\u001b[0;34m(\u001b[0m\u001b[0mkey\u001b[0m\u001b[0;34m)\u001b[0m\u001b[0;34m\u001b[0m\u001b[0m\n\u001b[0m\u001b[1;32m   2142\u001b[0m         \u001b[0;32mreturn\u001b[0m \u001b[0mself\u001b[0m\u001b[0;34m.\u001b[0m\u001b[0mobj\u001b[0m\u001b[0;34m.\u001b[0m\u001b[0m_get_value\u001b[0m\u001b[0;34m(\u001b[0m\u001b[0;34m*\u001b[0m\u001b[0mkey\u001b[0m\u001b[0;34m,\u001b[0m \u001b[0mtakeable\u001b[0m\u001b[0;34m=\u001b[0m\u001b[0mself\u001b[0m\u001b[0;34m.\u001b[0m\u001b[0m_takeable\u001b[0m\u001b[0;34m)\u001b[0m\u001b[0;34m\u001b[0m\u001b[0m\n\u001b[1;32m   2143\u001b[0m \u001b[0;34m\u001b[0m\u001b[0m\n",
      "\u001b[0;32m~/anaconda3/lib/python3.6/site-packages/pandas/core/indexing.py\u001b[0m in \u001b[0;36m_convert_key\u001b[0;34m(self, key, is_setter)\u001b[0m\n\u001b[1;32m   2284\u001b[0m     \u001b[0;32mdef\u001b[0m \u001b[0m_convert_key\u001b[0m\u001b[0;34m(\u001b[0m\u001b[0mself\u001b[0m\u001b[0;34m,\u001b[0m \u001b[0mkey\u001b[0m\u001b[0;34m,\u001b[0m \u001b[0mis_setter\u001b[0m\u001b[0;34m=\u001b[0m\u001b[0;32mFalse\u001b[0m\u001b[0;34m)\u001b[0m\u001b[0;34m:\u001b[0m\u001b[0;34m\u001b[0m\u001b[0m\n\u001b[1;32m   2285\u001b[0m         \u001b[0;34m\"\"\" require integer args (and convert to label arguments) \"\"\"\u001b[0m\u001b[0;34m\u001b[0m\u001b[0m\n\u001b[0;32m-> 2286\u001b[0;31m         \u001b[0;32mfor\u001b[0m \u001b[0ma\u001b[0m\u001b[0;34m,\u001b[0m \u001b[0mi\u001b[0m \u001b[0;32min\u001b[0m \u001b[0mzip\u001b[0m\u001b[0;34m(\u001b[0m\u001b[0mself\u001b[0m\u001b[0;34m.\u001b[0m\u001b[0mobj\u001b[0m\u001b[0;34m.\u001b[0m\u001b[0maxes\u001b[0m\u001b[0;34m,\u001b[0m \u001b[0mkey\u001b[0m\u001b[0;34m)\u001b[0m\u001b[0;34m:\u001b[0m\u001b[0;34m\u001b[0m\u001b[0m\n\u001b[0m\u001b[1;32m   2287\u001b[0m             \u001b[0;32mif\u001b[0m \u001b[0;32mnot\u001b[0m \u001b[0mis_integer\u001b[0m\u001b[0;34m(\u001b[0m\u001b[0mi\u001b[0m\u001b[0;34m)\u001b[0m\u001b[0;34m:\u001b[0m\u001b[0;34m\u001b[0m\u001b[0m\n\u001b[1;32m   2288\u001b[0m                 raise ValueError(\"iAt based indexing can only have integer \"\n",
      "\u001b[0;32m~/anaconda3/lib/python3.6/site-packages/pandas/core/frame.py\u001b[0m in \u001b[0;36maxes\u001b[0;34m(self)\u001b[0m\n\u001b[1;32m    551\u001b[0m         dtype='object')]\n\u001b[1;32m    552\u001b[0m         \"\"\"\n\u001b[0;32m--> 553\u001b[0;31m         \u001b[0;32mreturn\u001b[0m \u001b[0;34m[\u001b[0m\u001b[0mself\u001b[0m\u001b[0;34m.\u001b[0m\u001b[0mindex\u001b[0m\u001b[0;34m,\u001b[0m \u001b[0mself\u001b[0m\u001b[0;34m.\u001b[0m\u001b[0mcolumns\u001b[0m\u001b[0;34m]\u001b[0m\u001b[0;34m\u001b[0m\u001b[0m\n\u001b[0m\u001b[1;32m    554\u001b[0m \u001b[0;34m\u001b[0m\u001b[0m\n\u001b[1;32m    555\u001b[0m     \u001b[0;34m@\u001b[0m\u001b[0mproperty\u001b[0m\u001b[0;34m\u001b[0m\u001b[0m\n",
      "\u001b[0;31mKeyboardInterrupt\u001b[0m: "
     ]
    }
   ],
   "source": [
    "print(\"initial zeros\", df['construction_year'].value_counts()[0])\n",
    "iters = []\n",
    "start = time.time()\n",
    "for i in range(60):\n",
    "    df = df.reindex(np.random.permutation(df.index))\n",
    "    df = df.reset_index(drop=True)\n",
    "    df[:1000] = construction_helper(df[:1000])\n",
    "    iters.append(i)\n",
    "    print(i)\n",
    "\n",
    "stop = time.time()\n",
    "print(\"iterations\", max(iters))\n",
    "print(stop - start, \"s\")\n",
    "print(\"remaining zeros\", df['construction_year'].value_counts()[0])"
   ]
  },
  {
   "cell_type": "markdown",
   "metadata": {},
   "source": [
    "Done: six times."
   ]
  },
  {
   "cell_type": "code",
   "execution_count": 56,
   "metadata": {},
   "outputs": [
    {
     "data": {
      "text/plain": [
       "(59400, 23)"
      ]
     },
     "execution_count": 56,
     "metadata": {},
     "output_type": "execute_result"
    }
   ],
   "source": [
    "# save to a file\n",
    "# df.to_csv('/Users/RAhmed/data store/Wesleyan_Capstone/gps_and_construction201808292120.csv', index=False)"
   ]
  },
  {
   "cell_type": "markdown",
   "metadata": {},
   "source": [
    "## Fix date_recorded and create wpt_year"
   ]
  },
  {
   "cell_type": "code",
   "execution_count": 57,
   "metadata": {},
   "outputs": [
    {
     "data": {
      "text/plain": [
       "str"
      ]
     },
     "execution_count": 57,
     "metadata": {},
     "output_type": "execute_result"
    }
   ],
   "source": [
    "type(df['date_recorded'][1])"
   ]
  },
  {
   "cell_type": "code",
   "execution_count": 58,
   "metadata": {},
   "outputs": [
    {
     "data": {
      "text/plain": [
       "'01/02/13'"
      ]
     },
     "execution_count": 58,
     "metadata": {},
     "output_type": "execute_result"
    }
   ],
   "source": [
    "df.iat[0, 1]"
   ]
  },
  {
   "cell_type": "markdown",
   "metadata": {},
   "source": [
    "date_recorded is a string. Need to convert to a number so can be used for composite variables"
   ]
  },
  {
   "cell_type": "code",
   "execution_count": 59,
   "metadata": {},
   "outputs": [
    {
     "data": {
      "text/plain": [
       "2013.215053763441"
      ]
     },
     "execution_count": 59,
     "metadata": {},
     "output_type": "execute_result"
    }
   ],
   "source": [
    "# function to convert string to numericl for date in this format '01/02/13'\n",
    "def year_convert(date_recorded):\n",
    "    \"\"\"\n",
    "    takes custom string (e.g. '18/03/13') and converts to a float\n",
    "    is not super accurate as assumes all months have 31 days\n",
    "    \n",
    "    \"\"\"\n",
    "    year = float(date_recorded[6:8])\n",
    "    if year > 30:\n",
    "        year += 1900\n",
    "    else: \n",
    "        year += 2000\n",
    "    month = float(date_recorded[3:5])\n",
    "    day = float(date_recorded[:2])\n",
    "    \n",
    "    return year + ((month - 1) / 12) + (day / (31*12)) \n",
    "\n",
    "year_convert('18/03/13')"
   ]
  },
  {
   "cell_type": "code",
   "execution_count": 60,
   "metadata": {},
   "outputs": [
    {
     "data": {
      "text/html": [
       "<div>\n",
       "<style scoped>\n",
       "    .dataframe tbody tr th:only-of-type {\n",
       "        vertical-align: middle;\n",
       "    }\n",
       "\n",
       "    .dataframe tbody tr th {\n",
       "        vertical-align: top;\n",
       "    }\n",
       "\n",
       "    .dataframe thead th {\n",
       "        text-align: right;\n",
       "    }\n",
       "</style>\n",
       "<table border=\"1\" class=\"dataframe\">\n",
       "  <thead>\n",
       "    <tr style=\"text-align: right;\">\n",
       "      <th></th>\n",
       "      <th>id</th>\n",
       "      <th>date_recorded</th>\n",
       "      <th>season_recorded</th>\n",
       "      <th>gps_height</th>\n",
       "      <th>installer</th>\n",
       "      <th>longitude</th>\n",
       "      <th>latitude</th>\n",
       "      <th>basin</th>\n",
       "      <th>region_code</th>\n",
       "      <th>population</th>\n",
       "      <th>...</th>\n",
       "      <th>construction_year</th>\n",
       "      <th>extraction_type_group</th>\n",
       "      <th>management_group</th>\n",
       "      <th>payment_type</th>\n",
       "      <th>water_quality</th>\n",
       "      <th>quantity_group</th>\n",
       "      <th>source_type</th>\n",
       "      <th>source_class</th>\n",
       "      <th>waterpoint_type_group</th>\n",
       "      <th>status_group</th>\n",
       "    </tr>\n",
       "  </thead>\n",
       "  <tbody>\n",
       "    <tr>\n",
       "      <th>0</th>\n",
       "      <td>13375</td>\n",
       "      <td>2013.086022</td>\n",
       "      <td>short_dry</td>\n",
       "      <td>343</td>\n",
       "      <td>Fin Water</td>\n",
       "      <td>39.523356</td>\n",
       "      <td>-10.587881</td>\n",
       "      <td>Ruvuma / Southern Coast</td>\n",
       "      <td>9</td>\n",
       "      <td>1</td>\n",
       "      <td>...</td>\n",
       "      <td>1982</td>\n",
       "      <td>submersible</td>\n",
       "      <td>user-group</td>\n",
       "      <td>never pay</td>\n",
       "      <td>soft</td>\n",
       "      <td>dry</td>\n",
       "      <td>borehole</td>\n",
       "      <td>groundwater</td>\n",
       "      <td>communal standpipe</td>\n",
       "      <td>non functional</td>\n",
       "    </tr>\n",
       "    <tr>\n",
       "      <th>1</th>\n",
       "      <td>61207</td>\n",
       "      <td>2011.204301</td>\n",
       "      <td>long_rainy</td>\n",
       "      <td>6</td>\n",
       "      <td>Government</td>\n",
       "      <td>35.837979</td>\n",
       "      <td>-6.501625</td>\n",
       "      <td>Rufiji</td>\n",
       "      <td>1</td>\n",
       "      <td>0</td>\n",
       "      <td>...</td>\n",
       "      <td>2007</td>\n",
       "      <td>submersible</td>\n",
       "      <td>user-group</td>\n",
       "      <td>per bucket</td>\n",
       "      <td>soft</td>\n",
       "      <td>insufficient</td>\n",
       "      <td>borehole</td>\n",
       "      <td>groundwater</td>\n",
       "      <td>communal standpipe</td>\n",
       "      <td>functional</td>\n",
       "    </tr>\n",
       "    <tr>\n",
       "      <th>2</th>\n",
       "      <td>45311</td>\n",
       "      <td>2013.172043</td>\n",
       "      <td>long_rainy</td>\n",
       "      <td>-36</td>\n",
       "      <td>DW</td>\n",
       "      <td>39.499206</td>\n",
       "      <td>-8.964689</td>\n",
       "      <td>Ruvuma / Southern Coast</td>\n",
       "      <td>80</td>\n",
       "      <td>100</td>\n",
       "      <td>...</td>\n",
       "      <td>2003</td>\n",
       "      <td>other</td>\n",
       "      <td>user-group</td>\n",
       "      <td>never pay</td>\n",
       "      <td>salty</td>\n",
       "      <td>enough</td>\n",
       "      <td>shallow well</td>\n",
       "      <td>groundwater</td>\n",
       "      <td>other</td>\n",
       "      <td>non functional</td>\n",
       "    </tr>\n",
       "    <tr>\n",
       "      <th>3</th>\n",
       "      <td>5191</td>\n",
       "      <td>2011.180108</td>\n",
       "      <td>long_rainy</td>\n",
       "      <td>1405</td>\n",
       "      <td>DANIDA</td>\n",
       "      <td>35.542541</td>\n",
       "      <td>-7.716791</td>\n",
       "      <td>Rufiji</td>\n",
       "      <td>11</td>\n",
       "      <td>1000</td>\n",
       "      <td>...</td>\n",
       "      <td>1985</td>\n",
       "      <td>gravity</td>\n",
       "      <td>user-group</td>\n",
       "      <td>monthly</td>\n",
       "      <td>soft</td>\n",
       "      <td>enough</td>\n",
       "      <td>spring</td>\n",
       "      <td>groundwater</td>\n",
       "      <td>communal standpipe</td>\n",
       "      <td>functional</td>\n",
       "    </tr>\n",
       "    <tr>\n",
       "      <th>4</th>\n",
       "      <td>67919</td>\n",
       "      <td>2011.209677</td>\n",
       "      <td>long_rainy</td>\n",
       "      <td>172</td>\n",
       "      <td>WU</td>\n",
       "      <td>38.364222</td>\n",
       "      <td>-6.636850</td>\n",
       "      <td>Wami / Ruvu</td>\n",
       "      <td>6</td>\n",
       "      <td>50</td>\n",
       "      <td>...</td>\n",
       "      <td>2010</td>\n",
       "      <td>submersible</td>\n",
       "      <td>commercial</td>\n",
       "      <td>per bucket</td>\n",
       "      <td>soft</td>\n",
       "      <td>enough</td>\n",
       "      <td>river/lake</td>\n",
       "      <td>surface</td>\n",
       "      <td>communal standpipe</td>\n",
       "      <td>functional</td>\n",
       "    </tr>\n",
       "  </tbody>\n",
       "</table>\n",
       "<p>5 rows × 23 columns</p>\n",
       "</div>"
      ],
      "text/plain": [
       "      id  date_recorded season_recorded  gps_height   installer  longitude  \\\n",
       "0  13375    2013.086022       short_dry         343   Fin Water  39.523356   \n",
       "1  61207    2011.204301      long_rainy           6  Government  35.837979   \n",
       "2  45311    2013.172043      long_rainy         -36          DW  39.499206   \n",
       "3   5191    2011.180108      long_rainy        1405      DANIDA  35.542541   \n",
       "4  67919    2011.209677      long_rainy         172          WU  38.364222   \n",
       "\n",
       "    latitude                    basin  region_code population       ...        \\\n",
       "0 -10.587881  Ruvuma / Southern Coast            9          1       ...         \n",
       "1  -6.501625                   Rufiji            1          0       ...         \n",
       "2  -8.964689  Ruvuma / Southern Coast           80        100       ...         \n",
       "3  -7.716791                   Rufiji           11       1000       ...         \n",
       "4  -6.636850              Wami / Ruvu            6         50       ...         \n",
       "\n",
       "   construction_year extraction_type_group  management_group  payment_type  \\\n",
       "0               1982           submersible        user-group     never pay   \n",
       "1               2007           submersible        user-group    per bucket   \n",
       "2               2003                 other        user-group     never pay   \n",
       "3               1985               gravity        user-group       monthly   \n",
       "4               2010           submersible        commercial    per bucket   \n",
       "\n",
       "  water_quality quantity_group   source_type source_class  \\\n",
       "0          soft            dry      borehole  groundwater   \n",
       "1          soft   insufficient      borehole  groundwater   \n",
       "2         salty         enough  shallow well  groundwater   \n",
       "3          soft         enough        spring  groundwater   \n",
       "4          soft         enough    river/lake      surface   \n",
       "\n",
       "  waterpoint_type_group    status_group  \n",
       "0    communal standpipe  non functional  \n",
       "1    communal standpipe      functional  \n",
       "2                 other  non functional  \n",
       "3    communal standpipe      functional  \n",
       "4    communal standpipe      functional  \n",
       "\n",
       "[5 rows x 23 columns]"
      ]
     },
     "execution_count": 60,
     "metadata": {},
     "output_type": "execute_result"
    }
   ],
   "source": [
    "# convert df['date_recorded']\n",
    "df['date_recorded'] = df['date_recorded'].apply(year_convert)\n",
    "df.head()"
   ]
  },
  {
   "cell_type": "code",
   "execution_count": 61,
   "metadata": {},
   "outputs": [],
   "source": [
    "# need another helper function in the case that construction_year is still zero\n",
    "# the reason is that to get wpt_age where construction_year == 0, we need to make that the\n",
    "# same as date_recorded. \n",
    "def check_not_zero(df):\n",
    "    \"\"\" \n",
    "    passes if not zero\n",
    "    else sets to recorded date set as a float\n",
    "    \"\"\"\n",
    "    for i in df.index:\n",
    "        if df.iat[df.index[i], 13] != 0: \n",
    "           pass\n",
    "            \n",
    "        else: \n",
    "            df.iat[i, 13] = df.iat[i, 1]\n",
    "                       \n",
    "    return df"
   ]
  },
  {
   "cell_type": "code",
   "execution_count": 62,
   "metadata": {},
   "outputs": [],
   "source": [
    "df_wpt_age = df.date_recorded - df.construction_year\n",
    "df.insert(13,'wpt_age', df_wpt_age )"
   ]
  },
  {
   "cell_type": "code",
   "execution_count": null,
   "metadata": {},
   "outputs": [],
   "source": [
    "df.columns"
   ]
  },
  {
   "cell_type": "code",
   "execution_count": 29,
   "metadata": {},
   "outputs": [
    {
     "data": {
      "text/plain": [
       "(59400, 24)"
      ]
     },
     "execution_count": 29,
     "metadata": {},
     "output_type": "execute_result"
    }
   ],
   "source": [
    "# save to a file\n",
    "# df.to_csv('/Users/RAhmed/data store/Wesleyan_Capstone/wpt_year201808292140.csv', index=False)\n",
    "df = pd.read_csv('/Users/RAhmed/data store/Wesleyan_Capstone/wpt_year201808292140.csv')\n",
    "df.shape"
   ]
  },
  {
   "cell_type": "markdown",
   "metadata": {},
   "source": [
    "## Further data visualisation"
   ]
  },
  {
   "cell_type": "code",
   "execution_count": 30,
   "metadata": {},
   "outputs": [
    {
     "data": {
      "image/png": "[encoded data removed]",
      "text/plain": [
       "<Figure size 432x72 with 1 Axes>"
      ]
     },
     "metadata": {},
     "output_type": "display_data"
    }
   ],
   "source": [
    "# seaborn presets\n",
    "flatui = [\"#9b59b6\", \"#3498db\", \"#95a5a6\", \"#e74c3c\", \"#34495e\", \"#2ecc71\"]\n",
    "sns.set_palette(flatui)\n",
    "sns.palplot(sns.color_palette())\n",
    "sns.set_style(\"whitegrid\")"
   ]
  },
  {
   "cell_type": "code",
   "execution_count": 74,
   "metadata": {},
   "outputs": [
    {
     "data": {
      "image/png": "[encoded data removed]",
      "text/plain": [
       "<Figure size 432x288 with 1 Axes>"
      ]
     },
     "metadata": {},
     "output_type": "display_data"
    }
   ],
   "source": [
    "ax = sns.stripplot(x=\"status_group\", y=\"gps_height\", data=df, jitter=False, order=[ \"non functional\", \"functional needs repair\", \"functional\"])\n",
    "plt.title('gps_height versus pump status')\n",
    "ax.figure.savefig('ax_gps_height', dpi = 1000)"
   ]
  },
  {
   "cell_type": "code",
   "execution_count": 73,
   "metadata": {},
   "outputs": [
    {
     "data": {
      "text/plain": [
       "Text(0.5,1,'season_recorded versus pump status')"
      ]
     },
     "execution_count": 73,
     "metadata": {},
     "output_type": "execute_result"
    },
    {
     "data": {
      "image/png": "[encoded data removed]",
      "text/plain": [
       "<Figure size 432x288 with 1 Axes>"
      ]
     },
     "metadata": {},
     "output_type": "display_data"
    }
   ],
   "source": [
    "ax = sns.countplot(x='season_recorded', hue='status_group', data=df)\n",
    "ax.tick_params(labelsize=5)\n",
    "ax.set_xlabel('season recorded',fontsize=10)\n",
    "plt.title('season_recorded versus pump status')\n",
    "# ax.figure.savefig('ax_season_recorded.png', dpi = 1000)"
   ]
  },
  {
   "cell_type": "code",
   "execution_count": 72,
   "metadata": {},
   "outputs": [
    {
     "data": {
      "text/plain": [
       "Text(0.5,1,'geological water basin versus pump status')"
      ]
     },
     "execution_count": 72,
     "metadata": {},
     "output_type": "execute_result"
    },
    {
     "data": {
      "image/png": "[encoded data removed]",
      "text/plain": [
       "<Figure size 432x288 with 1 Axes>"
      ]
     },
     "metadata": {},
     "output_type": "display_data"
    }
   ],
   "source": [
    "ax = sns.countplot(x='basin', hue='status_group', data=df)\n",
    "ax.tick_params(labelsize=5)\n",
    "ax.set_xlabel('basin',fontsize=10)\n",
    "plt.title('geological water basin versus pump status')\n",
    "# ax.figure.savefig('ax_basin.png', dpi = 1000)"
   ]
  },
  {
   "cell_type": "code",
   "execution_count": 71,
   "metadata": {},
   "outputs": [
    {
     "data": {
      "text/plain": [
       "Text(0.5,1,'administrative region versus pump status')"
      ]
     },
     "execution_count": 71,
     "metadata": {},
     "output_type": "execute_result"
    },
    {
     "data": {
      "image/png": "[encoded data removed]",
      "text/plain": [
       "<Figure size 432x288 with 1 Axes>"
      ]
     },
     "metadata": {},
     "output_type": "display_data"
    }
   ],
   "source": [
    "ax = sns.countplot(x='region_code', hue='status_group', data=df)\n",
    "ax.tick_params(labelsize=5)\n",
    "ax.set_xlabel('region_code',fontsize=10)\n",
    "plt.title('administrative region versus pump status')\n",
    "# ax.figure.savefig('ax_region_code.png', dpi = 1000)"
   ]
  },
  {
   "cell_type": "markdown",
   "metadata": {},
   "source": [
    "**region check of independence**<br>\n",
    "If there were no relationship between regions and status_group, the distribution of status_group very similar whatever the region.In other words the NULL HYPOTHESIS is that there is no relationship between region and status_group."
   ]
  },
  {
   "cell_type": "code",
   "execution_count": 38,
   "metadata": {},
   "outputs": [
    {
     "data": {
      "text/html": [
       "<div>\n",
       "<style scoped>\n",
       "    .dataframe tbody tr th:only-of-type {\n",
       "        vertical-align: middle;\n",
       "    }\n",
       "\n",
       "    .dataframe tbody tr th {\n",
       "        vertical-align: top;\n",
       "    }\n",
       "\n",
       "    .dataframe thead th {\n",
       "        text-align: right;\n",
       "    }\n",
       "</style>\n",
       "<table border=\"1\" class=\"dataframe\">\n",
       "  <thead>\n",
       "    <tr style=\"text-align: right;\">\n",
       "      <th>status_group</th>\n",
       "      <th>functional</th>\n",
       "      <th>functional needs repair</th>\n",
       "      <th>non functional</th>\n",
       "    </tr>\n",
       "    <tr>\n",
       "      <th>region_code</th>\n",
       "      <th></th>\n",
       "      <th></th>\n",
       "      <th></th>\n",
       "    </tr>\n",
       "  </thead>\n",
       "  <tbody>\n",
       "    <tr>\n",
       "      <th>1</th>\n",
       "      <td>1009</td>\n",
       "      <td>209</td>\n",
       "      <td>983</td>\n",
       "    </tr>\n",
       "    <tr>\n",
       "      <th>2</th>\n",
       "      <td>1978</td>\n",
       "      <td>174</td>\n",
       "      <td>872</td>\n",
       "    </tr>\n",
       "    <tr>\n",
       "      <th>3</th>\n",
       "      <td>2640</td>\n",
       "      <td>322</td>\n",
       "      <td>1417</td>\n",
       "    </tr>\n",
       "    <tr>\n",
       "      <th>4</th>\n",
       "      <td>1408</td>\n",
       "      <td>73</td>\n",
       "      <td>1032</td>\n",
       "    </tr>\n",
       "    <tr>\n",
       "      <th>5</th>\n",
       "      <td>2147</td>\n",
       "      <td>300</td>\n",
       "      <td>1593</td>\n",
       "    </tr>\n",
       "  </tbody>\n",
       "</table>\n",
       "</div>"
      ],
      "text/plain": [
       "status_group  functional  functional needs repair  non functional\n",
       "region_code                                                      \n",
       "1                   1009                      209             983\n",
       "2                   1978                      174             872\n",
       "3                   2640                      322            1417\n",
       "4                   1408                       73            1032\n",
       "5                   2147                      300            1593"
      ]
     },
     "execution_count": 38,
     "metadata": {},
     "output_type": "execute_result"
    }
   ],
   "source": [
    "# check independence\n",
    "import scipy.stats\n",
    "# contingency table of observed counts\n",
    "ct1=pd.crosstab(df['region_code'], df['status_group'])\n",
    "ct1.head()"
   ]
  },
  {
   "cell_type": "code",
   "execution_count": 41,
   "metadata": {},
   "outputs": [
    {
     "name": "stdout",
     "output_type": "stream",
     "text": [
      "chi-square value, p value, expected counts\n"
     ]
    },
    {
     "data": {
      "text/plain": [
       "(5157.385233360806,\n",
       " 0.0,\n",
       " 52,\n",
       " array([[1.19532086e+03, 1.59961566e+02, 8.45717576e+02],\n",
       "        [1.64227636e+03, 2.19774545e+02, 1.16194909e+03],\n",
       "        [2.37815086e+03, 3.18251566e+02, 1.68259758e+03],\n",
       "        [1.36476207e+03, 1.82636717e+02, 9.65601212e+02],\n",
       "        [2.19404646e+03, 2.93614141e+02, 1.55233939e+03],\n",
       "        [8.73817020e+02, 1.16936919e+02, 6.18246061e+02],\n",
       "        [4.37180051e+02, 5.85047980e+01, 3.09315152e+02],\n",
       "        [1.62924242e+02, 2.18030303e+01, 1.15272727e+02],\n",
       "        [2.11801515e+02, 2.83439394e+01, 1.49854545e+02],\n",
       "        [1.43373333e+03, 1.91866667e+02, 1.01440000e+03],\n",
       "        [2.87832828e+03, 3.85186869e+02, 2.03648485e+03],\n",
       "        [2.51935187e+03, 3.37147525e+02, 1.78250061e+03],\n",
       "        [1.13666813e+03, 1.52112475e+02, 8.04219394e+02],\n",
       "        [1.07475692e+03, 1.43827323e+02, 7.60415758e+02],\n",
       "        [9.81890101e+02, 1.31399596e+02, 6.94710303e+02],\n",
       "        [1.52931556e+03, 2.04657778e+02, 1.08202667e+03],\n",
       "        [2.72137793e+03, 3.64183283e+02, 1.92543879e+03],\n",
       "        [1.80520061e+03, 2.41577576e+02, 1.27722182e+03],\n",
       "        [1.65476722e+03, 2.21446111e+02, 1.17078667e+03],\n",
       "        [1.06932611e+03, 1.43100556e+02, 7.56573333e+02],\n",
       "        [8.59696919e+02, 1.15047323e+02, 6.08255758e+02],\n",
       "        [1.77044343e+02, 2.36926263e+01, 1.25263030e+02],\n",
       "        [5.43080808e-01, 7.26767677e-02, 3.84242424e-01],\n",
       "        [5.56657828e+02, 7.44936869e+01, 3.93848485e+02],\n",
       "        [6.72334040e+02, 8.99738384e+01, 4.75692121e+02],\n",
       "        [4.98005101e+02, 6.66445960e+01, 3.52350303e+02],\n",
       "        [2.29723182e+02, 3.07422727e+01, 1.62534545e+02]]))"
      ]
     },
     "execution_count": 41,
     "metadata": {},
     "output_type": "execute_result"
    }
   ],
   "source": [
    "# chi-square\n",
    "print ('chi-square value, p value, expected counts')\n",
    "cs1= scipy.stats.chi2_contingency(ct1)\n",
    "cs1"
   ]
  },
  {
   "cell_type": "markdown",
   "metadata": {},
   "source": [
    "The p-value above is 0.0, which is less than 0.05. We say the result is significant enough to reject the null hypothesis."
   ]
  },
  {
   "cell_type": "code",
   "execution_count": 58,
   "metadata": {},
   "outputs": [
    {
     "data": {
      "image/png": "[encoded data removed]",
      "text/plain": [
       "<Figure size 432x288 with 1 Axes>"
      ]
     },
     "metadata": {},
     "output_type": "display_data"
    }
   ],
   "source": [
    "ax = sns.countplot(x='population', hue='status_group', data=df)\n",
    "ax.tick_params(labelsize=5)\n",
    "ax.set_xlabel('population',fontsize=10)\n",
    "plt.title('population versus pump status')\n",
    "ax.figure.savefig('ax_population.png', dpi = 1000)"
   ]
  },
  {
   "cell_type": "code",
   "execution_count": 59,
   "metadata": {},
   "outputs": [
    {
     "data": {
      "image/png": "[encoded data removed]",
      "text/plain": [
       "<Figure size 432x288 with 1 Axes>"
      ]
     },
     "metadata": {},
     "output_type": "display_data"
    }
   ],
   "source": [
    "ax = sns.countplot(x='public_meeting', hue='status_group', data=df)\n",
    "ax.tick_params(labelsize=5)\n",
    "ax.set_xlabel('public_meeting',fontsize=10)\n",
    "plt.title('public meeting held before pump installation (yes/no) versus pump status')\n",
    "ax.figure.savefig('ax_public_meeting.png', dpi = 1000)"
   ]
  },
  {
   "cell_type": "code",
   "execution_count": 65,
   "metadata": {},
   "outputs": [
    {
     "data": {
      "image/png": "[encoded data removed]",
      "text/plain": [
       "<Figure size 432x288 with 1 Axes>"
      ]
     },
     "metadata": {},
     "output_type": "display_data"
    }
   ],
   "source": [
    "ax = sns.countplot(x='scheme_management', hue='status_group', data=df)\n",
    "ax.tick_params(labelsize=5)\n",
    "ax.set_xlabel('scheme_management',fontsize=10)\n",
    "plt.title('pump installation management versus pump status')\n",
    "ax.figure.savefig('ax_scheme_management.png', dpi = 1000)"
   ]
  },
  {
   "cell_type": "markdown",
   "metadata": {},
   "source": [
    "**scheme_management** check of independence\n",
    "If there were no relationship between scheme_management and status_group, the distribution of status_group very similar whatever the scheme_management.In other words the NULL HYPOTHESIS is that there is no relationship between scheme_management and status_group."
   ]
  },
  {
   "cell_type": "code",
   "execution_count": 48,
   "metadata": {},
   "outputs": [
    {
     "data": {
      "text/html": [
       "<div>\n",
       "<style scoped>\n",
       "    .dataframe tbody tr th:only-of-type {\n",
       "        vertical-align: middle;\n",
       "    }\n",
       "\n",
       "    .dataframe tbody tr th {\n",
       "        vertical-align: top;\n",
       "    }\n",
       "\n",
       "    .dataframe thead th {\n",
       "        text-align: right;\n",
       "    }\n",
       "</style>\n",
       "<table border=\"1\" class=\"dataframe\">\n",
       "  <thead>\n",
       "    <tr style=\"text-align: right;\">\n",
       "      <th>status_group</th>\n",
       "      <th>functional</th>\n",
       "      <th>functional needs repair</th>\n",
       "      <th>non functional</th>\n",
       "    </tr>\n",
       "    <tr>\n",
       "      <th>scheme_management</th>\n",
       "      <th></th>\n",
       "      <th></th>\n",
       "      <th></th>\n",
       "    </tr>\n",
       "  </thead>\n",
       "  <tbody>\n",
       "    <tr>\n",
       "      <th>Company</th>\n",
       "      <td>534</td>\n",
       "      <td>37</td>\n",
       "      <td>490</td>\n",
       "    </tr>\n",
       "    <tr>\n",
       "      <th>None</th>\n",
       "      <td>1</td>\n",
       "      <td>0</td>\n",
       "      <td>0</td>\n",
       "    </tr>\n",
       "    <tr>\n",
       "      <th>Other</th>\n",
       "      <td>458</td>\n",
       "      <td>22</td>\n",
       "      <td>286</td>\n",
       "    </tr>\n",
       "    <tr>\n",
       "      <th>Parastatal</th>\n",
       "      <td>966</td>\n",
       "      <td>202</td>\n",
       "      <td>512</td>\n",
       "    </tr>\n",
       "    <tr>\n",
       "      <th>Private operator</th>\n",
       "      <td>729</td>\n",
       "      <td>23</td>\n",
       "      <td>311</td>\n",
       "    </tr>\n",
       "  </tbody>\n",
       "</table>\n",
       "</div>"
      ],
      "text/plain": [
       "status_group       functional  functional needs repair  non functional\n",
       "scheme_management                                                     \n",
       "Company                   534                       37             490\n",
       "None                        1                        0               0\n",
       "Other                     458                       22             286\n",
       "Parastatal                966                      202             512\n",
       "Private operator          729                       23             311"
      ]
     },
     "execution_count": 48,
     "metadata": {},
     "output_type": "execute_result"
    }
   ],
   "source": [
    "# check independence\n",
    "import scipy.stats\n",
    "# contingency table of observed counts\n",
    "ct1=pd.crosstab(df['scheme_management'], df['status_group'])\n",
    "ct1.head()"
   ]
  },
  {
   "cell_type": "code",
   "execution_count": 49,
   "metadata": {},
   "outputs": [
    {
     "name": "stdout",
     "output_type": "stream",
     "text": [
      "chi-square value, p value, expected counts\n"
     ]
    },
    {
     "data": {
      "text/plain": [
       "(1991.065634468276,\n",
       " 0.0,\n",
       " 24,\n",
       " array([[5.76208737e+02, 7.71100505e+01, 4.07681212e+02],\n",
       "        [5.43080808e-01, 7.26767677e-02, 3.84242424e-01],\n",
       "        [4.15999899e+02, 5.56704040e+01, 2.94329697e+02],\n",
       "        [9.12375758e+02, 1.22096970e+02, 6.45527273e+02],\n",
       "        [5.77294899e+02, 7.72554040e+01, 4.08449697e+02],\n",
       "        [5.26788384e+01, 7.04964646e+00, 3.72715152e+01],\n",
       "        [3.91018182e+01, 5.23272727e+00, 2.76654545e+01],\n",
       "        [1.99815722e+04, 2.67399631e+03, 1.41374315e+04],\n",
       "        [1.56570197e+03, 2.09527121e+02, 1.10777091e+03],\n",
       "        [2.82727869e+03, 3.78355253e+02, 2.00036606e+03],\n",
       "        [1.49238606e+03, 1.99715758e+02, 1.05589818e+03],\n",
       "        [1.71233379e+03, 2.29149848e+02, 1.21151636e+03],\n",
       "        [2.10552429e+03, 2.81767828e+02, 1.48970788e+03]]))"
      ]
     },
     "execution_count": 49,
     "metadata": {},
     "output_type": "execute_result"
    }
   ],
   "source": [
    "# chi-square\n",
    "print ('chi-square value, p value, expected counts')\n",
    "cs1= scipy.stats.chi2_contingency(ct1)\n",
    "cs1"
   ]
  },
  {
   "cell_type": "code",
   "execution_count": 61,
   "metadata": {},
   "outputs": [
    {
     "data": {
      "image/png": "[encoded data removed]",
      "text/plain": [
       "<Figure size 432x288 with 1 Axes>"
      ]
     },
     "metadata": {},
     "output_type": "display_data"
    }
   ],
   "source": [
    "ax = sns.countplot(x='permit', hue='status_group', data=df)\n",
    "ax.tick_params(labelsize=5)\n",
    "ax.set_xlabel('permit',fontsize=10)\n",
    "plt.title('does pump have permit (yes/no) versus pump status')\n",
    "ax.figure.savefig('ax_permit.png', dpi = 1000)"
   ]
  },
  {
   "cell_type": "code",
   "execution_count": 62,
   "metadata": {},
   "outputs": [
    {
     "data": {
      "image/png": "[encoded data removed]",
      "text/plain": [
       "<Figure size 432x288 with 1 Axes>"
      ]
     },
     "metadata": {},
     "output_type": "display_data"
    }
   ],
   "source": [
    "ax = sns.countplot(x='construction_year', hue='status_group', data=df)\n",
    "ax.tick_params(labelsize=5)\n",
    "ax.set_xlabel('construction_year',fontsize=10)\n",
    "plt.title('construction year of pump versus pump status')\n",
    "ax.figure.savefig('ax_construction_year.png', dpi = 1000)"
   ]
  },
  {
   "cell_type": "code",
   "execution_count": 63,
   "metadata": {},
   "outputs": [
    {
     "data": {
      "image/png": "[encoded data removed]",
      "text/plain": [
       "<Figure size 432x288 with 1 Axes>"
      ]
     },
     "metadata": {},
     "output_type": "display_data"
    }
   ],
   "source": [
    "ax = sns.countplot(x='extraction_type_group', hue='status_group', data=df)\n",
    "ax.tick_params(labelsize=5)\n",
    "ax.set_xlabel('extraction_type_group',fontsize=10)\n",
    "plt.title('pump extraction type versus pump status')\n",
    "ax.figure.savefig('ax_extraction_type_group.png', dpi = 1000)"
   ]
  },
  {
   "cell_type": "code",
   "execution_count": 64,
   "metadata": {},
   "outputs": [
    {
     "data": {
      "image/png": "[encoded data removed]",
      "text/plain": [
       "<Figure size 432x288 with 1 Axes>"
      ]
     },
     "metadata": {},
     "output_type": "display_data"
    }
   ],
   "source": [
    "ax = sns.countplot(x='management_group', hue='status_group', data=df)\n",
    "ax.tick_params(labelsize=5)\n",
    "ax.set_xlabel('management_group',fontsize=10)\n",
    "plt.title('pump management group versus pump status')\n",
    "ax.figure.savefig('ax_management_group.png', dpi = 1000)"
   ]
  },
  {
   "cell_type": "code",
   "execution_count": 66,
   "metadata": {},
   "outputs": [
    {
     "data": {
      "image/png": "[encoded data removed]",
      "text/plain": [
       "<Figure size 432x288 with 1 Axes>"
      ]
     },
     "metadata": {},
     "output_type": "display_data"
    }
   ],
   "source": [
    "ax = sns.countplot(x='payment_type', hue='status_group', data=df)\n",
    "ax.tick_params(labelsize=5)\n",
    "ax.set_xlabel('payment_type',fontsize=10)\n",
    "plt.title('payment for water from pump versus pump status')\n",
    "ax.figure.savefig('ax_payment_type.png', dpi = 1000)"
   ]
  },
  {
   "cell_type": "markdown",
   "metadata": {},
   "source": [
    "**payment_type** check of independence If there were no relationship between payment and status_group, the distribution of status_group very similar whatever the payment_type.In other words the NULL HYPOTHESIS is that there is no relationship between payment_type and status_group."
   ]
  },
  {
   "cell_type": "code",
   "execution_count": 44,
   "metadata": {},
   "outputs": [
    {
     "data": {
      "text/html": [
       "<div>\n",
       "<style scoped>\n",
       "    .dataframe tbody tr th:only-of-type {\n",
       "        vertical-align: middle;\n",
       "    }\n",
       "\n",
       "    .dataframe tbody tr th {\n",
       "        vertical-align: top;\n",
       "    }\n",
       "\n",
       "    .dataframe thead th {\n",
       "        text-align: right;\n",
       "    }\n",
       "</style>\n",
       "<table border=\"1\" class=\"dataframe\">\n",
       "  <thead>\n",
       "    <tr style=\"text-align: right;\">\n",
       "      <th>status_group</th>\n",
       "      <th>functional</th>\n",
       "      <th>functional needs repair</th>\n",
       "      <th>non functional</th>\n",
       "    </tr>\n",
       "    <tr>\n",
       "      <th>payment_type</th>\n",
       "      <th></th>\n",
       "      <th></th>\n",
       "      <th></th>\n",
       "    </tr>\n",
       "  </thead>\n",
       "  <tbody>\n",
       "    <tr>\n",
       "      <th>annually</th>\n",
       "      <td>2740</td>\n",
       "      <td>247</td>\n",
       "      <td>655</td>\n",
       "    </tr>\n",
       "    <tr>\n",
       "      <th>monthly</th>\n",
       "      <td>5482</td>\n",
       "      <td>927</td>\n",
       "      <td>1891</td>\n",
       "    </tr>\n",
       "    <tr>\n",
       "      <th>never pay</th>\n",
       "      <td>11379</td>\n",
       "      <td>1907</td>\n",
       "      <td>12062</td>\n",
       "    </tr>\n",
       "    <tr>\n",
       "      <th>on failure</th>\n",
       "      <td>2429</td>\n",
       "      <td>277</td>\n",
       "      <td>1208</td>\n",
       "    </tr>\n",
       "    <tr>\n",
       "      <th>other</th>\n",
       "      <td>611</td>\n",
       "      <td>118</td>\n",
       "      <td>325</td>\n",
       "    </tr>\n",
       "  </tbody>\n",
       "</table>\n",
       "</div>"
      ],
      "text/plain": [
       "status_group  functional  functional needs repair  non functional\n",
       "payment_type                                                     \n",
       "annually            2740                      247             655\n",
       "monthly             5482                      927            1891\n",
       "never pay          11379                     1907           12062\n",
       "on failure          2429                      277            1208\n",
       "other                611                      118             325"
      ]
     },
     "execution_count": 44,
     "metadata": {},
     "output_type": "execute_result"
    }
   ],
   "source": [
    "# check independence\n",
    "import scipy.stats\n",
    "# contingency table of observed counts\n",
    "ct1=pd.crosstab(df['payment_type'], df['status_group'])\n",
    "ct1.head()"
   ]
  },
  {
   "cell_type": "code",
   "execution_count": 45,
   "metadata": {},
   "outputs": [
    {
     "name": "stdout",
     "output_type": "stream",
     "text": [
      "chi-square value, p value, expected counts\n"
     ]
    },
    {
     "data": {
      "text/plain": [
       "(3965.619403974787,\n",
       " 0.0,\n",
       " 12,\n",
       " array([[ 1977.90030303,   264.68878788,  1399.41090909],\n",
       "        [ 4507.57070707,   603.21717172,  3189.21212121],\n",
       "        [13766.01232323,  1842.21070707,  9739.7769697 ],\n",
       "        [ 2125.61828283,   284.45686869,  1503.92484848],\n",
       "        [  572.40717172,    76.60131313,   404.99151515],\n",
       "        [ 4879.58106061,   653.00075758,  3452.41818182],\n",
       "        [ 4429.91015152,   592.82439394,  3134.26545455]]))"
      ]
     },
     "execution_count": 45,
     "metadata": {},
     "output_type": "execute_result"
    }
   ],
   "source": [
    "# chi-square\n",
    "print ('chi-square value, p value, expected counts')\n",
    "cs1= scipy.stats.chi2_contingency(ct1)\n",
    "cs1"
   ]
  },
  {
   "cell_type": "code",
   "execution_count": 67,
   "metadata": {},
   "outputs": [
    {
     "data": {
      "image/png": "[encoded data removed]",
      "text/plain": [
       "<Figure size 432x288 with 1 Axes>"
      ]
     },
     "metadata": {},
     "output_type": "display_data"
    }
   ],
   "source": [
    "ax = sns.countplot(x='water_quality', hue='status_group', data=df)\n",
    "ax.tick_params(labelsize=5)\n",
    "ax.set_xlabel('water_quality',fontsize=10)\n",
    "plt.title('water quality of pump versus pump status')\n",
    "ax.figure.savefig('ax_water_quality.png', dpi = 1000)"
   ]
  },
  {
   "cell_type": "markdown",
   "metadata": {},
   "source": [
    "**water_quality** check of independence If there were no relationship between water_quality and status_group, the distribution of status_group very similar whatever the water_quality.In other words the NULL HYPOTHESIS is that there is no relationship between water_quality and status_group."
   ]
  },
  {
   "cell_type": "code",
   "execution_count": 46,
   "metadata": {},
   "outputs": [
    {
     "data": {
      "text/html": [
       "<div>\n",
       "<style scoped>\n",
       "    .dataframe tbody tr th:only-of-type {\n",
       "        vertical-align: middle;\n",
       "    }\n",
       "\n",
       "    .dataframe tbody tr th {\n",
       "        vertical-align: top;\n",
       "    }\n",
       "\n",
       "    .dataframe thead th {\n",
       "        text-align: right;\n",
       "    }\n",
       "</style>\n",
       "<table border=\"1\" class=\"dataframe\">\n",
       "  <thead>\n",
       "    <tr style=\"text-align: right;\">\n",
       "      <th>status_group</th>\n",
       "      <th>functional</th>\n",
       "      <th>functional needs repair</th>\n",
       "      <th>non functional</th>\n",
       "    </tr>\n",
       "    <tr>\n",
       "      <th>water_quality</th>\n",
       "      <th></th>\n",
       "      <th></th>\n",
       "      <th></th>\n",
       "    </tr>\n",
       "  </thead>\n",
       "  <tbody>\n",
       "    <tr>\n",
       "      <th>coloured</th>\n",
       "      <td>246</td>\n",
       "      <td>54</td>\n",
       "      <td>190</td>\n",
       "    </tr>\n",
       "    <tr>\n",
       "      <th>fluoride</th>\n",
       "      <td>151</td>\n",
       "      <td>13</td>\n",
       "      <td>36</td>\n",
       "    </tr>\n",
       "    <tr>\n",
       "      <th>fluoride abandoned</th>\n",
       "      <td>6</td>\n",
       "      <td>0</td>\n",
       "      <td>11</td>\n",
       "    </tr>\n",
       "    <tr>\n",
       "      <th>milky</th>\n",
       "      <td>438</td>\n",
       "      <td>14</td>\n",
       "      <td>352</td>\n",
       "    </tr>\n",
       "    <tr>\n",
       "      <th>salty</th>\n",
       "      <td>2220</td>\n",
       "      <td>225</td>\n",
       "      <td>2411</td>\n",
       "    </tr>\n",
       "  </tbody>\n",
       "</table>\n",
       "</div>"
      ],
      "text/plain": [
       "status_group        functional  functional needs repair  non functional\n",
       "water_quality                                                          \n",
       "coloured                   246                       54             190\n",
       "fluoride                   151                       13              36\n",
       "fluoride abandoned           6                        0              11\n",
       "milky                      438                       14             352\n",
       "salty                     2220                      225            2411"
      ]
     },
     "execution_count": 46,
     "metadata": {},
     "output_type": "execute_result"
    }
   ],
   "source": [
    "# check independence\n",
    "import scipy.stats\n",
    "# contingency table of observed counts\n",
    "ct1=pd.crosstab(df['water_quality'], df['status_group'])\n",
    "ct1.head()"
   ]
  },
  {
   "cell_type": "code",
   "execution_count": 47,
   "metadata": {},
   "outputs": [
    {
     "name": "stdout",
     "output_type": "stream",
     "text": [
      "chi-square value, p value, expected counts\n"
     ]
    },
    {
     "data": {
      "text/plain": [
       "(2277.37334278519,\n",
       " 0.0,\n",
       " 14,\n",
       " array([[2.66109596e+02, 3.56116162e+01, 1.88278788e+02],\n",
       "        [1.08616162e+02, 1.45353535e+01, 7.68484848e+01],\n",
       "        [9.23237374e+00, 1.23550505e+00, 6.53212121e+00],\n",
       "        [4.36636970e+02, 5.84321212e+01, 3.08930909e+02],\n",
       "        [2.63720040e+03, 3.52918384e+02, 1.86588121e+03],\n",
       "        [1.84104394e+02, 2.46374242e+01, 1.30258182e+02],\n",
       "        [2.75982805e+04, 3.69328798e+03, 1.95264315e+04],\n",
       "        [1.01881960e+03, 1.36341616e+02, 7.20838788e+02]]))"
      ]
     },
     "execution_count": 47,
     "metadata": {},
     "output_type": "execute_result"
    }
   ],
   "source": [
    "# chi-square\n",
    "print ('chi-square value, p value, expected counts')\n",
    "cs1= scipy.stats.chi2_contingency(ct1)\n",
    "cs1"
   ]
  },
  {
   "cell_type": "code",
   "execution_count": 68,
   "metadata": {},
   "outputs": [
    {
     "data": {
      "image/png": "[encoded data removed]",
      "text/plain": [
       "<Figure size 432x288 with 1 Axes>"
      ]
     },
     "metadata": {},
     "output_type": "display_data"
    }
   ],
   "source": [
    "ax = sns.countplot(x='quantity_group', hue='status_group', data=df)\n",
    "ax.tick_params(labelsize=5)\n",
    "ax.set_xlabel('quantity_group',fontsize=10)\n",
    "plt.title('quantity of water available versus pump status')\n",
    "ax.figure.savefig('ax_quantity_group.png', dpi = 1000)"
   ]
  },
  {
   "cell_type": "markdown",
   "metadata": {},
   "source": [
    "**quantity_group** check of independence If there were no relationship between quantity_group and status_group, the distribution of quantity_group very similar whatever the payment_type.In other words the NULL HYPOTHESIS is that there is no relationship between quantity_group and status_group."
   ]
  },
  {
   "cell_type": "code",
   "execution_count": 50,
   "metadata": {},
   "outputs": [
    {
     "data": {
      "text/html": [
       "<div>\n",
       "<style scoped>\n",
       "    .dataframe tbody tr th:only-of-type {\n",
       "        vertical-align: middle;\n",
       "    }\n",
       "\n",
       "    .dataframe tbody tr th {\n",
       "        vertical-align: top;\n",
       "    }\n",
       "\n",
       "    .dataframe thead th {\n",
       "        text-align: right;\n",
       "    }\n",
       "</style>\n",
       "<table border=\"1\" class=\"dataframe\">\n",
       "  <thead>\n",
       "    <tr style=\"text-align: right;\">\n",
       "      <th>status_group</th>\n",
       "      <th>functional</th>\n",
       "      <th>functional needs repair</th>\n",
       "      <th>non functional</th>\n",
       "    </tr>\n",
       "    <tr>\n",
       "      <th>quantity_group</th>\n",
       "      <th></th>\n",
       "      <th></th>\n",
       "      <th></th>\n",
       "    </tr>\n",
       "  </thead>\n",
       "  <tbody>\n",
       "    <tr>\n",
       "      <th>dry</th>\n",
       "      <td>157</td>\n",
       "      <td>37</td>\n",
       "      <td>6052</td>\n",
       "    </tr>\n",
       "    <tr>\n",
       "      <th>enough</th>\n",
       "      <td>21648</td>\n",
       "      <td>2400</td>\n",
       "      <td>9138</td>\n",
       "    </tr>\n",
       "    <tr>\n",
       "      <th>insufficient</th>\n",
       "      <td>7916</td>\n",
       "      <td>1450</td>\n",
       "      <td>5763</td>\n",
       "    </tr>\n",
       "    <tr>\n",
       "      <th>seasonal</th>\n",
       "      <td>2325</td>\n",
       "      <td>416</td>\n",
       "      <td>1309</td>\n",
       "    </tr>\n",
       "    <tr>\n",
       "      <th>unknown</th>\n",
       "      <td>213</td>\n",
       "      <td>14</td>\n",
       "      <td>562</td>\n",
       "    </tr>\n",
       "  </tbody>\n",
       "</table>\n",
       "</div>"
      ],
      "text/plain": [
       "status_group    functional  functional needs repair  non functional\n",
       "quantity_group                                                     \n",
       "dry                    157                       37            6052\n",
       "enough               21648                     2400            9138\n",
       "insufficient          7916                     1450            5763\n",
       "seasonal              2325                      416            1309\n",
       "unknown                213                       14             562"
      ]
     },
     "execution_count": 50,
     "metadata": {},
     "output_type": "execute_result"
    }
   ],
   "source": [
    "# check independence\n",
    "import scipy.stats\n",
    "# contingency table of observed counts\n",
    "ct1=pd.crosstab(df['quantity_group'], df['status_group'])\n",
    "ct1.head()"
   ]
  },
  {
   "cell_type": "code",
   "execution_count": 51,
   "metadata": {},
   "outputs": [
    {
     "name": "stdout",
     "output_type": "stream",
     "text": [
      "chi-square value, p value, expected counts\n"
     ]
    },
    {
     "data": {
      "text/plain": [
       "(11360.767895852761,\n",
       " 0.0,\n",
       " 8,\n",
       " array([[ 3392.08272727,   453.93909091,  2399.97818182],\n",
       "        [18022.67969697,  2411.85121212, 12751.46909091],\n",
       "        [ 8216.26954545,  1099.52681818,  5813.20363636],\n",
       "        [ 2199.47727273,   294.34090909,  1556.18181818],\n",
       "        [  428.49075758,    57.3419697 ,   303.16727273]]))"
      ]
     },
     "execution_count": 51,
     "metadata": {},
     "output_type": "execute_result"
    }
   ],
   "source": [
    "# chi-square\n",
    "print ('chi-square value, p value, expected counts')\n",
    "cs1= scipy.stats.chi2_contingency(ct1)\n",
    "cs1"
   ]
  },
  {
   "cell_type": "code",
   "execution_count": 69,
   "metadata": {},
   "outputs": [
    {
     "data": {
      "image/png": "[encoded data removed]",
      "text/plain": [
       "<Figure size 432x288 with 1 Axes>"
      ]
     },
     "metadata": {},
     "output_type": "display_data"
    }
   ],
   "source": [
    "ax = sns.countplot(x='source_type', hue='status_group', data=df)\n",
    "ax.tick_params(labelsize=5)\n",
    "ax.set_xlabel('source_type',fontsize=10)\n",
    "plt.title('water source versus pump status')\n",
    "ax.figure.savefig('ax_source_type.png', dpi = 1000)"
   ]
  },
  {
   "cell_type": "code",
   "execution_count": 103,
   "metadata": {},
   "outputs": [
    {
     "data": {
      "image/png": "[encoded data removed]",
      "text/plain": [
       "<Figure size 432x288 with 1 Axes>"
      ]
     },
     "metadata": {},
     "output_type": "display_data"
    }
   ],
   "source": [
    "ax = sns.countplot(x='source_class', hue='status_group', data=df)\n",
    "ax.tick_params(labelsize=5)\n",
    "ax.set_xlabel('source_class',fontsize=10)\n",
    "plt.title('source_class versus pump status')\n",
    "ax.figure.savefig('ax_source_class.png', dpi = 1000)"
   ]
  },
  {
   "cell_type": "code",
   "execution_count": 70,
   "metadata": {},
   "outputs": [
    {
     "data": {
      "image/png": "[encoded data removed]",
      "text/plain": [
       "<Figure size 432x288 with 1 Axes>"
      ]
     },
     "metadata": {},
     "output_type": "display_data"
    }
   ],
   "source": [
    "ax = sns.countplot(x='waterpoint_type_group', hue='status_group', data=df)\n",
    "ax.tick_params(labelsize=5)\n",
    "ax.set_xlabel('waterpoint_type_group',fontsize=10)\n",
    "plt.title('pump type versus pump status')\n",
    "ax.figure.savefig('ax_waterpoint_type_group.png', dpi = 1000)"
   ]
  },
  {
   "cell_type": "markdown",
   "metadata": {},
   "source": [
    "**wpt_type_group** check of independence\n",
    "If there were no relationship between regions and status_group, the distribution of status_group very similar whatever the region.In other words the NULL HYPOTHESIS is that there is no relationship between region and status_group."
   ]
  },
  {
   "cell_type": "code",
   "execution_count": 42,
   "metadata": {},
   "outputs": [
    {
     "data": {
      "text/html": [
       "<div>\n",
       "<style scoped>\n",
       "    .dataframe tbody tr th:only-of-type {\n",
       "        vertical-align: middle;\n",
       "    }\n",
       "\n",
       "    .dataframe tbody tr th {\n",
       "        vertical-align: top;\n",
       "    }\n",
       "\n",
       "    .dataframe thead th {\n",
       "        text-align: right;\n",
       "    }\n",
       "</style>\n",
       "<table border=\"1\" class=\"dataframe\">\n",
       "  <thead>\n",
       "    <tr style=\"text-align: right;\">\n",
       "      <th>status_group</th>\n",
       "      <th>functional</th>\n",
       "      <th>functional needs repair</th>\n",
       "      <th>non functional</th>\n",
       "    </tr>\n",
       "    <tr>\n",
       "      <th>waterpoint_type_group</th>\n",
       "      <th></th>\n",
       "      <th></th>\n",
       "      <th></th>\n",
       "    </tr>\n",
       "  </thead>\n",
       "  <tbody>\n",
       "    <tr>\n",
       "      <th>cattle trough</th>\n",
       "      <td>84</td>\n",
       "      <td>2</td>\n",
       "      <td>30</td>\n",
       "    </tr>\n",
       "    <tr>\n",
       "      <th>communal standpipe</th>\n",
       "      <td>19961</td>\n",
       "      <td>2908</td>\n",
       "      <td>11756</td>\n",
       "    </tr>\n",
       "    <tr>\n",
       "      <th>dam</th>\n",
       "      <td>6</td>\n",
       "      <td>0</td>\n",
       "      <td>1</td>\n",
       "    </tr>\n",
       "    <tr>\n",
       "      <th>hand pump</th>\n",
       "      <td>10805</td>\n",
       "      <td>1029</td>\n",
       "      <td>5654</td>\n",
       "    </tr>\n",
       "    <tr>\n",
       "      <th>improved spring</th>\n",
       "      <td>563</td>\n",
       "      <td>85</td>\n",
       "      <td>136</td>\n",
       "    </tr>\n",
       "  </tbody>\n",
       "</table>\n",
       "</div>"
      ],
      "text/plain": [
       "status_group           functional  functional needs repair  non functional\n",
       "waterpoint_type_group                                                     \n",
       "cattle trough                  84                        2              30\n",
       "communal standpipe          19961                     2908           11756\n",
       "dam                             6                        0               1\n",
       "hand pump                   10805                     1029            5654\n",
       "improved spring               563                       85             136"
      ]
     },
     "execution_count": 42,
     "metadata": {},
     "output_type": "execute_result"
    }
   ],
   "source": [
    "# check independence\n",
    "import scipy.stats\n",
    "# contingency table of observed counts\n",
    "ct1=pd.crosstab(df['waterpoint_type_group'], df['status_group'])\n",
    "ct1.head()"
   ]
  },
  {
   "cell_type": "code",
   "execution_count": 43,
   "metadata": {},
   "outputs": [
    {
     "name": "stdout",
     "output_type": "stream",
     "text": [
      "chi-square value, p value, expected counts\n"
     ]
    },
    {
     "data": {
      "text/plain": [
       "(6114.774218320656,\n",
       " 0.0,\n",
       " 10,\n",
       " array([[6.29973737e+01, 8.43050505e+00, 4.45721212e+01],\n",
       "        [1.88041730e+04, 2.51643308e+03, 1.33043939e+04],\n",
       "        [3.80156566e+00, 5.08737374e-01, 2.68969697e+00],\n",
       "        [9.49739717e+03, 1.27097131e+03, 6.71963152e+03],\n",
       "        [4.25775354e+02, 5.69785859e+01, 3.01246061e+02],\n",
       "        [3.46485556e+03, 4.63677778e+02, 2.45146667e+03]]))"
      ]
     },
     "execution_count": 43,
     "metadata": {},
     "output_type": "execute_result"
    }
   ],
   "source": [
    "# chi-square\n",
    "print ('chi-square value, p value, expected counts')\n",
    "cs1= scipy.stats.chi2_contingency(ct1)\n",
    "cs1"
   ]
  },
  {
   "cell_type": "code",
   "execution_count": 105,
   "metadata": {},
   "outputs": [
    {
     "data": {
      "image/png": "[encoded data removed]",
      "text/plain": [
       "<Figure size 432x288 with 1 Axes>"
      ]
     },
     "metadata": {},
     "output_type": "display_data"
    }
   ],
   "source": [
    "ax = sns.countplot(x='status_group', data=df)\n",
    "ax.tick_params(labelsize=5)\n",
    "ax.set_xlabel('status_group',fontsize=10)\n",
    "plt.title('counts of  pump status')\n",
    "ax.figure.savefig('ax_status_group.png', dpi = 1000)"
   ]
  },
  {
   "cell_type": "code",
   "execution_count": 146,
   "metadata": {},
   "outputs": [
    {
     "data": {
      "text/plain": [
       "functional                 32259\n",
       "non functional             22824\n",
       "functional needs repair     4317\n",
       "Name: status_group, dtype: int64"
      ]
     },
     "execution_count": 146,
     "metadata": {},
     "output_type": "execute_result"
    }
   ],
   "source": [
    "df['status_group'].value_counts()"
   ]
  },
  {
   "cell_type": "markdown",
   "metadata": {},
   "source": [
    "## Violin plots\n",
    "For good violin plots for wpt_age and construction_year, see archived ones. These were done before the above processing that gives violin lot weight to variable equals zero."
   ]
  },
  {
   "cell_type": "code",
   "execution_count": null,
   "metadata": {},
   "outputs": [],
   "source": []
  },
  {
   "cell_type": "markdown",
   "metadata": {},
   "source": [
    "## Tanzania - data analysis"
   ]
  },
  {
   "cell_type": "code",
   "execution_count": 150,
   "metadata": {},
   "outputs": [],
   "source": [
    "import matplotlib.pylab as plt\n",
    "from sklearn.model_selection import train_test_split\n",
    "from sklearn.tree import DecisionTreeClassifier\n",
    "from sklearn.metrics import classification_report\n",
    "import sklearn.metrics"
   ]
  },
  {
   "cell_type": "markdown",
   "metadata": {},
   "source": [
    "Sklearn's decision trees and random forests need categorical data changed into integers. See, e.g,: https://stackoverflow.com/questions/38108832/passing-categorical-data-to-sklearn-decision-tree\n",
    "\n",
    "Booleans were already tackled in the **Get rid of NaNs** section with a home-made function.\n",
    "\n",
    "The non-boolean categories will be converted with sklearn's LabelEncoder"
   ]
  },
  {
   "cell_type": "code",
   "execution_count": 154,
   "metadata": {},
   "outputs": [
    {
     "data": {
      "text/plain": [
       "Index(['id', 'date_recorded', 'season_recorded', 'gps_height', 'installer',\n",
       "       'longitude', 'latitude', 'basin', 'region_code', 'population',\n",
       "       'public_meeting', 'scheme_management', 'permit', 'wpt_age',\n",
       "       'construction_year', 'extraction_type_group', 'management_group',\n",
       "       'payment_type', 'water_quality', 'quantity_group', 'source_type',\n",
       "       'source_class', 'waterpoint_type_group', 'status_group'],\n",
       "      dtype='object')"
      ]
     },
     "execution_count": 154,
     "metadata": {},
     "output_type": "execute_result"
    }
   ],
   "source": [
    "df.columns"
   ]
  },
  {
   "cell_type": "code",
   "execution_count": 156,
   "metadata": {},
   "outputs": [
    {
     "name": "stdout",
     "output_type": "stream",
     "text": [
      "0    10\n",
      "1     7\n",
      "2    12\n",
      "3     7\n",
      "4     8\n",
      "Name: scheme_management, dtype: int64\n",
      "0    1\n",
      "1    0\n",
      "2    2\n",
      "3    3\n",
      "4    7\n",
      "Name: population, dtype: int64\n",
      "0    7\n",
      "1    6\n",
      "2    7\n",
      "3    6\n",
      "4    8\n",
      "Name: basin, dtype: int64\n",
      "0    2\n",
      "1    0\n",
      "2    2\n",
      "3    0\n",
      "4    0\n",
      "Name: status_group, dtype: int64\n",
      "0    0\n",
      "1    2\n",
      "2    1\n",
      "3    1\n",
      "4    1\n",
      "Name: quantity_group, dtype: int64\n",
      "0    197\n",
      "1    223\n",
      "2    157\n",
      "3    132\n",
      "4    736\n",
      "Name: installer, dtype: int64\n",
      "0     8\n",
      "1     0\n",
      "2    24\n",
      "3    10\n",
      "4     5\n",
      "Name: region_code, dtype: int64\n",
      "0    2\n",
      "1    5\n",
      "2    2\n",
      "3    1\n",
      "4    5\n",
      "Name: payment_type, dtype: int64\n",
      "0    10\n",
      "1    10\n",
      "2     6\n",
      "3     1\n",
      "4    10\n",
      "Name: extraction_type_group, dtype: int64\n",
      "0    2\n",
      "1    1\n",
      "2    1\n",
      "3    1\n",
      "4    1\n",
      "Name: season_recorded, dtype: int64\n",
      "0    0\n",
      "1    0\n",
      "2    5\n",
      "3    6\n",
      "4    4\n",
      "Name: source_type, dtype: int64\n",
      "0    0\n",
      "1    0\n",
      "2    0\n",
      "3    0\n",
      "4    1\n",
      "Name: source_class, dtype: int64\n",
      "0    1\n",
      "1    1\n",
      "2    5\n",
      "3    1\n",
      "4    1\n",
      "Name: waterpoint_type_group, dtype: int64\n",
      "0    6\n",
      "1    6\n",
      "2    4\n",
      "3    6\n",
      "4    6\n",
      "Name: water_quality, dtype: int64\n",
      "0    4\n",
      "1    4\n",
      "2    4\n",
      "3    4\n",
      "4    0\n",
      "Name: management_group, dtype: int64\n",
      "0    10708\n",
      "1    48913\n",
      "2    36236\n",
      "3     4139\n",
      "4    54280\n",
      "Name: id, dtype: int64\n"
     ]
    }
   ],
   "source": [
    "from sklearn.preprocessing import LabelEncoder\n",
    "class_le = LabelEncoder()\n",
    "\n",
    "# these will be encoded by sklearn LabelEncoder\n",
    "non_bool_categoric = ['id', 'season_recorded', 'installer', 'basin', 'region_code', \n",
    "                      'population', 'scheme_management', 'wpt_age','extraction_type_group', \n",
    "                      'management_group','payment_type', 'water_quality', 'quantity_group', \n",
    "                      'source_type','waterpoint_type_group', 'status_group']\n",
    "\n",
    "for nbc in nonbool_cat_vars:\n",
    "    class_le = LabelEncoder()\n",
    "    df[nbc] = class_le.fit_transform(df[nbc].values)\n",
    "    print(df[nbc][:5])"
   ]
  },
  {
   "cell_type": "code",
   "execution_count": 157,
   "metadata": {},
   "outputs": [
    {
     "name": "stdout",
     "output_type": "stream",
     "text": [
      "pred_train.shape: (47520, 18)\n",
      "pred_test.shape: (11880, 18)\n",
      "tar_train.shape: (47520,)\n",
      "tar_test.shape: (11880,)\n"
     ]
    }
   ],
   "source": [
    "chosen_predictors = ['season_recorded', 'gps_height', 'installer', 'basin', 'region_code', 'population',\n",
    "                     'public_meeting', 'scheme_management', 'permit', 'wpt_age','construction_year', \n",
    "                     'extraction_type_group', 'management_group', 'payment_type', 'water_quality', \n",
    "                     'quantity_group', 'source_type', 'waterpoint_type_group'\n",
    "                    ]\n",
    "\n",
    "predictors = df[chosen_predictors]\n",
    "targets = df['status_group']\n",
    "\n",
    "# train/test split\n",
    "pred_train, pred_test, tar_train, tar_test = train_test_split(predictors, targets, test_size=.2)\n",
    "\n",
    "print(\"pred_train.shape:\", pred_train.shape)\n",
    "print(\"pred_test.shape:\", pred_test.shape)\n",
    "print(\"tar_train.shape:\", tar_train.shape)\n",
    "print(\"tar_test.shape:\", tar_test.shape)"
   ]
  },
  {
   "cell_type": "markdown",
   "metadata": {},
   "source": [
    "Build a classifier model with a decision tree, on train set"
   ]
  },
  {
   "cell_type": "code",
   "execution_count": 158,
   "metadata": {},
   "outputs": [
    {
     "name": "stdout",
     "output_type": "stream",
     "text": [
      "Confusion matrix:\n",
      "[[5116  411  897]\n",
      " [ 337  356  186]\n",
      " [ 923  172 3482]]\n",
      "Accuracy score:\n",
      "0.7537037037037037\n"
     ]
    }
   ],
   "source": [
    "# Build model on training data; initiate classifier from sklearn, then fit it with the training data\n",
    "classifier=DecisionTreeClassifier()\n",
    "classifier=classifier.fit(pred_train,tar_train)\n",
    "\n",
    "# predict for the test values and create confusion matrix\n",
    "predictions=classifier.predict(pred_test)\n",
    "print(\"Confusion matrix:\")\n",
    "print(sklearn.metrics.confusion_matrix(tar_test,predictions))\n",
    "print(\"Accuracy score:\")\n",
    "print(sklearn.metrics.accuracy_score(tar_test, predictions))"
   ]
  },
  {
   "cell_type": "markdown",
   "metadata": {},
   "source": [
    "Trying again, to play with parameters, experiment, etc."
   ]
  },
  {
   "cell_type": "code",
   "execution_count": 159,
   "metadata": {},
   "outputs": [
    {
     "data": {
      "text/plain": [
       "0.7490740740740741"
      ]
     },
     "execution_count": 159,
     "metadata": {},
     "output_type": "execute_result"
    }
   ],
   "source": [
    "# Playing with hyper-parameters. Also have varied the wording of the code from that in the MOOC. \n",
    "# (Just to check all in order with exceptionally high result.)\n",
    "# train/test split\n",
    "from sklearn.utils import shuffle\n",
    "df = shuffle(df)\n",
    "X_train, X_test, y_train, y_test = train_test_split(predictors[:], targets[:], test_size=.2)\n",
    "\n",
    "# Build model on training data; initiate classifier from sklearn, then fit it with the training data\n",
    "model = DecisionTreeClassifier(max_depth=None)\n",
    "model.fit(X_train, y_train)\n",
    "\n",
    "y_predict = model.predict(X_test)\n",
    "\n",
    "from sklearn.metrics import accuracy_score\n",
    "\n",
    "accuracy_score(y_test, y_predict)"
   ]
  },
  {
   "cell_type": "markdown",
   "metadata": {},
   "source": [
    "For confusion matrix, N.B. that:\n",
    "\n",
    "functional = 0\n",
    "\n",
    "functional_needs_repair = 1\n",
    "\n",
    "non-functional = 2"
   ]
  },
  {
   "cell_type": "code",
   "execution_count": 160,
   "metadata": {},
   "outputs": [
    {
     "data": {
      "text/html": [
       "<div>\n",
       "<style scoped>\n",
       "    .dataframe tbody tr th:only-of-type {\n",
       "        vertical-align: middle;\n",
       "    }\n",
       "\n",
       "    .dataframe tbody tr th {\n",
       "        vertical-align: top;\n",
       "    }\n",
       "\n",
       "    .dataframe thead th {\n",
       "        text-align: right;\n",
       "    }\n",
       "</style>\n",
       "<table border=\"1\" class=\"dataframe\">\n",
       "  <thead>\n",
       "    <tr style=\"text-align: right;\">\n",
       "      <th></th>\n",
       "      <th>Pred functional</th>\n",
       "      <th>Predicted func_need_repair</th>\n",
       "      <th>Predicted non_func</th>\n",
       "    </tr>\n",
       "  </thead>\n",
       "  <tbody>\n",
       "    <tr>\n",
       "      <th>True functional</th>\n",
       "      <td>5110</td>\n",
       "      <td>368</td>\n",
       "      <td>909</td>\n",
       "    </tr>\n",
       "    <tr>\n",
       "      <th>True func_need_repair</th>\n",
       "      <td>383</td>\n",
       "      <td>342</td>\n",
       "      <td>162</td>\n",
       "    </tr>\n",
       "    <tr>\n",
       "      <th>True non_func</th>\n",
       "      <td>991</td>\n",
       "      <td>168</td>\n",
       "      <td>3447</td>\n",
       "    </tr>\n",
       "  </tbody>\n",
       "</table>\n",
       "</div>"
      ],
      "text/plain": [
       "                       Pred functional  Predicted func_need_repair  \\\n",
       "True functional                   5110                         368   \n",
       "True func_need_repair              383                         342   \n",
       "True non_func                      991                         168   \n",
       "\n",
       "                       Predicted non_func  \n",
       "True functional                       909  \n",
       "True func_need_repair                 162  \n",
       "True non_func                        3447  "
      ]
     },
     "execution_count": 160,
     "metadata": {},
     "output_type": "execute_result"
    }
   ],
   "source": [
    "from sklearn.metrics import confusion_matrix\n",
    "\n",
    "pd.DataFrame(\n",
    "    confusion_matrix(y_test, y_predict),\n",
    "    columns=['Pred functional', 'Predicted func_need_repair', 'Predicted non_func'],\n",
    "    index=['True functional', 'True func_need_repair', 'True non_func']\n",
    ")"
   ]
  },
  {
   "cell_type": "code",
   "execution_count": 161,
   "metadata": {},
   "outputs": [
    {
     "data": {
      "text/plain": [
       "0.7490740740740741"
      ]
     },
     "execution_count": 161,
     "metadata": {},
     "output_type": "execute_result"
    }
   ],
   "source": [
    "# reprint for convenience\n",
    "accuracy_score(y_test, y_predict)"
   ]
  },
  {
   "cell_type": "markdown",
   "metadata": {},
   "source": [
    "Key ingredient: see which features are most important"
   ]
  },
  {
   "cell_type": "code",
   "execution_count": 162,
   "metadata": {},
   "outputs": [
    {
     "data": {
      "text/plain": [
       "[('gps_height', 0.20986080880462965),\n",
       " ('wpt_age', 0.1597729522027112),\n",
       " ('quantity_group', 0.15923121242948865),\n",
       " ('waterpoint_type_group', 0.07940346418246488),\n",
       " ('installer', 0.05546931535618536),\n",
       " ('region_code', 0.044997376150274646),\n",
       " ('payment_type', 0.042367708918778266),\n",
       " ('population', 0.035359737300901375),\n",
       " ('construction_year', 0.03444676423619585),\n",
       " ('extraction_type_group', 0.0336102086526689),\n",
       " ('scheme_management', 0.027892953395838645),\n",
       " ('basin', 0.02604852825967338),\n",
       " ('source_type', 0.02573559508709787),\n",
       " ('water_quality', 0.01772373075322198),\n",
       " ('permit', 0.013689906872588356),\n",
       " ('season_recorded', 0.013406349617147007),\n",
       " ('public_meeting', 0.011965660197727955),\n",
       " ('management_group', 0.009017727582406043)]"
      ]
     },
     "execution_count": 162,
     "metadata": {},
     "output_type": "execute_result"
    }
   ],
   "source": [
    "importance = (dict(zip(X_train, model.feature_importances_)))\n",
    "sorted_items = sorted(importance.items(), key = lambda x: x[1], reverse=True)\n",
    "sorted_items"
   ]
  },
  {
   "cell_type": "markdown",
   "metadata": {},
   "source": [
    "## Visualise the Decision Tree"
   ]
  },
  {
   "cell_type": "markdown",
   "metadata": {},
   "source": [
    "It turns out that visualising the decision tree is quite straight forward.\n",
    "\n",
    "There are two things one can initially do: limit or not limit maximum depth as folling example:\n",
    "model = DecisionTreeClassifier(max_depth=None)\n",
    "\n",
    "As below, push the image out to a tree.dot file. Find it on your computer amd then cut and paste the code into a web viewer/converter. See, e.g.:\n",
    "http://www.ilovefreesoftware.com/03/featured/free-online-dot-to-png-converter-websites.html https://dreampuf.github.io/GraphvizOnline/\n",
    "\n",
    "Right-clicking the image in GraphvizOnline, I could save the png to desktop.\n",
    "\n",
    "If you limit maximum depth, your decision tree may be small enough to fit on one page. Else, cut and paste a number of lines of code from the tree.dot file, making sure you finish as follows in the online converter, e.g.:\n",
    "\n",
    "...\n",
    "44 -> 54 ; \n",
    "}\n",
    "\n",
    "If you do limit the max depth the tree will be different, of course, than a full tree."
   ]
  },
  {
   "cell_type": "code",
   "execution_count": 166,
   "metadata": {},
   "outputs": [],
   "source": [
    "from sklearn import tree\n",
    "\n",
    "# visualise\n",
    "tree.export_graphviz(model, out_file='tree.dot') \n",
    "# cut and paste the tree.dot file info into webgraphviz.com in a browser. \n",
    "# (You can paste as many layers of the tree as you want. See notes above.)"
   ]
  },
  {
   "cell_type": "code",
   "execution_count": 167,
   "metadata": {},
   "outputs": [],
   "source": [
    "# save to a file\n",
    "# df.to_csv('/Users/RAhmed/data store/Wesleyan_Capstone/all_numeric201808292240.csv', index=False)"
   ]
  },
  {
   "cell_type": "code",
   "execution_count": null,
   "metadata": {},
   "outputs": [],
   "source": [
    "# To Do: Random Forest."
   ]
  },
  {
   "cell_type": "code",
   "execution_count": null,
   "metadata": {},
   "outputs": [],
   "source": [
    "# How could be improved: frequency encoding of variables."
   ]
  }
 ],
 "metadata": {
  "kernelspec": {
   "display_name": "Python 3",
   "language": "python",
   "name": "python3"
  },
  "language_info": {
   "codemirror_mode": {
    "name": "ipython",
    "version": 3
   },
   "file_extension": ".py",
   "mimetype": "text/x-python",
   "name": "python",
   "nbconvert_exporter": "python",
   "pygments_lexer": "ipython3",
   "version": "3.6.5"
  }
 },
 "nbformat": 4,
 "nbformat_minor": 2
}
